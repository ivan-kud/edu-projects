{
 "cells": [
  {
   "cell_type": "markdown",
   "metadata": {
    "papermill": {
     "duration": 0.031953,
     "end_time": "2021-02-17T15:17:13.959630",
     "exception": false,
     "start_time": "2021-02-17T15:17:13.927677",
     "status": "completed"
    },
    "tags": []
   },
   "source": [
    "# George image classification\n",
    "**Profect description:** George classification by image.\n",
    "# Work plan\n",
    "- EDA.\n",
    "- Data augmentation.\n",
    "- Picking EfficientNet learned on ImageNet dataset.\n",
    "- Fine-tuning.\n",
    "- Evaluation."
   ]
  },
  {
   "cell_type": "code",
   "execution_count": 1,
   "metadata": {
    "execution": {
     "iopub.execute_input": "2021-02-17T15:17:14.023388Z",
     "iopub.status.busy": "2021-02-17T15:17:14.022822Z",
     "iopub.status.idle": "2021-02-17T15:17:15.247374Z",
     "shell.execute_reply": "2021-02-17T15:17:15.246303Z"
    },
    "papermill": {
     "duration": 1.25857,
     "end_time": "2021-02-17T15:17:15.247624",
     "exception": false,
     "start_time": "2021-02-17T15:17:13.989054",
     "status": "completed"
    },
    "tags": []
   },
   "outputs": [
    {
     "name": "stdout",
     "output_type": "stream",
     "text": [
      "Wed Feb 17 15:17:14 2021       \r\n",
      "+-----------------------------------------------------------------------------+\r\n",
      "| NVIDIA-SMI 450.51.06    Driver Version: 450.51.06    CUDA Version: 11.0     |\r\n",
      "|-------------------------------+----------------------+----------------------+\r\n",
      "| GPU  Name        Persistence-M| Bus-Id        Disp.A | Volatile Uncorr. ECC |\r\n",
      "| Fan  Temp  Perf  Pwr:Usage/Cap|         Memory-Usage | GPU-Util  Compute M. |\r\n",
      "|                               |                      |               MIG M. |\r\n",
      "|===============================+======================+======================|\r\n",
      "|   0  Tesla P100-PCIE...  Off  | 00000000:00:04.0 Off |                    0 |\r\n",
      "| N/A   35C    P0    27W / 250W |      0MiB / 16280MiB |      0%      Default |\r\n",
      "|                               |                      |                  N/A |\r\n",
      "+-------------------------------+----------------------+----------------------+\r\n",
      "                                                                               \r\n",
      "+-----------------------------------------------------------------------------+\r\n",
      "| Processes:                                                                  |\r\n",
      "|  GPU   GI   CI        PID   Type   Process name                  GPU Memory |\r\n",
      "|        ID   ID                                                   Usage      |\r\n",
      "|=============================================================================|\r\n",
      "|  No running processes found                                                 |\r\n",
      "+-----------------------------------------------------------------------------+\r\n"
     ]
    }
   ],
   "source": [
    "# Show GPU card characteristics\n",
    "!nvidia-smi"
   ]
  },
  {
   "cell_type": "code",
   "execution_count": null,
   "metadata": {
    "_kg_hide-output": true,
    "execution": {
     "iopub.execute_input": "2021-02-17T15:17:15.317130Z",
     "iopub.status.busy": "2021-02-17T15:17:15.312957Z",
     "iopub.status.idle": "2021-02-17T15:17:25.691013Z",
     "shell.execute_reply": "2021-02-17T15:17:25.690149Z"
    },
    "papermill": {
     "duration": 10.41284,
     "end_time": "2021-02-17T15:17:25.691151",
     "exception": false,
     "start_time": "2021-02-17T15:17:15.278311",
     "status": "completed"
    },
    "tags": []
   },
   "outputs": [],
   "source": [
    "# Install  libraries\n",
    "!pip install git+https://github.com/mjkvaak/ImageDataAugmentor"
   ]
  },
  {
   "cell_type": "code",
   "execution_count": 3,
   "metadata": {
    "_cell_guid": "79c7e3d0-c299-4dcb-8224-4455121ee9b0",
    "_kg_hide-input": false,
    "_uuid": "d629ff2d2480ee46fbb7e2d37f6b5fab8052498a",
    "execution": {
     "iopub.execute_input": "2021-02-17T15:17:25.765312Z",
     "iopub.status.busy": "2021-02-17T15:17:25.764504Z",
     "iopub.status.idle": "2021-02-17T15:17:33.089185Z",
     "shell.execute_reply": "2021-02-17T15:17:33.088696Z"
    },
    "papermill": {
     "duration": 7.364704,
     "end_time": "2021-02-17T15:17:33.089314",
     "exception": false,
     "start_time": "2021-02-17T15:17:25.724610",
     "status": "completed"
    },
    "tags": []
   },
   "outputs": [
    {
     "name": "stdout",
     "output_type": "stream",
     "text": [
      "Python:          3.7.9 | packaged by conda-forge | (default, Dec  9 2020, 21:08:20) \n",
      "Numpy:           1.19.5\n",
      "Pandas:          1.1.5\n",
      "TensorFlow:      2.4.1\n",
      "Keras:           2.4.0\n"
     ]
    }
   ],
   "source": [
    "import collections\n",
    "import math\n",
    "import os\n",
    "import requests\n",
    "import shutil\n",
    "import sys\n",
    "from pathlib import Path\n",
    "\n",
    "import albumentations as A\n",
    "import matplotlib.pyplot as plt\n",
    "import numpy as np\n",
    "import pandas as pd\n",
    "import PIL\n",
    "import tensorflow as tf\n",
    "from ImageDataAugmentor.image_data_augmentor import ImageDataAugmentor\n",
    "from sklearn.model_selection import train_test_split\n",
    "from tqdm import tqdm\n",
    "from tensorflow.keras import Sequential\n",
    "from tensorflow.keras.applications import EfficientNetB4\n",
    "from tensorflow.keras.backend import clear_session\n",
    "from tensorflow.keras.callbacks import LearningRateScheduler, ModelCheckpoint, EarlyStopping\n",
    "from tensorflow.keras.layers import Dense, Dropout, GlobalAveragePooling2D\n",
    "from tensorflow.keras.optimizers import Adam\n",
    "\n",
    "\n",
    "print('Python:'.ljust(16), sys.version.split('\\n')[0])\n",
    "print('Numpy:'.ljust(16), np.__version__)\n",
    "print('Pandas:'.ljust(16), pd.__version__)\n",
    "print('TensorFlow:'.ljust(16), tf.__version__)\n",
    "print('Keras:'.ljust(16), tf.keras.__version__)"
   ]
  },
  {
   "cell_type": "code",
   "execution_count": 4,
   "metadata": {
    "execution": {
     "iopub.execute_input": "2021-02-17T15:17:33.159494Z",
     "iopub.status.busy": "2021-02-17T15:17:33.158902Z",
     "iopub.status.idle": "2021-02-17T15:17:33.172307Z",
     "shell.execute_reply": "2021-02-17T15:17:33.172938Z"
    },
    "papermill": {
     "duration": 0.050744,
     "end_time": "2021-02-17T15:17:33.173127",
     "exception": false,
     "start_time": "2021-02-17T15:17:33.122383",
     "status": "completed"
    },
    "tags": []
   },
   "outputs": [
    {
     "name": "stdout",
     "output_type": "stream",
     "text": [
      "/kaggle/input/georges/non_georges.csv\n",
      "/kaggle/input/georges/georges.csv\n",
      "/kaggle/working/__notebook__.ipynb\n"
     ]
    }
   ],
   "source": [
    "# View input files\n",
    "dirname = '/kaggle/input/georges'\n",
    "for entryname in os.listdir(dirname):\n",
    "    print(os.path.join(dirname, entryname))\n",
    "    \n",
    "for dirname, _, filenames in os.walk('/kaggle/working'):\n",
    "    for filename in filenames:\n",
    "        print(os.path.join(dirname, filename))"
   ]
  },
  {
   "cell_type": "code",
   "execution_count": 5,
   "metadata": {
    "_kg_hide-input": false,
    "execution": {
     "iopub.execute_input": "2021-02-17T15:17:33.243460Z",
     "iopub.status.busy": "2021-02-17T15:17:33.242759Z",
     "iopub.status.idle": "2021-02-17T15:17:34.882269Z",
     "shell.execute_reply": "2021-02-17T15:17:34.881741Z"
    },
    "papermill": {
     "duration": 1.675894,
     "end_time": "2021-02-17T15:17:34.882410",
     "exception": false,
     "start_time": "2021-02-17T15:17:33.206516",
     "status": "completed"
    },
    "tags": []
   },
   "outputs": [],
   "source": [
    "# Save requirements\n",
    "!pip freeze > requirements.txt"
   ]
  },
  {
   "cell_type": "code",
   "execution_count": 6,
   "metadata": {
    "execution": {
     "iopub.execute_input": "2021-02-17T15:17:34.955627Z",
     "iopub.status.busy": "2021-02-17T15:17:34.954874Z",
     "iopub.status.idle": "2021-02-17T15:17:34.957827Z",
     "shell.execute_reply": "2021-02-17T15:17:34.957388Z"
    },
    "papermill": {
     "duration": 0.041744,
     "end_time": "2021-02-17T15:17:34.957934",
     "exception": false,
     "start_time": "2021-02-17T15:17:34.916190",
     "status": "completed"
    },
    "tags": []
   },
   "outputs": [],
   "source": [
    "# G L O B A L   C O N S T A N T S\n",
    "RANDOM_SEED          = 42    # Random seed\n",
    "np.random.seed(RANDOM_SEED)  \n",
    "\n",
    "EPOCHS               = 40    # Epochs to learn\n",
    "BATCH_SIZE           = 64    # Batch size to learn\n",
    "VALIDATION_SPLIT     = 0.15  # Fraction of images reserved for validation (strictly between 0 and 1)\n",
    "LR_FACTOR            = 0.98  # Factor for decreasing learning rate every training epoch\n",
    "\n",
    "CLASS_NUM            = 1     # Number of classes (1 for binary)\n",
    "IMG_SIZE             = 256   # Image size for network input\n",
    "IMG_CHANNELS         = 3     # Image channels (3 channels in RGB)\n",
    "INPUT_SHAPE          = (IMG_SIZE, IMG_SIZE, IMG_CHANNELS)\n",
    "\n",
    "DATA_PATH = '../input/georges/' # DataFrame data directory\n",
    "IMAGE_PATH = '../input/georges-img/images/' # Image data directory\n",
    "WORKING_PATH = '../working/temp/' # Working directory"
   ]
  },
  {
   "cell_type": "markdown",
   "metadata": {
    "papermill": {
     "duration": 0.032696,
     "end_time": "2021-02-17T15:17:35.023544",
     "exception": false,
     "start_time": "2021-02-17T15:17:34.990848",
     "status": "completed"
    },
    "tags": []
   },
   "source": [
    "Create directories"
   ]
  },
  {
   "cell_type": "code",
   "execution_count": 7,
   "metadata": {
    "execution": {
     "iopub.execute_input": "2021-02-17T15:17:35.093491Z",
     "iopub.status.busy": "2021-02-17T15:17:35.092942Z",
     "iopub.status.idle": "2021-02-17T15:17:35.096107Z",
     "shell.execute_reply": "2021-02-17T15:17:35.095597Z"
    },
    "papermill": {
     "duration": 0.039809,
     "end_time": "2021-02-17T15:17:35.096209",
     "exception": false,
     "start_time": "2021-02-17T15:17:35.056400",
     "status": "completed"
    },
    "tags": []
   },
   "outputs": [],
   "source": [
    "Path(WORKING_PATH).mkdir(parents=True, exist_ok=True)"
   ]
  },
  {
   "cell_type": "markdown",
   "metadata": {
    "papermill": {
     "duration": 0.032777,
     "end_time": "2021-02-17T15:17:35.161912",
     "exception": false,
     "start_time": "2021-02-17T15:17:35.129135",
     "status": "completed"
    },
    "tags": []
   },
   "source": [
    "# EDA\n",
    "### Read DataFrames"
   ]
  },
  {
   "cell_type": "code",
   "execution_count": 8,
   "metadata": {
    "execution": {
     "iopub.execute_input": "2021-02-17T15:17:35.238603Z",
     "iopub.status.busy": "2021-02-17T15:17:35.238077Z",
     "iopub.status.idle": "2021-02-17T15:17:35.305748Z",
     "shell.execute_reply": "2021-02-17T15:17:35.305037Z"
    },
    "papermill": {
     "duration": 0.109667,
     "end_time": "2021-02-17T15:17:35.305860",
     "exception": false,
     "start_time": "2021-02-17T15:17:35.196193",
     "status": "completed"
    },
    "tags": []
   },
   "outputs": [
    {
     "data": {
      "text/html": [
       "<div>\n",
       "<style scoped>\n",
       "    .dataframe tbody tr th:only-of-type {\n",
       "        vertical-align: middle;\n",
       "    }\n",
       "\n",
       "    .dataframe tbody tr th {\n",
       "        vertical-align: top;\n",
       "    }\n",
       "\n",
       "    .dataframe thead th {\n",
       "        text-align: right;\n",
       "    }\n",
       "</style>\n",
       "<table border=\"1\" class=\"dataframe\">\n",
       "  <thead>\n",
       "    <tr style=\"text-align: right;\">\n",
       "      <th></th>\n",
       "      <th>url</th>\n",
       "      <th>name</th>\n",
       "      <th>label</th>\n",
       "    </tr>\n",
       "  </thead>\n",
       "  <tbody>\n",
       "    <tr>\n",
       "      <th>0</th>\n",
       "      <td>https://i.pinimg.com/736x/17/0d/5b/170d5b93d80...</td>\n",
       "      <td>170d5b93d80d247be60f22ca1216bef7.jpg</td>\n",
       "      <td>1</td>\n",
       "    </tr>\n",
       "    <tr>\n",
       "      <th>1</th>\n",
       "      <td>https://i.pinimg.com/736x/47/b9/9a/47b99a2ddcd...</td>\n",
       "      <td>47b99a2ddcde2cf9e62b4faeec2fdf20.jpg</td>\n",
       "      <td>1</td>\n",
       "    </tr>\n",
       "    <tr>\n",
       "      <th>2</th>\n",
       "      <td>https://i.pinimg.com/736x/90/e8/90/90e890f054b...</td>\n",
       "      <td>90e890f054b920308987c140125c9d19.jpg</td>\n",
       "      <td>1</td>\n",
       "    </tr>\n",
       "    <tr>\n",
       "      <th>3</th>\n",
       "      <td>https://i.pinimg.com/736x/0a/71/6f/0a716f6f14e...</td>\n",
       "      <td>0a716f6f14eea3adc30e0944a7123759.jpg</td>\n",
       "      <td>1</td>\n",
       "    </tr>\n",
       "    <tr>\n",
       "      <th>4</th>\n",
       "      <td>https://i.pinimg.com/736x/f1/95/be/f195bea0b78...</td>\n",
       "      <td>f195bea0b78d1c0c90ab54341bf39536.jpg</td>\n",
       "      <td>1</td>\n",
       "    </tr>\n",
       "  </tbody>\n",
       "</table>\n",
       "</div>"
      ],
      "text/plain": [
       "                                                 url  \\\n",
       "0  https://i.pinimg.com/736x/17/0d/5b/170d5b93d80...   \n",
       "1  https://i.pinimg.com/736x/47/b9/9a/47b99a2ddcd...   \n",
       "2  https://i.pinimg.com/736x/90/e8/90/90e890f054b...   \n",
       "3  https://i.pinimg.com/736x/0a/71/6f/0a716f6f14e...   \n",
       "4  https://i.pinimg.com/736x/f1/95/be/f195bea0b78...   \n",
       "\n",
       "                                   name  label  \n",
       "0  170d5b93d80d247be60f22ca1216bef7.jpg      1  \n",
       "1  47b99a2ddcde2cf9e62b4faeec2fdf20.jpg      1  \n",
       "2  90e890f054b920308987c140125c9d19.jpg      1  \n",
       "3  0a716f6f14eea3adc30e0944a7123759.jpg      1  \n",
       "4  f195bea0b78d1c0c90ab54341bf39536.jpg      1  "
      ]
     },
     "execution_count": 8,
     "metadata": {},
     "output_type": "execute_result"
    }
   ],
   "source": [
    "# Read DataFrames\n",
    "df_georges = pd.read_csv(DATA_PATH + 'georges.csv', header=None, names=['url'])\n",
    "df_nongeorges = pd.read_csv(DATA_PATH + 'non_georges.csv', header=None, names=['url'])\n",
    "# Create 'name' column\n",
    "df_georges['name'] = df_georges['url'].str.rsplit('/', n=1, expand=True).iloc[:, 1]\n",
    "df_nongeorges['name'] = df_nongeorges['url'].str.rsplit('/', n=1, expand=True).iloc[:, 1]\n",
    "# Create 'label' column\n",
    "df_georges['label'] = 1\n",
    "df_nongeorges['label'] = 0\n",
    "# Join DataFrames\n",
    "df = df_georges.append(df_nongeorges, ignore_index=True)\n",
    "df.head()"
   ]
  },
  {
   "cell_type": "code",
   "execution_count": 9,
   "metadata": {
    "execution": {
     "iopub.execute_input": "2021-02-17T15:17:35.379436Z",
     "iopub.status.busy": "2021-02-17T15:17:35.378627Z",
     "iopub.status.idle": "2021-02-17T15:17:35.388955Z",
     "shell.execute_reply": "2021-02-17T15:17:35.389465Z"
    },
    "papermill": {
     "duration": 0.05,
     "end_time": "2021-02-17T15:17:35.389620",
     "exception": false,
     "start_time": "2021-02-17T15:17:35.339620",
     "status": "completed"
    },
    "tags": []
   },
   "outputs": [
    {
     "name": "stdout",
     "output_type": "stream",
     "text": [
      "<class 'pandas.core.frame.DataFrame'>\n",
      "RangeIndex: 6047 entries, 0 to 6046\n",
      "Data columns (total 3 columns):\n",
      " #   Column  Non-Null Count  Dtype \n",
      "---  ------  --------------  ----- \n",
      " 0   url     6047 non-null   object\n",
      " 1   name    6047 non-null   object\n",
      " 2   label   6047 non-null   int64 \n",
      "dtypes: int64(1), object(2)\n",
      "memory usage: 141.9+ KB\n"
     ]
    }
   ],
   "source": [
    "df.info()"
   ]
  },
  {
   "cell_type": "markdown",
   "metadata": {
    "papermill": {
     "duration": 0.035198,
     "end_time": "2021-02-17T15:17:35.459601",
     "exception": false,
     "start_time": "2021-02-17T15:17:35.424403",
     "status": "completed"
    },
    "tags": []
   },
   "source": [
    "### Drop duplicates"
   ]
  },
  {
   "cell_type": "code",
   "execution_count": 10,
   "metadata": {
    "execution": {
     "iopub.execute_input": "2021-02-17T15:17:35.534860Z",
     "iopub.status.busy": "2021-02-17T15:17:35.534294Z",
     "iopub.status.idle": "2021-02-17T15:17:35.551165Z",
     "shell.execute_reply": "2021-02-17T15:17:35.550640Z"
    },
    "papermill": {
     "duration": 0.056273,
     "end_time": "2021-02-17T15:17:35.551275",
     "exception": false,
     "start_time": "2021-02-17T15:17:35.495002",
     "status": "completed"
    },
    "tags": []
   },
   "outputs": [
    {
     "name": "stdout",
     "output_type": "stream",
     "text": [
      "<class 'pandas.core.frame.DataFrame'>\n",
      "RangeIndex: 5689 entries, 0 to 5688\n",
      "Data columns (total 3 columns):\n",
      " #   Column  Non-Null Count  Dtype \n",
      "---  ------  --------------  ----- \n",
      " 0   url     5689 non-null   object\n",
      " 1   name    5689 non-null   object\n",
      " 2   label   5689 non-null   int64 \n",
      "dtypes: int64(1), object(2)\n",
      "memory usage: 133.5+ KB\n"
     ]
    }
   ],
   "source": [
    "# Drop duplicates\n",
    "df_georges.drop_duplicates(subset='url', keep='first', inplace=True, ignore_index=True)\n",
    "df_nongeorges.drop_duplicates(subset='url', keep='first', inplace=True, ignore_index=True)\n",
    "df.drop_duplicates(subset='url', keep='first', inplace=True, ignore_index=True)\n",
    "df.info()"
   ]
  },
  {
   "cell_type": "markdown",
   "metadata": {
    "papermill": {
     "duration": 0.034437,
     "end_time": "2021-02-17T15:17:35.621187",
     "exception": false,
     "start_time": "2021-02-17T15:17:35.586750",
     "status": "completed"
    },
    "tags": []
   },
   "source": [
    "There are duplicates in URLs!"
   ]
  },
  {
   "cell_type": "markdown",
   "metadata": {
    "papermill": {
     "duration": 0.034308,
     "end_time": "2021-02-17T15:17:35.689884",
     "exception": false,
     "start_time": "2021-02-17T15:17:35.655576",
     "status": "completed"
    },
    "tags": []
   },
   "source": [
    "### View uniques"
   ]
  },
  {
   "cell_type": "code",
   "execution_count": 11,
   "metadata": {
    "execution": {
     "iopub.execute_input": "2021-02-17T15:17:35.764312Z",
     "iopub.status.busy": "2021-02-17T15:17:35.763517Z",
     "iopub.status.idle": "2021-02-17T15:17:35.775745Z",
     "shell.execute_reply": "2021-02-17T15:17:35.776326Z"
    },
    "papermill": {
     "duration": 0.052125,
     "end_time": "2021-02-17T15:17:35.776481",
     "exception": false,
     "start_time": "2021-02-17T15:17:35.724356",
     "status": "completed"
    },
    "tags": []
   },
   "outputs": [
    {
     "name": "stdout",
     "output_type": "stream",
     "text": [
      "Georges:         2360\n",
      "non-Georges:     3340\n",
      "All:             5689\n"
     ]
    },
    {
     "data": {
      "text/plain": [
       "False"
      ]
     },
     "execution_count": 11,
     "metadata": {},
     "output_type": "execute_result"
    }
   ],
   "source": [
    "df_georges_uniques = df_georges['url'].nunique()\n",
    "df_nongeorges_uniques = df_nongeorges['url'].nunique()\n",
    "df_uniques = df['url'].nunique()\n",
    "\n",
    "print('Georges:'.ljust(16), df_georges_uniques)\n",
    "print('non-Georges:'.ljust(16), df_nongeorges_uniques)\n",
    "print('All:'.ljust(16), df_uniques)\n",
    "\n",
    "# Match test\n",
    "df_georges_uniques + df_nongeorges_uniques == df_uniques"
   ]
  },
  {
   "cell_type": "markdown",
   "metadata": {
    "papermill": {
     "duration": 0.034706,
     "end_time": "2021-02-17T15:17:35.846402",
     "exception": false,
     "start_time": "2021-02-17T15:17:35.811696",
     "status": "completed"
    },
    "tags": []
   },
   "source": [
    "Number of uniques is not matches! Therefore, there were some images that were Geoges and non-Georges at the same time!"
   ]
  },
  {
   "cell_type": "code",
   "execution_count": 12,
   "metadata": {
    "execution": {
     "iopub.execute_input": "2021-02-17T15:17:35.921237Z",
     "iopub.status.busy": "2021-02-17T15:17:35.920522Z",
     "iopub.status.idle": "2021-02-17T15:17:35.923350Z",
     "shell.execute_reply": "2021-02-17T15:17:35.922903Z"
    },
    "papermill": {
     "duration": 0.041589,
     "end_time": "2021-02-17T15:17:35.923454",
     "exception": false,
     "start_time": "2021-02-17T15:17:35.881865",
     "status": "completed"
    },
    "tags": []
   },
   "outputs": [],
   "source": [
    "del df_georges\n",
    "del df_nongeorges"
   ]
  },
  {
   "cell_type": "code",
   "execution_count": 13,
   "metadata": {
    "execution": {
     "iopub.execute_input": "2021-02-17T15:17:35.998813Z",
     "iopub.status.busy": "2021-02-17T15:17:35.998101Z",
     "iopub.status.idle": "2021-02-17T15:17:36.006077Z",
     "shell.execute_reply": "2021-02-17T15:17:36.005646Z"
    },
    "papermill": {
     "duration": 0.046845,
     "end_time": "2021-02-17T15:17:36.006185",
     "exception": false,
     "start_time": "2021-02-17T15:17:35.959340",
     "status": "completed"
    },
    "tags": []
   },
   "outputs": [
    {
     "data": {
      "text/plain": [
       "True"
      ]
     },
     "execution_count": 13,
     "metadata": {},
     "output_type": "execute_result"
    }
   ],
   "source": [
    "df['url'].nunique() == df['name'].nunique()"
   ]
  },
  {
   "cell_type": "markdown",
   "metadata": {
    "papermill": {
     "duration": 0.03538,
     "end_time": "2021-02-17T15:17:36.076832",
     "exception": false,
     "start_time": "2021-02-17T15:17:36.041452",
     "status": "completed"
    },
    "tags": []
   },
   "source": [
    "All names are unique. That's good."
   ]
  },
  {
   "cell_type": "markdown",
   "metadata": {
    "papermill": {
     "duration": 0.035156,
     "end_time": "2021-02-17T15:17:36.147420",
     "exception": false,
     "start_time": "2021-02-17T15:17:36.112264",
     "status": "completed"
    },
    "tags": []
   },
   "source": [
    "### Download files"
   ]
  },
  {
   "cell_type": "code",
   "execution_count": 14,
   "metadata": {
    "execution": {
     "iopub.execute_input": "2021-02-17T15:17:36.223438Z",
     "iopub.status.busy": "2021-02-17T15:17:36.222726Z",
     "iopub.status.idle": "2021-02-17T15:17:36.225496Z",
     "shell.execute_reply": "2021-02-17T15:17:36.225090Z"
    },
    "papermill": {
     "duration": 0.042692,
     "end_time": "2021-02-17T15:17:36.225599",
     "exception": false,
     "start_time": "2021-02-17T15:17:36.182907",
     "status": "completed"
    },
    "tags": []
   },
   "outputs": [],
   "source": [
    "def dowload_files():\n",
    "    \"\"\"Dowload images\"\"\"\n",
    "    # Dowload all images to temp folder\n",
    "    for i in tqdm(df.index):\n",
    "        with open(WORKING_PATH + df.loc[i, 'name'], 'wb') as handler:\n",
    "            handler.write(requests.get(df.loc[i, 'url']).content)\n",
    "            \n",
    "# dowload_files()"
   ]
  },
  {
   "cell_type": "markdown",
   "metadata": {
    "papermill": {
     "duration": 0.035295,
     "end_time": "2021-02-17T15:17:36.296322",
     "exception": false,
     "start_time": "2021-02-17T15:17:36.261027",
     "status": "completed"
    },
    "tags": []
   },
   "source": [
    "### Zip files"
   ]
  },
  {
   "cell_type": "code",
   "execution_count": 15,
   "metadata": {
    "execution": {
     "iopub.execute_input": "2021-02-17T15:17:36.370696Z",
     "iopub.status.busy": "2021-02-17T15:17:36.370068Z",
     "iopub.status.idle": "2021-02-17T15:17:36.372444Z",
     "shell.execute_reply": "2021-02-17T15:17:36.372918Z"
    },
    "papermill": {
     "duration": 0.041179,
     "end_time": "2021-02-17T15:17:36.373075",
     "exception": false,
     "start_time": "2021-02-17T15:17:36.331896",
     "status": "completed"
    },
    "tags": []
   },
   "outputs": [],
   "source": [
    "# shutil.make_archive('images', 'zip', WORKING_PATH)"
   ]
  },
  {
   "cell_type": "markdown",
   "metadata": {
    "papermill": {
     "duration": 0.035585,
     "end_time": "2021-02-17T15:17:36.444144",
     "exception": false,
     "start_time": "2021-02-17T15:17:36.408559",
     "status": "completed"
    },
    "tags": []
   },
   "source": [
    "### Unzip files"
   ]
  },
  {
   "cell_type": "code",
   "execution_count": 16,
   "metadata": {
    "execution": {
     "iopub.execute_input": "2021-02-17T15:17:36.520394Z",
     "iopub.status.busy": "2021-02-17T15:17:36.519735Z",
     "iopub.status.idle": "2021-02-17T15:17:36.522118Z",
     "shell.execute_reply": "2021-02-17T15:17:36.522609Z"
    },
    "papermill": {
     "duration": 0.042161,
     "end_time": "2021-02-17T15:17:36.522727",
     "exception": false,
     "start_time": "2021-02-17T15:17:36.480566",
     "status": "completed"
    },
    "tags": []
   },
   "outputs": [],
   "source": [
    "# shutil.unpack_archive('/kaggle/input/george-image-classification/images.zip', WORKING_PATH, 'zip')\n",
    "# print('Number of train paths:', len(os.listdir(WORKING_PATH)))"
   ]
  },
  {
   "cell_type": "markdown",
   "metadata": {
    "papermill": {
     "duration": 0.035559,
     "end_time": "2021-02-17T15:17:36.594285",
     "exception": false,
     "start_time": "2021-02-17T15:17:36.558726",
     "status": "completed"
    },
    "tags": []
   },
   "source": [
    "### View image formats"
   ]
  },
  {
   "cell_type": "code",
   "execution_count": 17,
   "metadata": {
    "execution": {
     "iopub.execute_input": "2021-02-17T15:17:36.674645Z",
     "iopub.status.busy": "2021-02-17T15:17:36.673798Z",
     "iopub.status.idle": "2021-02-17T15:18:16.290266Z",
     "shell.execute_reply": "2021-02-17T15:18:16.290862Z"
    },
    "papermill": {
     "duration": 39.660875,
     "end_time": "2021-02-17T15:18:16.291076",
     "exception": false,
     "start_time": "2021-02-17T15:17:36.630201",
     "status": "completed"
    },
    "tags": []
   },
   "outputs": [
    {
     "name": "stderr",
     "output_type": "stream",
     "text": [
      "100%|██████████| 5689/5689 [00:39<00:00, 143.64it/s]"
     ]
    },
    {
     "name": "stdout",
     "output_type": "stream",
     "text": [
      "Formats: Counter({'JPEG': 5689})\n",
      "\n",
      "Modes: Counter({'RGB': 5640, 'L': 46, 'CMYK': 3})\n",
      "\n",
      "Sizes: [((736, 736), 51), ((736, 981), 51), ((736, 552), 28), ((736, 920), 22), ((480, 640), 16), ((427, 640), 16), ((600, 600), 16), ((640, 960), 15), ((736, 1104), 14), ((720, 960), 14)]\n"
     ]
    },
    {
     "name": "stderr",
     "output_type": "stream",
     "text": [
      "\n"
     ]
    }
   ],
   "source": [
    "# Initialize counters\n",
    "img_format_cnt = collections.Counter()\n",
    "img_mode_cnt = collections.Counter()\n",
    "img_size_cnt = collections.Counter()\n",
    "\n",
    "# Compute frequency count for image formats\n",
    "for i in tqdm(df.index):\n",
    "    img_path = IMAGE_PATH + df.loc[i, 'name']\n",
    "    img = PIL.Image.open(img_path)\n",
    "    img_format_cnt[img.format] += 1\n",
    "    img_mode_cnt[img.mode] += 1\n",
    "    img_size_cnt[img.size] += 1\n",
    "    \n",
    "# Show result\n",
    "print('Formats:', img_format_cnt)\n",
    "print()\n",
    "print('Modes:', img_mode_cnt)\n",
    "print()\n",
    "print('Sizes:', img_size_cnt.most_common(10))"
   ]
  },
  {
   "cell_type": "markdown",
   "metadata": {
    "papermill": {
     "duration": 0.124846,
     "end_time": "2021-02-17T15:18:16.543775",
     "exception": false,
     "start_time": "2021-02-17T15:18:16.418929",
     "status": "completed"
    },
    "tags": []
   },
   "source": [
    "### View random image sample"
   ]
  },
  {
   "cell_type": "code",
   "execution_count": null,
   "metadata": {
    "_kg_hide-input": false,
    "_kg_hide-output": true,
    "execution": {
     "iopub.execute_input": "2021-02-17T15:18:16.802340Z",
     "iopub.status.busy": "2021-02-17T15:18:16.801481Z",
     "iopub.status.idle": "2021-02-17T15:18:17.983894Z",
     "shell.execute_reply": "2021-02-17T15:18:17.984354Z"
    },
    "papermill": {
     "duration": 1.316154,
     "end_time": "2021-02-17T15:18:17.984508",
     "exception": false,
     "start_time": "2021-02-17T15:18:16.668354",
     "status": "completed"
    },
    "tags": []
   },
   "outputs": [],
   "source": [
    "# Number of images in the sample (squared number)\n",
    "samples_value = 4**2\n",
    "# Sample DataFrame \n",
    "df_sample = df.sample(n=samples_value)\n",
    "# Init figure\n",
    "plt.figure(figsize=(12, 8))\n",
    "# Cycle over images to plot\n",
    "for i, row_index in enumerate(df_sample.index):\n",
    "    img_path = IMAGE_PATH + df_sample.loc[row_index, 'name']\n",
    "    img = PIL.Image.open(img_path)\n",
    "    subplot_len = math.ceil(math.sqrt(samples_value))\n",
    "    plt.subplot(subplot_len, subplot_len, i + 1)\n",
    "    plt.imshow(img)\n",
    "    plt.title('class ' + str(df_sample.loc[row_index, 'label']))\n",
    "    plt.axis('off')\n",
    "plt.show()"
   ]
  },
  {
   "cell_type": "code",
   "execution_count": null,
   "metadata": {
    "_kg_hide-output": true,
    "execution": {
     "iopub.execute_input": "2021-02-17T15:18:18.255381Z",
     "iopub.status.busy": "2021-02-17T15:18:18.254685Z",
     "iopub.status.idle": "2021-02-17T15:18:18.649578Z",
     "shell.execute_reply": "2021-02-17T15:18:18.650015Z"
    },
    "papermill": {
     "duration": 0.532237,
     "end_time": "2021-02-17T15:18:18.650165",
     "exception": false,
     "start_time": "2021-02-17T15:18:18.117928",
     "status": "completed"
    },
    "tags": []
   },
   "outputs": [],
   "source": [
    "# Show one image example and it's format\n",
    "img = PIL.Image.open(IMAGE_PATH + '170d5b93d80d247be60f22ca1216bef7.jpg')\n",
    "plt.figure(figsize=(10, 10))\n",
    "plt.imshow(img)\n",
    "print(img.format)\n",
    "print(img.mode)\n",
    "print(img.size)\n",
    "print(img.info)"
   ]
  },
  {
   "cell_type": "markdown",
   "metadata": {
    "papermill": {
     "duration": 0.14578,
     "end_time": "2021-02-17T15:18:18.940905",
     "exception": false,
     "start_time": "2021-02-17T15:18:18.795125",
     "status": "completed"
    },
    "tags": []
   },
   "source": [
    "# Preparing of the data\n",
    "### Stratified splitting"
   ]
  },
  {
   "cell_type": "code",
   "execution_count": 20,
   "metadata": {
    "execution": {
     "iopub.execute_input": "2021-02-17T15:18:19.235776Z",
     "iopub.status.busy": "2021-02-17T15:18:19.235074Z",
     "iopub.status.idle": "2021-02-17T15:18:19.255419Z",
     "shell.execute_reply": "2021-02-17T15:18:19.255858Z"
    },
    "papermill": {
     "duration": 0.170859,
     "end_time": "2021-02-17T15:18:19.256024",
     "exception": false,
     "start_time": "2021-02-17T15:18:19.085165",
     "status": "completed"
    },
    "tags": []
   },
   "outputs": [
    {
     "data": {
      "text/plain": [
       "((4835, 3), (854, 3))"
      ]
     },
     "execution_count": 20,
     "metadata": {},
     "output_type": "execute_result"
    }
   ],
   "source": [
    "# Split DataFrame on train and validation parts\n",
    "df_train, df_valid = train_test_split(\n",
    "    df, test_size=VALIDATION_SPLIT,\n",
    "    random_state=RANDOM_SEED, stratify=df['label'],\n",
    ")\n",
    "\n",
    "# Change 'label' column type to string format (necessary for datagenerator)\n",
    "df_train = df_train.astype({'label': 'string'})\n",
    "df_valid = df_valid.astype({'label': 'string'})\n",
    "\n",
    "# View dataset shapes\n",
    "df_train.shape, df_valid.shape"
   ]
  },
  {
   "cell_type": "code",
   "execution_count": 21,
   "metadata": {
    "execution": {
     "iopub.execute_input": "2021-02-17T15:18:19.555721Z",
     "iopub.status.busy": "2021-02-17T15:18:19.554934Z",
     "iopub.status.idle": "2021-02-17T15:18:19.558548Z",
     "shell.execute_reply": "2021-02-17T15:18:19.558146Z"
    },
    "papermill": {
     "duration": 0.157469,
     "end_time": "2021-02-17T15:18:19.558659",
     "exception": false,
     "start_time": "2021-02-17T15:18:19.401190",
     "status": "completed"
    },
    "tags": []
   },
   "outputs": [
    {
     "data": {
      "text/plain": [
       "0    2829\n",
       "1    2006\n",
       "Name: label, dtype: Int64"
      ]
     },
     "execution_count": 21,
     "metadata": {},
     "output_type": "execute_result"
    }
   ],
   "source": [
    "df_train['label'].value_counts()"
   ]
  },
  {
   "cell_type": "code",
   "execution_count": 22,
   "metadata": {
    "execution": {
     "iopub.execute_input": "2021-02-17T15:18:19.856814Z",
     "iopub.status.busy": "2021-02-17T15:18:19.856078Z",
     "iopub.status.idle": "2021-02-17T15:18:19.859388Z",
     "shell.execute_reply": "2021-02-17T15:18:19.859755Z"
    },
    "papermill": {
     "duration": 0.156293,
     "end_time": "2021-02-17T15:18:19.859890",
     "exception": false,
     "start_time": "2021-02-17T15:18:19.703597",
     "status": "completed"
    },
    "tags": []
   },
   "outputs": [
    {
     "data": {
      "text/plain": [
       "0    500\n",
       "1    354\n",
       "Name: label, dtype: Int64"
      ]
     },
     "execution_count": 22,
     "metadata": {},
     "output_type": "execute_result"
    }
   ],
   "source": [
    "df_valid['label'].value_counts()"
   ]
  },
  {
   "cell_type": "markdown",
   "metadata": {
    "papermill": {
     "duration": 0.14565,
     "end_time": "2021-02-17T15:18:20.152264",
     "exception": false,
     "start_time": "2021-02-17T15:18:20.006614",
     "status": "completed"
    },
    "tags": []
   },
   "source": [
    "### Data augmentation\n",
    "Configure generators"
   ]
  },
  {
   "cell_type": "code",
   "execution_count": 23,
   "metadata": {
    "execution": {
     "iopub.execute_input": "2021-02-17T15:18:20.473030Z",
     "iopub.status.busy": "2021-02-17T15:18:20.472198Z",
     "iopub.status.idle": "2021-02-17T15:18:22.473154Z",
     "shell.execute_reply": "2021-02-17T15:18:22.474202Z"
    },
    "papermill": {
     "duration": 2.177008,
     "end_time": "2021-02-17T15:18:22.474402",
     "exception": false,
     "start_time": "2021-02-17T15:18:20.297394",
     "status": "completed"
    },
    "tags": []
   },
   "outputs": [
    {
     "name": "stdout",
     "output_type": "stream",
     "text": [
      "Found 4835 validated image filenames belonging to 2 classes.\n",
      "Found 854 validated image filenames belonging to 2 classes.\n",
      "Found 854 validated image filenames belonging to 2 classes.\n"
     ]
    }
   ],
   "source": [
    "# Configure augmentation\n",
    "transform = A.Compose([\n",
    "    A.HorizontalFlip(p=0.5),\n",
    "    A.OneOf([\n",
    "        A.ShiftScaleRotate(shift_limit=0.0, scale_limit=0.20,\n",
    "                           rotate_limit=25, p=0.5),\n",
    "        A.OpticalDistortion(distort_limit=0.3, shift_limit=0.3,\n",
    "                            interpolation=1, border_mode=4,\n",
    "                            value=None, mask_value=None, p=0.5),\n",
    "    ], p=1),\n",
    "    A.OneOf([\n",
    "        A.JpegCompression(quality_lower=60, quality_upper=100, p=0.5),\n",
    "        A.Blur(blur_limit=5, p=0.5),\n",
    "    ], p=1),\n",
    "    A.ColorJitter(brightness=0.2, contrast=0.2, saturation=0.2,\n",
    "                  hue=0.1, p=1),\n",
    "])\n",
    "\n",
    "# Initialize data generators for train and validation\n",
    "train_datagen = ImageDataAugmentor(\n",
    "    augment=transform,\n",
    "    preprocess_input=None,\n",
    "    seed=RANDOM_SEED,\n",
    ")\n",
    "valid_datagen = ImageDataAugmentor(\n",
    "    augment=None,\n",
    "    preprocess_input=None,\n",
    "    seed=RANDOM_SEED,\n",
    ")\n",
    "\n",
    "# Wrap training data to generator\n",
    "train_generator = train_datagen.flow_from_dataframe(\n",
    "    df_train,\n",
    "    IMAGE_PATH,\n",
    "    'name',\n",
    "    'label',\n",
    "    class_mode='binary',\n",
    "    target_size=(IMG_SIZE, IMG_SIZE),\n",
    "    batch_size=BATCH_SIZE,\n",
    "    shuffle=True,\n",
    ")\n",
    "\n",
    "# Wrap validation data to generator\n",
    "valid_generator = valid_datagen.flow_from_dataframe(\n",
    "    df_valid,\n",
    "    IMAGE_PATH,\n",
    "    'name',\n",
    "    'label',\n",
    "    class_mode='binary',\n",
    "    target_size=(IMG_SIZE, IMG_SIZE),\n",
    "    batch_size=BATCH_SIZE,\n",
    "    shuffle=True,\n",
    ")\n",
    "\n",
    "# Wrap validation data to generator (without shuffling)\n",
    "test_generator = valid_datagen.flow_from_dataframe(\n",
    "    df_valid,\n",
    "    IMAGE_PATH,\n",
    "    'name',\n",
    "    'label',\n",
    "    class_mode='binary',\n",
    "    target_size=(IMG_SIZE, IMG_SIZE),\n",
    "    batch_size=BATCH_SIZE,\n",
    "    shuffle=False,\n",
    ")"
   ]
  },
  {
   "cell_type": "markdown",
   "metadata": {
    "papermill": {
     "duration": 0.146368,
     "end_time": "2021-02-17T15:18:22.768438",
     "exception": false,
     "start_time": "2021-02-17T15:18:22.622070",
     "status": "completed"
    },
    "tags": []
   },
   "source": [
    "View augmented images"
   ]
  },
  {
   "cell_type": "code",
   "execution_count": null,
   "metadata": {
    "_kg_hide-output": true,
    "execution": {
     "iopub.execute_input": "2021-02-17T15:18:23.070055Z",
     "iopub.status.busy": "2021-02-17T15:18:23.069120Z",
     "iopub.status.idle": "2021-02-17T15:18:24.407394Z",
     "shell.execute_reply": "2021-02-17T15:18:24.406949Z"
    },
    "papermill": {
     "duration": 1.491862,
     "end_time": "2021-02-17T15:18:24.407517",
     "exception": false,
     "start_time": "2021-02-17T15:18:22.915655",
     "status": "completed"
    },
    "tags": []
   },
   "outputs": [],
   "source": [
    "# load the image\n",
    "img = PIL.Image.open(IMAGE_PATH + '170d5b93d80d247be60f22ca1216bef7.jpg')\n",
    "# convert to numpy array\n",
    "data = np.asarray(img)\n",
    "# expand dimension to one sample\n",
    "samples = np.expand_dims(data, 0)\n",
    "# prepare iterator\n",
    "it = train_datagen.flow(samples, batch_size=1)\n",
    "\n",
    "# generate samples and plot\n",
    "samples_value = 3**2\n",
    "plt.figure(figsize=(12, 8))\n",
    "for index in range(samples_value):\n",
    "    # generate batch of images\n",
    "    batch = it.next()\n",
    "    # convert to unsigned integers for viewing\n",
    "    image = batch[0].astype('uint8')\n",
    "    # define subplot\n",
    "    subplot_len = math.ceil(math.sqrt(samples_value))\n",
    "    plt.subplot(subplot_len, subplot_len, index + 1)\n",
    "    # plot raw pixel data\n",
    "    plt.imshow(image)\n",
    "    plt.axis('off')\n",
    "plt.show()"
   ]
  },
  {
   "cell_type": "markdown",
   "metadata": {
    "papermill": {
     "duration": 0.153085,
     "end_time": "2021-02-17T15:18:24.715878",
     "exception": false,
     "start_time": "2021-02-17T15:18:24.562793",
     "status": "completed"
    },
    "tags": []
   },
   "source": [
    "# Model implementation\n",
    "### Configure checkpoint list"
   ]
  },
  {
   "cell_type": "code",
   "execution_count": 25,
   "metadata": {
    "execution": {
     "iopub.execute_input": "2021-02-17T15:18:25.030150Z",
     "iopub.status.busy": "2021-02-17T15:18:25.029329Z",
     "iopub.status.idle": "2021-02-17T15:18:25.032127Z",
     "shell.execute_reply": "2021-02-17T15:18:25.031687Z"
    },
    "papermill": {
     "duration": 0.162545,
     "end_time": "2021-02-17T15:18:25.032245",
     "exception": false,
     "start_time": "2021-02-17T15:18:24.869700",
     "status": "completed"
    },
    "tags": []
   },
   "outputs": [],
   "source": [
    "# Configure checkpoint list\n",
    "checkpoint = ModelCheckpoint(filepath='best_model.hdf5',\n",
    "                             monitor='val_accuracy',\n",
    "                             verbose=1,\n",
    "                             save_best_only=True,\n",
    "                             mode='max')\n",
    "earlystop = EarlyStopping(monitor='val_accuracy',\n",
    "                          patience=5,\n",
    "                          restore_best_weights=False,)\n",
    "lr_scheduler = LearningRateScheduler(lambda epoch, lr: lr * LR_FACTOR)\n",
    "callbacks_list = [checkpoint, earlystop, lr_scheduler]"
   ]
  },
  {
   "cell_type": "markdown",
   "metadata": {
    "papermill": {
     "duration": 0.155995,
     "end_time": "2021-02-17T15:18:25.341007",
     "exception": false,
     "start_time": "2021-02-17T15:18:25.185012",
     "status": "completed"
    },
    "tags": []
   },
   "source": [
    "### Assemble the model"
   ]
  },
  {
   "cell_type": "code",
   "execution_count": 26,
   "metadata": {
    "execution": {
     "iopub.execute_input": "2021-02-17T15:18:25.854113Z",
     "iopub.status.busy": "2021-02-17T15:18:25.853361Z",
     "iopub.status.idle": "2021-02-17T15:18:32.517787Z",
     "shell.execute_reply": "2021-02-17T15:18:32.516762Z"
    },
    "papermill": {
     "duration": 6.91797,
     "end_time": "2021-02-17T15:18:32.517926",
     "exception": false,
     "start_time": "2021-02-17T15:18:25.599956",
     "status": "completed"
    },
    "tags": []
   },
   "outputs": [
    {
     "name": "stdout",
     "output_type": "stream",
     "text": [
      "Downloading data from https://storage.googleapis.com/keras-applications/efficientnetb4_notop.h5\n",
      "71688192/71686520 [==============================] - 0s 0us/step\n"
     ]
    }
   ],
   "source": [
    "# Clear session\n",
    "clear_session()\n",
    "\n",
    "# Load pre-trained EfficientNet as a base model\n",
    "base_model = EfficientNetB4(include_top=False, input_shape=INPUT_SHAPE)"
   ]
  },
  {
   "cell_type": "code",
   "execution_count": 27,
   "metadata": {
    "execution": {
     "iopub.execute_input": "2021-02-17T15:18:32.966893Z",
     "iopub.status.busy": "2021-02-17T15:18:32.966322Z",
     "iopub.status.idle": "2021-02-17T15:18:34.068638Z",
     "shell.execute_reply": "2021-02-17T15:18:34.069127Z"
    },
    "papermill": {
     "duration": 1.289636,
     "end_time": "2021-02-17T15:18:34.069347",
     "exception": false,
     "start_time": "2021-02-17T15:18:32.779711",
     "status": "completed"
    },
    "tags": []
   },
   "outputs": [
    {
     "name": "stdout",
     "output_type": "stream",
     "text": [
      "Model: \"sequential\"\n",
      "_________________________________________________________________\n",
      "Layer (type)                 Output Shape              Param #   \n",
      "=================================================================\n",
      "efficientnetb4 (Functional)  (None, 8, 8, 1792)        17673823  \n",
      "_________________________________________________________________\n",
      "global_average_pooling2d (Gl (None, 1792)              0         \n",
      "_________________________________________________________________\n",
      "dropout (Dropout)            (None, 1792)              0         \n",
      "_________________________________________________________________\n",
      "dense (Dense)                (None, 512)               918016    \n",
      "_________________________________________________________________\n",
      "dropout_1 (Dropout)          (None, 512)               0         \n",
      "_________________________________________________________________\n",
      "dense_1 (Dense)              (None, 1)                 513       \n",
      "=================================================================\n",
      "Total params: 18,592,352\n",
      "Trainable params: 18,467,145\n",
      "Non-trainable params: 125,207\n",
      "_________________________________________________________________\n"
     ]
    }
   ],
   "source": [
    "model = Sequential()\n",
    "model.add(base_model)\n",
    "model.add(GlobalAveragePooling2D())\n",
    "model.add(Dropout(0.5))\n",
    "model.add(Dense(512, activation='relu'))\n",
    "model.add(Dropout(0.5))\n",
    "model.add(Dense(CLASS_NUM, activation='sigmoid'))\n",
    "model.summary()"
   ]
  },
  {
   "cell_type": "code",
   "execution_count": 28,
   "metadata": {
    "execution": {
     "iopub.execute_input": "2021-02-17T15:18:34.387520Z",
     "iopub.status.busy": "2021-02-17T15:18:34.386836Z",
     "iopub.status.idle": "2021-02-17T15:18:34.391523Z",
     "shell.execute_reply": "2021-02-17T15:18:34.390852Z"
    },
    "papermill": {
     "duration": 0.165963,
     "end_time": "2021-02-17T15:18:34.391656",
     "exception": false,
     "start_time": "2021-02-17T15:18:34.225693",
     "status": "completed"
    },
    "tags": []
   },
   "outputs": [
    {
     "name": "stdout",
     "output_type": "stream",
     "text": [
      "Number of layers: 6\n",
      "Number of layers in the base model:  474\n"
     ]
    }
   ],
   "source": [
    "print('Number of layers:', len(model.layers))\n",
    "print('Number of layers in the base model: ', len(base_model.layers))"
   ]
  },
  {
   "cell_type": "markdown",
   "metadata": {
    "papermill": {
     "duration": 0.156113,
     "end_time": "2021-02-17T15:18:34.704576",
     "exception": false,
     "start_time": "2021-02-17T15:18:34.548463",
     "status": "completed"
    },
    "tags": []
   },
   "source": [
    "## Model learning"
   ]
  },
  {
   "cell_type": "code",
   "execution_count": 29,
   "metadata": {
    "execution": {
     "iopub.execute_input": "2021-02-17T15:18:35.029894Z",
     "iopub.status.busy": "2021-02-17T15:18:35.029297Z",
     "iopub.status.idle": "2021-02-17T15:18:35.032630Z",
     "shell.execute_reply": "2021-02-17T15:18:35.031811Z"
    },
    "papermill": {
     "duration": 0.171102,
     "end_time": "2021-02-17T15:18:35.032748",
     "exception": false,
     "start_time": "2021-02-17T15:18:34.861646",
     "status": "completed"
    },
    "tags": []
   },
   "outputs": [],
   "source": [
    "def plot_history(history):\n",
    "    \"\"\"Plot learning process graphs.\"\"\"\n",
    "    accuracy = history.history['accuracy']\n",
    "    val_accuracy = history.history['val_accuracy']\n",
    "    loss = history.history['loss']\n",
    "    val_loss = history.history['val_loss']\n",
    "\n",
    "    epochs = range(1, len(accuracy) + 1)\n",
    "\n",
    "    plt.figure(figsize=(12, 5))\n",
    "    plt.plot(epochs, accuracy, 'b', label='Training')\n",
    "    plt.plot(epochs, val_accuracy, 'r', label='Validation')\n",
    "    plt.title('Accuracy')\n",
    "    plt.legend()\n",
    "\n",
    "    plt.figure(figsize=(12, 5))\n",
    "    plt.plot(epochs, loss, 'b', label='Training')\n",
    "    plt.plot(epochs, val_loss, 'r', label='Validation')\n",
    "    plt.title('Loss')\n",
    "    plt.legend()\n",
    "    \n",
    "    \n",
    "def lr_range_test(steps_num=5, init_lr=1e-4, max_lr=10):\n",
    "    \"\"\"Range test for learning rate.\n",
    "    \n",
    "    steps_num - number of steps from init_lr to max_lr\n",
    "    init_lr - initial LR\n",
    "    max_lr - maximum LR\n",
    "    \"\"\"\n",
    "\n",
    "    # Factor for learning rate increasing\n",
    "    lr_factor = (max_lr/init_lr)**(1/steps_num)\n",
    "\n",
    "    # Define learning rate scheduler\n",
    "    callback = LearningRateScheduler(lambda epoch, lr: lr * lr_factor)\n",
    "\n",
    "    # Compile the model\n",
    "    model.compile(optimizer=Adam(lr=init_lr),\n",
    "                  loss='binary_crossentropy',\n",
    "                  metrics=['accuracy'])\n",
    "\n",
    "    # Train the model\n",
    "    history = model.fit(x=valid_generator,\n",
    "                        epochs=steps_num + 1,\n",
    "                        callbacks=[callback],)"
   ]
  },
  {
   "cell_type": "markdown",
   "metadata": {
    "papermill": {
     "duration": 0.159586,
     "end_time": "2021-02-17T15:18:35.349188",
     "exception": false,
     "start_time": "2021-02-17T15:18:35.189602",
     "status": "completed"
    },
    "tags": []
   },
   "source": [
    "### Evaluating metric before learning"
   ]
  },
  {
   "cell_type": "code",
   "execution_count": 30,
   "metadata": {
    "execution": {
     "iopub.execute_input": "2021-02-17T15:18:35.686948Z",
     "iopub.status.busy": "2021-02-17T15:18:35.683122Z",
     "iopub.status.idle": "2021-02-17T15:18:53.814380Z",
     "shell.execute_reply": "2021-02-17T15:18:53.813884Z"
    },
    "papermill": {
     "duration": 18.306637,
     "end_time": "2021-02-17T15:18:53.814505",
     "exception": false,
     "start_time": "2021-02-17T15:18:35.507868",
     "status": "completed"
    },
    "tags": []
   },
   "outputs": [
    {
     "name": "stdout",
     "output_type": "stream",
     "text": [
      "14/14 [==============================] - 17s 738ms/step - loss: 0.7287 - accuracy: 0.5293\n",
      "Validation accuracy: 53.04 %\n"
     ]
    }
   ],
   "source": [
    "# Compile the model\n",
    "model.compile(loss='binary_crossentropy', metrics=['accuracy'])\n",
    "\n",
    "# Compute score\n",
    "scores = model.evaluate(valid_generator)\n",
    "print(\"Validation accuracy: %.2f %%\" % (scores[1]*100))"
   ]
  },
  {
   "cell_type": "markdown",
   "metadata": {
    "papermill": {
     "duration": 0.163514,
     "end_time": "2021-02-17T15:18:54.144223",
     "exception": false,
     "start_time": "2021-02-17T15:18:53.980709",
     "status": "completed"
    },
    "tags": []
   },
   "source": [
    "Validation accuracy is about 50 % because now we have 2 classes and random weights of the model head."
   ]
  },
  {
   "cell_type": "markdown",
   "metadata": {
    "papermill": {
     "duration": 0.162849,
     "end_time": "2021-02-17T15:18:54.469791",
     "exception": false,
     "start_time": "2021-02-17T15:18:54.306942",
     "status": "completed"
    },
    "tags": []
   },
   "source": [
    "### Range test for learning rate"
   ]
  },
  {
   "cell_type": "code",
   "execution_count": 31,
   "metadata": {
    "execution": {
     "iopub.execute_input": "2021-02-17T15:18:54.800978Z",
     "iopub.status.busy": "2021-02-17T15:18:54.800185Z",
     "iopub.status.idle": "2021-02-17T15:18:54.803212Z",
     "shell.execute_reply": "2021-02-17T15:18:54.802787Z"
    },
    "papermill": {
     "duration": 0.169892,
     "end_time": "2021-02-17T15:18:54.803336",
     "exception": false,
     "start_time": "2021-02-17T15:18:54.633444",
     "status": "completed"
    },
    "tags": []
   },
   "outputs": [],
   "source": [
    "# lr_range_test(steps_num=6, init_lr=1e-5, max_lr=1e-3)"
   ]
  },
  {
   "cell_type": "markdown",
   "metadata": {
    "papermill": {
     "duration": 0.163477,
     "end_time": "2021-02-17T15:18:55.130793",
     "exception": false,
     "start_time": "2021-02-17T15:18:54.967316",
     "status": "completed"
    },
    "tags": []
   },
   "source": [
    "$$ lr_{i} = init\\_lr\\cdot\\Bigg(\\frac{max\\_lr}{init\\_lr}\\Bigg)^{\\frac{i}{steps\\_num}} $$\n",
    "\n",
    "$$ i = epoch\\_num-1 $$\n",
    "\n",
    "The minimum loss is detected at the learning rate about $2\\cdot10^{-4}$. We should choose maximum learning rate one order lower than the learning rate where loss is minimum. So maximum learning rate equals to $2\\cdot10^{-5}$."
   ]
  },
  {
   "cell_type": "markdown",
   "metadata": {
    "papermill": {
     "duration": 0.163404,
     "end_time": "2021-02-17T15:18:55.457617",
     "exception": false,
     "start_time": "2021-02-17T15:18:55.294213",
     "status": "completed"
    },
    "tags": []
   },
   "source": [
    "### Learning the model with feature tuning"
   ]
  },
  {
   "cell_type": "code",
   "execution_count": 32,
   "metadata": {
    "execution": {
     "iopub.execute_input": "2021-02-17T15:18:55.791218Z",
     "iopub.status.busy": "2021-02-17T15:18:55.790405Z",
     "iopub.status.idle": "2021-02-17T15:18:55.793111Z",
     "shell.execute_reply": "2021-02-17T15:18:55.792662Z"
    },
    "papermill": {
     "duration": 0.171047,
     "end_time": "2021-02-17T15:18:55.793225",
     "exception": false,
     "start_time": "2021-02-17T15:18:55.622178",
     "status": "completed"
    },
    "tags": []
   },
   "outputs": [],
   "source": [
    "def learn_model(learning_rate=0.001, epochs=EPOCHS):\n",
    "    model.compile(optimizer=Adam(lr=learning_rate),\n",
    "              loss='binary_crossentropy',\n",
    "              metrics=['accuracy'])\n",
    "    \n",
    "    # Train the model\n",
    "    history = model.fit(\n",
    "        x=train_generator,\n",
    "        epochs=epochs,\n",
    "        callbacks=callbacks_list,\n",
    "        validation_data=valid_generator,\n",
    "    )\n",
    "\n",
    "    # Plot learning process\n",
    "    plot_history(history)"
   ]
  },
  {
   "cell_type": "markdown",
   "metadata": {
    "papermill": {
     "duration": 0.16477,
     "end_time": "2021-02-17T15:18:56.121189",
     "exception": false,
     "start_time": "2021-02-17T15:18:55.956419",
     "status": "completed"
    },
    "tags": []
   },
   "source": [
    "Step 1"
   ]
  },
  {
   "cell_type": "code",
   "execution_count": 33,
   "metadata": {
    "execution": {
     "iopub.execute_input": "2021-02-17T15:18:56.480678Z",
     "iopub.status.busy": "2021-02-17T15:18:56.472331Z",
     "iopub.status.idle": "2021-02-17T15:18:56.495710Z",
     "shell.execute_reply": "2021-02-17T15:18:56.496120Z"
    },
    "papermill": {
     "duration": 0.211809,
     "end_time": "2021-02-17T15:18:56.496257",
     "exception": false,
     "start_time": "2021-02-17T15:18:56.284448",
     "status": "completed"
    },
    "tags": []
   },
   "outputs": [
    {
     "name": "stdout",
     "output_type": "stream",
     "text": [
      "Model: \"sequential\"\n",
      "_________________________________________________________________\n",
      "Layer (type)                 Output Shape              Param #   \n",
      "=================================================================\n",
      "efficientnetb4 (Functional)  (None, 8, 8, 1792)        17673823  \n",
      "_________________________________________________________________\n",
      "global_average_pooling2d (Gl (None, 1792)              0         \n",
      "_________________________________________________________________\n",
      "dropout (Dropout)            (None, 1792)              0         \n",
      "_________________________________________________________________\n",
      "dense (Dense)                (None, 512)               918016    \n",
      "_________________________________________________________________\n",
      "dropout_1 (Dropout)          (None, 512)               0         \n",
      "_________________________________________________________________\n",
      "dense_1 (Dense)              (None, 1)                 513       \n",
      "=================================================================\n",
      "Total params: 18,592,352\n",
      "Trainable params: 918,529\n",
      "Non-trainable params: 17,673,823\n",
      "_________________________________________________________________\n"
     ]
    }
   ],
   "source": [
    "# Define base model parameters as non-trainable\n",
    "base_model.trainable = False\n",
    "model.summary()"
   ]
  },
  {
   "cell_type": "code",
   "execution_count": 34,
   "metadata": {
    "execution": {
     "iopub.execute_input": "2021-02-17T15:18:56.841406Z",
     "iopub.status.busy": "2021-02-17T15:18:56.840584Z",
     "iopub.status.idle": "2021-02-17T15:59:06.028104Z",
     "shell.execute_reply": "2021-02-17T15:59:06.024329Z"
    },
    "papermill": {
     "duration": 2409.366648,
     "end_time": "2021-02-17T15:59:06.028266",
     "exception": false,
     "start_time": "2021-02-17T15:18:56.661618",
     "status": "completed"
    },
    "scrolled": false,
    "tags": []
   },
   "outputs": [
    {
     "name": "stdout",
     "output_type": "stream",
     "text": [
      "Epoch 1/40\n",
      "76/76 [==============================] - 109s 1s/step - loss: 0.7443 - accuracy: 0.4955 - val_loss: 0.6384 - val_accuracy: 0.6874\n",
      "\n",
      "Epoch 00001: val_accuracy improved from -inf to 0.68735, saving model to best_model.hdf5\n",
      "Epoch 2/40\n",
      "76/76 [==============================] - 96s 1s/step - loss: 0.6728 - accuracy: 0.5890 - val_loss: 0.5915 - val_accuracy: 0.7319\n",
      "\n",
      "Epoch 00002: val_accuracy improved from 0.68735 to 0.73185, saving model to best_model.hdf5\n",
      "Epoch 3/40\n",
      "76/76 [==============================] - 96s 1s/step - loss: 0.6206 - accuracy: 0.6400 - val_loss: 0.5575 - val_accuracy: 0.7506\n",
      "\n",
      "Epoch 00003: val_accuracy improved from 0.73185 to 0.75059, saving model to best_model.hdf5\n",
      "Epoch 4/40\n",
      "76/76 [==============================] - 96s 1s/step - loss: 0.5928 - accuracy: 0.6907 - val_loss: 0.5325 - val_accuracy: 0.7763\n",
      "\n",
      "Epoch 00004: val_accuracy improved from 0.75059 to 0.77635, saving model to best_model.hdf5\n",
      "Epoch 5/40\n",
      "76/76 [==============================] - 95s 1s/step - loss: 0.5807 - accuracy: 0.7002 - val_loss: 0.5117 - val_accuracy: 0.7951\n",
      "\n",
      "Epoch 00005: val_accuracy improved from 0.77635 to 0.79508, saving model to best_model.hdf5\n",
      "Epoch 6/40\n",
      "76/76 [==============================] - 95s 1s/step - loss: 0.5507 - accuracy: 0.7306 - val_loss: 0.4947 - val_accuracy: 0.8044\n",
      "\n",
      "Epoch 00006: val_accuracy improved from 0.79508 to 0.80445, saving model to best_model.hdf5\n",
      "Epoch 7/40\n",
      "76/76 [==============================] - 95s 1s/step - loss: 0.5471 - accuracy: 0.7373 - val_loss: 0.4802 - val_accuracy: 0.8138\n",
      "\n",
      "Epoch 00007: val_accuracy improved from 0.80445 to 0.81382, saving model to best_model.hdf5\n",
      "Epoch 8/40\n",
      "76/76 [==============================] - 95s 1s/step - loss: 0.5239 - accuracy: 0.7433 - val_loss: 0.4691 - val_accuracy: 0.8150\n",
      "\n",
      "Epoch 00008: val_accuracy improved from 0.81382 to 0.81499, saving model to best_model.hdf5\n",
      "Epoch 9/40\n",
      "76/76 [==============================] - 95s 1s/step - loss: 0.5249 - accuracy: 0.7447 - val_loss: 0.4578 - val_accuracy: 0.8197\n",
      "\n",
      "Epoch 00009: val_accuracy improved from 0.81499 to 0.81967, saving model to best_model.hdf5\n",
      "Epoch 10/40\n",
      "76/76 [==============================] - 95s 1s/step - loss: 0.5189 - accuracy: 0.7516 - val_loss: 0.4488 - val_accuracy: 0.8232\n",
      "\n",
      "Epoch 00010: val_accuracy improved from 0.81967 to 0.82319, saving model to best_model.hdf5\n",
      "Epoch 11/40\n",
      "76/76 [==============================] - 96s 1s/step - loss: 0.5137 - accuracy: 0.7645 - val_loss: 0.4405 - val_accuracy: 0.8279\n",
      "\n",
      "Epoch 00011: val_accuracy improved from 0.82319 to 0.82787, saving model to best_model.hdf5\n",
      "Epoch 12/40\n",
      "76/76 [==============================] - 96s 1s/step - loss: 0.4917 - accuracy: 0.7643 - val_loss: 0.4331 - val_accuracy: 0.8267\n",
      "\n",
      "Epoch 00012: val_accuracy did not improve from 0.82787\n",
      "Epoch 13/40\n",
      "76/76 [==============================] - 96s 1s/step - loss: 0.4985 - accuracy: 0.7538 - val_loss: 0.4268 - val_accuracy: 0.8279\n",
      "\n",
      "Epoch 00013: val_accuracy did not improve from 0.82787\n",
      "Epoch 14/40\n",
      "76/76 [==============================] - 96s 1s/step - loss: 0.4804 - accuracy: 0.7790 - val_loss: 0.4201 - val_accuracy: 0.8337\n",
      "\n",
      "Epoch 00014: val_accuracy improved from 0.82787 to 0.83372, saving model to best_model.hdf5\n",
      "Epoch 15/40\n",
      "76/76 [==============================] - 95s 1s/step - loss: 0.4648 - accuracy: 0.7771 - val_loss: 0.4151 - val_accuracy: 0.8372\n",
      "\n",
      "Epoch 00015: val_accuracy improved from 0.83372 to 0.83724, saving model to best_model.hdf5\n",
      "Epoch 16/40\n",
      "76/76 [==============================] - 94s 1s/step - loss: 0.4709 - accuracy: 0.7821 - val_loss: 0.4105 - val_accuracy: 0.8349\n",
      "\n",
      "Epoch 00016: val_accuracy did not improve from 0.83724\n",
      "Epoch 17/40\n",
      "76/76 [==============================] - 95s 1s/step - loss: 0.4767 - accuracy: 0.7789 - val_loss: 0.4062 - val_accuracy: 0.8384\n",
      "\n",
      "Epoch 00017: val_accuracy improved from 0.83724 to 0.83841, saving model to best_model.hdf5\n",
      "Epoch 18/40\n",
      "76/76 [==============================] - 95s 1s/step - loss: 0.4654 - accuracy: 0.7816 - val_loss: 0.4023 - val_accuracy: 0.8372\n",
      "\n",
      "Epoch 00018: val_accuracy did not improve from 0.83841\n",
      "Epoch 19/40\n",
      "76/76 [==============================] - 94s 1s/step - loss: 0.4686 - accuracy: 0.7782 - val_loss: 0.3991 - val_accuracy: 0.8372\n",
      "\n",
      "Epoch 00019: val_accuracy did not improve from 0.83841\n",
      "Epoch 20/40\n",
      "76/76 [==============================] - 95s 1s/step - loss: 0.4534 - accuracy: 0.7867 - val_loss: 0.3961 - val_accuracy: 0.8407\n",
      "\n",
      "Epoch 00020: val_accuracy improved from 0.83841 to 0.84075, saving model to best_model.hdf5\n",
      "Epoch 21/40\n",
      "76/76 [==============================] - 95s 1s/step - loss: 0.4681 - accuracy: 0.7806 - val_loss: 0.3927 - val_accuracy: 0.8407\n",
      "\n",
      "Epoch 00021: val_accuracy did not improve from 0.84075\n",
      "Epoch 22/40\n",
      "76/76 [==============================] - 95s 1s/step - loss: 0.4582 - accuracy: 0.7817 - val_loss: 0.3902 - val_accuracy: 0.8384\n",
      "\n",
      "Epoch 00022: val_accuracy did not improve from 0.84075\n",
      "Epoch 23/40\n",
      "76/76 [==============================] - 95s 1s/step - loss: 0.4456 - accuracy: 0.8033 - val_loss: 0.3877 - val_accuracy: 0.8384\n",
      "\n",
      "Epoch 00023: val_accuracy did not improve from 0.84075\n",
      "Epoch 24/40\n",
      "76/76 [==============================] - 95s 1s/step - loss: 0.4502 - accuracy: 0.7840 - val_loss: 0.3850 - val_accuracy: 0.8384\n",
      "\n",
      "Epoch 00024: val_accuracy did not improve from 0.84075\n",
      "Epoch 25/40\n",
      "76/76 [==============================] - 96s 1s/step - loss: 0.4549 - accuracy: 0.7864 - val_loss: 0.3827 - val_accuracy: 0.8384\n",
      "\n",
      "Epoch 00025: val_accuracy did not improve from 0.84075\n"
     ]
    },
    {
     "data": {
      "image/png": "[encoded data removed]",
      "text/plain": [
       "<Figure size 864x360 with 1 Axes>"
      ]
     },
     "metadata": {
      "needs_background": "light"
     },
     "output_type": "display_data"
    },
    {
     "data": {
      "image/png": "[encoded data removed]",
      "text/plain": [
       "<Figure size 864x360 with 1 Axes>"
      ]
     },
     "metadata": {
      "needs_background": "light"
     },
     "output_type": "display_data"
    }
   ],
   "source": [
    "learn_model(2e-5)"
   ]
  },
  {
   "cell_type": "markdown",
   "metadata": {
    "papermill": {
     "duration": 0.689758,
     "end_time": "2021-02-17T15:59:07.389298",
     "exception": false,
     "start_time": "2021-02-17T15:59:06.699540",
     "status": "completed"
    },
    "tags": []
   },
   "source": [
    "Step 2"
   ]
  },
  {
   "cell_type": "code",
   "execution_count": 35,
   "metadata": {
    "execution": {
     "iopub.execute_input": "2021-02-17T15:59:09.038165Z",
     "iopub.status.busy": "2021-02-17T15:59:09.022739Z",
     "iopub.status.idle": "2021-02-17T15:59:09.431052Z",
     "shell.execute_reply": "2021-02-17T15:59:09.430338Z"
    },
    "papermill": {
     "duration": 1.11386,
     "end_time": "2021-02-17T15:59:09.431193",
     "exception": false,
     "start_time": "2021-02-17T15:59:08.317333",
     "status": "completed"
    },
    "tags": []
   },
   "outputs": [
    {
     "name": "stdout",
     "output_type": "stream",
     "text": [
      "Model: \"sequential\"\n",
      "_________________________________________________________________\n",
      "Layer (type)                 Output Shape              Param #   \n",
      "=================================================================\n",
      "efficientnetb4 (Functional)  (None, 8, 8, 1792)        17673823  \n",
      "_________________________________________________________________\n",
      "global_average_pooling2d (Gl (None, 1792)              0         \n",
      "_________________________________________________________________\n",
      "dropout (Dropout)            (None, 1792)              0         \n",
      "_________________________________________________________________\n",
      "dense (Dense)                (None, 512)               918016    \n",
      "_________________________________________________________________\n",
      "dropout_1 (Dropout)          (None, 512)               0         \n",
      "_________________________________________________________________\n",
      "dense_1 (Dense)              (None, 1)                 513       \n",
      "=================================================================\n",
      "Total params: 18,592,352\n",
      "Trainable params: 6,907,097\n",
      "Non-trainable params: 11,685,255\n",
      "_________________________________________________________________\n"
     ]
    }
   ],
   "source": [
    "# Load model with the best result\n",
    "try:\n",
    "    model.load_weights('/kaggle/working/best_model.hdf5')\n",
    "except:\n",
    "    pass\n",
    "\n",
    "# Freeze all the layers before the `fine_tune_at` layer number\n",
    "base_model.trainable = True\n",
    "fine_tune_at = int(len(base_model.layers) / 1.1)\n",
    "for layer in base_model.layers[:fine_tune_at]:\n",
    "    layer.trainable = False\n",
    "    \n",
    "model.summary()"
   ]
  },
  {
   "cell_type": "code",
   "execution_count": 36,
   "metadata": {
    "execution": {
     "iopub.execute_input": "2021-02-17T15:59:10.779864Z",
     "iopub.status.busy": "2021-02-17T15:59:10.774367Z",
     "iopub.status.idle": "2021-02-17T17:04:27.061392Z",
     "shell.execute_reply": "2021-02-17T17:04:27.060501Z"
    },
    "papermill": {
     "duration": 3916.960666,
     "end_time": "2021-02-17T17:04:27.061540",
     "exception": false,
     "start_time": "2021-02-17T15:59:10.100874",
     "status": "completed"
    },
    "scrolled": false,
    "tags": []
   },
   "outputs": [
    {
     "name": "stdout",
     "output_type": "stream",
     "text": [
      "Epoch 1/40\n",
      "76/76 [==============================] - 110s 1s/step - loss: 0.5269 - accuracy: 0.7411 - val_loss: 0.4118 - val_accuracy: 0.8255\n",
      "\n",
      "Epoch 00001: val_accuracy did not improve from 0.84075\n",
      "Epoch 2/40\n",
      "76/76 [==============================] - 96s 1s/step - loss: 0.5256 - accuracy: 0.7414 - val_loss: 0.4182 - val_accuracy: 0.8232\n",
      "\n",
      "Epoch 00002: val_accuracy did not improve from 0.84075\n",
      "Epoch 3/40\n",
      "76/76 [==============================] - 96s 1s/step - loss: 0.4985 - accuracy: 0.7632 - val_loss: 0.4161 - val_accuracy: 0.8244\n",
      "\n",
      "Epoch 00003: val_accuracy did not improve from 0.84075\n",
      "Epoch 4/40\n",
      "76/76 [==============================] - 97s 1s/step - loss: 0.4784 - accuracy: 0.7771 - val_loss: 0.4082 - val_accuracy: 0.8337\n",
      "\n",
      "Epoch 00004: val_accuracy did not improve from 0.84075\n",
      "Epoch 5/40\n",
      "76/76 [==============================] - 96s 1s/step - loss: 0.4698 - accuracy: 0.7847 - val_loss: 0.3996 - val_accuracy: 0.8396\n",
      "\n",
      "Epoch 00005: val_accuracy did not improve from 0.84075\n",
      "Epoch 6/40\n",
      "76/76 [==============================] - 96s 1s/step - loss: 0.4635 - accuracy: 0.7770 - val_loss: 0.3900 - val_accuracy: 0.8443\n",
      "\n",
      "Epoch 00006: val_accuracy improved from 0.84075 to 0.84426, saving model to best_model.hdf5\n",
      "Epoch 7/40\n",
      "76/76 [==============================] - 97s 1s/step - loss: 0.4591 - accuracy: 0.7795 - val_loss: 0.3814 - val_accuracy: 0.8478\n",
      "\n",
      "Epoch 00007: val_accuracy improved from 0.84426 to 0.84778, saving model to best_model.hdf5\n",
      "Epoch 8/40\n",
      "76/76 [==============================] - 96s 1s/step - loss: 0.4531 - accuracy: 0.7881 - val_loss: 0.3730 - val_accuracy: 0.8478\n",
      "\n",
      "Epoch 00008: val_accuracy did not improve from 0.84778\n",
      "Epoch 9/40\n",
      "76/76 [==============================] - 96s 1s/step - loss: 0.4439 - accuracy: 0.7985 - val_loss: 0.3656 - val_accuracy: 0.8536\n",
      "\n",
      "Epoch 00009: val_accuracy improved from 0.84778 to 0.85363, saving model to best_model.hdf5\n",
      "Epoch 10/40\n",
      "76/76 [==============================] - 97s 1s/step - loss: 0.4284 - accuracy: 0.8040 - val_loss: 0.3584 - val_accuracy: 0.8571\n",
      "\n",
      "Epoch 00010: val_accuracy improved from 0.85363 to 0.85714, saving model to best_model.hdf5\n",
      "Epoch 11/40\n",
      "76/76 [==============================] - 96s 1s/step - loss: 0.4245 - accuracy: 0.8122 - val_loss: 0.3515 - val_accuracy: 0.8595\n",
      "\n",
      "Epoch 00011: val_accuracy improved from 0.85714 to 0.85948, saving model to best_model.hdf5\n",
      "Epoch 12/40\n",
      "76/76 [==============================] - 97s 1s/step - loss: 0.4295 - accuracy: 0.8028 - val_loss: 0.3446 - val_accuracy: 0.8618\n",
      "\n",
      "Epoch 00012: val_accuracy improved from 0.85948 to 0.86183, saving model to best_model.hdf5\n",
      "Epoch 13/40\n",
      "76/76 [==============================] - 98s 1s/step - loss: 0.4117 - accuracy: 0.8156 - val_loss: 0.3392 - val_accuracy: 0.8642\n",
      "\n",
      "Epoch 00013: val_accuracy improved from 0.86183 to 0.86417, saving model to best_model.hdf5\n",
      "Epoch 14/40\n",
      "76/76 [==============================] - 97s 1s/step - loss: 0.4093 - accuracy: 0.8126 - val_loss: 0.3343 - val_accuracy: 0.8665\n",
      "\n",
      "Epoch 00014: val_accuracy improved from 0.86417 to 0.86651, saving model to best_model.hdf5\n",
      "Epoch 15/40\n",
      "76/76 [==============================] - 96s 1s/step - loss: 0.3926 - accuracy: 0.8220 - val_loss: 0.3297 - val_accuracy: 0.8700\n",
      "\n",
      "Epoch 00015: val_accuracy improved from 0.86651 to 0.87002, saving model to best_model.hdf5\n",
      "Epoch 16/40\n",
      "76/76 [==============================] - 97s 1s/step - loss: 0.3866 - accuracy: 0.8355 - val_loss: 0.3255 - val_accuracy: 0.8724\n",
      "\n",
      "Epoch 00016: val_accuracy improved from 0.87002 to 0.87237, saving model to best_model.hdf5\n",
      "Epoch 17/40\n",
      "76/76 [==============================] - 97s 1s/step - loss: 0.3946 - accuracy: 0.8252 - val_loss: 0.3214 - val_accuracy: 0.8759\n",
      "\n",
      "Epoch 00017: val_accuracy improved from 0.87237 to 0.87588, saving model to best_model.hdf5\n",
      "Epoch 18/40\n",
      "76/76 [==============================] - 97s 1s/step - loss: 0.3821 - accuracy: 0.8307 - val_loss: 0.3176 - val_accuracy: 0.8794\n",
      "\n",
      "Epoch 00018: val_accuracy improved from 0.87588 to 0.87939, saving model to best_model.hdf5\n",
      "Epoch 19/40\n",
      "76/76 [==============================] - 97s 1s/step - loss: 0.3778 - accuracy: 0.8397 - val_loss: 0.3142 - val_accuracy: 0.8794\n",
      "\n",
      "Epoch 00019: val_accuracy did not improve from 0.87939\n",
      "Epoch 20/40\n",
      "76/76 [==============================] - 98s 1s/step - loss: 0.3871 - accuracy: 0.8282 - val_loss: 0.3106 - val_accuracy: 0.8806\n",
      "\n",
      "Epoch 00020: val_accuracy improved from 0.87939 to 0.88056, saving model to best_model.hdf5\n",
      "Epoch 21/40\n",
      "76/76 [==============================] - 97s 1s/step - loss: 0.3534 - accuracy: 0.8525 - val_loss: 0.3068 - val_accuracy: 0.8899\n",
      "\n",
      "Epoch 00021: val_accuracy improved from 0.88056 to 0.88993, saving model to best_model.hdf5\n",
      "Epoch 22/40\n",
      "76/76 [==============================] - 96s 1s/step - loss: 0.3606 - accuracy: 0.8439 - val_loss: 0.3031 - val_accuracy: 0.8899\n",
      "\n",
      "Epoch 00022: val_accuracy did not improve from 0.88993\n",
      "Epoch 23/40\n",
      "76/76 [==============================] - 97s 1s/step - loss: 0.3735 - accuracy: 0.8321 - val_loss: 0.3000 - val_accuracy: 0.8934\n",
      "\n",
      "Epoch 00023: val_accuracy improved from 0.88993 to 0.89344, saving model to best_model.hdf5\n",
      "Epoch 24/40\n",
      "76/76 [==============================] - 97s 1s/step - loss: 0.3489 - accuracy: 0.8457 - val_loss: 0.2973 - val_accuracy: 0.8911\n",
      "\n",
      "Epoch 00024: val_accuracy did not improve from 0.89344\n",
      "Epoch 25/40\n",
      "76/76 [==============================] - 97s 1s/step - loss: 0.3591 - accuracy: 0.8492 - val_loss: 0.2944 - val_accuracy: 0.8934\n",
      "\n",
      "Epoch 00025: val_accuracy did not improve from 0.89344\n",
      "Epoch 26/40\n",
      "76/76 [==============================] - 98s 1s/step - loss: 0.3544 - accuracy: 0.8483 - val_loss: 0.2924 - val_accuracy: 0.8934\n",
      "\n",
      "Epoch 00026: val_accuracy did not improve from 0.89344\n",
      "Epoch 27/40\n",
      "76/76 [==============================] - 97s 1s/step - loss: 0.3503 - accuracy: 0.8516 - val_loss: 0.2904 - val_accuracy: 0.8970\n",
      "\n",
      "Epoch 00027: val_accuracy improved from 0.89344 to 0.89696, saving model to best_model.hdf5\n",
      "Epoch 28/40\n",
      "76/76 [==============================] - 97s 1s/step - loss: 0.3460 - accuracy: 0.8489 - val_loss: 0.2880 - val_accuracy: 0.8970\n",
      "\n",
      "Epoch 00028: val_accuracy did not improve from 0.89696\n",
      "Epoch 29/40\n",
      "76/76 [==============================] - 98s 1s/step - loss: 0.3526 - accuracy: 0.8468 - val_loss: 0.2856 - val_accuracy: 0.8993\n",
      "\n",
      "Epoch 00029: val_accuracy improved from 0.89696 to 0.89930, saving model to best_model.hdf5\n",
      "Epoch 30/40\n",
      "76/76 [==============================] - 97s 1s/step - loss: 0.3374 - accuracy: 0.8527 - val_loss: 0.2835 - val_accuracy: 0.8993\n",
      "\n",
      "Epoch 00030: val_accuracy did not improve from 0.89930\n",
      "Epoch 31/40\n",
      "76/76 [==============================] - 97s 1s/step - loss: 0.3468 - accuracy: 0.8427 - val_loss: 0.2811 - val_accuracy: 0.8993\n",
      "\n",
      "Epoch 00031: val_accuracy did not improve from 0.89930\n",
      "Epoch 32/40\n",
      "76/76 [==============================] - 99s 1s/step - loss: 0.3467 - accuracy: 0.8473 - val_loss: 0.2799 - val_accuracy: 0.8993\n",
      "\n",
      "Epoch 00032: val_accuracy did not improve from 0.89930\n",
      "Epoch 33/40\n",
      "76/76 [==============================] - 98s 1s/step - loss: 0.3493 - accuracy: 0.8536 - val_loss: 0.2787 - val_accuracy: 0.8993\n",
      "\n",
      "Epoch 00033: val_accuracy did not improve from 0.89930\n",
      "Epoch 34/40\n",
      "76/76 [==============================] - 98s 1s/step - loss: 0.3394 - accuracy: 0.8504 - val_loss: 0.2768 - val_accuracy: 0.9005\n",
      "\n",
      "Epoch 00034: val_accuracy improved from 0.89930 to 0.90047, saving model to best_model.hdf5\n",
      "Epoch 35/40\n",
      "76/76 [==============================] - 98s 1s/step - loss: 0.3561 - accuracy: 0.8463 - val_loss: 0.2753 - val_accuracy: 0.9005\n",
      "\n",
      "Epoch 00035: val_accuracy did not improve from 0.90047\n",
      "Epoch 36/40\n",
      "76/76 [==============================] - 98s 1s/step - loss: 0.3297 - accuracy: 0.8632 - val_loss: 0.2740 - val_accuracy: 0.8993\n",
      "\n",
      "Epoch 00036: val_accuracy did not improve from 0.90047\n",
      "Epoch 37/40\n",
      "76/76 [==============================] - 97s 1s/step - loss: 0.3309 - accuracy: 0.8544 - val_loss: 0.2726 - val_accuracy: 0.9005\n",
      "\n",
      "Epoch 00037: val_accuracy did not improve from 0.90047\n",
      "Epoch 38/40\n",
      "76/76 [==============================] - 98s 1s/step - loss: 0.3289 - accuracy: 0.8528 - val_loss: 0.2710 - val_accuracy: 0.9016\n",
      "\n",
      "Epoch 00038: val_accuracy improved from 0.90047 to 0.90164, saving model to best_model.hdf5\n",
      "Epoch 39/40\n",
      "76/76 [==============================] - 98s 1s/step - loss: 0.3379 - accuracy: 0.8510 - val_loss: 0.2696 - val_accuracy: 0.9016\n",
      "\n",
      "Epoch 00039: val_accuracy did not improve from 0.90164\n",
      "Epoch 40/40\n",
      "76/76 [==============================] - 98s 1s/step - loss: 0.3343 - accuracy: 0.8487 - val_loss: 0.2687 - val_accuracy: 0.9005\n",
      "\n",
      "Epoch 00040: val_accuracy did not improve from 0.90164\n"
     ]
    },
    {
     "data": {
      "image/png": "[encoded data removed]",
      "text/plain": [
       "<Figure size 864x360 with 1 Axes>"
      ]
     },
     "metadata": {
      "needs_background": "light"
     },
     "output_type": "display_data"
    },
    {
     "data": {
      "image/png": "[encoded data removed]",
      "text/plain": [
       "<Figure size 864x360 with 1 Axes>"
      ]
     },
     "metadata": {
      "needs_background": "light"
     },
     "output_type": "display_data"
    }
   ],
   "source": [
    "learn_model(5e-6)"
   ]
  },
  {
   "cell_type": "markdown",
   "metadata": {
    "papermill": {
     "duration": 1.486015,
     "end_time": "2021-02-17T17:04:30.020377",
     "exception": false,
     "start_time": "2021-02-17T17:04:28.534362",
     "status": "completed"
    },
    "tags": []
   },
   "source": [
    "Step 3"
   ]
  },
  {
   "cell_type": "code",
   "execution_count": 37,
   "metadata": {
    "execution": {
     "iopub.execute_input": "2021-02-17T17:04:33.016515Z",
     "iopub.status.busy": "2021-02-17T17:04:33.015905Z",
     "iopub.status.idle": "2021-02-17T17:04:33.898584Z",
     "shell.execute_reply": "2021-02-17T17:04:33.899043Z"
    },
    "papermill": {
     "duration": 2.412882,
     "end_time": "2021-02-17T17:04:33.899289",
     "exception": false,
     "start_time": "2021-02-17T17:04:31.486407",
     "status": "completed"
    },
    "tags": []
   },
   "outputs": [
    {
     "name": "stdout",
     "output_type": "stream",
     "text": [
      "Found 4835 validated image filenames belonging to 2 classes.\n"
     ]
    }
   ],
   "source": [
    "# Decrease batch size to 32\n",
    "train_generator = train_datagen.flow_from_dataframe(\n",
    "    df_train,\n",
    "    IMAGE_PATH,\n",
    "    'name',\n",
    "    'label',\n",
    "    class_mode='binary',\n",
    "    target_size=(IMG_SIZE, IMG_SIZE),\n",
    "    batch_size=32,\n",
    "    shuffle=True,\n",
    ")"
   ]
  },
  {
   "cell_type": "code",
   "execution_count": 38,
   "metadata": {
    "execution": {
     "iopub.execute_input": "2021-02-17T17:04:37.667092Z",
     "iopub.status.busy": "2021-02-17T17:04:37.641034Z",
     "iopub.status.idle": "2021-02-17T17:04:38.053453Z",
     "shell.execute_reply": "2021-02-17T17:04:38.052748Z"
    },
    "papermill": {
     "duration": 2.425838,
     "end_time": "2021-02-17T17:04:38.053581",
     "exception": false,
     "start_time": "2021-02-17T17:04:35.627743",
     "status": "completed"
    },
    "tags": []
   },
   "outputs": [
    {
     "name": "stdout",
     "output_type": "stream",
     "text": [
      "Model: \"sequential\"\n",
      "_________________________________________________________________\n",
      "Layer (type)                 Output Shape              Param #   \n",
      "=================================================================\n",
      "efficientnetb4 (Functional)  (None, 8, 8, 1792)        17673823  \n",
      "_________________________________________________________________\n",
      "global_average_pooling2d (Gl (None, 1792)              0         \n",
      "_________________________________________________________________\n",
      "dropout (Dropout)            (None, 1792)              0         \n",
      "_________________________________________________________________\n",
      "dense (Dense)                (None, 512)               918016    \n",
      "_________________________________________________________________\n",
      "dropout_1 (Dropout)          (None, 512)               0         \n",
      "_________________________________________________________________\n",
      "dense_1 (Dense)              (None, 1)                 513       \n",
      "=================================================================\n",
      "Total params: 18,592,352\n",
      "Trainable params: 18,467,145\n",
      "Non-trainable params: 125,207\n",
      "_________________________________________________________________\n"
     ]
    }
   ],
   "source": [
    "# Load model with the best result\n",
    "try:\n",
    "    model.load_weights('/kaggle/working/best_model.hdf5')\n",
    "except ValueError:\n",
    "    base_model.trainable = False\n",
    "    try:\n",
    "        model.load_weights('/kaggle/working/best_model.hdf5')\n",
    "    except:\n",
    "        pass\n",
    "    \n",
    "# Define all layers as trainable\n",
    "base_model.trainable = True\n",
    "\n",
    "model.summary()"
   ]
  },
  {
   "cell_type": "code",
   "execution_count": 39,
   "metadata": {
    "execution": {
     "iopub.execute_input": "2021-02-17T17:04:41.022491Z",
     "iopub.status.busy": "2021-02-17T17:04:41.019168Z",
     "iopub.status.idle": "2021-02-17T17:17:48.936620Z",
     "shell.execute_reply": "2021-02-17T17:17:48.935941Z"
    },
    "papermill": {
     "duration": 789.401194,
     "end_time": "2021-02-17T17:17:48.936834",
     "exception": false,
     "start_time": "2021-02-17T17:04:39.535640",
     "status": "completed"
    },
    "tags": []
   },
   "outputs": [
    {
     "name": "stdout",
     "output_type": "stream",
     "text": [
      "Epoch 1/40\n",
      "152/152 [==============================] - 147s 864ms/step - loss: 0.4546 - accuracy: 0.7812 - val_loss: 0.3387 - val_accuracy: 0.8583\n",
      "\n",
      "Epoch 00001: val_accuracy did not improve from 0.90164\n",
      "Epoch 2/40\n",
      "152/152 [==============================] - 128s 842ms/step - loss: 0.4655 - accuracy: 0.7739 - val_loss: 0.3629 - val_accuracy: 0.8419\n",
      "\n",
      "Epoch 00002: val_accuracy did not improve from 0.90164\n",
      "Epoch 3/40\n",
      "152/152 [==============================] - 127s 835ms/step - loss: 0.4739 - accuracy: 0.7845 - val_loss: 0.3709 - val_accuracy: 0.8361\n",
      "\n",
      "Epoch 00003: val_accuracy did not improve from 0.90164\n",
      "Epoch 4/40\n",
      "152/152 [==============================] - 128s 841ms/step - loss: 0.4502 - accuracy: 0.7812 - val_loss: 0.3721 - val_accuracy: 0.8326\n",
      "\n",
      "Epoch 00004: val_accuracy did not improve from 0.90164\n",
      "Epoch 5/40\n",
      "152/152 [==============================] - 128s 840ms/step - loss: 0.4416 - accuracy: 0.7857 - val_loss: 0.3720 - val_accuracy: 0.8337\n",
      "\n",
      "Epoch 00005: val_accuracy did not improve from 0.90164\n",
      "Epoch 6/40\n",
      "152/152 [==============================] - 128s 840ms/step - loss: 0.4584 - accuracy: 0.7834 - val_loss: 0.3710 - val_accuracy: 0.8314\n",
      "\n",
      "Epoch 00006: val_accuracy did not improve from 0.90164\n"
     ]
    },
    {
     "data": {
      "image/png": "[encoded data removed]",
      "text/plain": [
       "<Figure size 864x360 with 1 Axes>"
      ]
     },
     "metadata": {
      "needs_background": "light"
     },
     "output_type": "display_data"
    },
    {
     "data": {
      "image/png": "[encoded data removed]",
      "text/plain": [
       "<Figure size 864x360 with 1 Axes>"
      ]
     },
     "metadata": {
      "needs_background": "light"
     },
     "output_type": "display_data"
    }
   ],
   "source": [
    "learn_model(1e-7)"
   ]
  },
  {
   "cell_type": "markdown",
   "metadata": {
    "papermill": {
     "duration": 1.742263,
     "end_time": "2021-02-17T17:17:52.922940",
     "exception": false,
     "start_time": "2021-02-17T17:17:51.180677",
     "status": "completed"
    },
    "tags": []
   },
   "source": [
    "# Evaluation of the model"
   ]
  },
  {
   "cell_type": "code",
   "execution_count": 40,
   "metadata": {
    "execution": {
     "iopub.execute_input": "2021-02-17T17:17:56.408885Z",
     "iopub.status.busy": "2021-02-17T17:17:56.373142Z",
     "iopub.status.idle": "2021-02-17T17:18:12.221921Z",
     "shell.execute_reply": "2021-02-17T17:18:12.221428Z"
    },
    "papermill": {
     "duration": 17.595315,
     "end_time": "2021-02-17T17:18:12.222076",
     "exception": false,
     "start_time": "2021-02-17T17:17:54.626761",
     "status": "completed"
    },
    "tags": []
   },
   "outputs": [
    {
     "name": "stdout",
     "output_type": "stream",
     "text": [
      "14/14 [==============================] - 14s 753ms/step - loss: 0.2807 - accuracy: 0.8974\n",
      "Validation accuracy: 90.16 %\n"
     ]
    }
   ],
   "source": [
    "# Load model with the best result\n",
    "try:\n",
    "    model.load_weights('/kaggle/working/best_model.hdf5')\n",
    "except ValueError:\n",
    "    base_model.trainable = True\n",
    "    fine_tune_at = int(len(base_model.layers) / 1.1)\n",
    "    for layer in base_model.layers[:fine_tune_at]:\n",
    "        layer.trainable = False\n",
    "    try:\n",
    "        model.load_weights('/kaggle/working/best_model.hdf5')\n",
    "    except ValueError:\n",
    "        base_model.trainable = False\n",
    "        try:\n",
    "            model.load_weights('/kaggle/working/best_model.hdf5')\n",
    "        except:\n",
    "            pass\n",
    "    \n",
    "# Compile the model\n",
    "model.compile(loss='binary_crossentropy', metrics=['accuracy'])\n",
    "\n",
    "# Compute score\n",
    "scores = model.evaluate(test_generator)\n",
    "print(\"Validation accuracy: %.2f %%\" % (scores[1]*100))"
   ]
  },
  {
   "cell_type": "code",
   "execution_count": 41,
   "metadata": {
    "_kg_hide-input": true,
    "execution": {
     "iopub.execute_input": "2021-02-17T17:18:15.737796Z",
     "iopub.status.busy": "2021-02-17T17:18:15.737124Z",
     "iopub.status.idle": "2021-02-17T17:18:15.740358Z",
     "shell.execute_reply": "2021-02-17T17:18:15.739813Z"
    },
    "papermill": {
     "duration": 1.776863,
     "end_time": "2021-02-17T17:18:15.740472",
     "exception": false,
     "start_time": "2021-02-17T17:18:13.963609",
     "status": "completed"
    },
    "tags": []
   },
   "outputs": [],
   "source": [
    "# Clean WORKING_PATH\n",
    "shutil.rmtree(WORKING_PATH)"
   ]
  }
 ],
 "metadata": {
  "kernelspec": {
   "display_name": "Python 3",
   "language": "python",
   "name": "python3"
  },
  "language_info": {
   "codemirror_mode": {
    "name": "ipython",
    "version": 3
   },
   "file_extension": ".py",
   "mimetype": "text/x-python",
   "name": "python",
   "nbconvert_exporter": "python",
   "pygments_lexer": "ipython3",
   "version": "3.8.5"
  },
  "papermill": {
   "default_parameters": {},
   "duration": 7273.65417,
   "end_time": "2021-02-17T17:18:22.839757",
   "environment_variables": {},
   "exception": null,
   "input_path": "__notebook__.ipynb",
   "output_path": "__notebook__.ipynb",
   "parameters": {},
   "start_time": "2021-02-17T15:17:09.185587",
   "version": "2.2.2"
  }
 },
 "nbformat": 4,
 "nbformat_minor": 4
}
