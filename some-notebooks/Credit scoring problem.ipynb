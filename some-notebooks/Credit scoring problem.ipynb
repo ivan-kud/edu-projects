{
 "cells": [
  {
   "cell_type": "markdown",
   "execution_count": null,
   "metadata": {
    "papermill": {
     "duration": 0.024044,
     "end_time": "2020-08-25T07:06:12.930353",
     "exception": false,
     "start_time": "2020-08-25T07:06:12.906309",
     "status": "completed"
    },
    "tags": []
   },
   "source": [
    "# Credit scoring problem\n",
    "**Project Description:** Probability prediction of customer default.\n",
    "\n",
    "**Goal:** To identify the risk of customer default.\n",
    "\n",
    "**Objectives:** Create model to predict customer default.\n",
    "\n",
    "**Dataset Description:** Dataset consists of 73 799 rows into train set and 36 349 rows into test set.\n",
    "\n",
    "Dataset features:\n",
    "1. client_id - client ID;\n",
    "2. education - education;\n",
    "3. sex - sex;\n",
    "4. age - age;\n",
    "5. car - car presence flag;\n",
    "6. car_type - foreign car flag;\n",
    "7. decline_app_cnt - number of applications refused in the past;\n",
    "8. good_work - good job presence flag;\n",
    "9. bki_request_cnt - number of requests to the credit bureaus;\n",
    "10. home_address - home address category;\n",
    "11. work_address - work address category;\n",
    "12. income - borrower's income;\n",
    "13. foreign_passport - foreign passport presence flag;\n",
    "14. sna - type of communication between a borrower and the bank;\n",
    "15. first_time - the age of the availability of information about the borrower;\n",
    "16. score_bki - score according to data from the credit bureaus;\n",
    "17. region_rating - region rating;\n",
    "18. app_date - application date;\n",
    "19. default - presence of default."
   ]
  },
  {
   "cell_type": "markdown",
   "execution_count": null,
   "metadata": {
    "papermill": {
     "duration": 0.022153,
     "end_time": "2020-08-25T07:06:12.974761",
     "exception": false,
     "start_time": "2020-08-25T07:06:12.952608",
     "status": "completed"
    },
    "tags": []
   },
   "source": [
    "# Work plan\n",
    "1. Base (default) processing of features and adding it to the baseline.\n",
    "2. Identify usefullness of 'client_id' feature with help of two baseline submition (with and without 'client_id' feature). The data of 'client_id' feature in test sample may be replace by ramdom sequence.\n",
    "3. Whole optimization fo initial features (without feature engineering) with baseline settings.\n",
    "4. Feature engineering + polynomial features + dummies.\n",
    "5. Find optimum sample value to define usefull features.\n",
    "6. Find usefull features.\n",
    "7. Optimize hyperparameters.\n",
    "8. Try oversampling and undersampling.\n",
    "9. Try to overfit to public liderboard (for this competition only)."
   ]
  },
  {
   "cell_type": "code",
   "execution_count": 1,
   "metadata": {
    "execution": {
     "iopub.execute_input": "2020-08-25T07:06:13.027291Z",
     "iopub.status.busy": "2020-08-25T07:06:13.026450Z",
     "iopub.status.idle": "2020-08-25T07:06:14.589337Z",
     "shell.execute_reply": "2020-08-25T07:06:14.588706Z"
    },
    "papermill": {
     "duration": 1.593,
     "end_time": "2020-08-25T07:06:14.589510",
     "exception": false,
     "start_time": "2020-08-25T07:06:12.996510",
     "status": "completed"
    },
    "slideshow": {
     "slide_type": "-"
    },
    "tags": []
   },
   "outputs": [],
   "source": [
    "import os\n",
    "import re\n",
    "import math\n",
    "import statistics\n",
    "from collections import Counter, defaultdict\n",
    "from itertools import chain, combinations\n",
    "\n",
    "import numpy as np\n",
    "import pandas as pd\n",
    "import matplotlib.pyplot as plt\n",
    "import seaborn as sns\n",
    "import missingno as msno\n",
    "from scipy.stats import ttest_ind\n",
    "from sklearn.feature_selection import f_classif, mutual_info_classif\n",
    "from sklearn.preprocessing import LabelEncoder, OrdinalEncoder, OneHotEncoder, StandardScaler, PolynomialFeatures\n",
    "from sklearn.model_selection import train_test_split, StratifiedKFold, RepeatedStratifiedKFold, GridSearchCV, cross_val_score\n",
    "from sklearn.linear_model import LogisticRegression, LogisticRegressionCV\n",
    "from sklearn.metrics import f1_score, confusion_matrix, auc, roc_auc_score, roc_curve, SCORERS\n",
    "from sklearn.utils.class_weight import compute_class_weight"
   ]
  },
  {
   "cell_type": "code",
   "execution_count": 2,
   "metadata": {
    "execution": {
     "iopub.execute_input": "2020-08-25T07:06:14.625150Z",
     "iopub.status.busy": "2020-08-25T07:06:14.624225Z",
     "iopub.status.idle": "2020-08-25T07:06:14.639006Z",
     "shell.execute_reply": "2020-08-25T07:06:14.638120Z"
    },
    "papermill": {
     "duration": 0.035158,
     "end_time": "2020-08-25T07:06:14.639145",
     "exception": false,
     "start_time": "2020-08-25T07:06:14.603987",
     "status": "completed"
    },
    "tags": []
   },
   "outputs": [
    {
     "name": "stdout",
     "output_type": "stream",
     "text": [
      "/kaggle/src/script.ipynb\n",
      "/kaggle/lib/kaggle/gcp.py\n",
      "/kaggle/input/sf-dst-scoring/train.csv\n",
      "/kaggle/input/sf-dst-scoring/test.csv\n",
      "/kaggle/input/sf-dst-scoring/sample_submission.csv\n",
      "/kaggle/input/credit-scoring-problem/requirements.txt\n",
      "/kaggle/input/credit-scoring-problem/train_test_score_vs_feature_number.csv\n",
      "/kaggle/input/credit-scoring-problem/__results__.html\n",
      "/kaggle/input/credit-scoring-problem/__output__.json\n",
      "/kaggle/input/credit-scoring-problem/custom.css\n",
      "/kaggle/input/credit-scoring-problem/__notebook__.ipynb\n",
      "/kaggle/input/credit-scoring-problem/submission.csv\n",
      "/kaggle/input/credit-scoring-problem/train_test_score_vs_sample_value.csv\n",
      "/kaggle/input/credit-scoring-problem/__results___files/__results___86_4.png\n",
      "/kaggle/input/credit-scoring-problem/__results___files/__results___28_4.png\n",
      "/kaggle/input/credit-scoring-problem/__results___files/__results___28_0.png\n",
      "/kaggle/input/credit-scoring-problem/__results___files/__results___22_0.png\n",
      "/kaggle/input/credit-scoring-problem/__results___files/__results___64_0.png\n",
      "/kaggle/input/credit-scoring-problem/__results___files/__results___42_0.png\n",
      "/kaggle/input/credit-scoring-problem/__results___files/__results___28_10.png\n",
      "/kaggle/input/credit-scoring-problem/__results___files/__results___52_0.png\n",
      "/kaggle/input/credit-scoring-problem/__results___files/__results___28_12.png\n",
      "/kaggle/input/credit-scoring-problem/__results___files/__results___49_1.png\n",
      "/kaggle/input/credit-scoring-problem/__results___files/__results___79_2.png\n",
      "/kaggle/input/credit-scoring-problem/__results___files/__results___28_3.png\n",
      "/kaggle/input/credit-scoring-problem/__results___files/__results___28_5.png\n",
      "/kaggle/input/credit-scoring-problem/__results___files/__results___46_0.png\n",
      "/kaggle/input/credit-scoring-problem/__results___files/__results___77_1.png\n",
      "/kaggle/input/credit-scoring-problem/__results___files/__results___33_0.png\n",
      "/kaggle/input/credit-scoring-problem/__results___files/__results___28_11.png\n",
      "/kaggle/input/credit-scoring-problem/__results___files/__results___28_9.png\n",
      "/kaggle/input/credit-scoring-problem/__results___files/__results___28_2.png\n",
      "/kaggle/input/credit-scoring-problem/__results___files/__results___28_8.png\n",
      "/kaggle/input/credit-scoring-problem/__results___files/__results___28_7.png\n",
      "/kaggle/input/credit-scoring-problem/__results___files/__results___28_6.png\n",
      "/kaggle/input/credit-scoring-problem/__results___files/__results___34_0.png\n",
      "/kaggle/input/credit-scoring-problem/__results___files/__results___28_1.png\n",
      "/kaggle/working/__notebook__.ipynb\n"
     ]
    }
   ],
   "source": [
    "for dirname, _, filenames in os.walk('/kaggle'):\n",
    "    for filename in filenames:\n",
    "        print(os.path.join(dirname, filename))"
   ]
  },
  {
   "cell_type": "code",
   "execution_count": 3,
   "metadata": {
    "execution": {
     "iopub.execute_input": "2020-08-25T07:06:14.688560Z",
     "iopub.status.busy": "2020-08-25T07:06:14.687943Z",
     "iopub.status.idle": "2020-08-25T07:06:16.760916Z",
     "shell.execute_reply": "2020-08-25T07:06:16.760166Z"
    },
    "papermill": {
     "duration": 2.099426,
     "end_time": "2020-08-25T07:06:16.761040",
     "exception": false,
     "start_time": "2020-08-25T07:06:14.661614",
     "status": "completed"
    },
    "tags": []
   },
   "outputs": [],
   "source": [
    "# Save requirements\n",
    "!pip freeze > requirements.txt"
   ]
  },
  {
   "cell_type": "code",
   "execution_count": 4,
   "metadata": {
    "execution": {
     "iopub.execute_input": "2020-08-25T07:06:16.802847Z",
     "iopub.status.busy": "2020-08-25T07:06:16.801920Z",
     "iopub.status.idle": "2020-08-25T07:06:16.805084Z",
     "shell.execute_reply": "2020-08-25T07:06:16.805898Z"
    },
    "papermill": {
     "duration": 0.026627,
     "end_time": "2020-08-25T07:06:16.806066",
     "exception": false,
     "start_time": "2020-08-25T07:06:16.779439",
     "status": "completed"
    },
    "tags": []
   },
   "outputs": [],
   "source": [
    "# G L O B A L   C O N S T A N T S\n",
    "# Random seed\n",
    "RANDOM_SEED = 42\n",
    "# Suffix for features with power of -1\n",
    "MINUS_ONE_SUFFIX = '_1'\n",
    "# Suffix for duplicated features in various feature category\n",
    "DUPLICATE_SUFFIX = '_dup'\n",
    "# Target feature\n",
    "TARGET = 'default'\n",
    "# ID feature\n",
    "IDENT = 'client_id'\n",
    "# Feature to separate train and test data\n",
    "TRAIN = 'TRAIN'\n",
    "# Data, kernel and working paths\n",
    "PATH_DATA = '/kaggle/input/sf-dst-scoring/'\n",
    "PATH_KERNEL = '/kaggle/input/credit-scoring-problem/'\n",
    "PATH_WORKING = '/kaggle/working/'"
   ]
  },
  {
   "cell_type": "markdown",
   "execution_count": null,
   "metadata": {
    "papermill": {
     "duration": 0.022106,
     "end_time": "2020-08-25T07:06:16.850859",
     "exception": false,
     "start_time": "2020-08-25T07:06:16.828753",
     "status": "completed"
    },
    "tags": []
   },
   "source": [
    "# Data preparing\n",
    "## Collecting and formating"
   ]
  },
  {
   "cell_type": "code",
   "execution_count": 5,
   "metadata": {
    "execution": {
     "iopub.execute_input": "2020-08-25T07:06:16.909881Z",
     "iopub.status.busy": "2020-08-25T07:06:16.909000Z",
     "iopub.status.idle": "2020-08-25T07:06:16.912918Z",
     "shell.execute_reply": "2020-08-25T07:06:16.912239Z"
    },
    "papermill": {
     "duration": 0.040015,
     "end_time": "2020-08-25T07:06:16.913029",
     "exception": false,
     "start_time": "2020-08-25T07:06:16.873014",
     "status": "completed"
    },
    "tags": []
   },
   "outputs": [],
   "source": [
    "def collect_data():\n",
    "    \"\"\"Read train and test datasets and join them\"\"\"\n",
    "    # Datasets reading\n",
    "    df_train = pd.read_csv(PATH_DATA+'train.csv')\n",
    "    df_test = pd.read_csv(PATH_DATA+'test.csv')\n",
    "    sample_submission = pd.read_csv(PATH_DATA+'sample_submission.csv')\n",
    "\n",
    "    # Join train and test datasets\n",
    "    df_train[TRAIN] = 1 # Train flag = 1\n",
    "    df_test[TRAIN] = 0 # Train flag = 0\n",
    "    df_test[TARGET] = 0 # Fill target variable of the test dataset with zeros\n",
    "    df_join = df_train.append(df_test, ignore_index=True) # Join\n",
    "    \n",
    "    return (df_join, sample_submission)\n",
    "\n",
    "\n",
    "def check_features_format(df):\n",
    "    \"\"\"Check format of dataframe features\"\"\"\n",
    "    # Features to check\n",
    "    cols_regex = {\n",
    "        'app_date': '\\d{2}[A-Z]{3}\\d{4}',\n",
    "    }\n",
    "\n",
    "    # Check and print result\n",
    "    for column, regex in cols_regex.items():\n",
    "        a = df[column].str.match(regex).sum()\n",
    "        b = df[column].count()\n",
    "        print(f\"'{column}' feature matches the regex format '{regex}' for {a} of {b} rows\")\n",
    "\n",
    "\n",
    "def format_edu(value):\n",
    "    \"\"\"Convert 'education' feature values to numbers\"\"\"\n",
    "    if value == '':\n",
    "        return np.nan\n",
    "    return {'SCH': 1, 'UGR': 2, 'GRD': 3, 'PGR': 4, 'ACD': 5}[value]\n",
    "\n",
    "\n",
    "def format_features(df):\n",
    "    \"\"\"Format dataset\"\"\"\n",
    "    df['app_date'] = pd.to_datetime(df['app_date'], format='%d%b%Y')\n",
    "    df['app_date'] =  (df['app_date'] - df['app_date'].min()).dt.days\n",
    "    df['region_rating'] =  (df['region_rating'] // 10) - 1"
   ]
  },
  {
   "cell_type": "markdown",
   "execution_count": null,
   "metadata": {
    "papermill": {
     "duration": 0.013656,
     "end_time": "2020-08-25T07:06:16.940893",
     "exception": false,
     "start_time": "2020-08-25T07:06:16.927237",
     "status": "completed"
    },
    "tags": []
   },
   "source": [
    "## Feature engineering"
   ]
  },
  {
   "cell_type": "code",
   "execution_count": 6,
   "metadata": {
    "execution": {
     "iopub.execute_input": "2020-08-25T07:06:16.986894Z",
     "iopub.status.busy": "2020-08-25T07:06:16.982305Z",
     "iopub.status.idle": "2020-08-25T07:06:16.989897Z",
     "shell.execute_reply": "2020-08-25T07:06:16.990419Z"
    },
    "papermill": {
     "duration": 0.0358,
     "end_time": "2020-08-25T07:06:16.990552",
     "exception": false,
     "start_time": "2020-08-25T07:06:16.954752",
     "status": "completed"
    },
    "tags": []
   },
   "outputs": [],
   "source": [
    "def create_new_features(df):\n",
    "    # Create binary features for NaN's\n",
    "    df['education_NaN'] = df['education'].isna().astype('uint8')\n",
    "    \n",
    "    # Create duplicate of categorical columns for either ordinal and/or quantity features\n",
    "    df['education'+DUPLICATE_SUFFIX] = df['education'].apply(lambda x: format_edu(x) if x is not np.nan else np.nan)\n",
    "    df['first_time'+DUPLICATE_SUFFIX] = df['first_time']\n",
    "    df['home_address'+DUPLICATE_SUFFIX] = df['home_address']\n",
    "    df['region_rating'+DUPLICATE_SUFFIX] = df['region_rating']\n",
    "    df['region_rating'+DUPLICATE_SUFFIX+DUPLICATE_SUFFIX] = df['region_rating']\n",
    "    df['sna'+DUPLICATE_SUFFIX] = df['sna']\n",
    "    df['work_address'+DUPLICATE_SUFFIX] = df['work_address']\n",
    "\n",
    "    # Create -1 degree quantity features\n",
    "    df['age'+MINUS_ONE_SUFFIX] = 1 / (df['age'] - df['age'].min() + abs(df['age'].mean()) + 1)\n",
    "    df['client_id'+MINUS_ONE_SUFFIX] = 1 / (df['client_id'] - df['client_id'].min() + abs(df['client_id'].mean()) + 1)\n",
    "    df['income'+MINUS_ONE_SUFFIX] = 1 / (df['income'] - df['income'].min() + abs(df['income'].mean()) + 1)\n",
    "    df['score_bki'+MINUS_ONE_SUFFIX] = 1 / (df['score_bki'].max() - df['score_bki'] + abs(df['score_bki'].mean()) + 1)\n",
    "    df['decline_app_cnt'+MINUS_ONE_SUFFIX] = 1 / (df['decline_app_cnt'] - df['decline_app_cnt'].min() + abs(df['decline_app_cnt'].mean()) + 1)\n",
    "    df['bki_request_cnt'+MINUS_ONE_SUFFIX] = 1 / (df['bki_request_cnt'] - df['bki_request_cnt'].min() + abs(df['bki_request_cnt'].mean()) + 1)\n",
    "    df['app_date'+MINUS_ONE_SUFFIX] = 1 / (df['app_date'] - df['app_date'].min() + abs(df['app_date'].mean()) + 1)\n",
    "    df['region_rating'+DUPLICATE_SUFFIX+DUPLICATE_SUFFIX+MINUS_ONE_SUFFIX] = 1 / (df['region_rating'] - df['region_rating'].min() + abs(df['region_rating'].mean()) + 1)\n",
    "    \n",
    "    # Create categorical and ordinal feature of decline_app_cnt\n",
    "    df['decline_app_cnt'+DUPLICATE_SUFFIX] = df['decline_app_cnt']\n",
    "    df.loc[df['decline_app_cnt'+DUPLICATE_SUFFIX] > 2, 'decline_app_cnt'+DUPLICATE_SUFFIX] = 2\n",
    "    df['decline_app_cnt'+DUPLICATE_SUFFIX+DUPLICATE_SUFFIX] = df['decline_app_cnt'+DUPLICATE_SUFFIX]"
   ]
  },
  {
   "cell_type": "markdown",
   "execution_count": null,
   "metadata": {
    "papermill": {
     "duration": 0.014111,
     "end_time": "2020-08-25T07:06:17.018981",
     "exception": false,
     "start_time": "2020-08-25T07:06:17.004870",
     "status": "completed"
    },
    "tags": []
   },
   "source": [
    "## Receiving of general information"
   ]
  },
  {
   "cell_type": "code",
   "execution_count": 7,
   "metadata": {
    "execution": {
     "iopub.execute_input": "2020-08-25T07:06:17.054510Z",
     "iopub.status.busy": "2020-08-25T07:06:17.053628Z",
     "iopub.status.idle": "2020-08-25T07:06:17.648057Z",
     "shell.execute_reply": "2020-08-25T07:06:17.647496Z"
    },
    "papermill": {
     "duration": 0.615029,
     "end_time": "2020-08-25T07:06:17.648170",
     "exception": false,
     "start_time": "2020-08-25T07:06:17.033141",
     "status": "completed"
    },
    "tags": []
   },
   "outputs": [
    {
     "name": "stdout",
     "output_type": "stream",
     "text": [
      "'app_date' feature matches the regex format '\\d{2}[A-Z]{3}\\d{4}' for 110148 of 110148 rows\n"
     ]
    }
   ],
   "source": [
    "df_join, sample_submission = collect_data()\n",
    "check_features_format(df_join)\n",
    "format_features(df_join)\n",
    "create_new_features(df_join)"
   ]
  },
  {
   "cell_type": "markdown",
   "execution_count": null,
   "metadata": {
    "papermill": {
     "duration": 0.013942,
     "end_time": "2020-08-25T07:06:17.676798",
     "exception": false,
     "start_time": "2020-08-25T07:06:17.662856",
     "status": "completed"
    },
    "tags": []
   },
   "source": [
    "**Show general information of datasets**"
   ]
  },
  {
   "cell_type": "code",
   "execution_count": 8,
   "metadata": {
    "execution": {
     "iopub.execute_input": "2020-08-25T07:06:17.712925Z",
     "iopub.status.busy": "2020-08-25T07:06:17.711208Z",
     "iopub.status.idle": "2020-08-25T07:06:17.766452Z",
     "shell.execute_reply": "2020-08-25T07:06:17.767204Z"
    },
    "papermill": {
     "duration": 0.076353,
     "end_time": "2020-08-25T07:06:17.767419",
     "exception": false,
     "start_time": "2020-08-25T07:06:17.691066",
     "status": "completed"
    },
    "tags": []
   },
   "outputs": [
    {
     "data": {
      "text/html": [
       "<div>\n",
       "<style scoped>\n",
       "    .dataframe tbody tr th:only-of-type {\n",
       "        vertical-align: middle;\n",
       "    }\n",
       "\n",
       "    .dataframe tbody tr th {\n",
       "        vertical-align: top;\n",
       "    }\n",
       "\n",
       "    .dataframe thead th {\n",
       "        text-align: right;\n",
       "    }\n",
       "</style>\n",
       "<table border=\"1\" class=\"dataframe\">\n",
       "  <thead>\n",
       "    <tr style=\"text-align: right;\">\n",
       "      <th></th>\n",
       "      <th>client_id</th>\n",
       "      <th>app_date</th>\n",
       "      <th>education</th>\n",
       "      <th>sex</th>\n",
       "      <th>age</th>\n",
       "      <th>car</th>\n",
       "      <th>car_type</th>\n",
       "      <th>decline_app_cnt</th>\n",
       "      <th>good_work</th>\n",
       "      <th>score_bki</th>\n",
       "      <th>...</th>\n",
       "      <th>age_1</th>\n",
       "      <th>client_id_1</th>\n",
       "      <th>income_1</th>\n",
       "      <th>score_bki_1</th>\n",
       "      <th>decline_app_cnt_1</th>\n",
       "      <th>bki_request_cnt_1</th>\n",
       "      <th>app_date_1</th>\n",
       "      <th>region_rating_dup_dup_1</th>\n",
       "      <th>decline_app_cnt_dup</th>\n",
       "      <th>decline_app_cnt_dup_dup</th>\n",
       "    </tr>\n",
       "  </thead>\n",
       "  <tbody>\n",
       "    <tr>\n",
       "      <th>0</th>\n",
       "      <td>25905</td>\n",
       "      <td>31</td>\n",
       "      <td>SCH</td>\n",
       "      <td>M</td>\n",
       "      <td>62</td>\n",
       "      <td>Y</td>\n",
       "      <td>Y</td>\n",
       "      <td>0</td>\n",
       "      <td>0</td>\n",
       "      <td>-2.008753</td>\n",
       "      <td>...</td>\n",
       "      <td>0.012308</td>\n",
       "      <td>0.000012</td>\n",
       "      <td>0.000017</td>\n",
       "      <td>0.195578</td>\n",
       "      <td>0.785419</td>\n",
       "      <td>0.249688</td>\n",
       "      <td>0.010756</td>\n",
       "      <td>0.115272</td>\n",
       "      <td>0</td>\n",
       "      <td>0</td>\n",
       "    </tr>\n",
       "    <tr>\n",
       "      <th>1</th>\n",
       "      <td>63161</td>\n",
       "      <td>70</td>\n",
       "      <td>SCH</td>\n",
       "      <td>F</td>\n",
       "      <td>59</td>\n",
       "      <td>N</td>\n",
       "      <td>N</td>\n",
       "      <td>0</td>\n",
       "      <td>0</td>\n",
       "      <td>-1.532276</td>\n",
       "      <td>...</td>\n",
       "      <td>0.012780</td>\n",
       "      <td>0.000008</td>\n",
       "      <td>0.000017</td>\n",
       "      <td>0.215676</td>\n",
       "      <td>0.785419</td>\n",
       "      <td>0.166528</td>\n",
       "      <td>0.007577</td>\n",
       "      <td>0.115272</td>\n",
       "      <td>0</td>\n",
       "      <td>0</td>\n",
       "    </tr>\n",
       "    <tr>\n",
       "      <th>2</th>\n",
       "      <td>25887</td>\n",
       "      <td>31</td>\n",
       "      <td>SCH</td>\n",
       "      <td>M</td>\n",
       "      <td>25</td>\n",
       "      <td>Y</td>\n",
       "      <td>N</td>\n",
       "      <td>2</td>\n",
       "      <td>0</td>\n",
       "      <td>-1.408142</td>\n",
       "      <td>...</td>\n",
       "      <td>0.022599</td>\n",
       "      <td>0.000012</td>\n",
       "      <td>0.000014</td>\n",
       "      <td>0.221609</td>\n",
       "      <td>0.305511</td>\n",
       "      <td>0.249688</td>\n",
       "      <td>0.010756</td>\n",
       "      <td>0.085652</td>\n",
       "      <td>2</td>\n",
       "      <td>2</td>\n",
       "    </tr>\n",
       "    <tr>\n",
       "      <th>3</th>\n",
       "      <td>16222</td>\n",
       "      <td>22</td>\n",
       "      <td>SCH</td>\n",
       "      <td>F</td>\n",
       "      <td>53</td>\n",
       "      <td>N</td>\n",
       "      <td>N</td>\n",
       "      <td>0</td>\n",
       "      <td>0</td>\n",
       "      <td>-2.057471</td>\n",
       "      <td>...</td>\n",
       "      <td>0.013841</td>\n",
       "      <td>0.000014</td>\n",
       "      <td>0.000020</td>\n",
       "      <td>0.193732</td>\n",
       "      <td>0.785419</td>\n",
       "      <td>0.199800</td>\n",
       "      <td>0.011909</td>\n",
       "      <td>0.115272</td>\n",
       "      <td>0</td>\n",
       "      <td>0</td>\n",
       "    </tr>\n",
       "    <tr>\n",
       "      <th>4</th>\n",
       "      <td>101655</td>\n",
       "      <td>107</td>\n",
       "      <td>GRD</td>\n",
       "      <td>M</td>\n",
       "      <td>48</td>\n",
       "      <td>N</td>\n",
       "      <td>N</td>\n",
       "      <td>0</td>\n",
       "      <td>1</td>\n",
       "      <td>-1.244723</td>\n",
       "      <td>...</td>\n",
       "      <td>0.014870</td>\n",
       "      <td>0.000006</td>\n",
       "      <td>0.000014</td>\n",
       "      <td>0.229936</td>\n",
       "      <td>0.785419</td>\n",
       "      <td>0.249688</td>\n",
       "      <td>0.005918</td>\n",
       "      <td>0.103358</td>\n",
       "      <td>0</td>\n",
       "      <td>0</td>\n",
       "    </tr>\n",
       "  </tbody>\n",
       "</table>\n",
       "<p>5 rows × 38 columns</p>\n",
       "</div>"
      ],
      "text/plain": [
       "   client_id  app_date education sex  age car car_type  decline_app_cnt  \\\n",
       "0      25905        31       SCH   M   62   Y        Y                0   \n",
       "1      63161        70       SCH   F   59   N        N                0   \n",
       "2      25887        31       SCH   M   25   Y        N                2   \n",
       "3      16222        22       SCH   F   53   N        N                0   \n",
       "4     101655       107       GRD   M   48   N        N                0   \n",
       "\n",
       "   good_work  score_bki  ...     age_1  client_id_1  income_1  score_bki_1  \\\n",
       "0          0  -2.008753  ...  0.012308     0.000012  0.000017     0.195578   \n",
       "1          0  -1.532276  ...  0.012780     0.000008  0.000017     0.215676   \n",
       "2          0  -1.408142  ...  0.022599     0.000012  0.000014     0.221609   \n",
       "3          0  -2.057471  ...  0.013841     0.000014  0.000020     0.193732   \n",
       "4          1  -1.244723  ...  0.014870     0.000006  0.000014     0.229936   \n",
       "\n",
       "   decline_app_cnt_1  bki_request_cnt_1  app_date_1 region_rating_dup_dup_1  \\\n",
       "0           0.785419           0.249688    0.010756                0.115272   \n",
       "1           0.785419           0.166528    0.007577                0.115272   \n",
       "2           0.305511           0.249688    0.010756                0.085652   \n",
       "3           0.785419           0.199800    0.011909                0.115272   \n",
       "4           0.785419           0.249688    0.005918                0.103358   \n",
       "\n",
       "   decline_app_cnt_dup  decline_app_cnt_dup_dup  \n",
       "0                    0                        0  \n",
       "1                    0                        0  \n",
       "2                    2                        2  \n",
       "3                    0                        0  \n",
       "4                    0                        0  \n",
       "\n",
       "[5 rows x 38 columns]"
      ]
     },
     "execution_count": 8,
     "metadata": {},
     "output_type": "execute_result"
    }
   ],
   "source": [
    "df_join.loc[df_join[TRAIN] == 1].head()"
   ]
  },
  {
   "cell_type": "code",
   "execution_count": 9,
   "metadata": {
    "execution": {
     "iopub.execute_input": "2020-08-25T07:06:17.820918Z",
     "iopub.status.busy": "2020-08-25T07:06:17.819740Z",
     "iopub.status.idle": "2020-08-25T07:06:17.853961Z",
     "shell.execute_reply": "2020-08-25T07:06:17.853142Z"
    },
    "papermill": {
     "duration": 0.062854,
     "end_time": "2020-08-25T07:06:17.854119",
     "exception": false,
     "start_time": "2020-08-25T07:06:17.791265",
     "status": "completed"
    },
    "tags": []
   },
   "outputs": [
    {
     "data": {
      "text/html": [
       "<div>\n",
       "<style scoped>\n",
       "    .dataframe tbody tr th:only-of-type {\n",
       "        vertical-align: middle;\n",
       "    }\n",
       "\n",
       "    .dataframe tbody tr th {\n",
       "        vertical-align: top;\n",
       "    }\n",
       "\n",
       "    .dataframe thead th {\n",
       "        text-align: right;\n",
       "    }\n",
       "</style>\n",
       "<table border=\"1\" class=\"dataframe\">\n",
       "  <thead>\n",
       "    <tr style=\"text-align: right;\">\n",
       "      <th></th>\n",
       "      <th>client_id</th>\n",
       "      <th>app_date</th>\n",
       "      <th>education</th>\n",
       "      <th>sex</th>\n",
       "      <th>age</th>\n",
       "      <th>car</th>\n",
       "      <th>car_type</th>\n",
       "      <th>decline_app_cnt</th>\n",
       "      <th>good_work</th>\n",
       "      <th>score_bki</th>\n",
       "      <th>...</th>\n",
       "      <th>age_1</th>\n",
       "      <th>client_id_1</th>\n",
       "      <th>income_1</th>\n",
       "      <th>score_bki_1</th>\n",
       "      <th>decline_app_cnt_1</th>\n",
       "      <th>bki_request_cnt_1</th>\n",
       "      <th>app_date_1</th>\n",
       "      <th>region_rating_dup_dup_1</th>\n",
       "      <th>decline_app_cnt_dup</th>\n",
       "      <th>decline_app_cnt_dup_dup</th>\n",
       "    </tr>\n",
       "  </thead>\n",
       "  <tbody>\n",
       "    <tr>\n",
       "      <th>73799</th>\n",
       "      <td>74835</td>\n",
       "      <td>80</td>\n",
       "      <td>GRD</td>\n",
       "      <td>M</td>\n",
       "      <td>29</td>\n",
       "      <td>Y</td>\n",
       "      <td>Y</td>\n",
       "      <td>0</td>\n",
       "      <td>0</td>\n",
       "      <td>-2.271884</td>\n",
       "      <td>...</td>\n",
       "      <td>0.020726</td>\n",
       "      <td>0.000008</td>\n",
       "      <td>0.000011</td>\n",
       "      <td>0.186005</td>\n",
       "      <td>0.785419</td>\n",
       "      <td>0.166528</td>\n",
       "      <td>0.007044</td>\n",
       "      <td>0.115272</td>\n",
       "      <td>0</td>\n",
       "      <td>0</td>\n",
       "    </tr>\n",
       "    <tr>\n",
       "      <th>73800</th>\n",
       "      <td>17527</td>\n",
       "      <td>23</td>\n",
       "      <td>SCH</td>\n",
       "      <td>F</td>\n",
       "      <td>39</td>\n",
       "      <td>N</td>\n",
       "      <td>N</td>\n",
       "      <td>5</td>\n",
       "      <td>0</td>\n",
       "      <td>-1.504999</td>\n",
       "      <td>...</td>\n",
       "      <td>0.017168</td>\n",
       "      <td>0.000014</td>\n",
       "      <td>0.000022</td>\n",
       "      <td>0.216952</td>\n",
       "      <td>0.159408</td>\n",
       "      <td>0.199800</td>\n",
       "      <td>0.011769</td>\n",
       "      <td>0.115272</td>\n",
       "      <td>2</td>\n",
       "      <td>2</td>\n",
       "    </tr>\n",
       "    <tr>\n",
       "      <th>73801</th>\n",
       "      <td>75683</td>\n",
       "      <td>81</td>\n",
       "      <td>UGR</td>\n",
       "      <td>M</td>\n",
       "      <td>50</td>\n",
       "      <td>Y</td>\n",
       "      <td>Y</td>\n",
       "      <td>0</td>\n",
       "      <td>0</td>\n",
       "      <td>-1.691339</td>\n",
       "      <td>...</td>\n",
       "      <td>0.014441</td>\n",
       "      <td>0.000008</td>\n",
       "      <td>0.000014</td>\n",
       "      <td>0.208522</td>\n",
       "      <td>0.785419</td>\n",
       "      <td>0.249688</td>\n",
       "      <td>0.006994</td>\n",
       "      <td>0.115272</td>\n",
       "      <td>0</td>\n",
       "      <td>0</td>\n",
       "    </tr>\n",
       "    <tr>\n",
       "      <th>73802</th>\n",
       "      <td>26883</td>\n",
       "      <td>33</td>\n",
       "      <td>SCH</td>\n",
       "      <td>M</td>\n",
       "      <td>56</td>\n",
       "      <td>N</td>\n",
       "      <td>N</td>\n",
       "      <td>0</td>\n",
       "      <td>0</td>\n",
       "      <td>-2.374182</td>\n",
       "      <td>...</td>\n",
       "      <td>0.013289</td>\n",
       "      <td>0.000012</td>\n",
       "      <td>0.000018</td>\n",
       "      <td>0.182532</td>\n",
       "      <td>0.785419</td>\n",
       "      <td>0.249688</td>\n",
       "      <td>0.010529</td>\n",
       "      <td>0.130291</td>\n",
       "      <td>0</td>\n",
       "      <td>0</td>\n",
       "    </tr>\n",
       "    <tr>\n",
       "      <th>73803</th>\n",
       "      <td>28862</td>\n",
       "      <td>34</td>\n",
       "      <td>GRD</td>\n",
       "      <td>F</td>\n",
       "      <td>38</td>\n",
       "      <td>N</td>\n",
       "      <td>N</td>\n",
       "      <td>0</td>\n",
       "      <td>0</td>\n",
       "      <td>-2.487502</td>\n",
       "      <td>...</td>\n",
       "      <td>0.017467</td>\n",
       "      <td>0.000012</td>\n",
       "      <td>0.000006</td>\n",
       "      <td>0.178833</td>\n",
       "      <td>0.785419</td>\n",
       "      <td>0.332778</td>\n",
       "      <td>0.010420</td>\n",
       "      <td>0.085652</td>\n",
       "      <td>0</td>\n",
       "      <td>0</td>\n",
       "    </tr>\n",
       "  </tbody>\n",
       "</table>\n",
       "<p>5 rows × 38 columns</p>\n",
       "</div>"
      ],
      "text/plain": [
       "       client_id  app_date education sex  age car car_type  decline_app_cnt  \\\n",
       "73799      74835        80       GRD   M   29   Y        Y                0   \n",
       "73800      17527        23       SCH   F   39   N        N                5   \n",
       "73801      75683        81       UGR   M   50   Y        Y                0   \n",
       "73802      26883        33       SCH   M   56   N        N                0   \n",
       "73803      28862        34       GRD   F   38   N        N                0   \n",
       "\n",
       "       good_work  score_bki  ...     age_1  client_id_1  income_1  \\\n",
       "73799          0  -2.271884  ...  0.020726     0.000008  0.000011   \n",
       "73800          0  -1.504999  ...  0.017168     0.000014  0.000022   \n",
       "73801          0  -1.691339  ...  0.014441     0.000008  0.000014   \n",
       "73802          0  -2.374182  ...  0.013289     0.000012  0.000018   \n",
       "73803          0  -2.487502  ...  0.017467     0.000012  0.000006   \n",
       "\n",
       "       score_bki_1  decline_app_cnt_1  bki_request_cnt_1  app_date_1  \\\n",
       "73799     0.186005           0.785419           0.166528    0.007044   \n",
       "73800     0.216952           0.159408           0.199800    0.011769   \n",
       "73801     0.208522           0.785419           0.249688    0.006994   \n",
       "73802     0.182532           0.785419           0.249688    0.010529   \n",
       "73803     0.178833           0.785419           0.332778    0.010420   \n",
       "\n",
       "      region_rating_dup_dup_1  decline_app_cnt_dup  decline_app_cnt_dup_dup  \n",
       "73799                0.115272                    0                        0  \n",
       "73800                0.115272                    2                        2  \n",
       "73801                0.115272                    0                        0  \n",
       "73802                0.130291                    0                        0  \n",
       "73803                0.085652                    0                        0  \n",
       "\n",
       "[5 rows x 38 columns]"
      ]
     },
     "execution_count": 9,
     "metadata": {},
     "output_type": "execute_result"
    }
   ],
   "source": [
    "df_join.loc[df_join[TRAIN] == 0].head()"
   ]
  },
  {
   "cell_type": "code",
   "execution_count": 10,
   "metadata": {
    "execution": {
     "iopub.execute_input": "2020-08-25T07:06:17.928930Z",
     "iopub.status.busy": "2020-08-25T07:06:17.917474Z",
     "iopub.status.idle": "2020-08-25T07:06:17.935288Z",
     "shell.execute_reply": "2020-08-25T07:06:17.934621Z"
    },
    "papermill": {
     "duration": 0.056695,
     "end_time": "2020-08-25T07:06:17.935447",
     "exception": false,
     "start_time": "2020-08-25T07:06:17.878752",
     "status": "completed"
    },
    "tags": []
   },
   "outputs": [
    {
     "data": {
      "text/html": [
       "<div>\n",
       "<style scoped>\n",
       "    .dataframe tbody tr th:only-of-type {\n",
       "        vertical-align: middle;\n",
       "    }\n",
       "\n",
       "    .dataframe tbody tr th {\n",
       "        vertical-align: top;\n",
       "    }\n",
       "\n",
       "    .dataframe thead th {\n",
       "        text-align: right;\n",
       "    }\n",
       "</style>\n",
       "<table border=\"1\" class=\"dataframe\">\n",
       "  <thead>\n",
       "    <tr style=\"text-align: right;\">\n",
       "      <th></th>\n",
       "      <th>client_id</th>\n",
       "      <th>app_date</th>\n",
       "      <th>education</th>\n",
       "      <th>sex</th>\n",
       "      <th>age</th>\n",
       "      <th>car</th>\n",
       "      <th>car_type</th>\n",
       "      <th>decline_app_cnt</th>\n",
       "      <th>good_work</th>\n",
       "      <th>score_bki</th>\n",
       "      <th>...</th>\n",
       "      <th>age_1</th>\n",
       "      <th>client_id_1</th>\n",
       "      <th>income_1</th>\n",
       "      <th>score_bki_1</th>\n",
       "      <th>decline_app_cnt_1</th>\n",
       "      <th>bki_request_cnt_1</th>\n",
       "      <th>app_date_1</th>\n",
       "      <th>region_rating_dup_dup_1</th>\n",
       "      <th>decline_app_cnt_dup</th>\n",
       "      <th>decline_app_cnt_dup_dup</th>\n",
       "    </tr>\n",
       "  </thead>\n",
       "  <tbody>\n",
       "    <tr>\n",
       "      <th>0</th>\n",
       "      <td>25905</td>\n",
       "      <td>31</td>\n",
       "      <td>SCH</td>\n",
       "      <td>M</td>\n",
       "      <td>62</td>\n",
       "      <td>Y</td>\n",
       "      <td>Y</td>\n",
       "      <td>0</td>\n",
       "      <td>0</td>\n",
       "      <td>-2.008753</td>\n",
       "      <td>...</td>\n",
       "      <td>0.012308</td>\n",
       "      <td>0.000012</td>\n",
       "      <td>0.000017</td>\n",
       "      <td>0.195578</td>\n",
       "      <td>0.785419</td>\n",
       "      <td>0.249688</td>\n",
       "      <td>0.010756</td>\n",
       "      <td>0.115272</td>\n",
       "      <td>0</td>\n",
       "      <td>0</td>\n",
       "    </tr>\n",
       "    <tr>\n",
       "      <th>1</th>\n",
       "      <td>63161</td>\n",
       "      <td>70</td>\n",
       "      <td>SCH</td>\n",
       "      <td>F</td>\n",
       "      <td>59</td>\n",
       "      <td>N</td>\n",
       "      <td>N</td>\n",
       "      <td>0</td>\n",
       "      <td>0</td>\n",
       "      <td>-1.532276</td>\n",
       "      <td>...</td>\n",
       "      <td>0.012780</td>\n",
       "      <td>0.000008</td>\n",
       "      <td>0.000017</td>\n",
       "      <td>0.215676</td>\n",
       "      <td>0.785419</td>\n",
       "      <td>0.166528</td>\n",
       "      <td>0.007577</td>\n",
       "      <td>0.115272</td>\n",
       "      <td>0</td>\n",
       "      <td>0</td>\n",
       "    </tr>\n",
       "    <tr>\n",
       "      <th>2</th>\n",
       "      <td>25887</td>\n",
       "      <td>31</td>\n",
       "      <td>SCH</td>\n",
       "      <td>M</td>\n",
       "      <td>25</td>\n",
       "      <td>Y</td>\n",
       "      <td>N</td>\n",
       "      <td>2</td>\n",
       "      <td>0</td>\n",
       "      <td>-1.408142</td>\n",
       "      <td>...</td>\n",
       "      <td>0.022599</td>\n",
       "      <td>0.000012</td>\n",
       "      <td>0.000014</td>\n",
       "      <td>0.221609</td>\n",
       "      <td>0.305511</td>\n",
       "      <td>0.249688</td>\n",
       "      <td>0.010756</td>\n",
       "      <td>0.085652</td>\n",
       "      <td>2</td>\n",
       "      <td>2</td>\n",
       "    </tr>\n",
       "    <tr>\n",
       "      <th>3</th>\n",
       "      <td>16222</td>\n",
       "      <td>22</td>\n",
       "      <td>SCH</td>\n",
       "      <td>F</td>\n",
       "      <td>53</td>\n",
       "      <td>N</td>\n",
       "      <td>N</td>\n",
       "      <td>0</td>\n",
       "      <td>0</td>\n",
       "      <td>-2.057471</td>\n",
       "      <td>...</td>\n",
       "      <td>0.013841</td>\n",
       "      <td>0.000014</td>\n",
       "      <td>0.000020</td>\n",
       "      <td>0.193732</td>\n",
       "      <td>0.785419</td>\n",
       "      <td>0.199800</td>\n",
       "      <td>0.011909</td>\n",
       "      <td>0.115272</td>\n",
       "      <td>0</td>\n",
       "      <td>0</td>\n",
       "    </tr>\n",
       "    <tr>\n",
       "      <th>4</th>\n",
       "      <td>101655</td>\n",
       "      <td>107</td>\n",
       "      <td>GRD</td>\n",
       "      <td>M</td>\n",
       "      <td>48</td>\n",
       "      <td>N</td>\n",
       "      <td>N</td>\n",
       "      <td>0</td>\n",
       "      <td>1</td>\n",
       "      <td>-1.244723</td>\n",
       "      <td>...</td>\n",
       "      <td>0.014870</td>\n",
       "      <td>0.000006</td>\n",
       "      <td>0.000014</td>\n",
       "      <td>0.229936</td>\n",
       "      <td>0.785419</td>\n",
       "      <td>0.249688</td>\n",
       "      <td>0.005918</td>\n",
       "      <td>0.103358</td>\n",
       "      <td>0</td>\n",
       "      <td>0</td>\n",
       "    </tr>\n",
       "  </tbody>\n",
       "</table>\n",
       "<p>5 rows × 38 columns</p>\n",
       "</div>"
      ],
      "text/plain": [
       "   client_id  app_date education sex  age car car_type  decline_app_cnt  \\\n",
       "0      25905        31       SCH   M   62   Y        Y                0   \n",
       "1      63161        70       SCH   F   59   N        N                0   \n",
       "2      25887        31       SCH   M   25   Y        N                2   \n",
       "3      16222        22       SCH   F   53   N        N                0   \n",
       "4     101655       107       GRD   M   48   N        N                0   \n",
       "\n",
       "   good_work  score_bki  ...     age_1  client_id_1  income_1  score_bki_1  \\\n",
       "0          0  -2.008753  ...  0.012308     0.000012  0.000017     0.195578   \n",
       "1          0  -1.532276  ...  0.012780     0.000008  0.000017     0.215676   \n",
       "2          0  -1.408142  ...  0.022599     0.000012  0.000014     0.221609   \n",
       "3          0  -2.057471  ...  0.013841     0.000014  0.000020     0.193732   \n",
       "4          1  -1.244723  ...  0.014870     0.000006  0.000014     0.229936   \n",
       "\n",
       "   decline_app_cnt_1  bki_request_cnt_1  app_date_1 region_rating_dup_dup_1  \\\n",
       "0           0.785419           0.249688    0.010756                0.115272   \n",
       "1           0.785419           0.166528    0.007577                0.115272   \n",
       "2           0.305511           0.249688    0.010756                0.085652   \n",
       "3           0.785419           0.199800    0.011909                0.115272   \n",
       "4           0.785419           0.249688    0.005918                0.103358   \n",
       "\n",
       "   decline_app_cnt_dup  decline_app_cnt_dup_dup  \n",
       "0                    0                        0  \n",
       "1                    0                        0  \n",
       "2                    2                        2  \n",
       "3                    0                        0  \n",
       "4                    0                        0  \n",
       "\n",
       "[5 rows x 38 columns]"
      ]
     },
     "execution_count": 10,
     "metadata": {},
     "output_type": "execute_result"
    }
   ],
   "source": [
    "df_join.head()"
   ]
  },
  {
   "cell_type": "code",
   "execution_count": 11,
   "metadata": {
    "execution": {
     "iopub.execute_input": "2020-08-25T07:06:17.980695Z",
     "iopub.status.busy": "2020-08-25T07:06:17.979692Z",
     "iopub.status.idle": "2020-08-25T07:06:17.985063Z",
     "shell.execute_reply": "2020-08-25T07:06:17.985604Z"
    },
    "papermill": {
     "duration": 0.032731,
     "end_time": "2020-08-25T07:06:17.985763",
     "exception": false,
     "start_time": "2020-08-25T07:06:17.953032",
     "status": "completed"
    },
    "tags": []
   },
   "outputs": [
    {
     "data": {
      "text/html": [
       "<div>\n",
       "<style scoped>\n",
       "    .dataframe tbody tr th:only-of-type {\n",
       "        vertical-align: middle;\n",
       "    }\n",
       "\n",
       "    .dataframe tbody tr th {\n",
       "        vertical-align: top;\n",
       "    }\n",
       "\n",
       "    .dataframe thead th {\n",
       "        text-align: right;\n",
       "    }\n",
       "</style>\n",
       "<table border=\"1\" class=\"dataframe\">\n",
       "  <thead>\n",
       "    <tr style=\"text-align: right;\">\n",
       "      <th></th>\n",
       "      <th>client_id</th>\n",
       "      <th>default</th>\n",
       "    </tr>\n",
       "  </thead>\n",
       "  <tbody>\n",
       "    <tr>\n",
       "      <th>0</th>\n",
       "      <td>66799</td>\n",
       "      <td>0.441004</td>\n",
       "    </tr>\n",
       "    <tr>\n",
       "      <th>1</th>\n",
       "      <td>25379</td>\n",
       "      <td>0.138092</td>\n",
       "    </tr>\n",
       "    <tr>\n",
       "      <th>2</th>\n",
       "      <td>28825</td>\n",
       "      <td>0.373370</td>\n",
       "    </tr>\n",
       "    <tr>\n",
       "      <th>3</th>\n",
       "      <td>37530</td>\n",
       "      <td>0.476501</td>\n",
       "    </tr>\n",
       "    <tr>\n",
       "      <th>4</th>\n",
       "      <td>4264</td>\n",
       "      <td>0.304640</td>\n",
       "    </tr>\n",
       "  </tbody>\n",
       "</table>\n",
       "</div>"
      ],
      "text/plain": [
       "   client_id   default\n",
       "0      66799  0.441004\n",
       "1      25379  0.138092\n",
       "2      28825  0.373370\n",
       "3      37530  0.476501\n",
       "4       4264  0.304640"
      ]
     },
     "execution_count": 11,
     "metadata": {},
     "output_type": "execute_result"
    }
   ],
   "source": [
    "sample_submission.head()"
   ]
  },
  {
   "cell_type": "code",
   "execution_count": 12,
   "metadata": {
    "execution": {
     "iopub.execute_input": "2020-08-25T07:06:18.023816Z",
     "iopub.status.busy": "2020-08-25T07:06:18.023179Z",
     "iopub.status.idle": "2020-08-25T07:06:18.167778Z",
     "shell.execute_reply": "2020-08-25T07:06:18.166868Z"
    },
    "papermill": {
     "duration": 0.165902,
     "end_time": "2020-08-25T07:06:18.167933",
     "exception": false,
     "start_time": "2020-08-25T07:06:18.002031",
     "status": "completed"
    },
    "tags": []
   },
   "outputs": [
    {
     "name": "stdout",
     "output_type": "stream",
     "text": [
      "<class 'pandas.core.frame.DataFrame'>\n",
      "Int64Index: 73799 entries, 0 to 73798\n",
      "Data columns (total 38 columns):\n",
      " #   Column                   Non-Null Count  Dtype  \n",
      "---  ------                   --------------  -----  \n",
      " 0   client_id                73799 non-null  int64  \n",
      " 1   app_date                 73799 non-null  int64  \n",
      " 2   education                73492 non-null  object \n",
      " 3   sex                      73799 non-null  object \n",
      " 4   age                      73799 non-null  int64  \n",
      " 5   car                      73799 non-null  object \n",
      " 6   car_type                 73799 non-null  object \n",
      " 7   decline_app_cnt          73799 non-null  int64  \n",
      " 8   good_work                73799 non-null  int64  \n",
      " 9   score_bki                73799 non-null  float64\n",
      " 10  bki_request_cnt          73799 non-null  int64  \n",
      " 11  region_rating            73799 non-null  int64  \n",
      " 12  home_address             73799 non-null  int64  \n",
      " 13  work_address             73799 non-null  int64  \n",
      " 14  income                   73799 non-null  int64  \n",
      " 15  sna                      73799 non-null  int64  \n",
      " 16  first_time               73799 non-null  int64  \n",
      " 17  foreign_passport         73799 non-null  object \n",
      " 18  default                  73799 non-null  int64  \n",
      " 19  TRAIN                    73799 non-null  int64  \n",
      " 20  education_NaN            73799 non-null  uint8  \n",
      " 21  education_dup            73492 non-null  float64\n",
      " 22  first_time_dup           73799 non-null  int64  \n",
      " 23  home_address_dup         73799 non-null  int64  \n",
      " 24  region_rating_dup        73799 non-null  int64  \n",
      " 25  region_rating_dup_dup    73799 non-null  int64  \n",
      " 26  sna_dup                  73799 non-null  int64  \n",
      " 27  work_address_dup         73799 non-null  int64  \n",
      " 28  age_1                    73799 non-null  float64\n",
      " 29  client_id_1              73799 non-null  float64\n",
      " 30  income_1                 73799 non-null  float64\n",
      " 31  score_bki_1              73799 non-null  float64\n",
      " 32  decline_app_cnt_1        73799 non-null  float64\n",
      " 33  bki_request_cnt_1        73799 non-null  float64\n",
      " 34  app_date_1               73799 non-null  float64\n",
      " 35  region_rating_dup_dup_1  73799 non-null  float64\n",
      " 36  decline_app_cnt_dup      73799 non-null  int64  \n",
      " 37  decline_app_cnt_dup_dup  73799 non-null  int64  \n",
      "dtypes: float64(10), int64(22), object(5), uint8(1)\n",
      "memory usage: 21.5+ MB\n",
      "\n",
      "<class 'pandas.core.frame.DataFrame'>\n",
      "Int64Index: 36349 entries, 73799 to 110147\n",
      "Data columns (total 38 columns):\n",
      " #   Column                   Non-Null Count  Dtype  \n",
      "---  ------                   --------------  -----  \n",
      " 0   client_id                36349 non-null  int64  \n",
      " 1   app_date                 36349 non-null  int64  \n",
      " 2   education                36178 non-null  object \n",
      " 3   sex                      36349 non-null  object \n",
      " 4   age                      36349 non-null  int64  \n",
      " 5   car                      36349 non-null  object \n",
      " 6   car_type                 36349 non-null  object \n",
      " 7   decline_app_cnt          36349 non-null  int64  \n",
      " 8   good_work                36349 non-null  int64  \n",
      " 9   score_bki                36349 non-null  float64\n",
      " 10  bki_request_cnt          36349 non-null  int64  \n",
      " 11  region_rating            36349 non-null  int64  \n",
      " 12  home_address             36349 non-null  int64  \n",
      " 13  work_address             36349 non-null  int64  \n",
      " 14  income                   36349 non-null  int64  \n",
      " 15  sna                      36349 non-null  int64  \n",
      " 16  first_time               36349 non-null  int64  \n",
      " 17  foreign_passport         36349 non-null  object \n",
      " 18  default                  36349 non-null  int64  \n",
      " 19  TRAIN                    36349 non-null  int64  \n",
      " 20  education_NaN            36349 non-null  uint8  \n",
      " 21  education_dup            36178 non-null  float64\n",
      " 22  first_time_dup           36349 non-null  int64  \n",
      " 23  home_address_dup         36349 non-null  int64  \n",
      " 24  region_rating_dup        36349 non-null  int64  \n",
      " 25  region_rating_dup_dup    36349 non-null  int64  \n",
      " 26  sna_dup                  36349 non-null  int64  \n",
      " 27  work_address_dup         36349 non-null  int64  \n",
      " 28  age_1                    36349 non-null  float64\n",
      " 29  client_id_1              36349 non-null  float64\n",
      " 30  income_1                 36349 non-null  float64\n",
      " 31  score_bki_1              36349 non-null  float64\n",
      " 32  decline_app_cnt_1        36349 non-null  float64\n",
      " 33  bki_request_cnt_1        36349 non-null  float64\n",
      " 34  app_date_1               36349 non-null  float64\n",
      " 35  region_rating_dup_dup_1  36349 non-null  float64\n",
      " 36  decline_app_cnt_dup      36349 non-null  int64  \n",
      " 37  decline_app_cnt_dup_dup  36349 non-null  int64  \n",
      "dtypes: float64(10), int64(22), object(5), uint8(1)\n",
      "memory usage: 10.6+ MB\n",
      "\n",
      "<class 'pandas.core.frame.DataFrame'>\n",
      "RangeIndex: 110148 entries, 0 to 110147\n",
      "Data columns (total 38 columns):\n",
      " #   Column                   Non-Null Count   Dtype  \n",
      "---  ------                   --------------   -----  \n",
      " 0   client_id                110148 non-null  int64  \n",
      " 1   app_date                 110148 non-null  int64  \n",
      " 2   education                109670 non-null  object \n",
      " 3   sex                      110148 non-null  object \n",
      " 4   age                      110148 non-null  int64  \n",
      " 5   car                      110148 non-null  object \n",
      " 6   car_type                 110148 non-null  object \n",
      " 7   decline_app_cnt          110148 non-null  int64  \n",
      " 8   good_work                110148 non-null  int64  \n",
      " 9   score_bki                110148 non-null  float64\n",
      " 10  bki_request_cnt          110148 non-null  int64  \n",
      " 11  region_rating            110148 non-null  int64  \n",
      " 12  home_address             110148 non-null  int64  \n",
      " 13  work_address             110148 non-null  int64  \n",
      " 14  income                   110148 non-null  int64  \n",
      " 15  sna                      110148 non-null  int64  \n",
      " 16  first_time               110148 non-null  int64  \n",
      " 17  foreign_passport         110148 non-null  object \n",
      " 18  default                  110148 non-null  int64  \n",
      " 19  TRAIN                    110148 non-null  int64  \n",
      " 20  education_NaN            110148 non-null  uint8  \n",
      " 21  education_dup            109670 non-null  float64\n",
      " 22  first_time_dup           110148 non-null  int64  \n",
      " 23  home_address_dup         110148 non-null  int64  \n",
      " 24  region_rating_dup        110148 non-null  int64  \n",
      " 25  region_rating_dup_dup    110148 non-null  int64  \n",
      " 26  sna_dup                  110148 non-null  int64  \n",
      " 27  work_address_dup         110148 non-null  int64  \n",
      " 28  age_1                    110148 non-null  float64\n",
      " 29  client_id_1              110148 non-null  float64\n",
      " 30  income_1                 110148 non-null  float64\n",
      " 31  score_bki_1              110148 non-null  float64\n",
      " 32  decline_app_cnt_1        110148 non-null  float64\n",
      " 33  bki_request_cnt_1        110148 non-null  float64\n",
      " 34  app_date_1               110148 non-null  float64\n",
      " 35  region_rating_dup_dup_1  110148 non-null  float64\n",
      " 36  decline_app_cnt_dup      110148 non-null  int64  \n",
      " 37  decline_app_cnt_dup_dup  110148 non-null  int64  \n",
      "dtypes: float64(10), int64(22), object(5), uint8(1)\n",
      "memory usage: 31.2+ MB\n",
      "\n",
      "<class 'pandas.core.frame.DataFrame'>\n",
      "RangeIndex: 24354 entries, 0 to 24353\n",
      "Data columns (total 2 columns):\n",
      " #   Column     Non-Null Count  Dtype  \n",
      "---  ------     --------------  -----  \n",
      " 0   client_id  24354 non-null  int64  \n",
      " 1   default    24354 non-null  float64\n",
      "dtypes: float64(1), int64(1)\n",
      "memory usage: 380.7 KB\n"
     ]
    }
   ],
   "source": [
    "df_join.loc[df_join[TRAIN] == 1].info()\n",
    "print()\n",
    "df_join.loc[df_join[TRAIN] == 0].info()\n",
    "print()\n",
    "df_join.info()\n",
    "print()\n",
    "sample_submission.info()"
   ]
  },
  {
   "cell_type": "code",
   "execution_count": 13,
   "metadata": {
    "_kg_hide-input": false,
    "_kg_hide-output": false,
    "execution": {
     "iopub.execute_input": "2020-08-25T07:06:18.224128Z",
     "iopub.status.busy": "2020-08-25T07:06:18.223482Z",
     "iopub.status.idle": "2020-08-25T07:06:19.946626Z",
     "shell.execute_reply": "2020-08-25T07:06:19.946047Z"
    },
    "papermill": {
     "duration": 1.752929,
     "end_time": "2020-08-25T07:06:19.946744",
     "exception": false,
     "start_time": "2020-08-25T07:06:18.193815",
     "status": "completed"
    },
    "scrolled": false,
    "tags": []
   },
   "outputs": [
    {
     "data": {
      "image/png": "[encoded data removed]",
      "text/plain": [
       "<Figure size 1800x720 with 2 Axes>"
      ]
     },
     "metadata": {
      "needs_background": "light"
     },
     "output_type": "display_data"
    }
   ],
   "source": [
    "msno.matrix(df_join);"
   ]
  },
  {
   "cell_type": "markdown",
   "execution_count": null,
   "metadata": {
    "papermill": {
     "duration": 0.017314,
     "end_time": "2020-08-25T07:06:19.981109",
     "exception": false,
     "start_time": "2020-08-25T07:06:19.963795",
     "status": "completed"
    },
    "tags": []
   },
   "source": [
    "**Declare target variable, quantity, ordinal and categorical features**"
   ]
  },
  {
   "cell_type": "code",
   "execution_count": 14,
   "metadata": {
    "execution": {
     "iopub.execute_input": "2020-08-25T07:06:20.027038Z",
     "iopub.status.busy": "2020-08-25T07:06:20.022464Z",
     "iopub.status.idle": "2020-08-25T07:06:20.030860Z",
     "shell.execute_reply": "2020-08-25T07:06:20.030240Z"
    },
    "papermill": {
     "duration": 0.033315,
     "end_time": "2020-08-25T07:06:20.030959",
     "exception": false,
     "start_time": "2020-08-25T07:06:19.997644",
     "status": "completed"
    },
    "tags": []
   },
   "outputs": [],
   "source": [
    "# Declare categorical features\n",
    "categ_bin_cols = [\n",
    "    'car',\n",
    "    'car_type',\n",
    "    'foreign_passport',\n",
    "    'good_work',\n",
    "    'sex',\n",
    "    \n",
    "    'education_NaN',\n",
    "]\n",
    "categ_many_cols = [\n",
    "    'education',\n",
    "    'decline_app_cnt'+DUPLICATE_SUFFIX+DUPLICATE_SUFFIX,\n",
    "    'first_time',\n",
    "    'home_address',\n",
    "    'region_rating',\n",
    "    'sna',\n",
    "    'work_address',\n",
    "]\n",
    "categ_multi_cols = [\n",
    "]\n",
    "\n",
    "# Declare quantity features\n",
    "quantity_cols = [\n",
    "    'age',\n",
    "    'app_date',\n",
    "    'bki_request_cnt',\n",
    "    'client_id',\n",
    "    'decline_app_cnt',\n",
    "    'income',\n",
    "    'score_bki',\n",
    "    \n",
    "    'region_rating'+DUPLICATE_SUFFIX+DUPLICATE_SUFFIX,\n",
    "    'region_rating'+DUPLICATE_SUFFIX+DUPLICATE_SUFFIX+MINUS_ONE_SUFFIX,\n",
    "    'age'+MINUS_ONE_SUFFIX,\n",
    "    'app_date'+MINUS_ONE_SUFFIX,\n",
    "    'bki_request_cnt'+MINUS_ONE_SUFFIX,\n",
    "    'client_id'+MINUS_ONE_SUFFIX,\n",
    "    'decline_app_cnt'+MINUS_ONE_SUFFIX,\n",
    "    'income'+MINUS_ONE_SUFFIX,\n",
    "    'score_bki'+MINUS_ONE_SUFFIX,\n",
    "]\n",
    "\n",
    "# Declare categorized quantity features\n",
    "quantity_categ_cols = [\n",
    "]\n",
    "\n",
    "# Declare ordinal features\n",
    "ordinal_cols = [\n",
    "    'decline_app_cnt'+DUPLICATE_SUFFIX,\n",
    "    'education'+DUPLICATE_SUFFIX,\n",
    "    'first_time'+DUPLICATE_SUFFIX,\n",
    "    'home_address'+DUPLICATE_SUFFIX,\n",
    "    'region_rating'+DUPLICATE_SUFFIX,\n",
    "    'sna'+DUPLICATE_SUFFIX,\n",
    "    'work_address'+DUPLICATE_SUFFIX,\n",
    "]\n",
    "\n",
    "# Update quantity, ordinal and categorical feature lists\n",
    "categ_bin_cols = [col for col in categ_bin_cols if col in df_join.columns]\n",
    "categ_many_cols = [col for col in categ_many_cols if col in df_join.columns]\n",
    "categ_multi_cols = [col for col in categ_multi_cols if col in df_join.columns]\n",
    "categ_cols = categ_bin_cols + categ_many_cols + categ_multi_cols\n",
    "quantity_cols = [col for col in quantity_cols if col in df_join.columns]\n",
    "quantity_categ_cols = [col for col in quantity_categ_cols if col in df_join.columns]\n",
    "ordinal_cols = [col for col in ordinal_cols if col in df_join.columns]"
   ]
  },
  {
   "cell_type": "markdown",
   "execution_count": null,
   "metadata": {
    "papermill": {
     "duration": 0.016501,
     "end_time": "2020-08-25T07:06:20.064223",
     "exception": false,
     "start_time": "2020-08-25T07:06:20.047722",
     "status": "completed"
    },
    "tags": []
   },
   "source": [
    "**View unique values**"
   ]
  },
  {
   "cell_type": "code",
   "execution_count": 15,
   "metadata": {
    "execution": {
     "iopub.execute_input": "2020-08-25T07:06:20.107054Z",
     "iopub.status.busy": "2020-08-25T07:06:20.106063Z",
     "iopub.status.idle": "2020-08-25T07:06:22.250462Z",
     "shell.execute_reply": "2020-08-25T07:06:22.250951Z"
    },
    "papermill": {
     "duration": 2.170276,
     "end_time": "2020-08-25T07:06:22.251110",
     "exception": false,
     "start_time": "2020-08-25T07:06:20.080834",
     "status": "completed"
    },
    "scrolled": true,
    "tags": []
   },
   "outputs": [
    {
     "name": "stdout",
     "output_type": "stream",
     "text": [
      "car:                      2\n",
      "car_type:                 2\n",
      "foreign_passport:         2\n",
      "good_work:                2\n",
      "sex:                      2\n",
      "education_NaN:            2\n",
      "education:                5\n",
      "decline_app_cnt_dup_dup:     3\n",
      "first_time:               4\n",
      "home_address:             3\n",
      "region_rating:            7\n",
      "sna:                      4\n",
      "work_address:             3\n"
     ]
    }
   ],
   "source": [
    "# Find and show number of unique values of categorical features\n",
    "categorical_unique = {}\n",
    "for column in categ_cols:\n",
    "    # Handle categ_multi_cols features\n",
    "    if column in categ_multi_cols:\n",
    "        categorical_unique[column] = pd.Series(Counter(chain.from_iterable(df_join.loc[df_join[column].notna(), column].str.split('|')))).sort_values(ascending=False)\n",
    "\n",
    "    # Handle categ_bin_cols and categ_many_cols features\n",
    "    else:\n",
    "        categorical_unique[column] = pd.Series(Counter(chain.from_iterable(df_join.loc[df_join[column].notna(), column].apply(lambda x: [x])))).sort_values(ascending=False)\n",
    "\n",
    "    # Show result\n",
    "    print((column + ':').ljust(21), end='')\n",
    "    print(str(len(categorical_unique[column])).rjust(6))"
   ]
  },
  {
   "cell_type": "code",
   "execution_count": 16,
   "metadata": {
    "_kg_hide-output": true,
    "execution": {
     "iopub.execute_input": "2020-08-25T07:06:22.299298Z",
     "iopub.status.busy": "2020-08-25T07:06:22.298688Z",
     "iopub.status.idle": "2020-08-25T07:06:22.305876Z",
     "shell.execute_reply": "2020-08-25T07:06:22.304869Z"
    },
    "papermill": {
     "duration": 0.037059,
     "end_time": "2020-08-25T07:06:22.306036",
     "exception": false,
     "start_time": "2020-08-25T07:06:22.268977",
     "status": "completed"
    },
    "tags": []
   },
   "outputs": [
    {
     "name": "stdout",
     "output_type": "stream",
     "text": [
      "car:\n",
      "N    74290\n",
      "Y    35858\n",
      "dtype: int64\n",
      "\n",
      "car_type:\n",
      "N    89140\n",
      "Y    21008\n",
      "dtype: int64\n",
      "\n",
      "foreign_passport:\n",
      "N    93721\n",
      "Y    16427\n",
      "dtype: int64\n",
      "\n",
      "good_work:\n",
      "0    91917\n",
      "1    18231\n",
      "dtype: int64\n",
      "\n",
      "sex:\n",
      "F    61836\n",
      "M    48312\n",
      "dtype: int64\n",
      "\n",
      "education_NaN:\n",
      "0    109670\n",
      "1       478\n",
      "dtype: int64\n",
      "\n",
      "education:\n",
      "SCH    57998\n",
      "GRD    34768\n",
      "UGR    14748\n",
      "PGR     1865\n",
      "ACD      291\n",
      "dtype: int64\n",
      "\n",
      "decline_app_cnt_dup_dup:\n",
      "0    91471\n",
      "1    12500\n",
      "2     6177\n",
      "dtype: int64\n",
      "\n",
      "first_time:\n",
      "3    46588\n",
      "4    28017\n",
      "1    18296\n",
      "2    17247\n",
      "dtype: int64\n",
      "\n",
      "home_address:\n",
      "2    59591\n",
      "1    48688\n",
      "3     1869\n",
      "dtype: int64\n",
      "\n",
      "region_rating:\n",
      "4    40981\n",
      "5    23999\n",
      "3    17947\n",
      "7    17170\n",
      "6     9304\n",
      "2      434\n",
      "1      313\n",
      "dtype: int64\n",
      "\n",
      "sna:\n",
      "1    70681\n",
      "4    17481\n",
      "2    15832\n",
      "3     6154\n",
      "dtype: int64\n",
      "\n",
      "work_address:\n",
      "3    67113\n",
      "2    30761\n",
      "1    12274\n",
      "dtype: int64\n",
      "\n"
     ]
    }
   ],
   "source": [
    "# Show unique values of categorical features\n",
    "pd.set_option('display.max_rows', None)\n",
    "\n",
    "for column in categ_cols:\n",
    "    print(column + ':')\n",
    "    print(categorical_unique[column]) # in frequency order\n",
    "    print()\n",
    "    \n",
    "pd.reset_option('display.max_rows')"
   ]
  },
  {
   "cell_type": "code",
   "execution_count": 17,
   "metadata": {
    "execution": {
     "iopub.execute_input": "2020-08-25T07:06:22.365793Z",
     "iopub.status.busy": "2020-08-25T07:06:22.365178Z",
     "iopub.status.idle": "2020-08-25T07:06:24.161244Z",
     "shell.execute_reply": "2020-08-25T07:06:24.160609Z"
    },
    "papermill": {
     "duration": 1.827511,
     "end_time": "2020-08-25T07:06:24.161356",
     "exception": false,
     "start_time": "2020-08-25T07:06:22.333845",
     "status": "completed"
    },
    "scrolled": false,
    "tags": []
   },
   "outputs": [
    {
     "data": {
      "image/png": "[encoded data removed]",
      "text/plain": [
       "<Figure size 1296x432 with 1 Axes>"
      ]
     },
     "metadata": {
      "needs_background": "light"
     },
     "output_type": "display_data"
    },
    {
     "data": {
      "image/png": "[encoded data removed]",
      "text/plain": [
       "<Figure size 1296x432 with 1 Axes>"
      ]
     },
     "metadata": {
      "needs_background": "light"
     },
     "output_type": "display_data"
    },
    {
     "data": {
      "image/png": "[encoded data removed]",
      "text/plain": [
       "<Figure size 1296x432 with 1 Axes>"
      ]
     },
     "metadata": {
      "needs_background": "light"
     },
     "output_type": "display_data"
    },
    {
     "data": {
      "image/png": "[encoded data removed]",
      "text/plain": [
       "<Figure size 1296x432 with 1 Axes>"
      ]
     },
     "metadata": {
      "needs_background": "light"
     },
     "output_type": "display_data"
    },
    {
     "data": {
      "image/png": "[encoded data removed]",
      "text/plain": [
       "<Figure size 1296x432 with 1 Axes>"
      ]
     },
     "metadata": {
      "needs_background": "light"
     },
     "output_type": "display_data"
    },
    {
     "data": {
      "image/png": "[encoded data removed]",
      "text/plain": [
       "<Figure size 1296x432 with 1 Axes>"
      ]
     },
     "metadata": {
      "needs_background": "light"
     },
     "output_type": "display_data"
    },
    {
     "data": {
      "image/png": "[encoded data removed]",
      "text/plain": [
       "<Figure size 1296x432 with 1 Axes>"
      ]
     },
     "metadata": {
      "needs_background": "light"
     },
     "output_type": "display_data"
    },
    {
     "data": {
      "image/png": "[encoded data removed]",
      "text/plain": [
       "<Figure size 1296x432 with 1 Axes>"
      ]
     },
     "metadata": {
      "needs_background": "light"
     },
     "output_type": "display_data"
    },
    {
     "data": {
      "image/png": "[encoded data removed]",
      "text/plain": [
       "<Figure size 1296x432 with 1 Axes>"
      ]
     },
     "metadata": {
      "needs_background": "light"
     },
     "output_type": "display_data"
    },
    {
     "data": {
      "image/png": "[encoded data removed]",
      "text/plain": [
       "<Figure size 1296x432 with 1 Axes>"
      ]
     },
     "metadata": {
      "needs_background": "light"
     },
     "output_type": "display_data"
    },
    {
     "data": {
      "image/png": "[encoded data removed]",
      "text/plain": [
       "<Figure size 1296x432 with 1 Axes>"
      ]
     },
     "metadata": {
      "needs_background": "light"
     },
     "output_type": "display_data"
    },
    {
     "data": {
      "image/png": "[encoded data removed]",
      "text/plain": [
       "<Figure size 1296x432 with 1 Axes>"
      ]
     },
     "metadata": {
      "needs_background": "light"
     },
     "output_type": "display_data"
    },
    {
     "data": {
      "image/png": "[encoded data removed]",
      "text/plain": [
       "<Figure size 1296x432 with 1 Axes>"
      ]
     },
     "metadata": {
      "needs_background": "light"
     },
     "output_type": "display_data"
    }
   ],
   "source": [
    "# Show distribution of categorical features\n",
    "for column in categ_cols:\n",
    "    categorical_unique[column].plot.bar(figsize=(18, 6), title=column)\n",
    "    plt.show()"
   ]
  },
  {
   "cell_type": "code",
   "execution_count": 18,
   "metadata": {
    "execution": {
     "iopub.execute_input": "2020-08-25T07:06:24.208348Z",
     "iopub.status.busy": "2020-08-25T07:06:24.207425Z",
     "iopub.status.idle": "2020-08-25T07:06:24.263855Z",
     "shell.execute_reply": "2020-08-25T07:06:24.264561Z"
    },
    "papermill": {
     "duration": 0.082947,
     "end_time": "2020-08-25T07:06:24.264760",
     "exception": false,
     "start_time": "2020-08-25T07:06:24.181813",
     "status": "completed"
    },
    "scrolled": false,
    "tags": []
   },
   "outputs": [
    {
     "name": "stdout",
     "output_type": "stream",
     "text": [
      "age:                     52\n",
      "app_date:               120\n",
      "bki_request_cnt:         40\n",
      "client_id:           110148\n",
      "decline_app_cnt:         24\n",
      "income:                1207\n",
      "score_bki:           102618\n",
      "region_rating_dup_dup:     7\n",
      "region_rating_dup_dup_1:     7\n",
      "age_1:                   52\n",
      "app_date_1:             120\n",
      "bki_request_cnt_1:       40\n",
      "client_id_1:         110148\n",
      "decline_app_cnt_1:       24\n",
      "income_1:              1207\n",
      "score_bki_1:         102618\n",
      "decline_app_cnt_dup:      3\n",
      "education_dup:            5\n",
      "first_time_dup:           4\n",
      "home_address_dup:         3\n",
      "region_rating_dup:        7\n",
      "sna_dup:                  4\n",
      "work_address_dup:         3\n"
     ]
    }
   ],
   "source": [
    "# Show number of unique values of quantity and ordinal features\n",
    "for column in quantity_cols + quantity_categ_cols + ordinal_cols:\n",
    "    print(column.join(['', ':']).ljust(21), end='')\n",
    "    print(str(df_join[column].nunique()).rjust(6))"
   ]
  },
  {
   "cell_type": "code",
   "execution_count": 19,
   "metadata": {
    "execution": {
     "iopub.execute_input": "2020-08-25T07:06:24.314679Z",
     "iopub.status.busy": "2020-08-25T07:06:24.313801Z",
     "iopub.status.idle": "2020-08-25T07:06:24.320893Z",
     "shell.execute_reply": "2020-08-25T07:06:24.320185Z"
    },
    "papermill": {
     "duration": 0.034851,
     "end_time": "2020-08-25T07:06:24.321038",
     "exception": false,
     "start_time": "2020-08-25T07:06:24.286187",
     "status": "completed"
    },
    "tags": []
   },
   "outputs": [
    {
     "name": "stdout",
     "output_type": "stream",
     "text": [
      "bki_request_cnt:     [ 0  1  2  3  4  5  6  7  8  9 10 11 12 13 14 15 16 17 18 19 20 21 22 23\n",
      " 24 25 26 27 28 29 32 33 34 36 40 41 45 46 47 53]\n",
      "decline_app_cnt:     [ 0  1  2  3  4  5  6  7  8  9 10 11 12 13 14 15 16 19 20 21 22 24 30 33]\n"
     ]
    }
   ],
   "source": [
    "# Show unique values of quantity and ordinal features\n",
    "columns = ['decline_app_cnt',\n",
    "           'bki_request_cnt',]\n",
    "\n",
    "for column in quantity_cols + quantity_categ_cols + ordinal_cols:\n",
    "    if column in columns:\n",
    "        print(column.join(['', ':']).ljust(21), end='')\n",
    "        print(np.sort(df_join[column].unique()))"
   ]
  },
  {
   "cell_type": "markdown",
   "execution_count": null,
   "metadata": {
    "papermill": {
     "duration": 0.019887,
     "end_time": "2020-08-25T07:06:24.361757",
     "exception": false,
     "start_time": "2020-08-25T07:06:24.341870",
     "status": "completed"
    },
    "tags": []
   },
   "source": [
    "## Visualization"
   ]
  },
  {
   "cell_type": "code",
   "execution_count": 20,
   "metadata": {
    "execution": {
     "iopub.execute_input": "2020-08-25T07:06:24.420839Z",
     "iopub.status.busy": "2020-08-25T07:06:24.410123Z",
     "iopub.status.idle": "2020-08-25T07:06:24.436351Z",
     "shell.execute_reply": "2020-08-25T07:06:24.435729Z"
    },
    "papermill": {
     "duration": 0.05496,
     "end_time": "2020-08-25T07:06:24.436492",
     "exception": false,
     "start_time": "2020-08-25T07:06:24.381532",
     "status": "completed"
    },
    "scrolled": false,
    "tags": []
   },
   "outputs": [],
   "source": [
    "def show_boxplots(df, show_target=False):\n",
    "    \"\"\"Show boxplots of quantity and ordinal features and check them for outliers existance\"\"\"\n",
    "    # Define columns to plot\n",
    "    if show_target:\n",
    "        columns = sorted(quantity_cols + ordinal_cols + [TARGET])\n",
    "    else:\n",
    "        columns = sorted(quantity_cols + ordinal_cols)\n",
    "\n",
    "    # Create figure with [rows x cols] graphs\n",
    "    cols = 5\n",
    "    rows = math.ceil((len(columns)) / cols)\n",
    "    fig, axs = plt.subplots(rows, cols, figsize=(18, rows*5))\n",
    "\n",
    "    # Plot graphs\n",
    "    for i, column in enumerate(columns):\n",
    "        if rows == 1:\n",
    "            idx = i%cols\n",
    "        else:\n",
    "            idx = (i//cols, i%cols)\n",
    "        axs[idx].boxplot(df.loc[df[column].notna(), column], showmeans=True)\n",
    "        axs[idx].set_title(column)\n",
    "        \n",
    "        \n",
    "def show_histograms(df, show_target=False):\n",
    "    \"\"\"Show distributions of quantity and ordinal features\"\"\"\n",
    "    # Fill the list of bins' step if know it\n",
    "    bin_step = {\n",
    "        'age': 1,\n",
    "        'default': 1,\n",
    "        'decline_app_cnt': 1,\n",
    "        'bki_request_cnt': 1,\n",
    "        'education': 1,\n",
    "    }\n",
    "    \n",
    "    # Define columns to plot\n",
    "    if show_target:\n",
    "        columns = sorted(quantity_cols + ordinal_cols + [TARGET])\n",
    "    else:\n",
    "        columns = sorted(quantity_cols + ordinal_cols)\n",
    "\n",
    "    # Create figure with [rows x cols] graphs\n",
    "    cols = 4\n",
    "    rows = math.ceil(len(columns)/cols)\n",
    "    fig, axs = plt.subplots(rows, cols, figsize=(18, rows*4))\n",
    "\n",
    "    # Plot graphs\n",
    "    for i, column in enumerate(columns):\n",
    "        # Calculate indices of subplots\n",
    "        if rows == 1:\n",
    "            idx = i%cols\n",
    "        else:\n",
    "            idx = (i//cols, i%cols)\n",
    "\n",
    "        # Calculate number of bins and ranges\n",
    "        if column in bin_step.keys():\n",
    "            col_max = df[column].max()\n",
    "            col_min = df[column].min()\n",
    "            step = bin_step[column]\n",
    "            offset = step / 2\n",
    "            bins = int((col_max-col_min) / step) + 1\n",
    "            range_ = (col_min - offset, col_max + offset)\n",
    "        elif column in ordinal_cols:\n",
    "            col_max = df[column].max()\n",
    "            col_min = df[column].min()\n",
    "            bins = int((col_max-col_min) * 2) + 1\n",
    "            range_ = (col_min - 0.25, col_max + 0.25)\n",
    "        else:\n",
    "            bins = 20\n",
    "            range_ = None\n",
    "\n",
    "        # Plot\n",
    "        axs[idx].hist(df.loc[df[column].notna(), column], bins, range_)\n",
    "        axs[idx].set_title(column)"
   ]
  },
  {
   "cell_type": "code",
   "execution_count": 21,
   "metadata": {
    "execution": {
     "iopub.execute_input": "2020-08-25T07:06:24.488589Z",
     "iopub.status.busy": "2020-08-25T07:06:24.481831Z",
     "iopub.status.idle": "2020-08-25T07:06:28.438498Z",
     "shell.execute_reply": "2020-08-25T07:06:28.437869Z"
    },
    "papermill": {
     "duration": 3.981871,
     "end_time": "2020-08-25T07:06:28.438618",
     "exception": false,
     "start_time": "2020-08-25T07:06:24.456747",
     "status": "completed"
    },
    "tags": []
   },
   "outputs": [
    {
     "data": {
      "image/png": "[encoded data removed]",
      "text/plain": [
       "<Figure size 1296x1800 with 25 Axes>"
      ]
     },
     "metadata": {
      "needs_background": "light"
     },
     "output_type": "display_data"
    }
   ],
   "source": [
    "show_boxplots(df_join)"
   ]
  },
  {
   "cell_type": "code",
   "execution_count": 22,
   "metadata": {
    "execution": {
     "iopub.execute_input": "2020-08-25T07:06:28.492460Z",
     "iopub.status.busy": "2020-08-25T07:06:28.486464Z",
     "iopub.status.idle": "2020-08-25T07:06:32.580287Z",
     "shell.execute_reply": "2020-08-25T07:06:32.579747Z"
    },
    "papermill": {
     "duration": 4.11914,
     "end_time": "2020-08-25T07:06:32.580429",
     "exception": false,
     "start_time": "2020-08-25T07:06:28.461289",
     "status": "completed"
    },
    "tags": []
   },
   "outputs": [
    {
     "data": {
      "image/png": "[encoded data removed]",
      "text/plain": [
       "<Figure size 1296x1728 with 24 Axes>"
      ]
     },
     "metadata": {
      "needs_background": "light"
     },
     "output_type": "display_data"
    }
   ],
   "source": [
    "show_histograms(df_join, show_target=True)"
   ]
  },
  {
   "cell_type": "markdown",
   "execution_count": null,
   "metadata": {
    "papermill": {
     "duration": 0.022194,
     "end_time": "2020-08-25T07:06:32.625474",
     "exception": false,
     "start_time": "2020-08-25T07:06:32.603280",
     "status": "completed"
    },
    "tags": []
   },
   "source": [
    "## Outliers handling"
   ]
  },
  {
   "cell_type": "code",
   "execution_count": 23,
   "metadata": {
    "execution": {
     "iopub.execute_input": "2020-08-25T07:06:32.817370Z",
     "iopub.status.busy": "2020-08-25T07:06:32.816722Z",
     "iopub.status.idle": "2020-08-25T07:06:32.819418Z",
     "shell.execute_reply": "2020-08-25T07:06:32.819905Z"
    },
    "papermill": {
     "duration": 0.172095,
     "end_time": "2020-08-25T07:06:32.820052",
     "exception": false,
     "start_time": "2020-08-25T07:06:32.647957",
     "status": "completed"
    },
    "tags": []
   },
   "outputs": [],
   "source": [
    "def delete_outliers(df, inplace=False):\n",
    "    \"\"\"Show number of outliers and delete rows with outliers\"\"\"\n",
    "    # Define columns to show graphs\n",
    "    columns = sorted(quantity_cols).copy()\n",
    "    # Exclude some columns from the process\n",
    "    cols = [\n",
    "        'region_rating_dup_dup',\n",
    "        'age_1',\n",
    "        'app_date_1',\n",
    "        'bki_request_cnt',\n",
    "        'client_id_1',\n",
    "        'decline_app_cnt',\n",
    "        'decline_app_cnt_1',\n",
    "        'income',\n",
    "        'income_1',\n",
    "        'region_rating_dup_dup_1',\n",
    "        'score_bki',\n",
    "        'score_bki_1',\n",
    "    ]\n",
    "    for col in df_join.columns:\n",
    "        if col in cols:\n",
    "            columns.remove(col)\n",
    "    \n",
    "    idx_dict = {}\n",
    "    for column in columns:\n",
    "        # Calculate Q1, Q3, IQR\n",
    "        Q1 = df[column].quantile(0.25)\n",
    "        Q3 = df[column].quantile(0.75)\n",
    "        IQR = Q3 - Q1\n",
    "\n",
    "        # Calculate indices of rows\n",
    "        idx_dict[column] = list(df.loc[(~df[column].between(Q1 - 1.5*IQR, Q3 + 1.5*IQR)) & (df[column].notna()), column].index)\n",
    "\n",
    "        # Show the result\n",
    "        outliers_num = len(idx_dict[column])\n",
    "        if outliers_num:\n",
    "            print(f\"{str(outliers_num).rjust(6)} outliers are in column '{column}'\")\n",
    "            \n",
    "    # Union indices\n",
    "    idx = set()\n",
    "    for column in columns:\n",
    "        idx.update(idx_dict[column])\n",
    "\n",
    "    # Drop rows with outliers\n",
    "    if inplace:\n",
    "        df.drop(idx, inplace=True)\n",
    "        print(f\"{str(len(idx)).rjust(6)} rows have been dropped\")"
   ]
  },
  {
   "cell_type": "code",
   "execution_count": 24,
   "metadata": {
    "execution": {
     "iopub.execute_input": "2020-08-25T07:06:32.871755Z",
     "iopub.status.busy": "2020-08-25T07:06:32.871078Z",
     "iopub.status.idle": "2020-08-25T07:06:32.959570Z",
     "shell.execute_reply": "2020-08-25T07:06:32.958722Z"
    },
    "papermill": {
     "duration": 0.116934,
     "end_time": "2020-08-25T07:06:32.959718",
     "exception": false,
     "start_time": "2020-08-25T07:06:32.842784",
     "status": "completed"
    },
    "tags": []
   },
   "outputs": [
    {
     "name": "stdout",
     "output_type": "stream",
     "text": [
      "train:\n",
      "test:\n",
      "join:\n"
     ]
    }
   ],
   "source": [
    "# Show or delete outliers\n",
    "print('train:')\n",
    "delete_outliers(df_join.loc[df_join[TRAIN] == 1])\n",
    "print('test:')\n",
    "delete_outliers(df_join.loc[df_join[TRAIN] == 0])\n",
    "print('join:')\n",
    "delete_outliers(df_join)"
   ]
  },
  {
   "cell_type": "markdown",
   "execution_count": null,
   "metadata": {
    "papermill": {
     "duration": 0.032907,
     "end_time": "2020-08-25T07:06:33.026955",
     "exception": false,
     "start_time": "2020-08-25T07:06:32.994048",
     "status": "completed"
    },
    "tags": []
   },
   "source": [
    "## Correlation analysis"
   ]
  },
  {
   "cell_type": "code",
   "execution_count": 25,
   "metadata": {
    "_kg_hide-output": true,
    "execution": {
     "iopub.execute_input": "2020-08-25T07:06:33.098990Z",
     "iopub.status.busy": "2020-08-25T07:06:33.098296Z",
     "iopub.status.idle": "2020-08-25T07:06:33.306178Z",
     "shell.execute_reply": "2020-08-25T07:06:33.306876Z"
    },
    "papermill": {
     "duration": 0.246941,
     "end_time": "2020-08-25T07:06:33.307057",
     "exception": false,
     "start_time": "2020-08-25T07:06:33.060116",
     "status": "completed"
    },
    "scrolled": false,
    "tags": []
   },
   "outputs": [
    {
     "data": {
      "text/html": [
       "<div>\n",
       "<style scoped>\n",
       "    .dataframe tbody tr th:only-of-type {\n",
       "        vertical-align: middle;\n",
       "    }\n",
       "\n",
       "    .dataframe tbody tr th {\n",
       "        vertical-align: top;\n",
       "    }\n",
       "\n",
       "    .dataframe thead th {\n",
       "        text-align: right;\n",
       "    }\n",
       "</style>\n",
       "<table border=\"1\" class=\"dataframe\">\n",
       "  <thead>\n",
       "    <tr style=\"text-align: right;\">\n",
       "      <th></th>\n",
       "      <th>client_id</th>\n",
       "      <th>app_date</th>\n",
       "      <th>age</th>\n",
       "      <th>decline_app_cnt</th>\n",
       "      <th>good_work</th>\n",
       "      <th>score_bki</th>\n",
       "      <th>bki_request_cnt</th>\n",
       "      <th>region_rating</th>\n",
       "      <th>home_address</th>\n",
       "      <th>work_address</th>\n",
       "      <th>...</th>\n",
       "      <th>age_1</th>\n",
       "      <th>client_id_1</th>\n",
       "      <th>income_1</th>\n",
       "      <th>score_bki_1</th>\n",
       "      <th>decline_app_cnt_1</th>\n",
       "      <th>bki_request_cnt_1</th>\n",
       "      <th>app_date_1</th>\n",
       "      <th>region_rating_dup_dup_1</th>\n",
       "      <th>decline_app_cnt_dup</th>\n",
       "      <th>decline_app_cnt_dup_dup</th>\n",
       "    </tr>\n",
       "  </thead>\n",
       "  <tbody>\n",
       "    <tr>\n",
       "      <th>client_id</th>\n",
       "      <td>1.000000</td>\n",
       "      <td>0.999582</td>\n",
       "      <td>0.015435</td>\n",
       "      <td>-0.021417</td>\n",
       "      <td>0.004749</td>\n",
       "      <td>-0.063293</td>\n",
       "      <td>-0.029028</td>\n",
       "      <td>0.008233</td>\n",
       "      <td>0.165555</td>\n",
       "      <td>0.165777</td>\n",
       "      <td>...</td>\n",
       "      <td>-0.017246</td>\n",
       "      <td>-0.961025</td>\n",
       "      <td>-0.001951</td>\n",
       "      <td>-0.063788</td>\n",
       "      <td>0.021831</td>\n",
       "      <td>0.006537</td>\n",
       "      <td>-0.964250</td>\n",
       "      <td>-0.008209</td>\n",
       "      <td>-0.022887</td>\n",
       "      <td>-0.022887</td>\n",
       "    </tr>\n",
       "    <tr>\n",
       "      <th>app_date</th>\n",
       "      <td>0.999582</td>\n",
       "      <td>1.000000</td>\n",
       "      <td>0.015676</td>\n",
       "      <td>-0.021352</td>\n",
       "      <td>0.004665</td>\n",
       "      <td>-0.063605</td>\n",
       "      <td>-0.029165</td>\n",
       "      <td>0.007125</td>\n",
       "      <td>0.164086</td>\n",
       "      <td>0.164073</td>\n",
       "      <td>...</td>\n",
       "      <td>-0.017482</td>\n",
       "      <td>-0.962536</td>\n",
       "      <td>-0.001533</td>\n",
       "      <td>-0.064134</td>\n",
       "      <td>0.021737</td>\n",
       "      <td>0.006584</td>\n",
       "      <td>-0.966438</td>\n",
       "      <td>-0.007162</td>\n",
       "      <td>-0.022770</td>\n",
       "      <td>-0.022770</td>\n",
       "    </tr>\n",
       "    <tr>\n",
       "      <th>age</th>\n",
       "      <td>0.015435</td>\n",
       "      <td>0.015676</td>\n",
       "      <td>1.000000</td>\n",
       "      <td>-0.111175</td>\n",
       "      <td>-0.076158</td>\n",
       "      <td>-0.106275</td>\n",
       "      <td>0.046265</td>\n",
       "      <td>-0.089501</td>\n",
       "      <td>0.010392</td>\n",
       "      <td>-0.006299</td>\n",
       "      <td>...</td>\n",
       "      <td>-0.981577</td>\n",
       "      <td>-0.015887</td>\n",
       "      <td>0.116451</td>\n",
       "      <td>-0.101371</td>\n",
       "      <td>0.120531</td>\n",
       "      <td>-0.043311</td>\n",
       "      <td>-0.016278</td>\n",
       "      <td>0.088668</td>\n",
       "      <td>-0.119293</td>\n",
       "      <td>-0.119293</td>\n",
       "    </tr>\n",
       "    <tr>\n",
       "      <th>decline_app_cnt</th>\n",
       "      <td>-0.021417</td>\n",
       "      <td>-0.021352</td>\n",
       "      <td>-0.111175</td>\n",
       "      <td>1.000000</td>\n",
       "      <td>-0.027359</td>\n",
       "      <td>0.189987</td>\n",
       "      <td>0.155894</td>\n",
       "      <td>-0.038505</td>\n",
       "      <td>0.012530</td>\n",
       "      <td>0.016234</td>\n",
       "      <td>...</td>\n",
       "      <td>0.119442</td>\n",
       "      <td>0.019183</td>\n",
       "      <td>0.010566</td>\n",
       "      <td>0.194028</td>\n",
       "      <td>-0.870573</td>\n",
       "      <td>-0.106051</td>\n",
       "      <td>0.019377</td>\n",
       "      <td>0.037774</td>\n",
       "      <td>0.867246</td>\n",
       "      <td>0.867246</td>\n",
       "    </tr>\n",
       "    <tr>\n",
       "      <th>good_work</th>\n",
       "      <td>0.004749</td>\n",
       "      <td>0.004665</td>\n",
       "      <td>-0.076158</td>\n",
       "      <td>-0.027359</td>\n",
       "      <td>1.000000</td>\n",
       "      <td>0.006269</td>\n",
       "      <td>0.005738</td>\n",
       "      <td>0.073041</td>\n",
       "      <td>-0.003624</td>\n",
       "      <td>-0.008535</td>\n",
       "      <td>...</td>\n",
       "      <td>0.071952</td>\n",
       "      <td>-0.005883</td>\n",
       "      <td>-0.053076</td>\n",
       "      <td>0.007454</td>\n",
       "      <td>0.033797</td>\n",
       "      <td>-0.005894</td>\n",
       "      <td>-0.005661</td>\n",
       "      <td>-0.064489</td>\n",
       "      <td>-0.032853</td>\n",
       "      <td>-0.032853</td>\n",
       "    </tr>\n",
       "    <tr>\n",
       "      <th>score_bki</th>\n",
       "      <td>-0.063293</td>\n",
       "      <td>-0.063605</td>\n",
       "      <td>-0.106275</td>\n",
       "      <td>0.189987</td>\n",
       "      <td>0.006269</td>\n",
       "      <td>1.000000</td>\n",
       "      <td>0.156257</td>\n",
       "      <td>0.008959</td>\n",
       "      <td>0.013847</td>\n",
       "      <td>0.012648</td>\n",
       "      <td>...</td>\n",
       "      <td>0.110779</td>\n",
       "      <td>0.056824</td>\n",
       "      <td>-0.002553</td>\n",
       "      <td>0.989629</td>\n",
       "      <td>-0.210416</td>\n",
       "      <td>-0.134236</td>\n",
       "      <td>0.057322</td>\n",
       "      <td>-0.007569</td>\n",
       "      <td>0.208630</td>\n",
       "      <td>0.208630</td>\n",
       "    </tr>\n",
       "    <tr>\n",
       "      <th>bki_request_cnt</th>\n",
       "      <td>-0.029028</td>\n",
       "      <td>-0.029165</td>\n",
       "      <td>0.046265</td>\n",
       "      <td>0.155894</td>\n",
       "      <td>0.005738</td>\n",
       "      <td>0.156257</td>\n",
       "      <td>1.000000</td>\n",
       "      <td>0.009025</td>\n",
       "      <td>0.008183</td>\n",
       "      <td>0.005553</td>\n",
       "      <td>...</td>\n",
       "      <td>-0.053298</td>\n",
       "      <td>0.031030</td>\n",
       "      <td>-0.102123</td>\n",
       "      <td>0.159609</td>\n",
       "      <td>-0.155855</td>\n",
       "      <td>-0.862781</td>\n",
       "      <td>0.031036</td>\n",
       "      <td>-0.009960</td>\n",
       "      <td>0.154101</td>\n",
       "      <td>0.154101</td>\n",
       "    </tr>\n",
       "    <tr>\n",
       "      <th>region_rating</th>\n",
       "      <td>0.008233</td>\n",
       "      <td>0.007125</td>\n",
       "      <td>-0.089501</td>\n",
       "      <td>-0.038505</td>\n",
       "      <td>0.073041</td>\n",
       "      <td>0.008959</td>\n",
       "      <td>0.009025</td>\n",
       "      <td>1.000000</td>\n",
       "      <td>0.233820</td>\n",
       "      <td>0.253541</td>\n",
       "      <td>...</td>\n",
       "      <td>0.091062</td>\n",
       "      <td>0.001050</td>\n",
       "      <td>-0.324460</td>\n",
       "      <td>0.013637</td>\n",
       "      <td>0.041514</td>\n",
       "      <td>0.016855</td>\n",
       "      <td>0.001456</td>\n",
       "      <td>-0.986101</td>\n",
       "      <td>-0.041037</td>\n",
       "      <td>-0.041037</td>\n",
       "    </tr>\n",
       "    <tr>\n",
       "      <th>home_address</th>\n",
       "      <td>0.165555</td>\n",
       "      <td>0.164086</td>\n",
       "      <td>0.010392</td>\n",
       "      <td>0.012530</td>\n",
       "      <td>-0.003624</td>\n",
       "      <td>0.013847</td>\n",
       "      <td>0.008183</td>\n",
       "      <td>0.233820</td>\n",
       "      <td>1.000000</td>\n",
       "      <td>0.728139</td>\n",
       "      <td>...</td>\n",
       "      <td>0.003454</td>\n",
       "      <td>-0.127944</td>\n",
       "      <td>-0.051742</td>\n",
       "      <td>0.015653</td>\n",
       "      <td>-0.011022</td>\n",
       "      <td>-0.003216</td>\n",
       "      <td>-0.129834</td>\n",
       "      <td>-0.203666</td>\n",
       "      <td>0.010937</td>\n",
       "      <td>0.010937</td>\n",
       "    </tr>\n",
       "    <tr>\n",
       "      <th>work_address</th>\n",
       "      <td>0.165777</td>\n",
       "      <td>0.164073</td>\n",
       "      <td>-0.006299</td>\n",
       "      <td>0.016234</td>\n",
       "      <td>-0.008535</td>\n",
       "      <td>0.012648</td>\n",
       "      <td>0.005553</td>\n",
       "      <td>0.253541</td>\n",
       "      <td>0.728139</td>\n",
       "      <td>1.000000</td>\n",
       "      <td>...</td>\n",
       "      <td>0.018445</td>\n",
       "      <td>-0.129039</td>\n",
       "      <td>-0.073568</td>\n",
       "      <td>0.014648</td>\n",
       "      <td>-0.018065</td>\n",
       "      <td>0.000489</td>\n",
       "      <td>-0.130850</td>\n",
       "      <td>-0.226996</td>\n",
       "      <td>0.018043</td>\n",
       "      <td>0.018043</td>\n",
       "    </tr>\n",
       "    <tr>\n",
       "      <th>income</th>\n",
       "      <td>-0.000099</td>\n",
       "      <td>-0.000454</td>\n",
       "      <td>-0.018900</td>\n",
       "      <td>-0.021687</td>\n",
       "      <td>0.022705</td>\n",
       "      <td>-0.012639</td>\n",
       "      <td>0.082983</td>\n",
       "      <td>0.205674</td>\n",
       "      <td>0.038343</td>\n",
       "      <td>0.049721</td>\n",
       "      <td>...</td>\n",
       "      <td>-0.004839</td>\n",
       "      <td>0.003275</td>\n",
       "      <td>-0.742616</td>\n",
       "      <td>-0.006744</td>\n",
       "      <td>0.027689</td>\n",
       "      <td>-0.055164</td>\n",
       "      <td>0.003332</td>\n",
       "      <td>-0.191552</td>\n",
       "      <td>-0.027571</td>\n",
       "      <td>-0.027571</td>\n",
       "    </tr>\n",
       "    <tr>\n",
       "      <th>sna</th>\n",
       "      <td>-0.004195</td>\n",
       "      <td>-0.004118</td>\n",
       "      <td>-0.059542</td>\n",
       "      <td>0.065297</td>\n",
       "      <td>-0.054041</td>\n",
       "      <td>0.067623</td>\n",
       "      <td>0.005139</td>\n",
       "      <td>-0.078199</td>\n",
       "      <td>0.115196</td>\n",
       "      <td>0.111114</td>\n",
       "      <td>...</td>\n",
       "      <td>0.073932</td>\n",
       "      <td>-0.002207</td>\n",
       "      <td>0.126838</td>\n",
       "      <td>0.066108</td>\n",
       "      <td>-0.070370</td>\n",
       "      <td>-0.010724</td>\n",
       "      <td>-0.001786</td>\n",
       "      <td>0.067290</td>\n",
       "      <td>0.070713</td>\n",
       "      <td>0.070713</td>\n",
       "    </tr>\n",
       "    <tr>\n",
       "      <th>first_time</th>\n",
       "      <td>0.017277</td>\n",
       "      <td>0.016932</td>\n",
       "      <td>0.079046</td>\n",
       "      <td>-0.069099</td>\n",
       "      <td>0.055821</td>\n",
       "      <td>-0.069122</td>\n",
       "      <td>0.014859</td>\n",
       "      <td>0.088777</td>\n",
       "      <td>-0.058476</td>\n",
       "      <td>-0.063202</td>\n",
       "      <td>...</td>\n",
       "      <td>-0.100466</td>\n",
       "      <td>-0.009479</td>\n",
       "      <td>-0.153598</td>\n",
       "      <td>-0.065805</td>\n",
       "      <td>0.076904</td>\n",
       "      <td>-0.009217</td>\n",
       "      <td>-0.009702</td>\n",
       "      <td>-0.080308</td>\n",
       "      <td>-0.076117</td>\n",
       "      <td>-0.076117</td>\n",
       "    </tr>\n",
       "    <tr>\n",
       "      <th>default</th>\n",
       "      <td>-0.039242</td>\n",
       "      <td>-0.039372</td>\n",
       "      <td>-0.025004</td>\n",
       "      <td>0.113682</td>\n",
       "      <td>-0.043361</td>\n",
       "      <td>0.175369</td>\n",
       "      <td>0.078242</td>\n",
       "      <td>-0.089035</td>\n",
       "      <td>0.084637</td>\n",
       "      <td>0.081582</td>\n",
       "      <td>...</td>\n",
       "      <td>0.026379</td>\n",
       "      <td>0.035184</td>\n",
       "      <td>0.056967</td>\n",
       "      <td>0.177676</td>\n",
       "      <td>-0.123133</td>\n",
       "      <td>-0.077002</td>\n",
       "      <td>0.035698</td>\n",
       "      <td>0.087990</td>\n",
       "      <td>0.123135</td>\n",
       "      <td>0.123135</td>\n",
       "    </tr>\n",
       "    <tr>\n",
       "      <th>TRAIN</th>\n",
       "      <td>NaN</td>\n",
       "      <td>NaN</td>\n",
       "      <td>NaN</td>\n",
       "      <td>NaN</td>\n",
       "      <td>NaN</td>\n",
       "      <td>NaN</td>\n",
       "      <td>NaN</td>\n",
       "      <td>NaN</td>\n",
       "      <td>NaN</td>\n",
       "      <td>NaN</td>\n",
       "      <td>...</td>\n",
       "      <td>NaN</td>\n",
       "      <td>NaN</td>\n",
       "      <td>NaN</td>\n",
       "      <td>NaN</td>\n",
       "      <td>NaN</td>\n",
       "      <td>NaN</td>\n",
       "      <td>NaN</td>\n",
       "      <td>NaN</td>\n",
       "      <td>NaN</td>\n",
       "      <td>NaN</td>\n",
       "    </tr>\n",
       "    <tr>\n",
       "      <th>education_NaN</th>\n",
       "      <td>-0.011157</td>\n",
       "      <td>-0.011272</td>\n",
       "      <td>0.013776</td>\n",
       "      <td>-0.013783</td>\n",
       "      <td>-0.002055</td>\n",
       "      <td>-0.005879</td>\n",
       "      <td>-0.006180</td>\n",
       "      <td>0.017661</td>\n",
       "      <td>0.004915</td>\n",
       "      <td>0.005384</td>\n",
       "      <td>...</td>\n",
       "      <td>-0.014763</td>\n",
       "      <td>0.008854</td>\n",
       "      <td>-0.001271</td>\n",
       "      <td>-0.005779</td>\n",
       "      <td>0.016046</td>\n",
       "      <td>0.009108</td>\n",
       "      <td>0.009128</td>\n",
       "      <td>-0.014574</td>\n",
       "      <td>-0.015573</td>\n",
       "      <td>-0.015573</td>\n",
       "    </tr>\n",
       "    <tr>\n",
       "      <th>education_dup</th>\n",
       "      <td>0.040353</td>\n",
       "      <td>0.040227</td>\n",
       "      <td>-0.127841</td>\n",
       "      <td>-0.030331</td>\n",
       "      <td>0.179605</td>\n",
       "      <td>-0.016561</td>\n",
       "      <td>0.034959</td>\n",
       "      <td>0.125382</td>\n",
       "      <td>0.001018</td>\n",
       "      <td>-0.000281</td>\n",
       "      <td>...</td>\n",
       "      <td>0.120767</td>\n",
       "      <td>-0.032232</td>\n",
       "      <td>-0.337547</td>\n",
       "      <td>-0.010420</td>\n",
       "      <td>0.038342</td>\n",
       "      <td>-0.019522</td>\n",
       "      <td>-0.032502</td>\n",
       "      <td>-0.116342</td>\n",
       "      <td>-0.037787</td>\n",
       "      <td>-0.037787</td>\n",
       "    </tr>\n",
       "    <tr>\n",
       "      <th>first_time_dup</th>\n",
       "      <td>0.017277</td>\n",
       "      <td>0.016932</td>\n",
       "      <td>0.079046</td>\n",
       "      <td>-0.069099</td>\n",
       "      <td>0.055821</td>\n",
       "      <td>-0.069122</td>\n",
       "      <td>0.014859</td>\n",
       "      <td>0.088777</td>\n",
       "      <td>-0.058476</td>\n",
       "      <td>-0.063202</td>\n",
       "      <td>...</td>\n",
       "      <td>-0.100466</td>\n",
       "      <td>-0.009479</td>\n",
       "      <td>-0.153598</td>\n",
       "      <td>-0.065805</td>\n",
       "      <td>0.076904</td>\n",
       "      <td>-0.009217</td>\n",
       "      <td>-0.009702</td>\n",
       "      <td>-0.080308</td>\n",
       "      <td>-0.076117</td>\n",
       "      <td>-0.076117</td>\n",
       "    </tr>\n",
       "    <tr>\n",
       "      <th>home_address_dup</th>\n",
       "      <td>0.165555</td>\n",
       "      <td>0.164086</td>\n",
       "      <td>0.010392</td>\n",
       "      <td>0.012530</td>\n",
       "      <td>-0.003624</td>\n",
       "      <td>0.013847</td>\n",
       "      <td>0.008183</td>\n",
       "      <td>0.233820</td>\n",
       "      <td>1.000000</td>\n",
       "      <td>0.728139</td>\n",
       "      <td>...</td>\n",
       "      <td>0.003454</td>\n",
       "      <td>-0.127944</td>\n",
       "      <td>-0.051742</td>\n",
       "      <td>0.015653</td>\n",
       "      <td>-0.011022</td>\n",
       "      <td>-0.003216</td>\n",
       "      <td>-0.129834</td>\n",
       "      <td>-0.203666</td>\n",
       "      <td>0.010937</td>\n",
       "      <td>0.010937</td>\n",
       "    </tr>\n",
       "    <tr>\n",
       "      <th>region_rating_dup</th>\n",
       "      <td>0.008233</td>\n",
       "      <td>0.007125</td>\n",
       "      <td>-0.089501</td>\n",
       "      <td>-0.038505</td>\n",
       "      <td>0.073041</td>\n",
       "      <td>0.008959</td>\n",
       "      <td>0.009025</td>\n",
       "      <td>1.000000</td>\n",
       "      <td>0.233820</td>\n",
       "      <td>0.253541</td>\n",
       "      <td>...</td>\n",
       "      <td>0.091062</td>\n",
       "      <td>0.001050</td>\n",
       "      <td>-0.324460</td>\n",
       "      <td>0.013637</td>\n",
       "      <td>0.041514</td>\n",
       "      <td>0.016855</td>\n",
       "      <td>0.001456</td>\n",
       "      <td>-0.986101</td>\n",
       "      <td>-0.041037</td>\n",
       "      <td>-0.041037</td>\n",
       "    </tr>\n",
       "    <tr>\n",
       "      <th>region_rating_dup_dup</th>\n",
       "      <td>0.008233</td>\n",
       "      <td>0.007125</td>\n",
       "      <td>-0.089501</td>\n",
       "      <td>-0.038505</td>\n",
       "      <td>0.073041</td>\n",
       "      <td>0.008959</td>\n",
       "      <td>0.009025</td>\n",
       "      <td>1.000000</td>\n",
       "      <td>0.233820</td>\n",
       "      <td>0.253541</td>\n",
       "      <td>...</td>\n",
       "      <td>0.091062</td>\n",
       "      <td>0.001050</td>\n",
       "      <td>-0.324460</td>\n",
       "      <td>0.013637</td>\n",
       "      <td>0.041514</td>\n",
       "      <td>0.016855</td>\n",
       "      <td>0.001456</td>\n",
       "      <td>-0.986101</td>\n",
       "      <td>-0.041037</td>\n",
       "      <td>-0.041037</td>\n",
       "    </tr>\n",
       "    <tr>\n",
       "      <th>sna_dup</th>\n",
       "      <td>-0.004195</td>\n",
       "      <td>-0.004118</td>\n",
       "      <td>-0.059542</td>\n",
       "      <td>0.065297</td>\n",
       "      <td>-0.054041</td>\n",
       "      <td>0.067623</td>\n",
       "      <td>0.005139</td>\n",
       "      <td>-0.078199</td>\n",
       "      <td>0.115196</td>\n",
       "      <td>0.111114</td>\n",
       "      <td>...</td>\n",
       "      <td>0.073932</td>\n",
       "      <td>-0.002207</td>\n",
       "      <td>0.126838</td>\n",
       "      <td>0.066108</td>\n",
       "      <td>-0.070370</td>\n",
       "      <td>-0.010724</td>\n",
       "      <td>-0.001786</td>\n",
       "      <td>0.067290</td>\n",
       "      <td>0.070713</td>\n",
       "      <td>0.070713</td>\n",
       "    </tr>\n",
       "    <tr>\n",
       "      <th>work_address_dup</th>\n",
       "      <td>0.165777</td>\n",
       "      <td>0.164073</td>\n",
       "      <td>-0.006299</td>\n",
       "      <td>0.016234</td>\n",
       "      <td>-0.008535</td>\n",
       "      <td>0.012648</td>\n",
       "      <td>0.005553</td>\n",
       "      <td>0.253541</td>\n",
       "      <td>0.728139</td>\n",
       "      <td>1.000000</td>\n",
       "      <td>...</td>\n",
       "      <td>0.018445</td>\n",
       "      <td>-0.129039</td>\n",
       "      <td>-0.073568</td>\n",
       "      <td>0.014648</td>\n",
       "      <td>-0.018065</td>\n",
       "      <td>0.000489</td>\n",
       "      <td>-0.130850</td>\n",
       "      <td>-0.226996</td>\n",
       "      <td>0.018043</td>\n",
       "      <td>0.018043</td>\n",
       "    </tr>\n",
       "    <tr>\n",
       "      <th>age_1</th>\n",
       "      <td>-0.017246</td>\n",
       "      <td>-0.017482</td>\n",
       "      <td>-0.981577</td>\n",
       "      <td>0.119442</td>\n",
       "      <td>0.071952</td>\n",
       "      <td>0.110779</td>\n",
       "      <td>-0.053298</td>\n",
       "      <td>0.091062</td>\n",
       "      <td>0.003454</td>\n",
       "      <td>0.018445</td>\n",
       "      <td>...</td>\n",
       "      <td>1.000000</td>\n",
       "      <td>0.017008</td>\n",
       "      <td>-0.080194</td>\n",
       "      <td>0.105914</td>\n",
       "      <td>-0.128249</td>\n",
       "      <td>0.049663</td>\n",
       "      <td>0.017404</td>\n",
       "      <td>-0.089749</td>\n",
       "      <td>0.126889</td>\n",
       "      <td>0.126889</td>\n",
       "    </tr>\n",
       "    <tr>\n",
       "      <th>client_id_1</th>\n",
       "      <td>-0.961025</td>\n",
       "      <td>-0.962536</td>\n",
       "      <td>-0.015887</td>\n",
       "      <td>0.019183</td>\n",
       "      <td>-0.005883</td>\n",
       "      <td>0.056824</td>\n",
       "      <td>0.031030</td>\n",
       "      <td>0.001050</td>\n",
       "      <td>-0.127944</td>\n",
       "      <td>-0.129039</td>\n",
       "      <td>...</td>\n",
       "      <td>0.017008</td>\n",
       "      <td>1.000000</td>\n",
       "      <td>-0.002170</td>\n",
       "      <td>0.057384</td>\n",
       "      <td>-0.018801</td>\n",
       "      <td>-0.009893</td>\n",
       "      <td>0.999215</td>\n",
       "      <td>-0.000449</td>\n",
       "      <td>0.019815</td>\n",
       "      <td>0.019815</td>\n",
       "    </tr>\n",
       "    <tr>\n",
       "      <th>income_1</th>\n",
       "      <td>-0.001951</td>\n",
       "      <td>-0.001533</td>\n",
       "      <td>0.116451</td>\n",
       "      <td>0.010566</td>\n",
       "      <td>-0.053076</td>\n",
       "      <td>-0.002553</td>\n",
       "      <td>-0.102123</td>\n",
       "      <td>-0.324460</td>\n",
       "      <td>-0.051742</td>\n",
       "      <td>-0.073568</td>\n",
       "      <td>...</td>\n",
       "      <td>-0.080194</td>\n",
       "      <td>-0.002170</td>\n",
       "      <td>1.000000</td>\n",
       "      <td>-0.007262</td>\n",
       "      <td>-0.015812</td>\n",
       "      <td>0.074713</td>\n",
       "      <td>-0.002304</td>\n",
       "      <td>0.304257</td>\n",
       "      <td>0.015749</td>\n",
       "      <td>0.015749</td>\n",
       "    </tr>\n",
       "    <tr>\n",
       "      <th>score_bki_1</th>\n",
       "      <td>-0.063788</td>\n",
       "      <td>-0.064134</td>\n",
       "      <td>-0.101371</td>\n",
       "      <td>0.194028</td>\n",
       "      <td>0.007454</td>\n",
       "      <td>0.989629</td>\n",
       "      <td>0.159609</td>\n",
       "      <td>0.013637</td>\n",
       "      <td>0.015653</td>\n",
       "      <td>0.014648</td>\n",
       "      <td>...</td>\n",
       "      <td>0.105914</td>\n",
       "      <td>0.057384</td>\n",
       "      <td>-0.007262</td>\n",
       "      <td>1.000000</td>\n",
       "      <td>-0.213086</td>\n",
       "      <td>-0.131992</td>\n",
       "      <td>0.057898</td>\n",
       "      <td>-0.011842</td>\n",
       "      <td>0.211337</td>\n",
       "      <td>0.211337</td>\n",
       "    </tr>\n",
       "    <tr>\n",
       "      <th>decline_app_cnt_1</th>\n",
       "      <td>0.021831</td>\n",
       "      <td>0.021737</td>\n",
       "      <td>0.120531</td>\n",
       "      <td>-0.870573</td>\n",
       "      <td>0.033797</td>\n",
       "      <td>-0.210416</td>\n",
       "      <td>-0.155855</td>\n",
       "      <td>0.041514</td>\n",
       "      <td>-0.011022</td>\n",
       "      <td>-0.018065</td>\n",
       "      <td>...</td>\n",
       "      <td>-0.128249</td>\n",
       "      <td>-0.018801</td>\n",
       "      <td>-0.015812</td>\n",
       "      <td>-0.213086</td>\n",
       "      <td>1.000000</td>\n",
       "      <td>0.116277</td>\n",
       "      <td>-0.019025</td>\n",
       "      <td>-0.040393</td>\n",
       "      <td>-0.985312</td>\n",
       "      <td>-0.985312</td>\n",
       "    </tr>\n",
       "    <tr>\n",
       "      <th>bki_request_cnt_1</th>\n",
       "      <td>0.006537</td>\n",
       "      <td>0.006584</td>\n",
       "      <td>-0.043311</td>\n",
       "      <td>-0.106051</td>\n",
       "      <td>-0.005894</td>\n",
       "      <td>-0.134236</td>\n",
       "      <td>-0.862781</td>\n",
       "      <td>0.016855</td>\n",
       "      <td>-0.003216</td>\n",
       "      <td>0.000489</td>\n",
       "      <td>...</td>\n",
       "      <td>0.049663</td>\n",
       "      <td>-0.009893</td>\n",
       "      <td>0.074713</td>\n",
       "      <td>-0.131992</td>\n",
       "      <td>0.116277</td>\n",
       "      <td>1.000000</td>\n",
       "      <td>-0.009624</td>\n",
       "      <td>-0.015090</td>\n",
       "      <td>-0.114385</td>\n",
       "      <td>-0.114385</td>\n",
       "    </tr>\n",
       "    <tr>\n",
       "      <th>app_date_1</th>\n",
       "      <td>-0.964250</td>\n",
       "      <td>-0.966438</td>\n",
       "      <td>-0.016278</td>\n",
       "      <td>0.019377</td>\n",
       "      <td>-0.005661</td>\n",
       "      <td>0.057322</td>\n",
       "      <td>0.031036</td>\n",
       "      <td>0.001456</td>\n",
       "      <td>-0.129834</td>\n",
       "      <td>-0.130850</td>\n",
       "      <td>...</td>\n",
       "      <td>0.017404</td>\n",
       "      <td>0.999215</td>\n",
       "      <td>-0.002304</td>\n",
       "      <td>0.057898</td>\n",
       "      <td>-0.019025</td>\n",
       "      <td>-0.009624</td>\n",
       "      <td>1.000000</td>\n",
       "      <td>-0.000836</td>\n",
       "      <td>0.019984</td>\n",
       "      <td>0.019984</td>\n",
       "    </tr>\n",
       "    <tr>\n",
       "      <th>region_rating_dup_dup_1</th>\n",
       "      <td>-0.008209</td>\n",
       "      <td>-0.007162</td>\n",
       "      <td>0.088668</td>\n",
       "      <td>0.037774</td>\n",
       "      <td>-0.064489</td>\n",
       "      <td>-0.007569</td>\n",
       "      <td>-0.009960</td>\n",
       "      <td>-0.986101</td>\n",
       "      <td>-0.203666</td>\n",
       "      <td>-0.226996</td>\n",
       "      <td>...</td>\n",
       "      <td>-0.089749</td>\n",
       "      <td>-0.000449</td>\n",
       "      <td>0.304257</td>\n",
       "      <td>-0.011842</td>\n",
       "      <td>-0.040393</td>\n",
       "      <td>-0.015090</td>\n",
       "      <td>-0.000836</td>\n",
       "      <td>1.000000</td>\n",
       "      <td>0.039944</td>\n",
       "      <td>0.039944</td>\n",
       "    </tr>\n",
       "    <tr>\n",
       "      <th>decline_app_cnt_dup</th>\n",
       "      <td>-0.022887</td>\n",
       "      <td>-0.022770</td>\n",
       "      <td>-0.119293</td>\n",
       "      <td>0.867246</td>\n",
       "      <td>-0.032853</td>\n",
       "      <td>0.208630</td>\n",
       "      <td>0.154101</td>\n",
       "      <td>-0.041037</td>\n",
       "      <td>0.010937</td>\n",
       "      <td>0.018043</td>\n",
       "      <td>...</td>\n",
       "      <td>0.126889</td>\n",
       "      <td>0.019815</td>\n",
       "      <td>0.015749</td>\n",
       "      <td>0.211337</td>\n",
       "      <td>-0.985312</td>\n",
       "      <td>-0.114385</td>\n",
       "      <td>0.019984</td>\n",
       "      <td>0.039944</td>\n",
       "      <td>1.000000</td>\n",
       "      <td>1.000000</td>\n",
       "    </tr>\n",
       "    <tr>\n",
       "      <th>decline_app_cnt_dup_dup</th>\n",
       "      <td>-0.022887</td>\n",
       "      <td>-0.022770</td>\n",
       "      <td>-0.119293</td>\n",
       "      <td>0.867246</td>\n",
       "      <td>-0.032853</td>\n",
       "      <td>0.208630</td>\n",
       "      <td>0.154101</td>\n",
       "      <td>-0.041037</td>\n",
       "      <td>0.010937</td>\n",
       "      <td>0.018043</td>\n",
       "      <td>...</td>\n",
       "      <td>0.126889</td>\n",
       "      <td>0.019815</td>\n",
       "      <td>0.015749</td>\n",
       "      <td>0.211337</td>\n",
       "      <td>-0.985312</td>\n",
       "      <td>-0.114385</td>\n",
       "      <td>0.019984</td>\n",
       "      <td>0.039944</td>\n",
       "      <td>1.000000</td>\n",
       "      <td>1.000000</td>\n",
       "    </tr>\n",
       "  </tbody>\n",
       "</table>\n",
       "<p>33 rows × 33 columns</p>\n",
       "</div>"
      ],
      "text/plain": [
       "                         client_id  app_date       age  decline_app_cnt  \\\n",
       "client_id                 1.000000  0.999582  0.015435        -0.021417   \n",
       "app_date                  0.999582  1.000000  0.015676        -0.021352   \n",
       "age                       0.015435  0.015676  1.000000        -0.111175   \n",
       "decline_app_cnt          -0.021417 -0.021352 -0.111175         1.000000   \n",
       "good_work                 0.004749  0.004665 -0.076158        -0.027359   \n",
       "score_bki                -0.063293 -0.063605 -0.106275         0.189987   \n",
       "bki_request_cnt          -0.029028 -0.029165  0.046265         0.155894   \n",
       "region_rating             0.008233  0.007125 -0.089501        -0.038505   \n",
       "home_address              0.165555  0.164086  0.010392         0.012530   \n",
       "work_address              0.165777  0.164073 -0.006299         0.016234   \n",
       "income                   -0.000099 -0.000454 -0.018900        -0.021687   \n",
       "sna                      -0.004195 -0.004118 -0.059542         0.065297   \n",
       "first_time                0.017277  0.016932  0.079046        -0.069099   \n",
       "default                  -0.039242 -0.039372 -0.025004         0.113682   \n",
       "TRAIN                          NaN       NaN       NaN              NaN   \n",
       "education_NaN            -0.011157 -0.011272  0.013776        -0.013783   \n",
       "education_dup             0.040353  0.040227 -0.127841        -0.030331   \n",
       "first_time_dup            0.017277  0.016932  0.079046        -0.069099   \n",
       "home_address_dup          0.165555  0.164086  0.010392         0.012530   \n",
       "region_rating_dup         0.008233  0.007125 -0.089501        -0.038505   \n",
       "region_rating_dup_dup     0.008233  0.007125 -0.089501        -0.038505   \n",
       "sna_dup                  -0.004195 -0.004118 -0.059542         0.065297   \n",
       "work_address_dup          0.165777  0.164073 -0.006299         0.016234   \n",
       "age_1                    -0.017246 -0.017482 -0.981577         0.119442   \n",
       "client_id_1              -0.961025 -0.962536 -0.015887         0.019183   \n",
       "income_1                 -0.001951 -0.001533  0.116451         0.010566   \n",
       "score_bki_1              -0.063788 -0.064134 -0.101371         0.194028   \n",
       "decline_app_cnt_1         0.021831  0.021737  0.120531        -0.870573   \n",
       "bki_request_cnt_1         0.006537  0.006584 -0.043311        -0.106051   \n",
       "app_date_1               -0.964250 -0.966438 -0.016278         0.019377   \n",
       "region_rating_dup_dup_1  -0.008209 -0.007162  0.088668         0.037774   \n",
       "decline_app_cnt_dup      -0.022887 -0.022770 -0.119293         0.867246   \n",
       "decline_app_cnt_dup_dup  -0.022887 -0.022770 -0.119293         0.867246   \n",
       "\n",
       "                         good_work  score_bki  bki_request_cnt  region_rating  \\\n",
       "client_id                 0.004749  -0.063293        -0.029028       0.008233   \n",
       "app_date                  0.004665  -0.063605        -0.029165       0.007125   \n",
       "age                      -0.076158  -0.106275         0.046265      -0.089501   \n",
       "decline_app_cnt          -0.027359   0.189987         0.155894      -0.038505   \n",
       "good_work                 1.000000   0.006269         0.005738       0.073041   \n",
       "score_bki                 0.006269   1.000000         0.156257       0.008959   \n",
       "bki_request_cnt           0.005738   0.156257         1.000000       0.009025   \n",
       "region_rating             0.073041   0.008959         0.009025       1.000000   \n",
       "home_address             -0.003624   0.013847         0.008183       0.233820   \n",
       "work_address             -0.008535   0.012648         0.005553       0.253541   \n",
       "income                    0.022705  -0.012639         0.082983       0.205674   \n",
       "sna                      -0.054041   0.067623         0.005139      -0.078199   \n",
       "first_time                0.055821  -0.069122         0.014859       0.088777   \n",
       "default                  -0.043361   0.175369         0.078242      -0.089035   \n",
       "TRAIN                          NaN        NaN              NaN            NaN   \n",
       "education_NaN            -0.002055  -0.005879        -0.006180       0.017661   \n",
       "education_dup             0.179605  -0.016561         0.034959       0.125382   \n",
       "first_time_dup            0.055821  -0.069122         0.014859       0.088777   \n",
       "home_address_dup         -0.003624   0.013847         0.008183       0.233820   \n",
       "region_rating_dup         0.073041   0.008959         0.009025       1.000000   \n",
       "region_rating_dup_dup     0.073041   0.008959         0.009025       1.000000   \n",
       "sna_dup                  -0.054041   0.067623         0.005139      -0.078199   \n",
       "work_address_dup         -0.008535   0.012648         0.005553       0.253541   \n",
       "age_1                     0.071952   0.110779        -0.053298       0.091062   \n",
       "client_id_1              -0.005883   0.056824         0.031030       0.001050   \n",
       "income_1                 -0.053076  -0.002553        -0.102123      -0.324460   \n",
       "score_bki_1               0.007454   0.989629         0.159609       0.013637   \n",
       "decline_app_cnt_1         0.033797  -0.210416        -0.155855       0.041514   \n",
       "bki_request_cnt_1        -0.005894  -0.134236        -0.862781       0.016855   \n",
       "app_date_1               -0.005661   0.057322         0.031036       0.001456   \n",
       "region_rating_dup_dup_1  -0.064489  -0.007569        -0.009960      -0.986101   \n",
       "decline_app_cnt_dup      -0.032853   0.208630         0.154101      -0.041037   \n",
       "decline_app_cnt_dup_dup  -0.032853   0.208630         0.154101      -0.041037   \n",
       "\n",
       "                         home_address  work_address  ...     age_1  \\\n",
       "client_id                    0.165555      0.165777  ... -0.017246   \n",
       "app_date                     0.164086      0.164073  ... -0.017482   \n",
       "age                          0.010392     -0.006299  ... -0.981577   \n",
       "decline_app_cnt              0.012530      0.016234  ...  0.119442   \n",
       "good_work                   -0.003624     -0.008535  ...  0.071952   \n",
       "score_bki                    0.013847      0.012648  ...  0.110779   \n",
       "bki_request_cnt              0.008183      0.005553  ... -0.053298   \n",
       "region_rating                0.233820      0.253541  ...  0.091062   \n",
       "home_address                 1.000000      0.728139  ...  0.003454   \n",
       "work_address                 0.728139      1.000000  ...  0.018445   \n",
       "income                       0.038343      0.049721  ... -0.004839   \n",
       "sna                          0.115196      0.111114  ...  0.073932   \n",
       "first_time                  -0.058476     -0.063202  ... -0.100466   \n",
       "default                      0.084637      0.081582  ...  0.026379   \n",
       "TRAIN                             NaN           NaN  ...       NaN   \n",
       "education_NaN                0.004915      0.005384  ... -0.014763   \n",
       "education_dup                0.001018     -0.000281  ...  0.120767   \n",
       "first_time_dup              -0.058476     -0.063202  ... -0.100466   \n",
       "home_address_dup             1.000000      0.728139  ...  0.003454   \n",
       "region_rating_dup            0.233820      0.253541  ...  0.091062   \n",
       "region_rating_dup_dup        0.233820      0.253541  ...  0.091062   \n",
       "sna_dup                      0.115196      0.111114  ...  0.073932   \n",
       "work_address_dup             0.728139      1.000000  ...  0.018445   \n",
       "age_1                        0.003454      0.018445  ...  1.000000   \n",
       "client_id_1                 -0.127944     -0.129039  ...  0.017008   \n",
       "income_1                    -0.051742     -0.073568  ... -0.080194   \n",
       "score_bki_1                  0.015653      0.014648  ...  0.105914   \n",
       "decline_app_cnt_1           -0.011022     -0.018065  ... -0.128249   \n",
       "bki_request_cnt_1           -0.003216      0.000489  ...  0.049663   \n",
       "app_date_1                  -0.129834     -0.130850  ...  0.017404   \n",
       "region_rating_dup_dup_1     -0.203666     -0.226996  ... -0.089749   \n",
       "decline_app_cnt_dup          0.010937      0.018043  ...  0.126889   \n",
       "decline_app_cnt_dup_dup      0.010937      0.018043  ...  0.126889   \n",
       "\n",
       "                         client_id_1  income_1  score_bki_1  \\\n",
       "client_id                  -0.961025 -0.001951    -0.063788   \n",
       "app_date                   -0.962536 -0.001533    -0.064134   \n",
       "age                        -0.015887  0.116451    -0.101371   \n",
       "decline_app_cnt             0.019183  0.010566     0.194028   \n",
       "good_work                  -0.005883 -0.053076     0.007454   \n",
       "score_bki                   0.056824 -0.002553     0.989629   \n",
       "bki_request_cnt             0.031030 -0.102123     0.159609   \n",
       "region_rating               0.001050 -0.324460     0.013637   \n",
       "home_address               -0.127944 -0.051742     0.015653   \n",
       "work_address               -0.129039 -0.073568     0.014648   \n",
       "income                      0.003275 -0.742616    -0.006744   \n",
       "sna                        -0.002207  0.126838     0.066108   \n",
       "first_time                 -0.009479 -0.153598    -0.065805   \n",
       "default                     0.035184  0.056967     0.177676   \n",
       "TRAIN                            NaN       NaN          NaN   \n",
       "education_NaN               0.008854 -0.001271    -0.005779   \n",
       "education_dup              -0.032232 -0.337547    -0.010420   \n",
       "first_time_dup             -0.009479 -0.153598    -0.065805   \n",
       "home_address_dup           -0.127944 -0.051742     0.015653   \n",
       "region_rating_dup           0.001050 -0.324460     0.013637   \n",
       "region_rating_dup_dup       0.001050 -0.324460     0.013637   \n",
       "sna_dup                    -0.002207  0.126838     0.066108   \n",
       "work_address_dup           -0.129039 -0.073568     0.014648   \n",
       "age_1                       0.017008 -0.080194     0.105914   \n",
       "client_id_1                 1.000000 -0.002170     0.057384   \n",
       "income_1                   -0.002170  1.000000    -0.007262   \n",
       "score_bki_1                 0.057384 -0.007262     1.000000   \n",
       "decline_app_cnt_1          -0.018801 -0.015812    -0.213086   \n",
       "bki_request_cnt_1          -0.009893  0.074713    -0.131992   \n",
       "app_date_1                  0.999215 -0.002304     0.057898   \n",
       "region_rating_dup_dup_1    -0.000449  0.304257    -0.011842   \n",
       "decline_app_cnt_dup         0.019815  0.015749     0.211337   \n",
       "decline_app_cnt_dup_dup     0.019815  0.015749     0.211337   \n",
       "\n",
       "                         decline_app_cnt_1  bki_request_cnt_1  app_date_1  \\\n",
       "client_id                         0.021831           0.006537   -0.964250   \n",
       "app_date                          0.021737           0.006584   -0.966438   \n",
       "age                               0.120531          -0.043311   -0.016278   \n",
       "decline_app_cnt                  -0.870573          -0.106051    0.019377   \n",
       "good_work                         0.033797          -0.005894   -0.005661   \n",
       "score_bki                        -0.210416          -0.134236    0.057322   \n",
       "bki_request_cnt                  -0.155855          -0.862781    0.031036   \n",
       "region_rating                     0.041514           0.016855    0.001456   \n",
       "home_address                     -0.011022          -0.003216   -0.129834   \n",
       "work_address                     -0.018065           0.000489   -0.130850   \n",
       "income                            0.027689          -0.055164    0.003332   \n",
       "sna                              -0.070370          -0.010724   -0.001786   \n",
       "first_time                        0.076904          -0.009217   -0.009702   \n",
       "default                          -0.123133          -0.077002    0.035698   \n",
       "TRAIN                                  NaN                NaN         NaN   \n",
       "education_NaN                     0.016046           0.009108    0.009128   \n",
       "education_dup                     0.038342          -0.019522   -0.032502   \n",
       "first_time_dup                    0.076904          -0.009217   -0.009702   \n",
       "home_address_dup                 -0.011022          -0.003216   -0.129834   \n",
       "region_rating_dup                 0.041514           0.016855    0.001456   \n",
       "region_rating_dup_dup             0.041514           0.016855    0.001456   \n",
       "sna_dup                          -0.070370          -0.010724   -0.001786   \n",
       "work_address_dup                 -0.018065           0.000489   -0.130850   \n",
       "age_1                            -0.128249           0.049663    0.017404   \n",
       "client_id_1                      -0.018801          -0.009893    0.999215   \n",
       "income_1                         -0.015812           0.074713   -0.002304   \n",
       "score_bki_1                      -0.213086          -0.131992    0.057898   \n",
       "decline_app_cnt_1                 1.000000           0.116277   -0.019025   \n",
       "bki_request_cnt_1                 0.116277           1.000000   -0.009624   \n",
       "app_date_1                       -0.019025          -0.009624    1.000000   \n",
       "region_rating_dup_dup_1          -0.040393          -0.015090   -0.000836   \n",
       "decline_app_cnt_dup              -0.985312          -0.114385    0.019984   \n",
       "decline_app_cnt_dup_dup          -0.985312          -0.114385    0.019984   \n",
       "\n",
       "                         region_rating_dup_dup_1  decline_app_cnt_dup  \\\n",
       "client_id                              -0.008209            -0.022887   \n",
       "app_date                               -0.007162            -0.022770   \n",
       "age                                     0.088668            -0.119293   \n",
       "decline_app_cnt                         0.037774             0.867246   \n",
       "good_work                              -0.064489            -0.032853   \n",
       "score_bki                              -0.007569             0.208630   \n",
       "bki_request_cnt                        -0.009960             0.154101   \n",
       "region_rating                          -0.986101            -0.041037   \n",
       "home_address                           -0.203666             0.010937   \n",
       "work_address                           -0.226996             0.018043   \n",
       "income                                 -0.191552            -0.027571   \n",
       "sna                                     0.067290             0.070713   \n",
       "first_time                             -0.080308            -0.076117   \n",
       "default                                 0.087990             0.123135   \n",
       "TRAIN                                        NaN                  NaN   \n",
       "education_NaN                          -0.014574            -0.015573   \n",
       "education_dup                          -0.116342            -0.037787   \n",
       "first_time_dup                         -0.080308            -0.076117   \n",
       "home_address_dup                       -0.203666             0.010937   \n",
       "region_rating_dup                      -0.986101            -0.041037   \n",
       "region_rating_dup_dup                  -0.986101            -0.041037   \n",
       "sna_dup                                 0.067290             0.070713   \n",
       "work_address_dup                       -0.226996             0.018043   \n",
       "age_1                                  -0.089749             0.126889   \n",
       "client_id_1                            -0.000449             0.019815   \n",
       "income_1                                0.304257             0.015749   \n",
       "score_bki_1                            -0.011842             0.211337   \n",
       "decline_app_cnt_1                      -0.040393            -0.985312   \n",
       "bki_request_cnt_1                      -0.015090            -0.114385   \n",
       "app_date_1                             -0.000836             0.019984   \n",
       "region_rating_dup_dup_1                 1.000000             0.039944   \n",
       "decline_app_cnt_dup                     0.039944             1.000000   \n",
       "decline_app_cnt_dup_dup                 0.039944             1.000000   \n",
       "\n",
       "                         decline_app_cnt_dup_dup  \n",
       "client_id                              -0.022887  \n",
       "app_date                               -0.022770  \n",
       "age                                    -0.119293  \n",
       "decline_app_cnt                         0.867246  \n",
       "good_work                              -0.032853  \n",
       "score_bki                               0.208630  \n",
       "bki_request_cnt                         0.154101  \n",
       "region_rating                          -0.041037  \n",
       "home_address                            0.010937  \n",
       "work_address                            0.018043  \n",
       "income                                 -0.027571  \n",
       "sna                                     0.070713  \n",
       "first_time                             -0.076117  \n",
       "default                                 0.123135  \n",
       "TRAIN                                        NaN  \n",
       "education_NaN                          -0.015573  \n",
       "education_dup                          -0.037787  \n",
       "first_time_dup                         -0.076117  \n",
       "home_address_dup                        0.010937  \n",
       "region_rating_dup                      -0.041037  \n",
       "region_rating_dup_dup                  -0.041037  \n",
       "sna_dup                                 0.070713  \n",
       "work_address_dup                        0.018043  \n",
       "age_1                                   0.126889  \n",
       "client_id_1                             0.019815  \n",
       "income_1                                0.015749  \n",
       "score_bki_1                             0.211337  \n",
       "decline_app_cnt_1                      -0.985312  \n",
       "bki_request_cnt_1                      -0.114385  \n",
       "app_date_1                              0.019984  \n",
       "region_rating_dup_dup_1                 0.039944  \n",
       "decline_app_cnt_dup                     1.000000  \n",
       "decline_app_cnt_dup_dup                 1.000000  \n",
       "\n",
       "[33 rows x 33 columns]"
      ]
     },
     "execution_count": 25,
     "metadata": {},
     "output_type": "execute_result"
    }
   ],
   "source": [
    "# Calculate correlation matrix\n",
    "corr_table = df_join.loc[df_join[TRAIN] == 1].corr()\n",
    "corr_table"
   ]
  },
  {
   "cell_type": "code",
   "execution_count": 26,
   "metadata": {
    "execution": {
     "iopub.execute_input": "2020-08-25T07:06:33.447749Z",
     "iopub.status.busy": "2020-08-25T07:06:33.446521Z",
     "iopub.status.idle": "2020-08-25T07:06:34.108540Z",
     "shell.execute_reply": "2020-08-25T07:06:34.107816Z"
    },
    "papermill": {
     "duration": 0.765604,
     "end_time": "2020-08-25T07:06:34.108659",
     "exception": false,
     "start_time": "2020-08-25T07:06:33.343055",
     "status": "completed"
    },
    "tags": []
   },
   "outputs": [
    {
     "data": {
      "image/png": "[encoded data removed]",
      "text/plain": [
       "<Figure size 1296x576 with 2 Axes>"
      ]
     },
     "metadata": {
      "needs_background": "light"
     },
     "output_type": "display_data"
    }
   ],
   "source": [
    "# Show correlation matrix\n",
    "plt.subplots(figsize=(18, 8))\n",
    "sns.heatmap(corr_table, vmin=-1, vmax=1, cmap=\"RdBu\");"
   ]
  },
  {
   "cell_type": "code",
   "execution_count": 27,
   "metadata": {
    "execution": {
     "iopub.execute_input": "2020-08-25T07:06:34.168178Z",
     "iopub.status.busy": "2020-08-25T07:06:34.167441Z",
     "iopub.status.idle": "2020-08-25T07:06:34.174132Z",
     "shell.execute_reply": "2020-08-25T07:06:34.173450Z"
    },
    "papermill": {
     "duration": 0.038952,
     "end_time": "2020-08-25T07:06:34.174255",
     "exception": false,
     "start_time": "2020-08-25T07:06:34.135303",
     "status": "completed"
    },
    "tags": []
   },
   "outputs": [
    {
     "data": {
      "text/plain": [
       "default                    1.000000\n",
       "score_bki_1                0.177676\n",
       "score_bki                  0.175369\n",
       "sna                        0.125832\n",
       "sna_dup                    0.125832\n",
       "decline_app_cnt_dup_dup    0.123135\n",
       "decline_app_cnt_dup        0.123135\n",
       "decline_app_cnt_1          0.123133\n",
       "decline_app_cnt            0.113682\n",
       "first_time_dup             0.105579\n",
       "first_time                 0.105579\n",
       "region_rating              0.089035\n",
       "region_rating_dup_dup      0.089035\n",
       "region_rating_dup          0.089035\n",
       "region_rating_dup_dup_1    0.087990\n",
       "education_dup              0.085033\n",
       "home_address_dup           0.084637\n",
       "home_address               0.084637\n",
       "work_address_dup           0.081582\n",
       "work_address               0.081582\n",
       "bki_request_cnt            0.078242\n",
       "bki_request_cnt_1          0.077002\n",
       "income_1                   0.056967\n",
       "good_work                  0.043361\n",
       "income                     0.039752\n",
       "app_date                   0.039372\n",
       "client_id                  0.039242\n",
       "app_date_1                 0.035698\n",
       "client_id_1                0.035184\n",
       "age_1                      0.026379\n",
       "age                        0.025004\n",
       "education_NaN              0.002521\n",
       "TRAIN                           NaN\n",
       "Name: default, dtype: float64"
      ]
     },
     "execution_count": 27,
     "metadata": {},
     "output_type": "execute_result"
    }
   ],
   "source": [
    "# Sort absolute correlation values with target variable\n",
    "corr_table[TARGET].abs().sort_values(ascending=False)"
   ]
  },
  {
   "cell_type": "markdown",
   "execution_count": null,
   "metadata": {
    "papermill": {
     "duration": 0.024715,
     "end_time": "2020-08-25T07:06:34.226459",
     "exception": false,
     "start_time": "2020-08-25T07:06:34.201744",
     "status": "completed"
    },
    "tags": []
   },
   "source": [
    "## Significance analysis of quantity and ordinal features\n",
    "### Analysis of variance (ANOVA)"
   ]
  },
  {
   "cell_type": "code",
   "execution_count": 28,
   "metadata": {
    "execution": {
     "iopub.execute_input": "2020-08-25T07:06:34.285861Z",
     "iopub.status.busy": "2020-08-25T07:06:34.285230Z",
     "iopub.status.idle": "2020-08-25T07:06:34.288782Z",
     "shell.execute_reply": "2020-08-25T07:06:34.288209Z"
    },
    "papermill": {
     "duration": 0.037118,
     "end_time": "2020-08-25T07:06:34.288917",
     "exception": false,
     "start_time": "2020-08-25T07:06:34.251799",
     "status": "completed"
    },
    "scrolled": true,
    "tags": []
   },
   "outputs": [],
   "source": [
    "def anova_analysis(df):\n",
    "    \"\"\"Calculate and show significance of quantity and ordinal features based on ANOVA analysis\"\"\"\n",
    "    columns = quantity_cols + ordinal_cols\n",
    "    df_temp = df[columns + [TARGET]].dropna()\n",
    "    pd.Series(f_classif(df_temp[columns], df_temp[TARGET])[0], index=columns).sort_values().plot(figsize=(18, 6), kind='barh');"
   ]
  },
  {
   "cell_type": "code",
   "execution_count": 29,
   "metadata": {
    "execution": {
     "iopub.execute_input": "2020-08-25T07:06:34.346962Z",
     "iopub.status.busy": "2020-08-25T07:06:34.346044Z",
     "iopub.status.idle": "2020-08-25T07:06:34.632608Z",
     "shell.execute_reply": "2020-08-25T07:06:34.632063Z"
    },
    "papermill": {
     "duration": 0.316699,
     "end_time": "2020-08-25T07:06:34.632725",
     "exception": false,
     "start_time": "2020-08-25T07:06:34.316026",
     "status": "completed"
    },
    "tags": []
   },
   "outputs": [
    {
     "data": {
      "image/png": "[encoded data removed]",
      "text/plain": [
       "<Figure size 1296x432 with 1 Axes>"
      ]
     },
     "metadata": {
      "needs_background": "light"
     },
     "output_type": "display_data"
    }
   ],
   "source": [
    "# Do ANOVA analysis\n",
    "anova_analysis(df_join.loc[df_join[TRAIN] == 1])"
   ]
  },
  {
   "cell_type": "markdown",
   "execution_count": null,
   "metadata": {
    "papermill": {
     "duration": 0.024926,
     "end_time": "2020-08-25T07:06:34.683648",
     "exception": false,
     "start_time": "2020-08-25T07:06:34.658722",
     "status": "completed"
    },
    "tags": []
   },
   "source": [
    "## Significance analysis of categorical features\n",
    "### Student's t-test\n",
    "\n",
    "С помощью теста Стьюдента проверим есть ли статистически значимая разница в распределении целевой переменной для разных значений категориальных признаков. Проверяем нулевую гипотезу о том, что распределения целевой переменной по различным значениям категориальных переменных неразличимы."
   ]
  },
  {
   "cell_type": "code",
   "execution_count": 30,
   "metadata": {
    "execution": {
     "iopub.execute_input": "2020-08-25T07:06:34.759858Z",
     "iopub.status.busy": "2020-08-25T07:06:34.754966Z",
     "iopub.status.idle": "2020-08-25T07:06:34.767902Z",
     "shell.execute_reply": "2020-08-25T07:06:34.768368Z"
    },
    "papermill": {
     "duration": 0.059746,
     "end_time": "2020-08-25T07:06:34.768549",
     "exception": false,
     "start_time": "2020-08-25T07:06:34.708803",
     "status": "completed"
    },
    "tags": []
   },
   "outputs": [],
   "source": [
    "def hypothesis_testing(df):\n",
    "    \"\"\"Hypothesis testing of significance analysis\"\"\"\n",
    "    NUM_OF_VALS = 10\n",
    "\n",
    "    # Find not significant features\n",
    "    mask = {}\n",
    "    top_values = {}\n",
    "    not_signif_columns = []\n",
    "    for column in categ_cols:\n",
    "        # Find top NUM_OF_VALS values\n",
    "        top_values[column] = categorical_unique[column].index[:NUM_OF_VALS]\n",
    "\n",
    "        # Find boolean masks\n",
    "        mask[column] = {}\n",
    "        for value in top_values[column]:\n",
    "            if column in categ_multi_cols:\n",
    "                mask[column][value] = (df[column].str.contains('(?:^|\\|)'+value+'(?:$|\\|)')) & (df[TARGET].notna())\n",
    "            else:\n",
    "                mask[column][value] = (df[column] == value) & (df[TARGET].notna())\n",
    "\n",
    "        # Student t-test for value combinations\n",
    "        combs = list(combinations(top_values[column], 2))\n",
    "        for comb in combs:\n",
    "            if ttest_ind(df.loc[mask[column][comb[0]], TARGET], \n",
    "                         df.loc[mask[column][comb[1]], TARGET]) \\\n",
    "                            .pvalue <= 0.05/len(combs): # Bonferroni correction\n",
    "                break\n",
    "        else:\n",
    "            not_signif_columns.append(column)\n",
    "\n",
    "    # Show result\n",
    "    if len(not_signif_columns):\n",
    "        print('Statistically significant differences have NOT been found for features:')\n",
    "        for column in not_signif_columns:\n",
    "            print(f\"'{column}'\")\n",
    "    else:\n",
    "        print('All categorical features have statistically significant difference with target')\n",
    "        \n",
    "    return (top_values, mask)\n",
    "\n",
    "\n",
    "def boxplot_significance(df, top_values, mask):\n",
    "    \"\"\"Show boxplots of features to view significance\"\"\"\n",
    "    # Create figure with [rows x cols] graphs\n",
    "    rows = len(categ_cols)\n",
    "    fig, axs = plt.subplots(rows, figsize=(18, rows*4))\n",
    "\n",
    "    # Plot graphs\n",
    "    for i, column in enumerate(categ_cols):\n",
    "        if rows == 1:\n",
    "            axs.boxplot([df.loc[mask[column][value], TARGET] for value in top_values[column]], showmeans=True)\n",
    "            axs.set_title(column)\n",
    "            axs.set_xticklabels(top_values[column], rotation=5)\n",
    "            axs.set_ylabel(TARGET)\n",
    "        else:\n",
    "            axs[i].boxplot([df.loc[mask[column][value], TARGET] for value in top_values[column]], showmeans=True)\n",
    "            axs[i].set_title(column)\n",
    "            axs[i].set_xticklabels(top_values[column], rotation=5)\n",
    "            axs[i].set_ylabel(TARGET)"
   ]
  },
  {
   "cell_type": "code",
   "execution_count": 31,
   "metadata": {
    "_kg_hide-output": false,
    "execution": {
     "iopub.execute_input": "2020-08-25T07:06:34.829323Z",
     "iopub.status.busy": "2020-08-25T07:06:34.828700Z",
     "iopub.status.idle": "2020-08-25T07:06:37.157367Z",
     "shell.execute_reply": "2020-08-25T07:06:37.157884Z"
    },
    "papermill": {
     "duration": 2.361305,
     "end_time": "2020-08-25T07:06:37.158039",
     "exception": false,
     "start_time": "2020-08-25T07:06:34.796734",
     "status": "completed"
    },
    "tags": []
   },
   "outputs": [
    {
     "name": "stdout",
     "output_type": "stream",
     "text": [
      "Statistically significant differences have NOT been found for features:\n",
      "'education_NaN'\n"
     ]
    },
    {
     "data": {
      "image/png": "[encoded data removed]",
      "text/plain": [
       "<Figure size 1296x3744 with 13 Axes>"
      ]
     },
     "metadata": {
      "needs_background": "light"
     },
     "output_type": "display_data"
    }
   ],
   "source": [
    "# Do hypothesis testing and show boxplots of significant features\n",
    "top_values, mask = hypothesis_testing(df_join.loc[df_join[TRAIN] == 1])\n",
    "boxplot_significance(df_join.loc[df_join[TRAIN] == 1], top_values, mask)"
   ]
  },
  {
   "cell_type": "markdown",
   "execution_count": null,
   "metadata": {
    "papermill": {
     "duration": 0.027242,
     "end_time": "2020-08-25T07:06:37.212792",
     "exception": false,
     "start_time": "2020-08-25T07:06:37.185550",
     "status": "completed"
    },
    "tags": []
   },
   "source": [
    "### Mutual information"
   ]
  },
  {
   "cell_type": "code",
   "execution_count": 32,
   "metadata": {
    "execution": {
     "iopub.execute_input": "2020-08-25T07:06:37.275715Z",
     "iopub.status.busy": "2020-08-25T07:06:37.274883Z",
     "iopub.status.idle": "2020-08-25T07:06:37.278654Z",
     "shell.execute_reply": "2020-08-25T07:06:37.278027Z"
    },
    "papermill": {
     "duration": 0.038343,
     "end_time": "2020-08-25T07:06:37.278768",
     "exception": false,
     "start_time": "2020-08-25T07:06:37.240425",
     "status": "completed"
    },
    "tags": []
   },
   "outputs": [],
   "source": [
    "def mutual_information_analysis(df):\n",
    "    \"\"\"Calculate and show significance of categorical features based on mutual information analysis\"\"\"\n",
    "    columns = categ_bin_cols + categ_many_cols\n",
    "    df_temp = df[columns + [TARGET]].dropna()\n",
    "    pd.Series(mutual_info_classif(OrdinalEncoder().fit_transform(df_temp[columns]), df_temp[TARGET], discrete_features=True), index=columns).sort_values().plot(figsize=(18, 6), kind='barh');"
   ]
  },
  {
   "cell_type": "code",
   "execution_count": 33,
   "metadata": {
    "execution": {
     "iopub.execute_input": "2020-08-25T07:06:37.339753Z",
     "iopub.status.busy": "2020-08-25T07:06:37.339049Z",
     "iopub.status.idle": "2020-08-25T07:06:38.008848Z",
     "shell.execute_reply": "2020-08-25T07:06:38.009478Z"
    },
    "papermill": {
     "duration": 0.70378,
     "end_time": "2020-08-25T07:06:38.009625",
     "exception": false,
     "start_time": "2020-08-25T07:06:37.305845",
     "status": "completed"
    },
    "tags": []
   },
   "outputs": [
    {
     "data": {
      "image/png": "[encoded data removed]",
      "text/plain": [
       "<Figure size 1296x432 with 1 Axes>"
      ]
     },
     "metadata": {
      "needs_background": "light"
     },
     "output_type": "display_data"
    }
   ],
   "source": [
    "# Do mutual information analysis\n",
    "mutual_information_analysis(df_join.loc[df_join[TRAIN] == 1])"
   ]
  },
  {
   "cell_type": "markdown",
   "execution_count": null,
   "metadata": {
    "papermill": {
     "duration": 0.078984,
     "end_time": "2020-08-25T07:06:38.116605",
     "exception": false,
     "start_time": "2020-08-25T07:06:38.037621",
     "status": "completed"
    },
    "tags": []
   },
   "source": [
    "## Missing values handling"
   ]
  },
  {
   "cell_type": "code",
   "execution_count": 34,
   "metadata": {
    "execution": {
     "iopub.execute_input": "2020-08-25T07:06:38.186237Z",
     "iopub.status.busy": "2020-08-25T07:06:38.185472Z",
     "iopub.status.idle": "2020-08-25T07:06:38.189470Z",
     "shell.execute_reply": "2020-08-25T07:06:38.188921Z"
    },
    "papermill": {
     "duration": 0.044935,
     "end_time": "2020-08-25T07:06:38.189584",
     "exception": false,
     "start_time": "2020-08-25T07:06:38.144649",
     "status": "completed"
    },
    "tags": []
   },
   "outputs": [],
   "source": [
    "def fill_missing_values(df):\n",
    "    # Drop rows with missing values of target variable\n",
    "    nan_number = df[TARGET].isna().sum()\n",
    "    if nan_number:\n",
    "        df.dropna(subset=[TARGET], inplace=True)\n",
    "        print(f\"{nan_number} rows have been dropped in order to delete missed target values\")\n",
    "\n",
    "    # Fill missing values\n",
    "    for column in quantity_cols + ordinal_cols + categ_cols:\n",
    "        # Calculate number of replaced values\n",
    "        nan_number = df[column].isna().sum()\n",
    "        \n",
    "        if nan_number:\n",
    "            if column in quantity_cols:\n",
    "                value = df[column].mean()\n",
    "            elif column in ordinal_cols:\n",
    "                value = df[column].mode()[0]\n",
    "            elif column in categ_bin_cols:\n",
    "                value = categorical_unique[column].index[0]\n",
    "            elif column in categ_many_cols:\n",
    "                value = categorical_unique[column].index[0]\n",
    "\n",
    "            # Replace\n",
    "            df[column].fillna(value, inplace=True)\n",
    "            \n",
    "            # Show number of replaced values in column\n",
    "            print(f\"{str(nan_number).rjust(6)} NaN have been replaced in column '{column}'\")"
   ]
  },
  {
   "cell_type": "code",
   "execution_count": 35,
   "metadata": {
    "_kg_hide-output": true,
    "execution": {
     "iopub.execute_input": "2020-08-25T07:06:38.249193Z",
     "iopub.status.busy": "2020-08-25T07:06:38.248292Z",
     "iopub.status.idle": "2020-08-25T07:06:38.301353Z",
     "shell.execute_reply": "2020-08-25T07:06:38.300498Z"
    },
    "papermill": {
     "duration": 0.085023,
     "end_time": "2020-08-25T07:06:38.301528",
     "exception": false,
     "start_time": "2020-08-25T07:06:38.216505",
     "status": "completed"
    },
    "tags": []
   },
   "outputs": [
    {
     "name": "stdout",
     "output_type": "stream",
     "text": [
      "   478 NaN have been replaced in column 'education_dup'\n",
      "   478 NaN have been replaced in column 'education'\n"
     ]
    }
   ],
   "source": [
    "# Fill missing values\n",
    "fill_missing_values(df_join)"
   ]
  },
  {
   "cell_type": "markdown",
   "execution_count": null,
   "metadata": {
    "papermill": {
     "duration": 0.026925,
     "end_time": "2020-08-25T07:06:38.356535",
     "exception": false,
     "start_time": "2020-08-25T07:06:38.329610",
     "status": "completed"
    },
    "tags": []
   },
   "source": [
    "## Polynomial features generation"
   ]
  },
  {
   "cell_type": "code",
   "execution_count": 36,
   "metadata": {
    "execution": {
     "iopub.execute_input": "2020-08-25T07:06:38.423451Z",
     "iopub.status.busy": "2020-08-25T07:06:38.422813Z",
     "iopub.status.idle": "2020-08-25T07:06:38.426502Z",
     "shell.execute_reply": "2020-08-25T07:06:38.425954Z"
    },
    "papermill": {
     "duration": 0.043256,
     "end_time": "2020-08-25T07:06:38.426619",
     "exception": false,
     "start_time": "2020-08-25T07:06:38.383363",
     "status": "completed"
    },
    "tags": []
   },
   "outputs": [],
   "source": [
    "def generate_polynomials(df, collinear_sens):\n",
    "    \"\"\"Generate polynomial features\n",
    "    \n",
    "    collinear_sens is ML model collinearity sensitivity. It's either True or False.\n",
    "    \"\"\"\n",
    "    df_out = df\n",
    "    \n",
    "    # Generate polynomials for quantity_cols\n",
    "    pf = PolynomialFeatures(2, interaction_only=collinear_sens)\n",
    "    pf_df = pf.fit_transform(df[quantity_cols])\n",
    "    pf_cols = pf.get_feature_names(input_features=quantity_cols)\n",
    "    \n",
    "    # Find columns of ones\n",
    "    columns_1 = []\n",
    "    for column in quantity_cols:\n",
    "        columns_1.append(column + ' ' + column + MINUS_ONE_SUFFIX)\n",
    "        columns_1.append(column + MINUS_ONE_SUFFIX + ' ' + column)\n",
    "    columns_1 = [x for x in columns_1 if x in pf_cols]\n",
    "    \n",
    "    # Join dataframe and drop columns of ones\n",
    "    pf_df = pd.DataFrame(pf_df, columns=pf_cols).drop(columns=quantity_cols+['1']+columns_1)\n",
    "    df_out = pd.concat([df_out, pf_df], axis=1)    \n",
    "    \n",
    "    return df_out"
   ]
  },
  {
   "cell_type": "code",
   "execution_count": 37,
   "metadata": {
    "execution": {
     "iopub.execute_input": "2020-08-25T07:06:38.493919Z",
     "iopub.status.busy": "2020-08-25T07:06:38.493150Z",
     "iopub.status.idle": "2020-08-25T07:06:39.003548Z",
     "shell.execute_reply": "2020-08-25T07:06:39.002847Z"
    },
    "papermill": {
     "duration": 0.54931,
     "end_time": "2020-08-25T07:06:39.003679",
     "exception": false,
     "start_time": "2020-08-25T07:06:38.454369",
     "status": "completed"
    },
    "tags": []
   },
   "outputs": [],
   "source": [
    "# Generate polynomial features\n",
    "df_join = generate_polynomials(df_join, collinear_sens=False)"
   ]
  },
  {
   "cell_type": "markdown",
   "execution_count": null,
   "metadata": {
    "papermill": {
     "duration": 0.027067,
     "end_time": "2020-08-25T07:06:39.059242",
     "exception": false,
     "start_time": "2020-08-25T07:06:39.032175",
     "status": "completed"
    },
    "tags": []
   },
   "source": [
    "## Distributrion normalization"
   ]
  },
  {
   "cell_type": "code",
   "execution_count": 38,
   "metadata": {
    "execution": {
     "iopub.execute_input": "2020-08-25T07:06:39.123623Z",
     "iopub.status.busy": "2020-08-25T07:06:39.122877Z",
     "iopub.status.idle": "2020-08-25T07:06:39.126827Z",
     "shell.execute_reply": "2020-08-25T07:06:39.126183Z"
    },
    "papermill": {
     "duration": 0.040485,
     "end_time": "2020-08-25T07:06:39.126933",
     "exception": false,
     "start_time": "2020-08-25T07:06:39.086448",
     "status": "completed"
    },
    "tags": []
   },
   "outputs": [],
   "source": [
    "def normalize_distribution(df):\n",
    "    # Define columns to normalize\n",
    "    columns = [\n",
    "        'app_date',\n",
    "        'bki_request_cnt',\n",
    "        'decline_app_cnt',\n",
    "        'income',\n",
    "    ]\n",
    "    \n",
    "    # Normalize distribution\n",
    "    for column in columns:\n",
    "        df.loc[df[column].notna(), column] = df.loc[df[column].notna(), column].apply(lambda x: np.log1p(x))\n",
    "        \n",
    "    return columns"
   ]
  },
  {
   "cell_type": "code",
   "execution_count": 39,
   "metadata": {
    "execution": {
     "iopub.execute_input": "2020-08-25T07:06:39.193611Z",
     "iopub.status.busy": "2020-08-25T07:06:39.191819Z",
     "iopub.status.idle": "2020-08-25T07:06:41.071931Z",
     "shell.execute_reply": "2020-08-25T07:06:41.070877Z"
    },
    "papermill": {
     "duration": 1.916244,
     "end_time": "2020-08-25T07:06:41.072077",
     "exception": false,
     "start_time": "2020-08-25T07:06:39.155833",
     "status": "completed"
    },
    "tags": []
   },
   "outputs": [
    {
     "data": {
      "image/png": "[encoded data removed]",
      "text/plain": [
       "<Figure size 1296x288 with 4 Axes>"
      ]
     },
     "metadata": {
      "needs_background": "light"
     },
     "output_type": "display_data"
    }
   ],
   "source": [
    "# Normalize distribution\n",
    "columns = normalize_distribution(df_join)\n",
    "\n",
    "# Show graphs\n",
    "cols = 4\n",
    "rows = math.ceil(len(columns)/cols)\n",
    "fig, axs = plt.subplots(rows, cols, figsize=(18, rows*4))\n",
    "for i, column in enumerate(columns):\n",
    "    idx = i%cols if rows == 1 else (i//cols, i%cols) # Plot indices\n",
    "    axs[idx].hist(df_join.loc[df_join[column].notna(), column])\n",
    "    axs[idx].set_title(column)"
   ]
  },
  {
   "cell_type": "markdown",
   "execution_count": null,
   "metadata": {
    "papermill": {
     "duration": 0.032258,
     "end_time": "2020-08-25T07:06:41.136195",
     "exception": false,
     "start_time": "2020-08-25T07:06:41.103937",
     "status": "completed"
    },
    "tags": []
   },
   "source": [
    "## Dummies generation"
   ]
  },
  {
   "cell_type": "code",
   "execution_count": 40,
   "metadata": {
    "execution": {
     "iopub.execute_input": "2020-08-25T07:06:41.203085Z",
     "iopub.status.busy": "2020-08-25T07:06:41.202440Z",
     "iopub.status.idle": "2020-08-25T07:06:41.205413Z",
     "shell.execute_reply": "2020-08-25T07:06:41.204767Z"
    },
    "papermill": {
     "duration": 0.038516,
     "end_time": "2020-08-25T07:06:41.205528",
     "exception": false,
     "start_time": "2020-08-25T07:06:41.167012",
     "status": "completed"
    },
    "tags": []
   },
   "outputs": [],
   "source": [
    "def generate_dummies(df, collinear_sens):\n",
    "    \"\"\"Dummies generation from categorical features\n",
    "    \n",
    "    collinear_sens is ML model collinearity sensitivity. It's either True or False.\n",
    "    \"\"\"\n",
    "    df_out = df\n",
    "    \n",
    "    # Generate dummies for categ_multi_cols\n",
    "    for column in categ_multi_cols:\n",
    "        df_out = pd.concat([df_out, df[column].str.get_dummies()], axis=1)\n",
    "    df_out.drop(categ_multi_cols, axis=1, inplace=True)\n",
    "\n",
    "    # Generate dummies for categ_bin_cols and categ_many_cols\n",
    "    df_out = pd.get_dummies(df, columns=categ_bin_cols+categ_many_cols, drop_first=collinear_sens)\n",
    "    \n",
    "    return df_out"
   ]
  },
  {
   "cell_type": "code",
   "execution_count": 41,
   "metadata": {
    "execution": {
     "iopub.execute_input": "2020-08-25T07:06:41.267954Z",
     "iopub.status.busy": "2020-08-25T07:06:41.267224Z",
     "iopub.status.idle": "2020-08-25T07:06:41.488870Z",
     "shell.execute_reply": "2020-08-25T07:06:41.488241Z"
    },
    "papermill": {
     "duration": 0.255625,
     "end_time": "2020-08-25T07:06:41.488989",
     "exception": false,
     "start_time": "2020-08-25T07:06:41.233364",
     "status": "completed"
    },
    "tags": []
   },
   "outputs": [],
   "source": [
    "# Generate dummies\n",
    "df_join = generate_dummies(df_join, collinear_sens=False)"
   ]
  },
  {
   "cell_type": "markdown",
   "execution_count": null,
   "metadata": {
    "papermill": {
     "duration": 0.027099,
     "end_time": "2020-08-25T07:06:41.544607",
     "exception": false,
     "start_time": "2020-08-25T07:06:41.517508",
     "status": "completed"
    },
    "tags": []
   },
   "source": [
    "# Model implementation"
   ]
  },
  {
   "cell_type": "markdown",
   "execution_count": null,
   "metadata": {
    "papermill": {
     "duration": 0.027411,
     "end_time": "2020-08-25T07:06:41.599311",
     "exception": false,
     "start_time": "2020-08-25T07:06:41.571900",
     "status": "completed"
    },
    "tags": []
   },
   "source": [
    "## Data preparing"
   ]
  },
  {
   "cell_type": "code",
   "execution_count": 42,
   "metadata": {
    "execution": {
     "iopub.execute_input": "2020-08-25T07:06:41.664868Z",
     "iopub.status.busy": "2020-08-25T07:06:41.664150Z",
     "iopub.status.idle": "2020-08-25T07:06:44.447060Z",
     "shell.execute_reply": "2020-08-25T07:06:44.446473Z"
    },
    "papermill": {
     "duration": 2.818958,
     "end_time": "2020-08-25T07:06:44.447183",
     "exception": false,
     "start_time": "2020-08-25T07:06:41.628225",
     "status": "completed"
    },
    "tags": []
   },
   "outputs": [
    {
     "name": "stdout",
     "output_type": "stream",
     "text": [
      "   478 NaN have been replaced in column 'education_dup'\n",
      "   478 NaN have been replaced in column 'education'\n"
     ]
    }
   ],
   "source": [
    "# Prepare data\n",
    "df_join, sample_submission = collect_data()\n",
    "format_features(df_join)\n",
    "create_new_features(df_join)\n",
    "delete_outliers(df_join)\n",
    "fill_missing_values(df_join)\n",
    "df_join = generate_polynomials(df_join, collinear_sens=False)\n",
    "normalize_distribution(df_join)\n",
    "df_join = generate_dummies(df_join, collinear_sens=False)"
   ]
  },
  {
   "cell_type": "markdown",
   "execution_count": null,
   "metadata": {
    "papermill": {
     "duration": 0.028176,
     "end_time": "2020-08-25T07:06:44.504767",
     "exception": false,
     "start_time": "2020-08-25T07:06:44.476591",
     "status": "completed"
    },
    "tags": []
   },
   "source": [
    "## Data splitting & Data scaling"
   ]
  },
  {
   "cell_type": "code",
   "execution_count": 43,
   "metadata": {
    "execution": {
     "iopub.execute_input": "2020-08-25T07:06:44.572355Z",
     "iopub.status.busy": "2020-08-25T07:06:44.571646Z",
     "iopub.status.idle": "2020-08-25T07:06:44.576129Z",
     "shell.execute_reply": "2020-08-25T07:06:44.576846Z"
    },
    "papermill": {
     "duration": 0.043698,
     "end_time": "2020-08-25T07:06:44.577058",
     "exception": false,
     "start_time": "2020-08-25T07:06:44.533360",
     "status": "completed"
    },
    "tags": []
   },
   "outputs": [],
   "source": [
    "def split_dataframe(data, test_size, stratify=True, normalize=True):\n",
    "    \"\"\"Split dataframe to: X, X_train, X_test, y, y_train, y_test\"\"\"\n",
    "    # Split data: Х - features, у - target variable\n",
    "    y = data.loc[data[TRAIN] == 1, TARGET].values\n",
    "    X = data.loc[data[TRAIN] == 1].drop([TRAIN, TARGET], axis=1)\n",
    "\n",
    "    # Split data on train and test parts\n",
    "    strat = y if stratify else None\n",
    "    X_train, X_test, y_train, y_test = train_test_split(X, y, test_size=test_size, stratify=strat, shuffle=True, random_state=RANDOM_SEED)\n",
    "\n",
    "    if normalize:\n",
    "        scaler = StandardScaler()\n",
    "        X = pd.DataFrame(scaler.fit_transform(X), columns=X.columns)\n",
    "        X_train = pd.DataFrame(scaler.fit_transform(X_train), columns=X_train.columns)\n",
    "        X_test = pd.DataFrame(scaler.fit_transform(X_test), columns=X_test.columns)\n",
    "\n",
    "    return (X, X_train, X_test, y, y_train, y_test)"
   ]
  },
  {
   "cell_type": "code",
   "execution_count": 44,
   "metadata": {
    "execution": {
     "iopub.execute_input": "2020-08-25T07:06:44.674278Z",
     "iopub.status.busy": "2020-08-25T07:06:44.673077Z",
     "iopub.status.idle": "2020-08-25T07:06:45.379001Z",
     "shell.execute_reply": "2020-08-25T07:06:45.378265Z"
    },
    "papermill": {
     "duration": 0.757356,
     "end_time": "2020-08-25T07:06:45.379151",
     "exception": false,
     "start_time": "2020-08-25T07:06:44.621795",
     "status": "completed"
    },
    "tags": []
   },
   "outputs": [
    {
     "name": "stdout",
     "output_type": "stream",
     "text": [
      "Shapes: (73799, 192) (59039, 192) (14760, 192) (73799,) (59039,) (14760,)\n"
     ]
    }
   ],
   "source": [
    "# Data splitting\n",
    "X, X_train, X_test, y, y_train, y_test = split_dataframe(df_join, test_size=0.2)\n",
    "print('Shapes:', X.shape, X_train.shape, X_test.shape, y.shape, y_train.shape, y_test.shape)"
   ]
  },
  {
   "cell_type": "markdown",
   "execution_count": null,
   "metadata": {
    "papermill": {
     "duration": 0.032684,
     "end_time": "2020-08-25T07:06:45.441198",
     "exception": false,
     "start_time": "2020-08-25T07:06:45.408514",
     "status": "completed"
    },
    "tags": []
   },
   "source": [
    "## Features tuning"
   ]
  },
  {
   "cell_type": "code",
   "execution_count": 45,
   "metadata": {
    "execution": {
     "iopub.execute_input": "2020-08-25T07:06:45.523121Z",
     "iopub.status.busy": "2020-08-25T07:06:45.518202Z",
     "iopub.status.idle": "2020-08-25T07:06:45.548556Z",
     "shell.execute_reply": "2020-08-25T07:06:45.547687Z"
    },
    "papermill": {
     "duration": 0.078654,
     "end_time": "2020-08-25T07:06:45.548683",
     "exception": false,
     "start_time": "2020-08-25T07:06:45.470029",
     "status": "completed"
    },
    "tags": []
   },
   "outputs": [],
   "source": [
    "def train_test_vs_sample_value(model, data, cv):\n",
    "    \"\"\"Calculate train and test scores versus sample value.\n",
    "    \n",
    "    It is in order to detect high bias or high variance.\n",
    "    It also helps to find optimum sample value to fit model for tuning.\n",
    "    \"\"\"\n",
    "    # Input variable\n",
    "    PART_FACTOR = 5\n",
    "    \n",
    "    # Separate train data\n",
    "    df = data.loc[data[TRAIN] == 1].drop([TRAIN], axis=1)\n",
    "    y = df[TARGET].values\n",
    "    \n",
    "    # Cycle over stratified folds\n",
    "    score = []\n",
    "    skf = StratifiedKFold(n_splits=cv, shuffle=True, random_state=RANDOM_SEED)\n",
    "    for i, (train_index, test_index) in enumerate(skf.split(df.values, y)):\n",
    "        # Split on train and test\n",
    "        data_train, data_test = df.iloc[train_index, :], df.iloc[test_index, :]\n",
    "        y_train, y_test = y[train_index], y[test_index]\n",
    "        data_train_0 = data_train.loc[data_train[TARGET] == 0]\n",
    "        data_train_1 = data_train.loc[data_train[TARGET] == 1]\n",
    "        X_test = data_test.drop([TARGET], axis=1)\n",
    "        X_test = StandardScaler().fit_transform(X_test)\n",
    "\n",
    "        # Define start, stop, step\n",
    "        START = data_train_1.shape[0] // PART_FACTOR\n",
    "        STOP = data_train_0.shape[0]\n",
    "        STEP = START\n",
    "\n",
    "        # Cycle over train size\n",
    "        sample_val = []\n",
    "        score_train = []\n",
    "        score_test = []\n",
    "        for train_size in range(START, STOP, STEP):\n",
    "            # Split and standardize data\n",
    "            data_train_iter = data_train_1.append(data_train_0.iloc[:train_size, :], ignore_index=True)\n",
    "            X_train_iter = data_train_iter.drop([TARGET], axis=1)\n",
    "            X_train_iter = StandardScaler().fit_transform(X_train_iter)\n",
    "            y_train_iter = data_train_iter[TARGET].values\n",
    "\n",
    "            # Learn model\n",
    "            model.fit(X_train_iter, y_train_iter)\n",
    "\n",
    "            # Test model\n",
    "            sample_val.append(X_train_iter.shape[0])\n",
    "            score_train.append(roc_auc_score(y_train_iter, model.predict_proba(X_train_iter)[:,1]))\n",
    "            score_test.append(roc_auc_score(y_test, model.predict_proba(X_test)[:,1]))\n",
    "            \n",
    "            # Print an intermediate result\n",
    "            print(f'Completed: fold_iteration = {i}; train_size = {X_train_iter.shape[0]}')\n",
    "        \n",
    "        # Append fold result\n",
    "        score.append({'sample_value': sample_val, 'ROC_AUC_train': score_train, 'ROC_AUC_test': score_test})\n",
    "\n",
    "    # Average result\n",
    "    length = len(score[0]['sample_value'])\n",
    "    sample_val = [0]*length\n",
    "    score_train = [0]*length\n",
    "    score_test = [0]*length\n",
    "    for scr in score:\n",
    "        for i in range(length):\n",
    "            sample_val[i] += scr['sample_value'][i]\n",
    "            score_train[i] += scr['ROC_AUC_train'][i]\n",
    "            score_test[i] += scr['ROC_AUC_test'][i]\n",
    "    for i in range(length):\n",
    "        sample_val[i] /= cv\n",
    "        score_train[i] /= cv\n",
    "        score_test[i] /= cv\n",
    "    \n",
    "    return pd.DataFrame.from_dict({'sample_value': sample_val, 'ROC_AUC_train': score_train, 'ROC_AUC_test': score_test})\n",
    "\n",
    "\n",
    "def find_usefull_useless_feature(model, data, cv, usefull_cols=None):\n",
    "    \"\"\"Find the most usefull or useless feature.\n",
    "    \n",
    "    Find the most usefull feature to add if 'usefull_cols' is a list.\n",
    "    Find the most useless feature to drop if 'usefull_cols' is None.\n",
    "    \"\"\"\n",
    "    # Input variables\n",
    "    GREATER_SCORE_IS_BETTER = True\n",
    "    \n",
    "    # Separate train data\n",
    "    X = data.loc[data[TRAIN] == 1].drop([TARGET, TRAIN], axis=1)\n",
    "    y = data.loc[data[TRAIN] == 1, TARGET].values\n",
    "    \n",
    "    # Cycle over stratified folds\n",
    "    f_train_score = defaultdict(int)\n",
    "    f_test_score = defaultdict(int)\n",
    "    skf = StratifiedKFold(n_splits=cv, shuffle=True, random_state=RANDOM_SEED)\n",
    "    for i, (test_index, train_index) in enumerate(skf.split(X.values, y)): # inverse order of train and test indices\n",
    "        # Split on train and test\n",
    "        X_train, X_test = X.iloc[train_index, :], X.iloc[test_index, :]\n",
    "        y_train, y_test = y[train_index], y[test_index]\n",
    "        \n",
    "        # Standardize train and test parts\n",
    "        scaler = StandardScaler()\n",
    "        X_train = pd.DataFrame(scaler.fit_transform(X_train), columns=X_train.columns)\n",
    "        X_test = pd.DataFrame(scaler.fit_transform(X_test), columns=X_test.columns)\n",
    "        \n",
    "        # Determine columns list\n",
    "        if usefull_cols is not None:\n",
    "            columns = [col for col in X_train.columns if col not in usefull_cols]\n",
    "        else:\n",
    "            columns = X_train.columns # [0:110]\n",
    "\n",
    "        # Cycle over features\n",
    "        for j, column in enumerate(columns):\n",
    "            # Define train and test data\n",
    "            if usefull_cols is not None:\n",
    "                cols = usefull_cols + [column]\n",
    "                X_train_temp = X_train[cols]\n",
    "                X_test_temp = X_test[cols]\n",
    "            else:\n",
    "                X_train_temp = X_train.drop(column, axis=1)\n",
    "                X_test_temp = X_test.drop(column, axis=1)\n",
    "\n",
    "            # Create and learn model\n",
    "            model.fit(X_train_temp, y_train)\n",
    "\n",
    "            # Test model and update dicts\n",
    "            f_train_score[column] += roc_auc_score(y_train, model.predict_proba(X_train_temp)[:,1])\n",
    "            f_test_score[column] += roc_auc_score(y_test, model.predict_proba(X_test_temp)[:,1])\n",
    "            \n",
    "            # Print an intermediate result\n",
    "            print(f'fold_iteration {i}, feature_iteration {j} completed')\n",
    "            if GREATER_SCORE_IS_BETTER:\n",
    "                feature = max(f_test_score, key=f_test_score.get)\n",
    "            else:\n",
    "                feature = min(f_test_score, key=f_test_score.get)\n",
    "            print(feature, f_test_score[feature])\n",
    "\n",
    "    # Average result\n",
    "    for column in f_train_score.keys():\n",
    "        f_train_score[column] /= cv\n",
    "        f_test_score[column] /= cv\n",
    "    \n",
    "    # Form result DataFrame\n",
    "    result = pd.DataFrame.from_dict([f_train_score, f_test_score]).transpose().reset_index()\n",
    "    result.columns = ['feature', 'score_train', 'score_test']\n",
    "    \n",
    "    return result.sort_values('score_test', ascending=not GREATER_SCORE_IS_BETTER, ignore_index=True)\n",
    "\n",
    "\n",
    "def find_several_usefull_useless_features(model, data, features_num, cv, usefull_cols=None):\n",
    "    \"\"\"Find several usefull of useless features at a time.\n",
    "    \n",
    "    Find the most usefull features to add if 'usefull_cols' is a list.\n",
    "    Find the most useless features to drop if 'usefull_cols' is None.\n",
    "    \"\"\"\n",
    "    # Find exact features_num\n",
    "    if usefull_cols is not None:\n",
    "        features_num = min(features_num, data.shape[1] - len(usefull_cols) - 2) # minus TRAIN and TARGET cols\n",
    "    else:\n",
    "        features_num = min(features_num, data.shape[1] - 2) # minus TRAIN and TARGET cols\n",
    "\n",
    "    # Find features\n",
    "    useless_cols = []\n",
    "    features_score = pd.DataFrame(columns=['feature', 'score_train', 'score_test'])\n",
    "    for i in range(features_num):\n",
    "        if usefull_cols is not None:\n",
    "            # Find usefull feature and append it\n",
    "            df_score = find_usefull_useless_feature(model, data=data, cv=cv, usefull_cols=usefull_cols)\n",
    "            usefull_cols.append(df_score.iloc[0, 0])\n",
    "        else:\n",
    "            # Find useless feature and drop it\n",
    "            df_score = find_usefull_useless_feature(model, data=data.drop(useless_cols, axis=1), cv=cv)\n",
    "            useless_cols.append(df_score.iloc[0, 0])\n",
    "\n",
    "        # Print an intermediate result\n",
    "        features_score = features_score.append(df_score.iloc[0], ignore_index=True)\n",
    "        features_score.to_csv('train_test_score_vs_feature_number_new.csv', index=False)\n",
    "        print('Feature number =', i)\n",
    "        print(features_score)\n",
    "        \n",
    "    return features_score"
   ]
  },
  {
   "cell_type": "code",
   "execution_count": 46,
   "metadata": {
    "_kg_hide-input": false,
    "_kg_hide-output": true,
    "execution": {
     "iopub.execute_input": "2020-08-25T07:06:45.641906Z",
     "iopub.status.busy": "2020-08-25T07:06:45.638924Z",
     "iopub.status.idle": "2020-08-25T07:06:45.958174Z",
     "shell.execute_reply": "2020-08-25T07:06:45.958728Z"
    },
    "papermill": {
     "duration": 0.3686,
     "end_time": "2020-08-25T07:06:45.958883",
     "exception": false,
     "start_time": "2020-08-25T07:06:45.590283",
     "status": "completed"
    },
    "tags": []
   },
   "outputs": [
    {
     "name": "stdout",
     "output_type": "stream",
     "text": [
      "    sample_value  ROC_AUC_train  ROC_AUC_test\n",
      "33       65786.0       0.735886      0.734862\n"
     ]
    },
    {
     "data": {
      "image/png": "[encoded data removed]",
      "text/plain": [
       "<Figure size 1296x576 with 1 Axes>"
      ]
     },
     "metadata": {
      "needs_background": "light"
     },
     "output_type": "display_data"
    }
   ],
   "source": [
    "# Compute train and test scores versus sample value to define whether the model has high bias or high variance\n",
    "# and find optimum train-test sample proportion to tune features\n",
    "# model = LogisticRegression(class_weight={0:1,1:5}, C=40, max_iter=1000, n_jobs=-1, verbose=1)\n",
    "# %time score = train_test_vs_sample_value(model, df_join[usefull_cols + [TARGET, TRAIN]], cv=10)\n",
    "\n",
    "# Update sample value score dataframe\n",
    "score = pd.read_csv(PATH_KERNEL+'train_test_score_vs_sample_value.csv')\n",
    "score.to_csv('train_test_score_vs_sample_value.csv', index=False)\n",
    "\n",
    "# Plot train and test scores versus sample value\n",
    "score.plot(x='sample_value', figsize=(18, 8), grid=True, title='Train and test scores vs train sample value')\n",
    "print(score.nlargest(1, 'ROC_AUC_test'))"
   ]
  },
  {
   "cell_type": "markdown",
   "execution_count": null,
   "metadata": {
    "papermill": {
     "duration": 0.03013,
     "end_time": "2020-08-25T07:06:46.018745",
     "exception": false,
     "start_time": "2020-08-25T07:06:45.988615",
     "status": "completed"
    },
    "tags": []
   },
   "source": [
    "The sample value of 25000 for train set is a good choice to find usefull features"
   ]
  },
  {
   "cell_type": "code",
   "execution_count": 47,
   "metadata": {
    "_kg_hide-output": true,
    "execution": {
     "iopub.execute_input": "2020-08-25T07:06:46.094847Z",
     "iopub.status.busy": "2020-08-25T07:06:46.093859Z",
     "iopub.status.idle": "2020-08-25T07:06:46.329328Z",
     "shell.execute_reply": "2020-08-25T07:06:46.328774Z"
    },
    "papermill": {
     "duration": 0.28154,
     "end_time": "2020-08-25T07:06:46.329478",
     "exception": false,
     "start_time": "2020-08-25T07:06:46.047938",
     "status": "completed"
    },
    "tags": []
   },
   "outputs": [
    {
     "name": "stdout",
     "output_type": "stream",
     "text": [
      "                 feature  score_train  score_test  features number\n",
      "55  app_date score_bki_1     0.740299    0.736571               56\n"
     ]
    },
    {
     "data": {
      "text/plain": [
       "array(['score_bki region_rating_dup_dup', 'home_address_2', 'sna_dup',\n",
       "       'bki_request_cnt_1 decline_app_cnt_1', 'education_dup',\n",
       "       'app_date score_bki', 'sex_F', 'first_time_dup', 'car_type_Y',\n",
       "       'score_bki decline_app_cnt_1', 'region_rating_7', 'work_address_1',\n",
       "       'region_rating_dup_dup bki_request_cnt_1', 'first_time_1',\n",
       "       'good_work_1', 'client_id_1', 'age_1 income_1', 'region_rating_5',\n",
       "       'region_rating_dup_dup_1 score_bki_1', 'sna_3',\n",
       "       'score_bki income_1', 'region_rating_dup_dup age_1', 'client_id^2',\n",
       "       'client_id', 'app_date client_id', 'foreign_passport_N', 'sna_1',\n",
       "       'work_address_3', 'decline_app_cnt income_1',\n",
       "       'decline_app_cnt score_bki', 'income region_rating_dup_dup_1',\n",
       "       'income region_rating_dup_dup', 'app_date region_rating_dup_dup_1',\n",
       "       'work_address_2', 'work_address_dup', 'car_type_N', 'sna_4',\n",
       "       'good_work_0', 'sex_M', 'education_PGR', 'foreign_passport_Y',\n",
       "       'education_NaN_0', 'sna_2', 'education_NaN_1', 'region_rating_6',\n",
       "       'app_date^2', 'region_rating_dup_dup decline_app_cnt_1', 'age_1^2',\n",
       "       'age_1', 'age^2', 'age', 'region_rating_dup_dup income_1',\n",
       "       'income', 'income_1 score_bki_1', 'income^2',\n",
       "       'app_date score_bki_1', 'car_N', 'car_Y', 'bki_request_cnt^2',\n",
       "       'bki_request_cnt client_id_1', 'education_SCH',\n",
       "       'decline_app_cnt bki_request_cnt_1', 'client_id_1 income_1',\n",
       "       'age_1 decline_app_cnt_1', 'age app_date_1',\n",
       "       'client_id region_rating_dup_dup', 'region_rating_dup_dup_1^2',\n",
       "       'score_bki region_rating_dup_dup_1',\n",
       "       'bki_request_cnt decline_app_cnt', 'score_bki'], dtype=object)"
      ]
     },
     "execution_count": 47,
     "metadata": {},
     "output_type": "execute_result"
    },
    {
     "data": {
      "image/png": "[encoded data removed]",
      "text/plain": [
       "<Figure size 1296x576 with 1 Axes>"
      ]
     },
     "metadata": {
      "needs_background": "light"
     },
     "output_type": "display_data"
    }
   ],
   "source": [
    "# Already found usefull features\n",
    "usefull_cols = [\n",
    "       'score_bki region_rating_dup_dup', 'home_address_2', 'sna_dup',\n",
    "       'bki_request_cnt_1 decline_app_cnt_1', 'education_dup',\n",
    "       'app_date score_bki', 'sex_F', 'first_time_dup', 'car_type_Y',\n",
    "       'score_bki decline_app_cnt_1', 'region_rating_7', 'work_address_1',\n",
    "       'region_rating_dup_dup bki_request_cnt_1', 'first_time_1',\n",
    "       'good_work_1', 'client_id_1', 'age_1 income_1', 'region_rating_5',\n",
    "       'region_rating_dup_dup_1 score_bki_1', 'sna_3',\n",
    "       'score_bki income_1', 'region_rating_dup_dup age_1', 'client_id^2',\n",
    "       'client_id', 'app_date client_id', 'foreign_passport_N', 'sna_1',\n",
    "       'work_address_3', 'decline_app_cnt income_1',\n",
    "       'decline_app_cnt score_bki', 'income region_rating_dup_dup_1',\n",
    "       'income region_rating_dup_dup', 'app_date region_rating_dup_dup_1',\n",
    "       'work_address_2', 'work_address_dup', 'car_type_N', 'sna_4',\n",
    "       'good_work_0', 'sex_M', 'education_PGR', 'foreign_passport_Y',\n",
    "       'education_NaN_0', 'sna_2', 'education_NaN_1', 'region_rating_6',\n",
    "       'app_date^2', 'region_rating_dup_dup decline_app_cnt_1', 'age_1^2',\n",
    "       'age_1', 'age^2', 'age', 'region_rating_dup_dup income_1',\n",
    "       'income', 'income_1 score_bki_1', 'income^2',\n",
    "       'app_date score_bki_1',\n",
    "]\n",
    "\n",
    "# Compute next usefull features\n",
    "# cv = round(df_join.shape[0] / 25000)\n",
    "# cv = cv if cv >= 2 else 2\n",
    "# model = LogisticRegression(class_weight={0:1,1:5}, C=40, max_iter=1000, n_jobs=-1, verbose=1)\n",
    "# %time find_several_usefull_useless_features(model, df_join, features_num=50, cv=cv, usefull_cols=usefull_cols)\n",
    "\n",
    "# Update features score dataframe\n",
    "features_score = pd.read_csv(PATH_KERNEL+'train_test_score_vs_feature_number.csv')\n",
    "features_score.to_csv('train_test_score_vs_feature_number.csv', index=False)\n",
    "\n",
    "# Plot train and test scores versus number of features\n",
    "features_score['features number'] = features_score.index + 1\n",
    "features_score.plot(x='features number', figsize=(18, 8), grid=True,\n",
    "    title='Train and test scores vs number of features', ylim=(0.732, 0.742));\n",
    "print(features_score.nlargest(1, 'score_test'))\n",
    "features_score['feature'].values"
   ]
  },
  {
   "cell_type": "markdown",
   "execution_count": null,
   "metadata": {
    "papermill": {
     "duration": 0.0288,
     "end_time": "2020-08-25T07:06:46.388725",
     "exception": false,
     "start_time": "2020-08-25T07:06:46.359925",
     "status": "completed"
    },
    "tags": []
   },
   "source": [
    "## Hyperparameters tuning"
   ]
  },
  {
   "cell_type": "code",
   "execution_count": 48,
   "metadata": {
    "execution": {
     "iopub.execute_input": "2020-08-25T07:06:46.462290Z",
     "iopub.status.busy": "2020-08-25T07:06:46.461325Z",
     "iopub.status.idle": "2020-08-25T07:06:46.465666Z",
     "shell.execute_reply": "2020-08-25T07:06:46.465094Z"
    },
    "papermill": {
     "duration": 0.048005,
     "end_time": "2020-08-25T07:06:46.465778",
     "exception": false,
     "start_time": "2020-08-25T07:06:46.417773",
     "status": "completed"
    },
    "tags": []
   },
   "outputs": [],
   "source": [
    "def tune_class_balance(X, y, weights, C=1, cv=5):\n",
    "    \"\"\"Find optimum class weights\"\"\"\n",
    "    # Define model\n",
    "    model = LogisticRegression(C=C, max_iter=1000, verbose=1, n_jobs=-1)\n",
    "    \n",
    "    # Define and fit grid search\n",
    "    model = GridSearchCV(estimator=model, param_grid=dict(class_weight=weights), scoring='roc_auc', cv=cv, n_jobs=-1, verbose=1)\n",
    "    model.fit(X, y)\n",
    "    \n",
    "    # Print the best configuration\n",
    "    print(\"Best score: %f using %s\" % (model.best_score_, model.best_params_))\n",
    "\n",
    "\n",
    "def tune_regularization(X, y, Cs, weight={0:1,1:1}, cv=5):\n",
    "    \"\"\"Find optimum regularization parameter C\"\"\"\n",
    "    # Define and fit model\n",
    "    model = LogisticRegressionCV(Cs=Cs, cv=cv, class_weight=weight, scoring='roc_auc', max_iter=1000, n_jobs=-1, verbose=1)\n",
    "    model.fit(X, y)\n",
    "\n",
    "    print('C_ =', model.C_)\n",
    "    print('Cs_ =', model.Cs_)\n",
    "    print('scores_ =', model.scores_)"
   ]
  },
  {
   "cell_type": "code",
   "execution_count": 49,
   "metadata": {
    "execution": {
     "iopub.execute_input": "2020-08-25T07:06:46.531620Z",
     "iopub.status.busy": "2020-08-25T07:06:46.530756Z",
     "iopub.status.idle": "2020-08-25T07:06:46.535455Z",
     "shell.execute_reply": "2020-08-25T07:06:46.536076Z"
    },
    "papermill": {
     "duration": 0.041004,
     "end_time": "2020-08-25T07:06:46.536232",
     "exception": false,
     "start_time": "2020-08-25T07:06:46.495228",
     "status": "completed"
    },
    "tags": []
   },
   "outputs": [],
   "source": [
    "# Find the best class weights\n",
    "weights = [{0:1,1:2}, {0:1,1:3}, {0:1,1:4}, {0:1,1:5}, {0:1,1:6}]\n",
    "weights = [{0:1,1:4.9}, {0:1,1:5.1}, {0:1,1:5.3}, {0:1,1:5.5}, {0:1,1:5.7}]\n",
    "# tune_class_balance(X[usefull_cols], y, weights=weights, C=1, cv=2)"
   ]
  },
  {
   "cell_type": "code",
   "execution_count": 50,
   "metadata": {
    "execution": {
     "iopub.execute_input": "2020-08-25T07:06:46.626230Z",
     "iopub.status.busy": "2020-08-25T07:06:46.625269Z",
     "iopub.status.idle": "2020-08-25T07:06:46.628883Z",
     "shell.execute_reply": "2020-08-25T07:06:46.628327Z"
    },
    "papermill": {
     "duration": 0.050544,
     "end_time": "2020-08-25T07:06:46.629007",
     "exception": false,
     "start_time": "2020-08-25T07:06:46.578463",
     "status": "completed"
    },
    "tags": []
   },
   "outputs": [],
   "source": [
    "# Find the best regularization parameter C\n",
    "Cs = np.logspace(-0.2, 0.1, 10)\n",
    "Cs = [45, 46, 47, 48, 49]\n",
    "# tune_regularization(X[usefull_cols], y, weight={0:1,1:5.3}, Cs=Cs, cv=5)"
   ]
  },
  {
   "cell_type": "markdown",
   "execution_count": null,
   "metadata": {
    "papermill": {
     "duration": 0.036273,
     "end_time": "2020-08-25T07:06:46.697243",
     "exception": false,
     "start_time": "2020-08-25T07:06:46.660970",
     "status": "completed"
    },
    "tags": []
   },
   "source": [
    "## Model testing"
   ]
  },
  {
   "cell_type": "code",
   "execution_count": 51,
   "metadata": {
    "execution": {
     "iopub.execute_input": "2020-08-25T07:06:46.779009Z",
     "iopub.status.busy": "2020-08-25T07:06:46.778329Z",
     "iopub.status.idle": "2020-08-25T07:09:47.576237Z",
     "shell.execute_reply": "2020-08-25T07:09:47.575505Z"
    },
    "papermill": {
     "duration": 180.848853,
     "end_time": "2020-08-25T07:09:47.576417",
     "exception": false,
     "start_time": "2020-08-25T07:06:46.727564",
     "status": "completed"
    },
    "tags": []
   },
   "outputs": [
    {
     "name": "stderr",
     "output_type": "stream",
     "text": [
      "[Parallel(n_jobs=-1)]: Using backend LokyBackend with 4 concurrent workers.\n",
      "[Parallel(n_jobs=-1)]: Done  30 out of  30 | elapsed:  2.6min finished\n",
      "[Parallel(n_jobs=-1)]: Using backend LokyBackend with 4 concurrent workers.\n"
     ]
    },
    {
     "name": "stdout",
     "output_type": "stream",
     "text": [
      "Shapes: (73799, 56) (73799,)\n",
      "Mean ROC AUC score = 0.7372829227804165\n"
     ]
    },
    {
     "name": "stderr",
     "output_type": "stream",
     "text": [
      "[Parallel(n_jobs=-1)]: Done   1 out of   1 | elapsed:   24.8s finished\n"
     ]
    },
    {
     "name": "stdout",
     "output_type": "stream",
     "text": [
      "classes_ = [0 1]\n",
      "coef_ = [[ 1.94012996e-01  2.99893844e-01  6.33757498e-02 -1.99206868e-02\n",
      "  -1.89531469e-01  8.62584936e-01 -6.88667851e-02 -1.85681572e-01\n",
      "  -4.70106122e-02  1.48593964e-01  2.00369436e-02 -5.90207563e-02\n",
      "  -2.43272368e-01 -9.31334398e-02 -4.41565059e-02  4.68742561e-01\n",
      "   1.81010701e-01  6.32989956e-02  6.14928680e-02 -1.07129856e-02\n",
      "  -2.03297358e-02 -2.21888514e-01 -2.66830169e+00  3.39088391e+00\n",
      "  -2.53745062e-01  3.88486940e-02 -6.18809568e-02  3.10927963e-02\n",
      "   7.53781010e-02  3.38889977e-02  1.27700633e-01 -8.65158099e-02\n",
      "  -2.43770087e-01  8.00451221e-03  4.90947450e-02  4.70106122e-02\n",
      "   6.00892390e-02  4.41565059e-02  6.88667851e-02  1.18514254e-02\n",
      "  -3.88486940e-02  1.37240441e-03  2.87843411e-02 -1.37240441e-03\n",
      "   1.14654471e-02  2.22474364e+00 -4.25992971e-02  2.00002207e+00\n",
      "  -5.27861735e+00  3.05798930e+00 -6.33283152e+00  1.79391998e-01\n",
      "   6.85059309e-01  4.33044404e-01 -7.16700928e-02 -1.47630332e+00]]\n",
      "intercept_ = [-0.62812579]\n"
     ]
    },
    {
     "data": {
      "image/png": "[encoded data removed]",
      "text/plain": [
       "<Figure size 432x288 with 1 Axes>"
      ]
     },
     "metadata": {
      "needs_background": "light"
     },
     "output_type": "display_data"
    }
   ],
   "source": [
    "# Define cross validation\n",
    "cv = RepeatedStratifiedKFold(n_splits=10, n_repeats=3, random_state=RANDOM_SEED)\n",
    "\n",
    "# Define model\n",
    "model = LogisticRegression(class_weight={0:1,1:5}, C=40, max_iter=1000, n_jobs=-1, verbose=1)\n",
    "\n",
    "# Evaluate model\n",
    "score = cross_val_score(model, X[usefull_cols], y, scoring='roc_auc', cv=cv, n_jobs=-1, verbose=1)\n",
    "print('Shapes:', X[usefull_cols].shape, y.shape)\n",
    "print('Mean ROC AUC score =', statistics.mean(score))\n",
    "\n",
    "\n",
    "# Fit model on test set\n",
    "model.fit(X_train[usefull_cols], y_train)\n",
    "# View important model characteristics\n",
    "print('classes_ =', model.classes_)\n",
    "print('coef_ =', model.coef_)\n",
    "print('intercept_ =', model.intercept_)\n",
    "# Test model\n",
    "score = roc_auc_score(y_test, model.predict_proba(X_test[usefull_cols])[:,1])\n",
    "# Plot ROC AUC curve\n",
    "fpr, tpr, threshold = roc_curve(y_test, model.predict_proba(X_test[usefull_cols])[:,1])\n",
    "plt.figure()\n",
    "plt.plot([0, 1], label='Baseline', linestyle='--')\n",
    "plt.plot(fpr, tpr, label = 'Regression')\n",
    "plt.title('Logistic Regression ROC AUC = %0.4f' % score)\n",
    "plt.ylabel('True Positive Rate')\n",
    "plt.xlabel('False Positive Rate')\n",
    "plt.legend(loc = 'lower right')\n",
    "plt.show()"
   ]
  },
  {
   "cell_type": "markdown",
   "execution_count": null,
   "metadata": {
    "papermill": {
     "duration": 0.046186,
     "end_time": "2020-08-25T07:09:47.668422",
     "exception": false,
     "start_time": "2020-08-25T07:09:47.622236",
     "status": "completed"
    },
    "tags": []
   },
   "source": [
    "# Submission\n",
    "**Learn model on 100% of train data**"
   ]
  },
  {
   "cell_type": "code",
   "execution_count": 52,
   "metadata": {
    "execution": {
     "iopub.execute_input": "2020-08-25T07:09:47.772876Z",
     "iopub.status.busy": "2020-08-25T07:09:47.772096Z",
     "iopub.status.idle": "2020-08-25T07:10:20.215987Z",
     "shell.execute_reply": "2020-08-25T07:10:20.216925Z"
    },
    "papermill": {
     "duration": 32.504497,
     "end_time": "2020-08-25T07:10:20.217128",
     "exception": false,
     "start_time": "2020-08-25T07:09:47.712631",
     "status": "completed"
    },
    "tags": []
   },
   "outputs": [
    {
     "name": "stderr",
     "output_type": "stream",
     "text": [
      "[Parallel(n_jobs=-1)]: Using backend LokyBackend with 4 concurrent workers.\n",
      "[Parallel(n_jobs=-1)]: Done   1 out of   1 | elapsed:   32.3s finished\n"
     ]
    }
   ],
   "source": [
    "# Create and learn model\n",
    "model = LogisticRegression(class_weight={0:1,1:5}, C=40, max_iter=1000, n_jobs=-1, verbose=1)\n",
    "model.fit(X[usefull_cols], y)\n",
    "\n",
    "# Splitting and scaling data to predict\n",
    "X_predict = df_join.loc[df_join[TRAIN] == 0, usefull_cols]\n",
    "X_predict = StandardScaler().fit_transform(X_predict)\n",
    "model.predict_proba(X_predict)[:,1]\n",
    "\n",
    "# Predict target variable\n",
    "predict_submission = model.predict_proba(X_predict)[:,1]"
   ]
  },
  {
   "cell_type": "markdown",
   "execution_count": null,
   "metadata": {
    "papermill": {
     "duration": 0.042976,
     "end_time": "2020-08-25T07:10:20.305407",
     "exception": false,
     "start_time": "2020-08-25T07:10:20.262431",
     "status": "completed"
    },
    "tags": []
   },
   "source": [
    "**Write result to submission file**"
   ]
  },
  {
   "cell_type": "code",
   "execution_count": 53,
   "metadata": {
    "execution": {
     "iopub.execute_input": "2020-08-25T07:10:20.404776Z",
     "iopub.status.busy": "2020-08-25T07:10:20.404047Z",
     "iopub.status.idle": "2020-08-25T07:10:20.540277Z",
     "shell.execute_reply": "2020-08-25T07:10:20.540913Z"
    },
    "papermill": {
     "duration": 0.189059,
     "end_time": "2020-08-25T07:10:20.541070",
     "exception": false,
     "start_time": "2020-08-25T07:10:20.352011",
     "status": "completed"
    },
    "tags": []
   },
   "outputs": [
    {
     "data": {
      "text/html": [
       "<div>\n",
       "<style scoped>\n",
       "    .dataframe tbody tr th:only-of-type {\n",
       "        vertical-align: middle;\n",
       "    }\n",
       "\n",
       "    .dataframe tbody tr th {\n",
       "        vertical-align: top;\n",
       "    }\n",
       "\n",
       "    .dataframe thead th {\n",
       "        text-align: right;\n",
       "    }\n",
       "</style>\n",
       "<table border=\"1\" class=\"dataframe\">\n",
       "  <thead>\n",
       "    <tr style=\"text-align: right;\">\n",
       "      <th></th>\n",
       "      <th>client_id</th>\n",
       "      <th>default</th>\n",
       "    </tr>\n",
       "  </thead>\n",
       "  <tbody>\n",
       "    <tr>\n",
       "      <th>0</th>\n",
       "      <td>74835</td>\n",
       "      <td>0.163352</td>\n",
       "    </tr>\n",
       "    <tr>\n",
       "      <th>1</th>\n",
       "      <td>17527</td>\n",
       "      <td>0.708544</td>\n",
       "    </tr>\n",
       "    <tr>\n",
       "      <th>2</th>\n",
       "      <td>75683</td>\n",
       "      <td>0.243664</td>\n",
       "    </tr>\n",
       "    <tr>\n",
       "      <th>3</th>\n",
       "      <td>26883</td>\n",
       "      <td>0.303935</td>\n",
       "    </tr>\n",
       "    <tr>\n",
       "      <th>4</th>\n",
       "      <td>28862</td>\n",
       "      <td>0.089247</td>\n",
       "    </tr>\n",
       "    <tr>\n",
       "      <th>...</th>\n",
       "      <td>...</td>\n",
       "      <td>...</td>\n",
       "    </tr>\n",
       "    <tr>\n",
       "      <th>36344</th>\n",
       "      <td>83775</td>\n",
       "      <td>0.753219</td>\n",
       "    </tr>\n",
       "    <tr>\n",
       "      <th>36345</th>\n",
       "      <td>106254</td>\n",
       "      <td>0.088973</td>\n",
       "    </tr>\n",
       "    <tr>\n",
       "      <th>36346</th>\n",
       "      <td>81852</td>\n",
       "      <td>0.698303</td>\n",
       "    </tr>\n",
       "    <tr>\n",
       "      <th>36347</th>\n",
       "      <td>1971</td>\n",
       "      <td>0.552167</td>\n",
       "    </tr>\n",
       "    <tr>\n",
       "      <th>36348</th>\n",
       "      <td>69044</td>\n",
       "      <td>0.679430</td>\n",
       "    </tr>\n",
       "  </tbody>\n",
       "</table>\n",
       "<p>36349 rows × 2 columns</p>\n",
       "</div>"
      ],
      "text/plain": [
       "       client_id   default\n",
       "0          74835  0.163352\n",
       "1          17527  0.708544\n",
       "2          75683  0.243664\n",
       "3          26883  0.303935\n",
       "4          28862  0.089247\n",
       "...          ...       ...\n",
       "36344      83775  0.753219\n",
       "36345     106254  0.088973\n",
       "36346      81852  0.698303\n",
       "36347       1971  0.552167\n",
       "36348      69044  0.679430\n",
       "\n",
       "[36349 rows x 2 columns]"
      ]
     },
     "execution_count": 53,
     "metadata": {},
     "output_type": "execute_result"
    }
   ],
   "source": [
    "sample_submission = pd.DataFrame()\n",
    "sample_submission[IDENT] = df_join.loc[df_join[TRAIN] == 0, IDENT].values\n",
    "sample_submission[TARGET] = predict_submission\n",
    "sample_submission.reset_index(drop=True, inplace=True)\n",
    "sample_submission.to_csv('submission.csv', index=False)\n",
    "sample_submission"
   ]
  }
 ],
 "metadata": {
  "kernelspec": {
   "display_name": "Python 3",
   "language": "python",
   "name": "python3"
  },
  "language_info": {
   "codemirror_mode": {
    "name": "ipython",
    "version": 3
   },
   "file_extension": ".py",
   "mimetype": "text/x-python",
   "name": "python",
   "nbconvert_exporter": "python",
   "pygments_lexer": "ipython3",
   "version": "3.7.6"
  },
  "papermill": {
   "duration": 252.831031,
   "end_time": "2020-08-25T07:10:20.690654",
   "environment_variables": {},
   "exception": null,
   "input_path": "__notebook__.ipynb",
   "output_path": "__notebook__.ipynb",
   "parameters": {},
   "start_time": "2020-08-25T07:06:07.859623",
   "version": "2.1.0"
  }
 },
 "nbformat": 4,
 "nbformat_minor": 4
}
