{
 "cells": [
  {
   "cell_type": "markdown",
   "metadata": {
    "papermill": {
     "duration": 0.04623,
     "end_time": "2020-11-18T10:01:43.930999",
     "exception": false,
     "start_time": "2020-11-18T10:01:43.884769",
     "status": "completed"
    },
    "tags": []
   },
   "source": [
    "# Recommender system\n",
    "**Project Description:** Prediction of goods rating for exact user-item pairs.\n",
    "\n",
    "**Goal:** To recommend the best product for the user.\n",
    "\n",
    "**Objectives:** Create model to predict goods rating for user-item pairs.\n",
    "\n",
    "**Dataset Description:** Dataset consists of 857895 rows into train set and 285965 rows into test set.\n",
    "\n",
    "Dataset features:\n",
    "\n",
    "1. overall - rating given by the user;\n",
    "2. verified - whether the review was verified;\n",
    "3. reviewTime - when was the review written;\n",
    "4. reviewerName - user name;\n",
    "5. reviewText;\n",
    "6. summary - concise review;\n",
    "7. vote - number of votes for the review;\n",
    "8. style - metadata;\n",
    "9. image - product picture;\n",
    "10. userid - user id;\n",
    "11. itemid - product id;\n",
    "12. id - id for prediction."
   ]
  },
  {
   "cell_type": "code",
   "execution_count": 1,
   "metadata": {
    "execution": {
     "iopub.execute_input": "2020-11-18T10:01:44.034838Z",
     "iopub.status.busy": "2020-11-18T10:01:44.033979Z",
     "iopub.status.idle": "2020-11-18T10:01:45.561557Z",
     "shell.execute_reply": "2020-11-18T10:01:45.560683Z"
    },
    "papermill": {
     "duration": 1.585708,
     "end_time": "2020-11-18T10:01:45.561698",
     "exception": false,
     "start_time": "2020-11-18T10:01:43.975990",
     "status": "completed"
    },
    "slideshow": {
     "slide_type": "-"
    },
    "tags": []
   },
   "outputs": [],
   "source": [
    "import os\n",
    "import re\n",
    "import math\n",
    "import json\n",
    "import statistics\n",
    "from collections import Counter, defaultdict\n",
    "from itertools import chain, combinations\n",
    "from pprint import pprint\n",
    "\n",
    "import numpy as np\n",
    "import pandas as pd\n",
    "import scipy.stats as stats\n",
    "import scipy.sparse as sparse\n",
    "import matplotlib.pyplot as plt\n",
    "import seaborn as sns\n",
    "import missingno as msno\n",
    "from tqdm import tqdm\n",
    "from sklearn.base import clone\n",
    "from sklearn.metrics import SCORERS, make_scorer, roc_auc_score\n",
    "from sklearn.linear_model import LinearRegression\n",
    "from sklearn.preprocessing import OrdinalEncoder, OneHotEncoder, StandardScaler, PolynomialFeatures\n",
    "from sklearn.model_selection import train_test_split, KFold, RepeatedKFold, GridSearchCV, cross_val_score\n",
    "from sklearn.feature_selection import f_classif, mutual_info_classif\n",
    "from lightfm import LightFM\n",
    "from lightfm.evaluation import auc_score, precision_at_k, recall_at_k\n",
    "from lightfm.cross_validation import random_train_test_split\n",
    "\n",
    "pd.options.display.max_columns = 40"
   ]
  },
  {
   "cell_type": "code",
   "execution_count": 2,
   "metadata": {
    "execution": {
     "iopub.execute_input": "2020-11-18T10:01:45.662076Z",
     "iopub.status.busy": "2020-11-18T10:01:45.660984Z",
     "iopub.status.idle": "2020-11-18T10:01:45.667796Z",
     "shell.execute_reply": "2020-11-18T10:01:45.666992Z"
    },
    "papermill": {
     "duration": 0.060069,
     "end_time": "2020-11-18T10:01:45.667925",
     "exception": false,
     "start_time": "2020-11-18T10:01:45.607856",
     "status": "completed"
    },
    "tags": []
   },
   "outputs": [
    {
     "name": "stdout",
     "output_type": "stream",
     "text": [
      "/kaggle/src/script.ipynb\n",
      "/kaggle/lib/kaggle/gcp.py\n",
      "/kaggle/input/recommendationsv4/train.csv\n",
      "/kaggle/input/recommendationsv4/test.csv\n",
      "/kaggle/input/recommendationsv4/meta_Grocery_and_Gourmet_Food.json\n",
      "/kaggle/input/recommendationsv4/sample_submission.csv\n",
      "/kaggle/working/__notebook__.ipynb\n"
     ]
    }
   ],
   "source": [
    "for dirname, _, filenames in os.walk('/kaggle'):\n",
    "    for filename in filenames:\n",
    "        print(os.path.join(dirname, filename))"
   ]
  },
  {
   "cell_type": "code",
   "execution_count": 3,
   "metadata": {
    "execution": {
     "iopub.execute_input": "2020-11-18T10:01:45.766773Z",
     "iopub.status.busy": "2020-11-18T10:01:45.765771Z",
     "iopub.status.idle": "2020-11-18T10:01:48.677339Z",
     "shell.execute_reply": "2020-11-18T10:01:48.677990Z"
    },
    "papermill": {
     "duration": 2.963403,
     "end_time": "2020-11-18T10:01:48.678179",
     "exception": false,
     "start_time": "2020-11-18T10:01:45.714776",
     "status": "completed"
    },
    "tags": []
   },
   "outputs": [],
   "source": [
    "# Save requirements\n",
    "!pip freeze > requirements.txt"
   ]
  },
  {
   "cell_type": "code",
   "execution_count": 4,
   "metadata": {
    "execution": {
     "iopub.execute_input": "2020-11-18T10:01:48.779970Z",
     "iopub.status.busy": "2020-11-18T10:01:48.779094Z",
     "iopub.status.idle": "2020-11-18T10:01:48.782376Z",
     "shell.execute_reply": "2020-11-18T10:01:48.781593Z"
    },
    "papermill": {
     "duration": 0.057959,
     "end_time": "2020-11-18T10:01:48.782521",
     "exception": false,
     "start_time": "2020-11-18T10:01:48.724562",
     "status": "completed"
    },
    "tags": []
   },
   "outputs": [],
   "source": [
    "# G L O B A L   C O N S T A N T S\n",
    "# Random seed\n",
    "RANDOM_SEED = 42\n",
    "# Suffix for features with power of -1\n",
    "MINUS_ONE_SUFFIX = '_1'\n",
    "# Suffix for duplicated features in various feature category\n",
    "DUPLICATE_SUFFIX = '_dup'\n",
    "# Target feature\n",
    "TARGET = 'overall'\n",
    "# ID feature\n",
    "IDENT = 'Id'\n",
    "# Binary feature to separate train and test data\n",
    "TRAIN = 'TRAIN'\n",
    "# Feature of random numbers\n",
    "RANDOM = 'RANDOM'\n",
    "# Target metric\n",
    "METRIC = 'roc_auc'\n",
    "# Problem type: 'Regression' or 'Classification'\n",
    "PROBLEM = 'RecommenderSystem'\n",
    "# Data, kernel and working paths\n",
    "PATH_DATA = '/kaggle/input/recommendationsv4/'\n",
    "PATH_KERNEL = '/kaggle/input/recommender-system/'\n",
    "PATH_WORKING = '/kaggle/working/'\n",
    "# Flag of availability to drop rows\n",
    "DROP_AVAL = False"
   ]
  },
  {
   "cell_type": "markdown",
   "metadata": {
    "papermill": {
     "duration": 0.045799,
     "end_time": "2020-11-18T10:01:48.874703",
     "exception": false,
     "start_time": "2020-11-18T10:01:48.828904",
     "status": "completed"
    },
    "tags": []
   },
   "source": [
    "# Data preparing\n",
    "## Collecting and formating"
   ]
  },
  {
   "cell_type": "code",
   "execution_count": 5,
   "metadata": {
    "execution": {
     "iopub.execute_input": "2020-11-18T10:01:48.982336Z",
     "iopub.status.busy": "2020-11-18T10:01:48.981488Z",
     "iopub.status.idle": "2020-11-18T10:01:48.985450Z",
     "shell.execute_reply": "2020-11-18T10:01:48.984793Z"
    },
    "papermill": {
     "duration": 0.064993,
     "end_time": "2020-11-18T10:01:48.985576",
     "exception": false,
     "start_time": "2020-11-18T10:01:48.920583",
     "status": "completed"
    },
    "tags": []
   },
   "outputs": [],
   "source": [
    "def collect_data():\n",
    "    \"\"\"Read train and test datasets and join them\"\"\"\n",
    "    # Datasets reading\n",
    "    df_train = pd.read_csv(PATH_DATA+'train.csv', low_memory=False)\n",
    "    df_test = pd.read_csv(PATH_DATA+'test.csv', low_memory=False)\n",
    "    sample_submission = pd.read_csv(PATH_DATA+'sample_submission.csv')\n",
    "\n",
    "    # Join train and test datasets\n",
    "    df_train[TRAIN] = 1 # Train flag = 1\n",
    "    df_test[TRAIN] = 0 # Train flag = 0\n",
    "    df_join = df_test.append(df_train, ignore_index=True) # Join\n",
    "    \n",
    "    return (df_join, sample_submission)\n",
    "\n",
    "\n",
    "def check_features_format(df):\n",
    "    \"\"\"Check format of dataframe features\"\"\"\n",
    "    # Features to check\n",
    "    cols_regex = {\n",
    "        'reviewTime': '\\d{1,2}\\s\\d{1,2},\\s\\d{4}'\n",
    "    }\n",
    "\n",
    "    # Check and print result\n",
    "    for column, regex in cols_regex.items():\n",
    "        a = df[column].str.match(regex).sum()\n",
    "        b = df[column].count()\n",
    "        print(f\"'{column}' feature matches the regex format '{regex}' for {a} out of {b} rows\")\n",
    "\n",
    "\n",
    "def format_features(df):\n",
    "    \"\"\"Format dataset features\"\"\"\n",
    "    df['vote'] = df['vote'].str.replace(',', '').astype('float64')"
   ]
  },
  {
   "cell_type": "markdown",
   "metadata": {
    "papermill": {
     "duration": 0.045549,
     "end_time": "2020-11-18T10:01:49.077551",
     "exception": false,
     "start_time": "2020-11-18T10:01:49.032002",
     "status": "completed"
    },
    "tags": []
   },
   "source": [
    "## Feature engineering"
   ]
  },
  {
   "cell_type": "code",
   "execution_count": 6,
   "metadata": {
    "execution": {
     "iopub.execute_input": "2020-11-18T10:01:49.178266Z",
     "iopub.status.busy": "2020-11-18T10:01:49.177473Z",
     "iopub.status.idle": "2020-11-18T10:01:49.180705Z",
     "shell.execute_reply": "2020-11-18T10:01:49.180088Z"
    },
    "papermill": {
     "duration": 0.056825,
     "end_time": "2020-11-18T10:01:49.180843",
     "exception": false,
     "start_time": "2020-11-18T10:01:49.124018",
     "status": "completed"
    },
    "tags": []
   },
   "outputs": [],
   "source": [
    "def create_new_features(df):\n",
    "    \"\"\"Create new features from existing\"\"\"\n",
    "    # Create feature of random numbers\n",
    "    rng = np.random.default_rng(RANDOM_SEED)\n",
    "    df[RANDOM] = rng.integers(1000000, size=(df.shape[0]))"
   ]
  },
  {
   "cell_type": "markdown",
   "metadata": {
    "papermill": {
     "duration": 0.046078,
     "end_time": "2020-11-18T10:01:49.273275",
     "exception": false,
     "start_time": "2020-11-18T10:01:49.227197",
     "status": "completed"
    },
    "tags": []
   },
   "source": [
    "## Deleting of useless features"
   ]
  },
  {
   "cell_type": "code",
   "execution_count": 7,
   "metadata": {
    "execution": {
     "iopub.execute_input": "2020-11-18T10:01:49.374986Z",
     "iopub.status.busy": "2020-11-18T10:01:49.374180Z",
     "iopub.status.idle": "2020-11-18T10:01:49.377635Z",
     "shell.execute_reply": "2020-11-18T10:01:49.376876Z"
    },
    "papermill": {
     "duration": 0.056574,
     "end_time": "2020-11-18T10:01:49.377763",
     "exception": false,
     "start_time": "2020-11-18T10:01:49.321189",
     "status": "completed"
    },
    "tags": []
   },
   "outputs": [],
   "source": [
    "def delete_useless_features(df):\n",
    "    \"\"\"Delete useless features and data (rows)\"\"\"\n",
    "    # Delete useless features\n",
    "    df.drop([\n",
    "             IDENT,\n",
    "             'asin',\n",
    "             'reviewerName',\n",
    "             'reviewTime',\n",
    "\n",
    "             'reviewText',\n",
    "             'summary',\n",
    "             'image',\n",
    "\n",
    "             'style',\n",
    "            ], axis=1, inplace=True)"
   ]
  },
  {
   "cell_type": "markdown",
   "metadata": {
    "papermill": {
     "duration": 0.048498,
     "end_time": "2020-11-18T10:01:49.472882",
     "exception": false,
     "start_time": "2020-11-18T10:01:49.424384",
     "status": "completed"
    },
    "tags": []
   },
   "source": [
    "## Receiving of general information"
   ]
  },
  {
   "cell_type": "code",
   "execution_count": 8,
   "metadata": {
    "execution": {
     "iopub.execute_input": "2020-11-18T10:01:49.573521Z",
     "iopub.status.busy": "2020-11-18T10:01:49.572673Z",
     "iopub.status.idle": "2020-11-18T10:02:00.351850Z",
     "shell.execute_reply": "2020-11-18T10:02:00.351194Z"
    },
    "papermill": {
     "duration": 10.832589,
     "end_time": "2020-11-18T10:02:00.351986",
     "exception": false,
     "start_time": "2020-11-18T10:01:49.519397",
     "status": "completed"
    },
    "tags": []
   },
   "outputs": [
    {
     "name": "stdout",
     "output_type": "stream",
     "text": [
      "'reviewTime' feature matches the regex format '\\d{1,2}\\s\\d{1,2},\\s\\d{4}' for 1143860 out of 1143860 rows\n"
     ]
    }
   ],
   "source": [
    "df, sample_submission = collect_data()\n",
    "check_features_format(df)\n",
    "format_features(df)\n",
    "create_new_features(df)\n",
    "delete_useless_features(df)"
   ]
  },
  {
   "cell_type": "markdown",
   "metadata": {
    "papermill": {
     "duration": 0.046798,
     "end_time": "2020-11-18T10:02:00.445756",
     "exception": false,
     "start_time": "2020-11-18T10:02:00.398958",
     "status": "completed"
    },
    "tags": []
   },
   "source": [
    "**Show general information of datasets**"
   ]
  },
  {
   "cell_type": "code",
   "execution_count": 9,
   "metadata": {
    "execution": {
     "iopub.execute_input": "2020-11-18T10:02:00.548108Z",
     "iopub.status.busy": "2020-11-18T10:02:00.547323Z",
     "iopub.status.idle": "2020-11-18T10:02:00.682714Z",
     "shell.execute_reply": "2020-11-18T10:02:00.681898Z"
    },
    "papermill": {
     "duration": 0.188821,
     "end_time": "2020-11-18T10:02:00.682852",
     "exception": false,
     "start_time": "2020-11-18T10:02:00.494031",
     "status": "completed"
    },
    "tags": []
   },
   "outputs": [
    {
     "data": {
      "text/html": [
       "<div>\n",
       "<style scoped>\n",
       "    .dataframe tbody tr th:only-of-type {\n",
       "        vertical-align: middle;\n",
       "    }\n",
       "\n",
       "    .dataframe tbody tr th {\n",
       "        vertical-align: top;\n",
       "    }\n",
       "\n",
       "    .dataframe thead th {\n",
       "        text-align: right;\n",
       "    }\n",
       "</style>\n",
       "<table border=\"1\" class=\"dataframe\">\n",
       "  <thead>\n",
       "    <tr style=\"text-align: right;\">\n",
       "      <th></th>\n",
       "      <th>verified</th>\n",
       "      <th>unixReviewTime</th>\n",
       "      <th>vote</th>\n",
       "      <th>userid</th>\n",
       "      <th>itemid</th>\n",
       "      <th>TRAIN</th>\n",
       "      <th>overall</th>\n",
       "      <th>rating</th>\n",
       "      <th>RANDOM</th>\n",
       "    </tr>\n",
       "  </thead>\n",
       "  <tbody>\n",
       "    <tr>\n",
       "      <th>285965</th>\n",
       "      <td>True</td>\n",
       "      <td>1475539200</td>\n",
       "      <td>NaN</td>\n",
       "      <td>102179</td>\n",
       "      <td>37138</td>\n",
       "      <td>1</td>\n",
       "      <td>5.0</td>\n",
       "      <td>1.0</td>\n",
       "      <td>508932</td>\n",
       "    </tr>\n",
       "    <tr>\n",
       "      <th>285966</th>\n",
       "      <td>True</td>\n",
       "      <td>1456790400</td>\n",
       "      <td>NaN</td>\n",
       "      <td>3625</td>\n",
       "      <td>17322</td>\n",
       "      <td>1</td>\n",
       "      <td>5.0</td>\n",
       "      <td>1.0</td>\n",
       "      <td>262238</td>\n",
       "    </tr>\n",
       "    <tr>\n",
       "      <th>285967</th>\n",
       "      <td>True</td>\n",
       "      <td>1466899200</td>\n",
       "      <td>28.0</td>\n",
       "      <td>39495</td>\n",
       "      <td>5600</td>\n",
       "      <td>1</td>\n",
       "      <td>5.0</td>\n",
       "      <td>1.0</td>\n",
       "      <td>428441</td>\n",
       "    </tr>\n",
       "    <tr>\n",
       "      <th>285968</th>\n",
       "      <td>True</td>\n",
       "      <td>1378339200</td>\n",
       "      <td>NaN</td>\n",
       "      <td>72854</td>\n",
       "      <td>30249</td>\n",
       "      <td>1</td>\n",
       "      <td>5.0</td>\n",
       "      <td>1.0</td>\n",
       "      <td>990252</td>\n",
       "    </tr>\n",
       "    <tr>\n",
       "      <th>285969</th>\n",
       "      <td>True</td>\n",
       "      <td>1473811200</td>\n",
       "      <td>NaN</td>\n",
       "      <td>74859</td>\n",
       "      <td>4349</td>\n",
       "      <td>1</td>\n",
       "      <td>5.0</td>\n",
       "      <td>1.0</td>\n",
       "      <td>462507</td>\n",
       "    </tr>\n",
       "  </tbody>\n",
       "</table>\n",
       "</div>"
      ],
      "text/plain": [
       "        verified  unixReviewTime  vote  userid  itemid  TRAIN  overall  \\\n",
       "285965      True      1475539200   NaN  102179   37138      1      5.0   \n",
       "285966      True      1456790400   NaN    3625   17322      1      5.0   \n",
       "285967      True      1466899200  28.0   39495    5600      1      5.0   \n",
       "285968      True      1378339200   NaN   72854   30249      1      5.0   \n",
       "285969      True      1473811200   NaN   74859    4349      1      5.0   \n",
       "\n",
       "        rating  RANDOM  \n",
       "285965     1.0  508932  \n",
       "285966     1.0  262238  \n",
       "285967     1.0  428441  \n",
       "285968     1.0  990252  \n",
       "285969     1.0  462507  "
      ]
     },
     "execution_count": 9,
     "metadata": {},
     "output_type": "execute_result"
    }
   ],
   "source": [
    "df.loc[df[TRAIN] == 1].head()"
   ]
  },
  {
   "cell_type": "code",
   "execution_count": 10,
   "metadata": {
    "execution": {
     "iopub.execute_input": "2020-11-18T10:02:00.791119Z",
     "iopub.status.busy": "2020-11-18T10:02:00.790063Z",
     "iopub.status.idle": "2020-11-18T10:02:00.816268Z",
     "shell.execute_reply": "2020-11-18T10:02:00.815611Z"
    },
    "papermill": {
     "duration": 0.080267,
     "end_time": "2020-11-18T10:02:00.816397",
     "exception": false,
     "start_time": "2020-11-18T10:02:00.736130",
     "status": "completed"
    },
    "tags": []
   },
   "outputs": [
    {
     "data": {
      "text/html": [
       "<div>\n",
       "<style scoped>\n",
       "    .dataframe tbody tr th:only-of-type {\n",
       "        vertical-align: middle;\n",
       "    }\n",
       "\n",
       "    .dataframe tbody tr th {\n",
       "        vertical-align: top;\n",
       "    }\n",
       "\n",
       "    .dataframe thead th {\n",
       "        text-align: right;\n",
       "    }\n",
       "</style>\n",
       "<table border=\"1\" class=\"dataframe\">\n",
       "  <thead>\n",
       "    <tr style=\"text-align: right;\">\n",
       "      <th></th>\n",
       "      <th>verified</th>\n",
       "      <th>unixReviewTime</th>\n",
       "      <th>vote</th>\n",
       "      <th>userid</th>\n",
       "      <th>itemid</th>\n",
       "      <th>TRAIN</th>\n",
       "      <th>overall</th>\n",
       "      <th>rating</th>\n",
       "      <th>RANDOM</th>\n",
       "    </tr>\n",
       "  </thead>\n",
       "  <tbody>\n",
       "    <tr>\n",
       "      <th>0</th>\n",
       "      <td>True</td>\n",
       "      <td>1475280000</td>\n",
       "      <td>NaN</td>\n",
       "      <td>68877</td>\n",
       "      <td>7506</td>\n",
       "      <td>0</td>\n",
       "      <td>NaN</td>\n",
       "      <td>NaN</td>\n",
       "      <td>89250</td>\n",
       "    </tr>\n",
       "    <tr>\n",
       "      <th>1</th>\n",
       "      <td>True</td>\n",
       "      <td>1404000000</td>\n",
       "      <td>2.0</td>\n",
       "      <td>50442</td>\n",
       "      <td>15530</td>\n",
       "      <td>0</td>\n",
       "      <td>NaN</td>\n",
       "      <td>NaN</td>\n",
       "      <td>773956</td>\n",
       "    </tr>\n",
       "    <tr>\n",
       "      <th>2</th>\n",
       "      <td>True</td>\n",
       "      <td>1431993600</td>\n",
       "      <td>NaN</td>\n",
       "      <td>64349</td>\n",
       "      <td>15049</td>\n",
       "      <td>0</td>\n",
       "      <td>NaN</td>\n",
       "      <td>NaN</td>\n",
       "      <td>654571</td>\n",
       "    </tr>\n",
       "    <tr>\n",
       "      <th>3</th>\n",
       "      <td>True</td>\n",
       "      <td>1412467200</td>\n",
       "      <td>NaN</td>\n",
       "      <td>26206</td>\n",
       "      <td>11957</td>\n",
       "      <td>0</td>\n",
       "      <td>NaN</td>\n",
       "      <td>NaN</td>\n",
       "      <td>438878</td>\n",
       "    </tr>\n",
       "    <tr>\n",
       "      <th>4</th>\n",
       "      <td>True</td>\n",
       "      <td>1384128000</td>\n",
       "      <td>3.0</td>\n",
       "      <td>59366</td>\n",
       "      <td>12173</td>\n",
       "      <td>0</td>\n",
       "      <td>NaN</td>\n",
       "      <td>NaN</td>\n",
       "      <td>433015</td>\n",
       "    </tr>\n",
       "  </tbody>\n",
       "</table>\n",
       "</div>"
      ],
      "text/plain": [
       "   verified  unixReviewTime  vote  userid  itemid  TRAIN  overall  rating  \\\n",
       "0      True      1475280000   NaN   68877    7506      0      NaN     NaN   \n",
       "1      True      1404000000   2.0   50442   15530      0      NaN     NaN   \n",
       "2      True      1431993600   NaN   64349   15049      0      NaN     NaN   \n",
       "3      True      1412467200   NaN   26206   11957      0      NaN     NaN   \n",
       "4      True      1384128000   3.0   59366   12173      0      NaN     NaN   \n",
       "\n",
       "   RANDOM  \n",
       "0   89250  \n",
       "1  773956  \n",
       "2  654571  \n",
       "3  438878  \n",
       "4  433015  "
      ]
     },
     "execution_count": 10,
     "metadata": {},
     "output_type": "execute_result"
    }
   ],
   "source": [
    "df.loc[df[TRAIN] == 0].head()"
   ]
  },
  {
   "cell_type": "code",
   "execution_count": 11,
   "metadata": {
    "execution": {
     "iopub.execute_input": "2020-11-18T10:02:00.926367Z",
     "iopub.status.busy": "2020-11-18T10:02:00.925389Z",
     "iopub.status.idle": "2020-11-18T10:02:00.931064Z",
     "shell.execute_reply": "2020-11-18T10:02:00.930320Z"
    },
    "papermill": {
     "duration": 0.066042,
     "end_time": "2020-11-18T10:02:00.931209",
     "exception": false,
     "start_time": "2020-11-18T10:02:00.865167",
     "status": "completed"
    },
    "tags": []
   },
   "outputs": [
    {
     "data": {
      "text/html": [
       "<div>\n",
       "<style scoped>\n",
       "    .dataframe tbody tr th:only-of-type {\n",
       "        vertical-align: middle;\n",
       "    }\n",
       "\n",
       "    .dataframe tbody tr th {\n",
       "        vertical-align: top;\n",
       "    }\n",
       "\n",
       "    .dataframe thead th {\n",
       "        text-align: right;\n",
       "    }\n",
       "</style>\n",
       "<table border=\"1\" class=\"dataframe\">\n",
       "  <thead>\n",
       "    <tr style=\"text-align: right;\">\n",
       "      <th></th>\n",
       "      <th>Id</th>\n",
       "      <th>rating</th>\n",
       "    </tr>\n",
       "  </thead>\n",
       "  <tbody>\n",
       "    <tr>\n",
       "      <th>0</th>\n",
       "      <td>0</td>\n",
       "      <td>0.282813</td>\n",
       "    </tr>\n",
       "    <tr>\n",
       "      <th>1</th>\n",
       "      <td>1</td>\n",
       "      <td>0.629758</td>\n",
       "    </tr>\n",
       "    <tr>\n",
       "      <th>2</th>\n",
       "      <td>2</td>\n",
       "      <td>0.916899</td>\n",
       "    </tr>\n",
       "    <tr>\n",
       "      <th>3</th>\n",
       "      <td>3</td>\n",
       "      <td>0.702790</td>\n",
       "    </tr>\n",
       "    <tr>\n",
       "      <th>4</th>\n",
       "      <td>4</td>\n",
       "      <td>0.043446</td>\n",
       "    </tr>\n",
       "  </tbody>\n",
       "</table>\n",
       "</div>"
      ],
      "text/plain": [
       "   Id    rating\n",
       "0   0  0.282813\n",
       "1   1  0.629758\n",
       "2   2  0.916899\n",
       "3   3  0.702790\n",
       "4   4  0.043446"
      ]
     },
     "execution_count": 11,
     "metadata": {},
     "output_type": "execute_result"
    }
   ],
   "source": [
    "sample_submission.head()"
   ]
  },
  {
   "cell_type": "code",
   "execution_count": 12,
   "metadata": {
    "execution": {
     "iopub.execute_input": "2020-11-18T10:02:01.053324Z",
     "iopub.status.busy": "2020-11-18T10:02:01.052475Z",
     "iopub.status.idle": "2020-11-18T10:02:01.188183Z",
     "shell.execute_reply": "2020-11-18T10:02:01.187536Z"
    },
    "papermill": {
     "duration": 0.200453,
     "end_time": "2020-11-18T10:02:01.188344",
     "exception": false,
     "start_time": "2020-11-18T10:02:00.987891",
     "status": "completed"
    },
    "tags": []
   },
   "outputs": [
    {
     "name": "stdout",
     "output_type": "stream",
     "text": [
      "<class 'pandas.core.frame.DataFrame'>\n",
      "Int64Index: 857895 entries, 285965 to 1143859\n",
      "Data columns (total 9 columns):\n",
      " #   Column          Non-Null Count   Dtype  \n",
      "---  ------          --------------   -----  \n",
      " 0   verified        857895 non-null  bool   \n",
      " 1   unixReviewTime  857895 non-null  int64  \n",
      " 2   vote            118740 non-null  float64\n",
      " 3   userid          857895 non-null  int64  \n",
      " 4   itemid          857895 non-null  int64  \n",
      " 5   TRAIN           857895 non-null  int64  \n",
      " 6   overall         857895 non-null  float64\n",
      " 7   rating          857895 non-null  float64\n",
      " 8   RANDOM          857895 non-null  int64  \n",
      "dtypes: bool(1), float64(3), int64(5)\n",
      "memory usage: 59.7 MB\n",
      "\n",
      "<class 'pandas.core.frame.DataFrame'>\n",
      "Int64Index: 285965 entries, 0 to 285964\n",
      "Data columns (total 9 columns):\n",
      " #   Column          Non-Null Count   Dtype  \n",
      "---  ------          --------------   -----  \n",
      " 0   verified        285965 non-null  bool   \n",
      " 1   unixReviewTime  285965 non-null  int64  \n",
      " 2   vote            39462 non-null   float64\n",
      " 3   userid          285965 non-null  int64  \n",
      " 4   itemid          285965 non-null  int64  \n",
      " 5   TRAIN           285965 non-null  int64  \n",
      " 6   overall         0 non-null       float64\n",
      " 7   rating          0 non-null       float64\n",
      " 8   RANDOM          285965 non-null  int64  \n",
      "dtypes: bool(1), float64(3), int64(5)\n",
      "memory usage: 19.9 MB\n",
      "\n",
      "<class 'pandas.core.frame.DataFrame'>\n",
      "RangeIndex: 1143860 entries, 0 to 1143859\n",
      "Data columns (total 9 columns):\n",
      " #   Column          Non-Null Count    Dtype  \n",
      "---  ------          --------------    -----  \n",
      " 0   verified        1143860 non-null  bool   \n",
      " 1   unixReviewTime  1143860 non-null  int64  \n",
      " 2   vote            158202 non-null   float64\n",
      " 3   userid          1143860 non-null  int64  \n",
      " 4   itemid          1143860 non-null  int64  \n",
      " 5   TRAIN           1143860 non-null  int64  \n",
      " 6   overall         857895 non-null   float64\n",
      " 7   rating          857895 non-null   float64\n",
      " 8   RANDOM          1143860 non-null  int64  \n",
      "dtypes: bool(1), float64(3), int64(5)\n",
      "memory usage: 70.9 MB\n",
      "\n",
      "<class 'pandas.core.frame.DataFrame'>\n",
      "RangeIndex: 285965 entries, 0 to 285964\n",
      "Data columns (total 2 columns):\n",
      " #   Column  Non-Null Count   Dtype  \n",
      "---  ------  --------------   -----  \n",
      " 0   Id      285965 non-null  int64  \n",
      " 1   rating  285965 non-null  float64\n",
      "dtypes: float64(1), int64(1)\n",
      "memory usage: 4.4 MB\n"
     ]
    }
   ],
   "source": [
    "df.loc[df[TRAIN] == 1].info()\n",
    "print()\n",
    "df.loc[df[TRAIN] == 0].info()\n",
    "print()\n",
    "df.info()\n",
    "print()\n",
    "sample_submission.info()"
   ]
  },
  {
   "cell_type": "code",
   "execution_count": 13,
   "metadata": {
    "_kg_hide-input": false,
    "_kg_hide-output": false,
    "execution": {
     "iopub.execute_input": "2020-11-18T10:02:01.296479Z",
     "iopub.status.busy": "2020-11-18T10:02:01.295101Z",
     "iopub.status.idle": "2020-11-18T10:02:05.120288Z",
     "shell.execute_reply": "2020-11-18T10:02:05.120880Z"
    },
    "papermill": {
     "duration": 3.882187,
     "end_time": "2020-11-18T10:02:05.121048",
     "exception": false,
     "start_time": "2020-11-18T10:02:01.238861",
     "status": "completed"
    },
    "scrolled": false,
    "tags": []
   },
   "outputs": [
    {
     "data": {
      "image/png": "[encoded data removed]",
      "text/plain": [
       "<Figure size 1800x720 with 2 Axes>"
      ]
     },
     "metadata": {
      "needs_background": "light"
     },
     "output_type": "display_data"
    }
   ],
   "source": [
    "msno.matrix(df);"
   ]
  },
  {
   "cell_type": "markdown",
   "metadata": {
    "papermill": {
     "duration": 0.051852,
     "end_time": "2020-11-18T10:02:05.226996",
     "exception": false,
     "start_time": "2020-11-18T10:02:05.175144",
     "status": "completed"
    },
    "tags": []
   },
   "source": [
    "**Declare target variable, quantity, ordinal and categorical features**"
   ]
  },
  {
   "cell_type": "code",
   "execution_count": 14,
   "metadata": {
    "execution": {
     "iopub.execute_input": "2020-11-18T10:02:05.346511Z",
     "iopub.status.busy": "2020-11-18T10:02:05.342290Z",
     "iopub.status.idle": "2020-11-18T10:02:05.350312Z",
     "shell.execute_reply": "2020-11-18T10:02:05.349683Z"
    },
    "papermill": {
     "duration": 0.071604,
     "end_time": "2020-11-18T10:02:05.350448",
     "exception": false,
     "start_time": "2020-11-18T10:02:05.278844",
     "status": "completed"
    },
    "tags": []
   },
   "outputs": [],
   "source": [
    "def declare_features_type():\n",
    "    \"\"\"Declare target variable, quantity, ordinal and categorical features\"\"\"\n",
    "    global categ_bin_cols, categ_many_cols, categ_multi_cols, categ_cols\n",
    "    global quantity_cols, quantity_categ_cols, ordinal_cols\n",
    "    \n",
    "    # Declare categorical features\n",
    "    categ_bin_cols = [\n",
    "        'verified',\n",
    "    ]\n",
    "    categ_many_cols = [\n",
    "    ]\n",
    "    categ_multi_cols = [\n",
    "    ]\n",
    "\n",
    "    # Declare quantity features\n",
    "    quantity_cols = [\n",
    "        RANDOM,\n",
    "        'unixReviewTime',\n",
    "        'vote',\n",
    "        'userid',\n",
    "        'itemid',\n",
    "    ]\n",
    "\n",
    "    # Declare categorized quantity features\n",
    "    quantity_categ_cols = [\n",
    "    ]\n",
    "\n",
    "    # Declare ordinal features\n",
    "    ordinal_cols = [\n",
    "    ]\n",
    "\n",
    "    # Update quantity, ordinal and categorical feature lists\n",
    "    categ_bin_cols = [col for col in categ_bin_cols if col in df.columns]\n",
    "    categ_many_cols = [col for col in categ_many_cols if col in df.columns]\n",
    "    categ_multi_cols = [col for col in categ_multi_cols if col in df.columns]\n",
    "    categ_cols = categ_bin_cols + categ_many_cols + categ_multi_cols\n",
    "    quantity_cols = [col for col in quantity_cols if col in df.columns]\n",
    "    quantity_categ_cols = [col for col in quantity_categ_cols if col in df.columns]\n",
    "    ordinal_cols = [col for col in ordinal_cols if col in df.columns]\n",
    "    \n",
    "declare_features_type()"
   ]
  },
  {
   "cell_type": "markdown",
   "metadata": {
    "papermill": {
     "duration": 0.054034,
     "end_time": "2020-11-18T10:02:05.456662",
     "exception": false,
     "start_time": "2020-11-18T10:02:05.402628",
     "status": "completed"
    },
    "tags": []
   },
   "source": [
    "**View unique values**"
   ]
  },
  {
   "cell_type": "code",
   "execution_count": 15,
   "metadata": {
    "execution": {
     "iopub.execute_input": "2020-11-18T10:02:05.579636Z",
     "iopub.status.busy": "2020-11-18T10:02:05.574013Z",
     "iopub.status.idle": "2020-11-18T10:02:09.112702Z",
     "shell.execute_reply": "2020-11-18T10:02:09.111779Z"
    },
    "papermill": {
     "duration": 3.600541,
     "end_time": "2020-11-18T10:02:09.112842",
     "exception": false,
     "start_time": "2020-11-18T10:02:05.512301",
     "status": "completed"
    },
    "tags": []
   },
   "outputs": [
    {
     "name": "stdout",
     "output_type": "stream",
     "text": [
      "                         Test:  Train:    All:\n",
      "verified:                    2       2       2\n"
     ]
    }
   ],
   "source": [
    "# Print header\n",
    "print(('Test:').rjust(30) + ('Train:').rjust(8) + ('All:').rjust(8))\n",
    "\n",
    "# Find and show number of unique values of categorical features\n",
    "categorical_unique_test = {}\n",
    "categorical_unique_train = {}\n",
    "categorical_unique = {}\n",
    "for column in categ_cols:\n",
    "    # Handle categ_multi_cols features\n",
    "    if column in categ_multi_cols:\n",
    "        categorical_unique_test[column] = pd.Series(Counter(chain.from_iterable(df.loc[df[column].notna() & (df[TRAIN] == 0), column].str.split('|')))).sort_values(ascending=False)\n",
    "        categorical_unique_train[column] = pd.Series(Counter(chain.from_iterable(df.loc[df[column].notna() & (df[TRAIN] == 1), column].str.split('|')))).sort_values(ascending=False)\n",
    "        categorical_unique[column] = pd.Series(Counter(chain.from_iterable(df.loc[df[column].notna(), column].str.split('|')))).sort_values(ascending=False)\n",
    "\n",
    "    # Handle categ_bin_cols and categ_many_cols features\n",
    "    else:\n",
    "        categorical_unique_test[column] = pd.Series(Counter(chain.from_iterable(df.loc[df[column].notna() & (df[TRAIN] == 0), column].apply(lambda x: [x])))).sort_values(ascending=False)\n",
    "        categorical_unique_train[column] = pd.Series(Counter(chain.from_iterable(df.loc[df[column].notna() & (df[TRAIN] == 1), column].apply(lambda x: [x])))).sort_values(ascending=False)\n",
    "        categorical_unique[column] = pd.Series(Counter(chain.from_iterable(df.loc[df[column].notna(), column].apply(lambda x: [x])))).sort_values(ascending=False)\n",
    "\n",
    "    # Show result\n",
    "    print((column + ':').ljust(22)\n",
    "          + str(len(categorical_unique_test[column])).rjust(8)\n",
    "          + str(len(categorical_unique_train[column])).rjust(8)\n",
    "          + str(len(categorical_unique[column])).rjust(8))"
   ]
  },
  {
   "cell_type": "code",
   "execution_count": 16,
   "metadata": {
    "_kg_hide-output": true,
    "execution": {
     "iopub.execute_input": "2020-11-18T10:02:09.238986Z",
     "iopub.status.busy": "2020-11-18T10:02:09.238101Z",
     "iopub.status.idle": "2020-11-18T10:02:09.244150Z",
     "shell.execute_reply": "2020-11-18T10:02:09.243162Z"
    },
    "papermill": {
     "duration": 0.076478,
     "end_time": "2020-11-18T10:02:09.244334",
     "exception": false,
     "start_time": "2020-11-18T10:02:09.167856",
     "status": "completed"
    },
    "tags": []
   },
   "outputs": [
    {
     "name": "stdout",
     "output_type": "stream",
     "text": [
      "                         Test:  Train:    All:\n",
      "verified:\n",
      "True                    248604  745243  993847\n",
      "False                    37361  112652  150013\n",
      "\n"
     ]
    }
   ],
   "source": [
    "# Parameters\n",
    "ALPHABET_ORDER = False\n",
    "\n",
    "# Print header\n",
    "print(('Test:').rjust(30) + ('Train:').rjust(8) + ('All:').rjust(8))\n",
    "\n",
    "# Show unique values of categorical features\n",
    "for column in categ_cols:\n",
    "    print(column + ':')\n",
    "    for i in categorical_unique[column].sort_index().index if ALPHABET_ORDER \\\n",
    "      else categorical_unique[column].index:\n",
    "        print(str(i).ljust(22), end='')\n",
    "        if i in categorical_unique_test[column].index:\n",
    "            print(str(categorical_unique_test[column].at[i]).rjust(8), end='')\n",
    "        else:\n",
    "            print(str(0).rjust(8), end='')\n",
    "        if i in categorical_unique_train[column].index:\n",
    "            print(str(categorical_unique_train[column].at[i]).rjust(8), end='')\n",
    "        else:\n",
    "            print(str(0).rjust(8), end='')\n",
    "        print(str(categorical_unique[column].at[i]).rjust(8))\n",
    "    print()"
   ]
  },
  {
   "cell_type": "code",
   "execution_count": 17,
   "metadata": {
    "execution": {
     "iopub.execute_input": "2020-11-18T10:02:09.364014Z",
     "iopub.status.busy": "2020-11-18T10:02:09.363200Z",
     "iopub.status.idle": "2020-11-18T10:02:09.558401Z",
     "shell.execute_reply": "2020-11-18T10:02:09.557524Z"
    },
    "papermill": {
     "duration": 0.254996,
     "end_time": "2020-11-18T10:02:09.558552",
     "exception": false,
     "start_time": "2020-11-18T10:02:09.303556",
     "status": "completed"
    },
    "scrolled": false,
    "tags": []
   },
   "outputs": [
    {
     "data": {
      "image/png": "[encoded data removed]",
      "text/plain": [
       "<Figure size 1296x432 with 1 Axes>"
      ]
     },
     "metadata": {
      "needs_background": "light"
     },
     "output_type": "display_data"
    }
   ],
   "source": [
    "# Show distribution of categorical features\n",
    "for column in categ_cols:\n",
    "    categorical_unique[column].plot.bar(figsize=(18, 6), title=column)\n",
    "    plt.show()"
   ]
  },
  {
   "cell_type": "code",
   "execution_count": 18,
   "metadata": {
    "execution": {
     "iopub.execute_input": "2020-11-18T10:02:09.692343Z",
     "iopub.status.busy": "2020-11-18T10:02:09.691330Z",
     "iopub.status.idle": "2020-11-18T10:02:09.927927Z",
     "shell.execute_reply": "2020-11-18T10:02:09.926997Z"
    },
    "papermill": {
     "duration": 0.305171,
     "end_time": "2020-11-18T10:02:09.928094",
     "exception": false,
     "start_time": "2020-11-18T10:02:09.622923",
     "status": "completed"
    },
    "scrolled": false,
    "tags": []
   },
   "outputs": [
    {
     "name": "stdout",
     "output_type": "stream",
     "text": [
      "                         Test:  Train:    All:\n",
      "RANDOM:                 248778  575739  681250\n",
      "unixReviewTime:           4349    4580    4622\n",
      "vote:                      198     311     333\n",
      "userid:                 109357  127448  127496\n",
      "itemid:                  37876   41302   41320\n"
     ]
    }
   ],
   "source": [
    "# Print header\n",
    "print(('Test:').rjust(30) + ('Train:').rjust(8) + ('All:').rjust(8))\n",
    "\n",
    "# Show number of unique values of quantity and ordinal features\n",
    "for column in quantity_cols + quantity_categ_cols + ordinal_cols:\n",
    "    print((column + ':').ljust(22)\n",
    "          + (str(df.loc[df[TRAIN] == 0, column].nunique()).rjust(8))\n",
    "          + (str(df.loc[df[TRAIN] == 1, column].nunique()).rjust(8))\n",
    "          + (str(df[column].nunique()).rjust(8)))"
   ]
  },
  {
   "cell_type": "code",
   "execution_count": 19,
   "metadata": {
    "execution": {
     "iopub.execute_input": "2020-11-18T10:02:10.054884Z",
     "iopub.status.busy": "2020-11-18T10:02:10.053830Z",
     "iopub.status.idle": "2020-11-18T10:02:10.103632Z",
     "shell.execute_reply": "2020-11-18T10:02:10.102855Z"
    },
    "papermill": {
     "duration": 0.118299,
     "end_time": "2020-11-18T10:02:10.103779",
     "exception": false,
     "start_time": "2020-11-18T10:02:09.985480",
     "status": "completed"
    },
    "tags": []
   },
   "outputs": [
    {
     "name": "stdout",
     "output_type": "stream",
     "text": [
      "Test:  vote:          [2.000e+00 3.000e+00 4.000e+00 5.000e+00 6.000e+00 7.000e+00 8.000e+00\n",
      " 9.000e+00 1.000e+01 1.100e+01 1.200e+01 1.300e+01 1.400e+01 1.500e+01\n",
      " 1.600e+01 1.700e+01 1.800e+01 1.900e+01 2.000e+01 2.100e+01 2.200e+01\n",
      " 2.300e+01 2.400e+01 2.500e+01 2.600e+01 2.700e+01 2.800e+01 2.900e+01\n",
      " 3.000e+01 3.100e+01 3.200e+01 3.300e+01 3.400e+01 3.500e+01 3.600e+01\n",
      " 3.700e+01 3.800e+01 3.900e+01 4.000e+01 4.100e+01 4.200e+01 4.300e+01\n",
      " 4.400e+01 4.500e+01 4.600e+01 4.700e+01 4.800e+01 4.900e+01 5.000e+01\n",
      " 5.100e+01 5.200e+01 5.300e+01 5.400e+01 5.500e+01 5.600e+01 5.700e+01\n",
      " 5.800e+01 5.900e+01 6.000e+01 6.100e+01 6.200e+01 6.300e+01 6.400e+01\n",
      " 6.500e+01 6.600e+01 6.700e+01 6.800e+01 6.900e+01 7.000e+01 7.100e+01\n",
      " 7.200e+01 7.300e+01 7.400e+01 7.500e+01 7.600e+01 7.700e+01 7.800e+01\n",
      " 7.900e+01 8.000e+01 8.100e+01 8.200e+01 8.300e+01 8.400e+01 8.500e+01\n",
      " 8.600e+01 8.700e+01 8.800e+01 8.900e+01 9.000e+01 9.100e+01 9.200e+01\n",
      " 9.300e+01 9.400e+01 9.500e+01 9.600e+01 9.900e+01 1.000e+02 1.010e+02\n",
      " 1.020e+02 1.040e+02 1.050e+02 1.060e+02 1.070e+02 1.080e+02 1.100e+02\n",
      " 1.110e+02 1.130e+02 1.140e+02 1.150e+02 1.160e+02 1.170e+02 1.180e+02\n",
      " 1.190e+02 1.210e+02 1.220e+02 1.230e+02 1.250e+02 1.260e+02 1.270e+02\n",
      " 1.280e+02 1.290e+02 1.360e+02 1.370e+02 1.380e+02 1.390e+02 1.400e+02\n",
      " 1.420e+02 1.430e+02 1.440e+02 1.450e+02 1.460e+02 1.490e+02 1.510e+02\n",
      " 1.520e+02 1.540e+02 1.560e+02 1.580e+02 1.590e+02 1.660e+02 1.680e+02\n",
      " 1.690e+02 1.700e+02 1.710e+02 1.730e+02 1.740e+02 1.780e+02 1.790e+02\n",
      " 1.810e+02 1.840e+02 1.850e+02 1.860e+02 1.880e+02 1.890e+02 1.910e+02\n",
      " 1.920e+02 1.940e+02 1.950e+02 1.970e+02 1.990e+02 2.050e+02 2.060e+02\n",
      " 2.110e+02 2.130e+02 2.200e+02 2.280e+02 2.320e+02 2.370e+02 2.380e+02\n",
      " 2.480e+02 2.490e+02 2.510e+02 2.540e+02 2.560e+02 2.570e+02 2.590e+02\n",
      " 2.610e+02 2.900e+02 2.930e+02 3.000e+02 3.020e+02 3.040e+02 3.250e+02\n",
      " 3.450e+02 3.820e+02 4.080e+02 4.800e+02 5.270e+02 5.310e+02 5.550e+02\n",
      " 6.120e+02 6.440e+02 7.160e+02 7.520e+02 8.910e+02 1.313e+03 2.061e+03\n",
      " 2.088e+03 2.584e+03       nan]\n",
      "Train: vote:          [   2.    3.    4.    5.    6.    7.    8.    9.   10.   11.   12.   13.\n",
      "   14.   15.   16.   17.   18.   19.   20.   21.   22.   23.   24.   25.\n",
      "   26.   27.   28.   29.   30.   31.   32.   33.   34.   35.   36.   37.\n",
      "   38.   39.   40.   41.   42.   43.   44.   45.   46.   47.   48.   49.\n",
      "   50.   51.   52.   53.   54.   55.   56.   57.   58.   59.   60.   61.\n",
      "   62.   63.   64.   65.   66.   67.   68.   69.   70.   71.   72.   73.\n",
      "   74.   75.   76.   77.   78.   79.   80.   81.   82.   83.   84.   85.\n",
      "   86.   87.   88.   89.   90.   91.   92.   93.   94.   95.   96.   97.\n",
      "   98.   99.  100.  101.  102.  103.  104.  105.  106.  107.  108.  109.\n",
      "  110.  111.  112.  113.  114.  115.  116.  117.  118.  119.  120.  121.\n",
      "  122.  123.  124.  125.  126.  127.  128.  129.  130.  131.  132.  133.\n",
      "  134.  135.  136.  138.  139.  140.  141.  142.  143.  144.  145.  146.\n",
      "  147.  148.  149.  150.  151.  152.  153.  154.  155.  156.  157.  158.\n",
      "  159.  160.  163.  164.  165.  166.  167.  168.  169.  170.  171.  172.\n",
      "  173.  174.  175.  176.  179.  180.  181.  184.  185.  186.  187.  188.\n",
      "  189.  190.  191.  192.  193.  194.  195.  197.  198.  199.  202.  203.\n",
      "  205.  206.  208.  209.  210.  211.  214.  216.  217.  218.  220.  221.\n",
      "  222.  223.  224.  225.  226.  227.  228.  229.  230.  232.  238.  239.\n",
      "  240.  241.  242.  246.  247.  250.  251.  254.  255.  257.  259.  263.\n",
      "  264.  265.  266.  268.  269.  272.  273.  275.  276.  278.  284.  289.\n",
      "  290.  291.  295.  296.  300.  302.  304.  309.  310.  316.  317.  327.\n",
      "  331.  334.  342.  343.  346.  349.  351.  358.  359.  360.  362.  363.\n",
      "  369.  373.  375.  377.  385.  387.  392.  393.  402.  404.  414.  416.\n",
      "  425.  428.  435.  460.  507.  516.  531.  560.  576.  577.  580.  588.\n",
      "  594.  603.  622.  624.  644.  659.  679.  680.  710.  712.  716.  752.\n",
      "  817.  824.  857.  881.  926.  934. 1060. 1157. 1383. 1491. 1626.   nan]\n",
      "All:   vote:          [2.000e+00 3.000e+00 4.000e+00 5.000e+00 6.000e+00 7.000e+00 8.000e+00\n",
      " 9.000e+00 1.000e+01 1.100e+01 1.200e+01 1.300e+01 1.400e+01 1.500e+01\n",
      " 1.600e+01 1.700e+01 1.800e+01 1.900e+01 2.000e+01 2.100e+01 2.200e+01\n",
      " 2.300e+01 2.400e+01 2.500e+01 2.600e+01 2.700e+01 2.800e+01 2.900e+01\n",
      " 3.000e+01 3.100e+01 3.200e+01 3.300e+01 3.400e+01 3.500e+01 3.600e+01\n",
      " 3.700e+01 3.800e+01 3.900e+01 4.000e+01 4.100e+01 4.200e+01 4.300e+01\n",
      " 4.400e+01 4.500e+01 4.600e+01 4.700e+01 4.800e+01 4.900e+01 5.000e+01\n",
      " 5.100e+01 5.200e+01 5.300e+01 5.400e+01 5.500e+01 5.600e+01 5.700e+01\n",
      " 5.800e+01 5.900e+01 6.000e+01 6.100e+01 6.200e+01 6.300e+01 6.400e+01\n",
      " 6.500e+01 6.600e+01 6.700e+01 6.800e+01 6.900e+01 7.000e+01 7.100e+01\n",
      " 7.200e+01 7.300e+01 7.400e+01 7.500e+01 7.600e+01 7.700e+01 7.800e+01\n",
      " 7.900e+01 8.000e+01 8.100e+01 8.200e+01 8.300e+01 8.400e+01 8.500e+01\n",
      " 8.600e+01 8.700e+01 8.800e+01 8.900e+01 9.000e+01 9.100e+01 9.200e+01\n",
      " 9.300e+01 9.400e+01 9.500e+01 9.600e+01 9.700e+01 9.800e+01 9.900e+01\n",
      " 1.000e+02 1.010e+02 1.020e+02 1.030e+02 1.040e+02 1.050e+02 1.060e+02\n",
      " 1.070e+02 1.080e+02 1.090e+02 1.100e+02 1.110e+02 1.120e+02 1.130e+02\n",
      " 1.140e+02 1.150e+02 1.160e+02 1.170e+02 1.180e+02 1.190e+02 1.200e+02\n",
      " 1.210e+02 1.220e+02 1.230e+02 1.240e+02 1.250e+02 1.260e+02 1.270e+02\n",
      " 1.280e+02 1.290e+02 1.300e+02 1.310e+02 1.320e+02 1.330e+02 1.340e+02\n",
      " 1.350e+02 1.360e+02 1.370e+02 1.380e+02 1.390e+02 1.400e+02 1.410e+02\n",
      " 1.420e+02 1.430e+02 1.440e+02 1.450e+02 1.460e+02 1.470e+02 1.480e+02\n",
      " 1.490e+02 1.500e+02 1.510e+02 1.520e+02 1.530e+02 1.540e+02 1.550e+02\n",
      " 1.560e+02 1.570e+02 1.580e+02 1.590e+02 1.600e+02 1.630e+02 1.640e+02\n",
      " 1.650e+02 1.660e+02 1.670e+02 1.680e+02 1.690e+02 1.700e+02 1.710e+02\n",
      " 1.720e+02 1.730e+02 1.740e+02 1.750e+02 1.760e+02 1.780e+02 1.790e+02\n",
      " 1.800e+02 1.810e+02 1.840e+02 1.850e+02 1.860e+02 1.870e+02 1.880e+02\n",
      " 1.890e+02 1.900e+02 1.910e+02 1.920e+02 1.930e+02 1.940e+02 1.950e+02\n",
      " 1.970e+02 1.980e+02 1.990e+02 2.020e+02 2.030e+02 2.050e+02 2.060e+02\n",
      " 2.080e+02 2.090e+02 2.100e+02 2.110e+02 2.130e+02 2.140e+02 2.160e+02\n",
      " 2.170e+02 2.180e+02 2.200e+02 2.210e+02 2.220e+02 2.230e+02 2.240e+02\n",
      " 2.250e+02 2.260e+02 2.270e+02 2.280e+02 2.290e+02 2.300e+02 2.320e+02\n",
      " 2.370e+02 2.380e+02 2.390e+02 2.400e+02 2.410e+02 2.420e+02 2.460e+02\n",
      " 2.470e+02 2.480e+02 2.490e+02 2.500e+02 2.510e+02 2.540e+02 2.550e+02\n",
      " 2.560e+02 2.570e+02 2.590e+02 2.610e+02 2.630e+02 2.640e+02 2.650e+02\n",
      " 2.660e+02 2.680e+02 2.690e+02 2.720e+02 2.730e+02 2.750e+02 2.760e+02\n",
      " 2.780e+02 2.840e+02 2.890e+02 2.900e+02 2.910e+02 2.930e+02 2.950e+02\n",
      " 2.960e+02 3.000e+02 3.020e+02 3.040e+02 3.090e+02 3.100e+02 3.160e+02\n",
      " 3.170e+02 3.250e+02 3.270e+02 3.310e+02 3.340e+02 3.420e+02 3.430e+02\n",
      " 3.450e+02 3.460e+02 3.490e+02 3.510e+02 3.580e+02 3.590e+02 3.600e+02\n",
      " 3.620e+02 3.630e+02 3.690e+02 3.730e+02 3.750e+02 3.770e+02 3.820e+02\n",
      " 3.850e+02 3.870e+02 3.920e+02 3.930e+02 4.020e+02 4.040e+02 4.080e+02\n",
      " 4.140e+02 4.160e+02 4.250e+02 4.280e+02 4.350e+02 4.600e+02 4.800e+02\n",
      " 5.070e+02 5.160e+02 5.270e+02 5.310e+02 5.550e+02 5.600e+02 5.760e+02\n",
      " 5.770e+02 5.800e+02 5.880e+02 5.940e+02 6.030e+02 6.120e+02 6.220e+02\n",
      " 6.240e+02 6.440e+02 6.590e+02 6.790e+02 6.800e+02 7.100e+02 7.120e+02\n",
      " 7.160e+02 7.520e+02 8.170e+02 8.240e+02 8.570e+02 8.810e+02 8.910e+02\n",
      " 9.260e+02 9.340e+02 1.060e+03 1.157e+03 1.313e+03 1.383e+03 1.491e+03\n",
      " 1.626e+03 2.061e+03 2.088e+03 2.584e+03       nan]\n",
      "\n"
     ]
    }
   ],
   "source": [
    "# Show unique values of quantity and ordinal features\n",
    "columns = ['vote',]\n",
    "\n",
    "for column in quantity_cols + quantity_categ_cols + ordinal_cols:\n",
    "    if column in columns:\n",
    "        print(('Test:  ' + column + ':').ljust(22), end='')\n",
    "        print(np.sort(df.loc[df[TRAIN] == 0, column].unique()))\n",
    "        print(('Train: ' + column + ':').ljust(22), end='')\n",
    "        print(np.sort(df.loc[df[TRAIN] == 1, column].unique()))\n",
    "        print(('All:   ' + column + ':').ljust(22), end='')\n",
    "        print(np.sort(df[column].unique()))\n",
    "        print()"
   ]
  },
  {
   "cell_type": "markdown",
   "metadata": {
    "papermill": {
     "duration": 0.057429,
     "end_time": "2020-11-18T10:02:10.221829",
     "exception": false,
     "start_time": "2020-11-18T10:02:10.164400",
     "status": "completed"
    },
    "tags": []
   },
   "source": [
    "## Visualization"
   ]
  },
  {
   "cell_type": "code",
   "execution_count": 20,
   "metadata": {
    "execution": {
     "iopub.execute_input": "2020-11-18T10:02:10.362770Z",
     "iopub.status.busy": "2020-11-18T10:02:10.357325Z",
     "iopub.status.idle": "2020-11-18T10:02:10.374664Z",
     "shell.execute_reply": "2020-11-18T10:02:10.373958Z"
    },
    "papermill": {
     "duration": 0.095625,
     "end_time": "2020-11-18T10:02:10.374801",
     "exception": false,
     "start_time": "2020-11-18T10:02:10.279176",
     "status": "completed"
    },
    "scrolled": false,
    "tags": []
   },
   "outputs": [],
   "source": [
    "def show_boxplots(df, show_target=False):\n",
    "    \"\"\"Show boxplots of quantity and ordinal features and check them for outliers existance\"\"\"\n",
    "    # Define columns to plot\n",
    "    if show_target:\n",
    "        columns = sorted(quantity_cols + ordinal_cols + [TARGET])\n",
    "    else:\n",
    "        columns = sorted(quantity_cols + ordinal_cols)\n",
    "\n",
    "    # Create figure with [rows x cols] graphs\n",
    "    cols = 5\n",
    "    rows = math.ceil((len(columns)) / cols)\n",
    "    fig, axs = plt.subplots(rows, cols, figsize=(18, rows*5))\n",
    "\n",
    "    # Plot graphs\n",
    "    for i, column in enumerate(columns):\n",
    "        if rows == 1:\n",
    "            idx = i%cols\n",
    "        else:\n",
    "            idx = (i//cols, i%cols)\n",
    "        axs[idx].boxplot(df.loc[df[column].notna(), column], showmeans=True)\n",
    "        axs[idx].set_title(column)\n",
    "        \n",
    "\n",
    "def show_histograms(df, show_target=False):\n",
    "    \"\"\"Show distributions of quantity and ordinal features\"\"\"\n",
    "    # Parameters\n",
    "    DEFAULT_BINS = 50\n",
    "    \n",
    "    # Fill the list of bins' step if know it\n",
    "    bin_step = {\n",
    "        'overall': 1,\n",
    "    }\n",
    "    \n",
    "    # Define columns to plot\n",
    "    if show_target:\n",
    "        columns = sorted(quantity_cols + ordinal_cols + [TARGET])\n",
    "    else:\n",
    "        columns = sorted(quantity_cols + ordinal_cols)\n",
    "\n",
    "    # Create figure with [rows x cols] graphs\n",
    "    cols = 4\n",
    "    rows = math.ceil(len(columns)/cols)\n",
    "    fig, axs = plt.subplots(rows, cols, figsize=(18, rows*4))\n",
    "\n",
    "    # Plot graphs\n",
    "    for i, column in enumerate(columns):\n",
    "        # Calculate indices of subplots\n",
    "        if rows == 1:\n",
    "            idx = i%cols\n",
    "        else:\n",
    "            idx = (i//cols, i%cols)\n",
    "\n",
    "        # Calculate number of bins and ranges\n",
    "        if column in bin_step.keys():\n",
    "            col_max = df[column].max()\n",
    "            col_min = df[column].min()\n",
    "            step = bin_step[column]\n",
    "            offset = step / 2\n",
    "            bins = int((col_max-col_min) / step) + 1\n",
    "            range_ = (col_min - offset, col_max + offset)\n",
    "        elif column in ordinal_cols:\n",
    "            col_max = df[column].max()\n",
    "            col_min = df[column].min()\n",
    "            bins = int((col_max-col_min) * 2) + 1\n",
    "            range_ = (col_min - 0.25, col_max + 0.25)\n",
    "        else:\n",
    "            bins = DEFAULT_BINS\n",
    "            range_ = None\n",
    "\n",
    "        # Plot\n",
    "        axs[idx].hist(df.loc[df[column].notna(), column], bins, range_)\n",
    "        axs[idx].set_title(column)\n",
    "        \n",
    "        \n",
    "def show_scatters(df, point_size=None):\n",
    "    \"\"\"Show scatter plots of quantity and ordinal features from TARGET\"\"\"\n",
    "    # Define columns to plot\n",
    "    columns = sorted(quantity_cols + ordinal_cols)\n",
    "\n",
    "    # Create figure with [rows x cols] graphs\n",
    "    cols = 4\n",
    "    rows = math.ceil((len(columns)) / cols)\n",
    "    fig, axs = plt.subplots(rows, cols, figsize=(18, rows*4))\n",
    "\n",
    "    # Plot graphs\n",
    "    for i, column in enumerate(columns):\n",
    "        if rows == 1:\n",
    "            idx = i%cols\n",
    "        else:\n",
    "            idx = (i//cols, i%cols)\n",
    "        axs[idx].scatter(x=df.loc[df[column].notna() & (df[TRAIN] == 1), column],\n",
    "                         y=df.loc[df[column].notna() & (df[TRAIN] == 1), TARGET],\n",
    "                         s=point_size)\n",
    "        axs[idx].set_title(column)"
   ]
  },
  {
   "cell_type": "code",
   "execution_count": 21,
   "metadata": {
    "execution": {
     "iopub.execute_input": "2020-11-18T10:02:10.504900Z",
     "iopub.status.busy": "2020-11-18T10:02:10.503857Z",
     "iopub.status.idle": "2020-11-18T10:02:12.428620Z",
     "shell.execute_reply": "2020-11-18T10:02:12.427793Z"
    },
    "papermill": {
     "duration": 1.996854,
     "end_time": "2020-11-18T10:02:12.428764",
     "exception": false,
     "start_time": "2020-11-18T10:02:10.431910",
     "status": "completed"
    },
    "tags": []
   },
   "outputs": [
    {
     "data": {
      "image/png": "[encoded data removed]",
      "text/plain": [
       "<Figure size 1296x720 with 10 Axes>"
      ]
     },
     "metadata": {
      "needs_background": "light"
     },
     "output_type": "display_data"
    }
   ],
   "source": [
    "show_boxplots(df, show_target=True)"
   ]
  },
  {
   "cell_type": "code",
   "execution_count": 22,
   "metadata": {
    "execution": {
     "iopub.execute_input": "2020-11-18T10:02:12.561736Z",
     "iopub.status.busy": "2020-11-18T10:02:12.552382Z",
     "iopub.status.idle": "2020-11-18T10:02:14.832121Z",
     "shell.execute_reply": "2020-11-18T10:02:14.831380Z"
    },
    "papermill": {
     "duration": 2.344234,
     "end_time": "2020-11-18T10:02:14.832267",
     "exception": false,
     "start_time": "2020-11-18T10:02:12.488033",
     "status": "completed"
    },
    "tags": []
   },
   "outputs": [
    {
     "data": {
      "image/png": "[encoded data removed]",
      "text/plain": [
       "<Figure size 1296x576 with 8 Axes>"
      ]
     },
     "metadata": {
      "needs_background": "light"
     },
     "output_type": "display_data"
    }
   ],
   "source": [
    "show_histograms(df, show_target=True)"
   ]
  },
  {
   "cell_type": "code",
   "execution_count": 23,
   "metadata": {
    "execution": {
     "iopub.execute_input": "2020-11-18T10:02:14.967180Z",
     "iopub.status.busy": "2020-11-18T10:02:14.964156Z",
     "iopub.status.idle": "2020-11-18T10:02:18.453945Z",
     "shell.execute_reply": "2020-11-18T10:02:18.453116Z"
    },
    "papermill": {
     "duration": 3.562387,
     "end_time": "2020-11-18T10:02:18.454081",
     "exception": false,
     "start_time": "2020-11-18T10:02:14.891694",
     "status": "completed"
    },
    "tags": []
   },
   "outputs": [
    {
     "data": {
      "image/png": "[encoded data removed]",
      "text/plain": [
       "<Figure size 1296x576 with 8 Axes>"
      ]
     },
     "metadata": {
      "needs_background": "light"
     },
     "output_type": "display_data"
    }
   ],
   "source": [
    "show_scatters(df, point_size=1)"
   ]
  },
  {
   "cell_type": "markdown",
   "metadata": {
    "papermill": {
     "duration": 0.061885,
     "end_time": "2020-11-18T10:02:18.578067",
     "exception": false,
     "start_time": "2020-11-18T10:02:18.516182",
     "status": "completed"
    },
    "tags": []
   },
   "source": [
    "## Outliers handling"
   ]
  },
  {
   "cell_type": "code",
   "execution_count": 24,
   "metadata": {
    "execution": {
     "iopub.execute_input": "2020-11-18T10:02:18.725735Z",
     "iopub.status.busy": "2020-11-18T10:02:18.724322Z",
     "iopub.status.idle": "2020-11-18T10:02:18.728276Z",
     "shell.execute_reply": "2020-11-18T10:02:18.727184Z"
    },
    "papermill": {
     "duration": 0.087715,
     "end_time": "2020-11-18T10:02:18.728505",
     "exception": false,
     "start_time": "2020-11-18T10:02:18.640790",
     "status": "completed"
    },
    "tags": []
   },
   "outputs": [],
   "source": [
    "def delete_outliers(df, inplace=False):\n",
    "    \"\"\"Show number of outliers and delete rows with outliers\"\"\"\n",
    "    # Define columns to show graphs\n",
    "    columns = sorted(quantity_cols).copy()\n",
    "    \n",
    "    # Exclude some columns from the process\n",
    "    cols = [\n",
    "\n",
    "    ]\n",
    "    for col in df.columns:\n",
    "        if col in cols:\n",
    "            columns.remove(col)\n",
    "    \n",
    "    idx_dict = {}\n",
    "    for column in columns:\n",
    "        # Calculate Q1, Q3, IQR\n",
    "        Q1 = df[column].quantile(0.25)\n",
    "        Q3 = df[column].quantile(0.75)\n",
    "        IQR = Q3 - Q1\n",
    "\n",
    "        # Calculate indices of rows\n",
    "        idx_dict[column] = list(df.loc[(~df[column].between(Q1 - 1.5*IQR, Q3 + 1.5*IQR))\n",
    "                                       & (df[column].notna()), column].index)\n",
    "\n",
    "        # Show the result\n",
    "        outliers_num = len(idx_dict[column])\n",
    "        if outliers_num:\n",
    "            print(f\"{str(outliers_num).rjust(6)} outliers are in column '{column}'\")\n",
    "            \n",
    "    # Union indices\n",
    "    idx = set()\n",
    "    for column in columns:\n",
    "        idx.update(idx_dict[column])\n",
    "\n",
    "    # Drop rows with outliers\n",
    "    if inplace:\n",
    "        df.drop(idx, inplace=True)\n",
    "        print(f\"{str(len(idx)).rjust(6)} rows have been dropped\")"
   ]
  },
  {
   "cell_type": "code",
   "execution_count": 25,
   "metadata": {
    "execution": {
     "iopub.execute_input": "2020-11-18T10:02:18.882756Z",
     "iopub.status.busy": "2020-11-18T10:02:18.881812Z",
     "iopub.status.idle": "2020-11-18T10:02:19.421060Z",
     "shell.execute_reply": "2020-11-18T10:02:19.420069Z"
    },
    "papermill": {
     "duration": 0.620814,
     "end_time": "2020-11-18T10:02:19.421436",
     "exception": false,
     "start_time": "2020-11-18T10:02:18.800622",
     "status": "completed"
    },
    "tags": []
   },
   "outputs": [
    {
     "name": "stdout",
     "output_type": "stream",
     "text": [
      "train:\n",
      " 26814 outliers are in column 'unixReviewTime'\n",
      " 10780 outliers are in column 'vote'\n",
      "test:\n",
      "  8851 outliers are in column 'unixReviewTime'\n",
      "  3612 outliers are in column 'vote'\n",
      "join:\n",
      " 35665 outliers are in column 'unixReviewTime'\n",
      " 14392 outliers are in column 'vote'\n"
     ]
    }
   ],
   "source": [
    "# Show or delete outliers\n",
    "print('train:')\n",
    "delete_outliers(df.loc[df[TRAIN] == 1], inplace=DROP_AVAL)\n",
    "print('test:')\n",
    "delete_outliers(df.loc[df[TRAIN] == 0], inplace=DROP_AVAL)\n",
    "print('join:')\n",
    "delete_outliers(df, inplace=DROP_AVAL)"
   ]
  },
  {
   "cell_type": "markdown",
   "metadata": {
    "papermill": {
     "duration": 0.062896,
     "end_time": "2020-11-18T10:02:19.548464",
     "exception": false,
     "start_time": "2020-11-18T10:02:19.485568",
     "status": "completed"
    },
    "tags": []
   },
   "source": [
    "## Correlation analysis"
   ]
  },
  {
   "cell_type": "code",
   "execution_count": 26,
   "metadata": {
    "_kg_hide-output": true,
    "execution": {
     "iopub.execute_input": "2020-11-18T10:02:19.689547Z",
     "iopub.status.busy": "2020-11-18T10:02:19.688071Z",
     "iopub.status.idle": "2020-11-18T10:02:19.974792Z",
     "shell.execute_reply": "2020-11-18T10:02:19.973969Z"
    },
    "papermill": {
     "duration": 0.360652,
     "end_time": "2020-11-18T10:02:19.974926",
     "exception": false,
     "start_time": "2020-11-18T10:02:19.614274",
     "status": "completed"
    },
    "scrolled": false,
    "tags": []
   },
   "outputs": [
    {
     "data": {
      "text/html": [
       "<div>\n",
       "<style scoped>\n",
       "    .dataframe tbody tr th:only-of-type {\n",
       "        vertical-align: middle;\n",
       "    }\n",
       "\n",
       "    .dataframe tbody tr th {\n",
       "        vertical-align: top;\n",
       "    }\n",
       "\n",
       "    .dataframe thead th {\n",
       "        text-align: right;\n",
       "    }\n",
       "</style>\n",
       "<table border=\"1\" class=\"dataframe\">\n",
       "  <thead>\n",
       "    <tr style=\"text-align: right;\">\n",
       "      <th></th>\n",
       "      <th>verified</th>\n",
       "      <th>unixReviewTime</th>\n",
       "      <th>vote</th>\n",
       "      <th>userid</th>\n",
       "      <th>itemid</th>\n",
       "      <th>overall</th>\n",
       "      <th>rating</th>\n",
       "      <th>RANDOM</th>\n",
       "    </tr>\n",
       "  </thead>\n",
       "  <tbody>\n",
       "    <tr>\n",
       "      <th>verified</th>\n",
       "      <td>1.000000</td>\n",
       "      <td>0.135209</td>\n",
       "      <td>-0.045690</td>\n",
       "      <td>0.052519</td>\n",
       "      <td>-0.023189</td>\n",
       "      <td>0.093266</td>\n",
       "      <td>0.072735</td>\n",
       "      <td>0.000266</td>\n",
       "    </tr>\n",
       "    <tr>\n",
       "      <th>unixReviewTime</th>\n",
       "      <td>0.135209</td>\n",
       "      <td>1.000000</td>\n",
       "      <td>-0.094654</td>\n",
       "      <td>0.161879</td>\n",
       "      <td>0.325628</td>\n",
       "      <td>0.019756</td>\n",
       "      <td>0.013242</td>\n",
       "      <td>-0.002260</td>\n",
       "    </tr>\n",
       "    <tr>\n",
       "      <th>vote</th>\n",
       "      <td>-0.045690</td>\n",
       "      <td>-0.094654</td>\n",
       "      <td>1.000000</td>\n",
       "      <td>-0.018485</td>\n",
       "      <td>-0.017593</td>\n",
       "      <td>-0.005140</td>\n",
       "      <td>-0.000588</td>\n",
       "      <td>0.000984</td>\n",
       "    </tr>\n",
       "    <tr>\n",
       "      <th>userid</th>\n",
       "      <td>0.052519</td>\n",
       "      <td>0.161879</td>\n",
       "      <td>-0.018485</td>\n",
       "      <td>1.000000</td>\n",
       "      <td>0.241030</td>\n",
       "      <td>-0.007821</td>\n",
       "      <td>-0.010240</td>\n",
       "      <td>-0.000034</td>\n",
       "    </tr>\n",
       "    <tr>\n",
       "      <th>itemid</th>\n",
       "      <td>-0.023189</td>\n",
       "      <td>0.325628</td>\n",
       "      <td>-0.017593</td>\n",
       "      <td>0.241030</td>\n",
       "      <td>1.000000</td>\n",
       "      <td>-0.027214</td>\n",
       "      <td>-0.026425</td>\n",
       "      <td>0.000238</td>\n",
       "    </tr>\n",
       "    <tr>\n",
       "      <th>overall</th>\n",
       "      <td>0.093266</td>\n",
       "      <td>0.019756</td>\n",
       "      <td>-0.005140</td>\n",
       "      <td>-0.007821</td>\n",
       "      <td>-0.027214</td>\n",
       "      <td>1.000000</td>\n",
       "      <td>0.897339</td>\n",
       "      <td>-0.002345</td>\n",
       "    </tr>\n",
       "    <tr>\n",
       "      <th>rating</th>\n",
       "      <td>0.072735</td>\n",
       "      <td>0.013242</td>\n",
       "      <td>-0.000588</td>\n",
       "      <td>-0.010240</td>\n",
       "      <td>-0.026425</td>\n",
       "      <td>0.897339</td>\n",
       "      <td>1.000000</td>\n",
       "      <td>-0.002315</td>\n",
       "    </tr>\n",
       "    <tr>\n",
       "      <th>RANDOM</th>\n",
       "      <td>0.000266</td>\n",
       "      <td>-0.002260</td>\n",
       "      <td>0.000984</td>\n",
       "      <td>-0.000034</td>\n",
       "      <td>0.000238</td>\n",
       "      <td>-0.002345</td>\n",
       "      <td>-0.002315</td>\n",
       "      <td>1.000000</td>\n",
       "    </tr>\n",
       "  </tbody>\n",
       "</table>\n",
       "</div>"
      ],
      "text/plain": [
       "                verified  unixReviewTime      vote    userid    itemid  \\\n",
       "verified        1.000000        0.135209 -0.045690  0.052519 -0.023189   \n",
       "unixReviewTime  0.135209        1.000000 -0.094654  0.161879  0.325628   \n",
       "vote           -0.045690       -0.094654  1.000000 -0.018485 -0.017593   \n",
       "userid          0.052519        0.161879 -0.018485  1.000000  0.241030   \n",
       "itemid         -0.023189        0.325628 -0.017593  0.241030  1.000000   \n",
       "overall         0.093266        0.019756 -0.005140 -0.007821 -0.027214   \n",
       "rating          0.072735        0.013242 -0.000588 -0.010240 -0.026425   \n",
       "RANDOM          0.000266       -0.002260  0.000984 -0.000034  0.000238   \n",
       "\n",
       "                 overall    rating    RANDOM  \n",
       "verified        0.093266  0.072735  0.000266  \n",
       "unixReviewTime  0.019756  0.013242 -0.002260  \n",
       "vote           -0.005140 -0.000588  0.000984  \n",
       "userid         -0.007821 -0.010240 -0.000034  \n",
       "itemid         -0.027214 -0.026425  0.000238  \n",
       "overall         1.000000  0.897339 -0.002345  \n",
       "rating          0.897339  1.000000 -0.002315  \n",
       "RANDOM         -0.002345 -0.002315  1.000000  "
      ]
     },
     "execution_count": 26,
     "metadata": {},
     "output_type": "execute_result"
    }
   ],
   "source": [
    "# Calculate correlation matrix\n",
    "corr_table = df.loc[df[TRAIN] == 1].drop(TRAIN, axis=1).corr()\n",
    "corr_table"
   ]
  },
  {
   "cell_type": "code",
   "execution_count": 27,
   "metadata": {
    "execution": {
     "iopub.execute_input": "2020-11-18T10:02:20.143861Z",
     "iopub.status.busy": "2020-11-18T10:02:20.142582Z",
     "iopub.status.idle": "2020-11-18T10:02:20.469561Z",
     "shell.execute_reply": "2020-11-18T10:02:20.468713Z"
    },
    "papermill": {
     "duration": 0.42228,
     "end_time": "2020-11-18T10:02:20.469706",
     "exception": false,
     "start_time": "2020-11-18T10:02:20.047426",
     "status": "completed"
    },
    "tags": []
   },
   "outputs": [
    {
     "data": {
      "image/png": "[encoded data removed]",
      "text/plain": [
       "<Figure size 1296x576 with 2 Axes>"
      ]
     },
     "metadata": {
      "needs_background": "light"
     },
     "output_type": "display_data"
    }
   ],
   "source": [
    "# Show correlation matrix\n",
    "plt.subplots(figsize=(18, 8))\n",
    "sns.heatmap(corr_table, vmin=-1, vmax=1, cmap=\"RdBu\");"
   ]
  },
  {
   "cell_type": "code",
   "execution_count": 28,
   "metadata": {
    "execution": {
     "iopub.execute_input": "2020-11-18T10:02:20.617056Z",
     "iopub.status.busy": "2020-11-18T10:02:20.616146Z",
     "iopub.status.idle": "2020-11-18T10:02:20.621304Z",
     "shell.execute_reply": "2020-11-18T10:02:20.620526Z"
    },
    "papermill": {
     "duration": 0.081638,
     "end_time": "2020-11-18T10:02:20.621441",
     "exception": false,
     "start_time": "2020-11-18T10:02:20.539803",
     "status": "completed"
    },
    "tags": []
   },
   "outputs": [
    {
     "data": {
      "text/plain": [
       "overall           1.000000\n",
       "rating            0.897339\n",
       "verified          0.093266\n",
       "itemid            0.027214\n",
       "unixReviewTime    0.019756\n",
       "userid            0.007821\n",
       "vote              0.005140\n",
       "RANDOM            0.002345\n",
       "Name: overall, dtype: float64"
      ]
     },
     "execution_count": 28,
     "metadata": {},
     "output_type": "execute_result"
    }
   ],
   "source": [
    "# Sort absolute correlation values with target variable\n",
    "corr_table[TARGET].abs().sort_values(ascending=False)"
   ]
  },
  {
   "cell_type": "markdown",
   "metadata": {
    "papermill": {
     "duration": 0.078184,
     "end_time": "2020-11-18T10:02:20.769723",
     "exception": false,
     "start_time": "2020-11-18T10:02:20.691539",
     "status": "completed"
    },
    "tags": []
   },
   "source": [
    "## Significance analysis of categorical features\n",
    "### Student's t-test\n",
    "\n",
    "С помощью теста Стьюдента проверим есть ли статистически значимая разница в распределении целевой переменной для разных значений категориальных признаков. Проверяем нулевую гипотезу о том, что распределения целевой переменной по различным значениям категориальных переменных неразличимы."
   ]
  },
  {
   "cell_type": "code",
   "execution_count": 29,
   "metadata": {
    "execution": {
     "iopub.execute_input": "2020-11-18T10:02:20.936567Z",
     "iopub.status.busy": "2020-11-18T10:02:20.917627Z",
     "iopub.status.idle": "2020-11-18T10:02:20.940460Z",
     "shell.execute_reply": "2020-11-18T10:02:20.939624Z"
    },
    "papermill": {
     "duration": 0.10266,
     "end_time": "2020-11-18T10:02:20.940594",
     "exception": false,
     "start_time": "2020-11-18T10:02:20.837934",
     "status": "completed"
    },
    "tags": []
   },
   "outputs": [],
   "source": [
    "def hypothesis_testing(df):\n",
    "    \"\"\"Hypothesis testing of significance analysis\"\"\"\n",
    "    NUM_OF_VALS = 10\n",
    "\n",
    "    # Find not significant features\n",
    "    mask = {}\n",
    "    top_values = {}\n",
    "    not_signif_columns = []\n",
    "    for column in categ_cols:\n",
    "        # Find top NUM_OF_VALS values\n",
    "        top_values[column] = categorical_unique[column].index[:NUM_OF_VALS]\n",
    "\n",
    "        # Find boolean masks\n",
    "        mask[column] = {}\n",
    "        for value in top_values[column]:\n",
    "            if column in categ_multi_cols:\n",
    "                mask[column][value] = (df[column].str.contains(\n",
    "                    '(?:^|\\|)'+value+'(?:$|\\|)'\n",
    "                )) & (df[TARGET].notna())\n",
    "            else:\n",
    "                mask[column][value] = (df[column] == value) & (df[TARGET].notna())\n",
    "\n",
    "        # Student t-test for value combinations\n",
    "        combs = list(combinations(top_values[column], 2))\n",
    "        for comb in combs:\n",
    "            if stats.ttest_ind(df.loc[mask[column][comb[0]], TARGET], \n",
    "                         df.loc[mask[column][comb[1]], TARGET]) \\\n",
    "                            .pvalue <= 0.05/len(combs): # Bonferroni correction\n",
    "                break\n",
    "        else:\n",
    "            not_signif_columns.append(column)\n",
    "\n",
    "    # Show result\n",
    "    if len(not_signif_columns):\n",
    "        print('Statistically significant differences have NOT been found for features:')\n",
    "        for column in not_signif_columns:\n",
    "            print(f\"'{column}'\")\n",
    "    else:\n",
    "        print('All categorical features have statistically significant difference with target')\n",
    "        \n",
    "    return (top_values, mask)\n",
    "\n",
    "\n",
    "def boxplot_significance(df, top_values, mask):\n",
    "    \"\"\"Show boxplots of features to view significance\"\"\"\n",
    "    # Create figure with [rows x cols] graphs\n",
    "    rows = len(categ_cols)\n",
    "    fig, axs = plt.subplots(rows, figsize=(18, rows*4))\n",
    "\n",
    "    # Plot graphs\n",
    "    for i, column in enumerate(categ_cols):\n",
    "        if rows == 1:\n",
    "            axs.boxplot([df.loc[mask[column][value], TARGET] \\\n",
    "                         for value in top_values[column]], showmeans=True)\n",
    "            axs.set_title(column)\n",
    "            axs.set_xticklabels(top_values[column], rotation=5)\n",
    "            axs.set_ylabel(TARGET)\n",
    "        else:\n",
    "            axs[i].boxplot([df.loc[mask[column][value], TARGET] \\\n",
    "                            for value in top_values[column]], showmeans=True)\n",
    "            axs[i].set_title(column)\n",
    "            axs[i].set_xticklabels(top_values[column], rotation=5)\n",
    "            axs[i].set_ylabel(TARGET)"
   ]
  },
  {
   "cell_type": "code",
   "execution_count": 30,
   "metadata": {
    "_kg_hide-output": false,
    "execution": {
     "iopub.execute_input": "2020-11-18T10:02:21.088579Z",
     "iopub.status.busy": "2020-11-18T10:02:21.087173Z",
     "iopub.status.idle": "2020-11-18T10:02:21.719150Z",
     "shell.execute_reply": "2020-11-18T10:02:21.718377Z"
    },
    "papermill": {
     "duration": 0.709462,
     "end_time": "2020-11-18T10:02:21.719308",
     "exception": false,
     "start_time": "2020-11-18T10:02:21.009846",
     "status": "completed"
    },
    "tags": []
   },
   "outputs": [
    {
     "name": "stdout",
     "output_type": "stream",
     "text": [
      "All categorical features have statistically significant difference with target\n"
     ]
    },
    {
     "data": {
      "image/png": "[encoded data removed]",
      "text/plain": [
       "<Figure size 1296x288 with 1 Axes>"
      ]
     },
     "metadata": {
      "needs_background": "light"
     },
     "output_type": "display_data"
    }
   ],
   "source": [
    "# Do hypothesis testing and show boxplots of significant features\n",
    "top_values, mask = hypothesis_testing(df.loc[df[TRAIN] == 1])\n",
    "boxplot_significance(df.loc[df[TRAIN] == 1], top_values, mask)"
   ]
  },
  {
   "cell_type": "markdown",
   "metadata": {
    "papermill": {
     "duration": 0.069121,
     "end_time": "2020-11-18T10:02:21.858245",
     "exception": false,
     "start_time": "2020-11-18T10:02:21.789124",
     "status": "completed"
    },
    "tags": []
   },
   "source": [
    "## Missing values handling"
   ]
  },
  {
   "cell_type": "code",
   "execution_count": 31,
   "metadata": {
    "execution": {
     "iopub.execute_input": "2020-11-18T10:02:22.014806Z",
     "iopub.status.busy": "2020-11-18T10:02:22.013698Z",
     "iopub.status.idle": "2020-11-18T10:02:22.016853Z",
     "shell.execute_reply": "2020-11-18T10:02:22.016254Z"
    },
    "papermill": {
     "duration": 0.088682,
     "end_time": "2020-11-18T10:02:22.016995",
     "exception": false,
     "start_time": "2020-11-18T10:02:21.928313",
     "status": "completed"
    },
    "tags": []
   },
   "outputs": [],
   "source": [
    "def fill_missing_values(df):\n",
    "    \"\"\"Fill missing values (NaNs) for columns\"\"\"\n",
    "    # Fill missing values\n",
    "    for column in quantity_cols + ordinal_cols + categ_cols:\n",
    "        # Calculate number of replaced values\n",
    "        nan_number = df[column].isna().sum()\n",
    "        \n",
    "        if nan_number:\n",
    "            # For individual columns\n",
    "            if column == 'vote':\n",
    "                value = 1\n",
    "                \n",
    "            # For groups of columns\n",
    "            elif column in quantity_cols:\n",
    "                value = df[column].mean()\n",
    "\n",
    "            elif column in ordinal_cols:\n",
    "                value = df[column].mode()[0]\n",
    "\n",
    "            elif column in categ_bin_cols:\n",
    "                value = categorical_unique[column].index[0]\n",
    "\n",
    "            elif column in categ_many_cols:\n",
    "                value = categorical_unique[column].index[0]\n",
    "\n",
    "            elif column in categ_multi_cols:\n",
    "                values_num = round(df.loc[df[column].notna(),\n",
    "                                          column].apply(lambda x: len(x.split('|'))).mean())\n",
    "                value = '|'.join(categorical_unique[column].index[:values_num])\n",
    "\n",
    "            # Replace\n",
    "            df[column].fillna(value, inplace=True)\n",
    "            \n",
    "            # Show number of replaced values in column\n",
    "            print(f\"{str(nan_number).rjust(6)} NaN have been replaced in column '{column}'\")"
   ]
  },
  {
   "cell_type": "code",
   "execution_count": 32,
   "metadata": {
    "_kg_hide-output": true,
    "execution": {
     "iopub.execute_input": "2020-11-18T10:02:22.161626Z",
     "iopub.status.busy": "2020-11-18T10:02:22.160713Z",
     "iopub.status.idle": "2020-11-18T10:02:22.182153Z",
     "shell.execute_reply": "2020-11-18T10:02:22.181370Z"
    },
    "papermill": {
     "duration": 0.097308,
     "end_time": "2020-11-18T10:02:22.182316",
     "exception": false,
     "start_time": "2020-11-18T10:02:22.085008",
     "status": "completed"
    },
    "tags": []
   },
   "outputs": [
    {
     "name": "stdout",
     "output_type": "stream",
     "text": [
      "985658 NaN have been replaced in column 'vote'\n"
     ]
    }
   ],
   "source": [
    "# Fill missing values\n",
    "fill_missing_values(df)"
   ]
  },
  {
   "cell_type": "markdown",
   "metadata": {
    "papermill": {
     "duration": 0.070881,
     "end_time": "2020-11-18T10:02:22.322559",
     "exception": false,
     "start_time": "2020-11-18T10:02:22.251678",
     "status": "completed"
    },
    "tags": []
   },
   "source": [
    "## Dummies generation"
   ]
  },
  {
   "cell_type": "code",
   "execution_count": 33,
   "metadata": {
    "execution": {
     "iopub.execute_input": "2020-11-18T10:02:22.475672Z",
     "iopub.status.busy": "2020-11-18T10:02:22.474498Z",
     "iopub.status.idle": "2020-11-18T10:02:22.477865Z",
     "shell.execute_reply": "2020-11-18T10:02:22.477045Z"
    },
    "papermill": {
     "duration": 0.084964,
     "end_time": "2020-11-18T10:02:22.478008",
     "exception": false,
     "start_time": "2020-11-18T10:02:22.393044",
     "status": "completed"
    },
    "tags": []
   },
   "outputs": [],
   "source": [
    "def generate_dummies(df, collinear_sens):\n",
    "    \"\"\"Dummies generation from categorical features\n",
    "    \n",
    "    collinear_sens is ML model collinearity sensitivity. It's either True or False.\n",
    "    \"\"\"\n",
    "    # Generate dummies for categ_multi_cols\n",
    "    for column in categ_multi_cols:\n",
    "        df = pd.concat([df, df[column].str.get_dummies()], axis=1)\n",
    "    df.drop(categ_multi_cols, axis=1, inplace=True)\n",
    "\n",
    "    # Generate dummies for categ_bin_cols and categ_many_cols\n",
    "    df = pd.get_dummies(df, columns=categ_bin_cols+categ_many_cols, drop_first=collinear_sens)\n",
    "\n",
    "    return df"
   ]
  },
  {
   "cell_type": "code",
   "execution_count": 34,
   "metadata": {
    "execution": {
     "iopub.execute_input": "2020-11-18T10:02:22.629721Z",
     "iopub.status.busy": "2020-11-18T10:02:22.628866Z",
     "iopub.status.idle": "2020-11-18T10:02:22.751372Z",
     "shell.execute_reply": "2020-11-18T10:02:22.750698Z"
    },
    "papermill": {
     "duration": 0.202796,
     "end_time": "2020-11-18T10:02:22.751525",
     "exception": false,
     "start_time": "2020-11-18T10:02:22.548729",
     "status": "completed"
    },
    "tags": []
   },
   "outputs": [],
   "source": [
    "# Generate dummies\n",
    "df = generate_dummies(df, collinear_sens=False)"
   ]
  },
  {
   "cell_type": "markdown",
   "metadata": {
    "papermill": {
     "duration": 0.070267,
     "end_time": "2020-11-18T10:02:22.899392",
     "exception": false,
     "start_time": "2020-11-18T10:02:22.829125",
     "status": "completed"
    },
    "tags": []
   },
   "source": [
    "# Model implementation"
   ]
  },
  {
   "cell_type": "markdown",
   "metadata": {
    "papermill": {
     "duration": 0.068548,
     "end_time": "2020-11-18T10:02:23.097012",
     "exception": false,
     "start_time": "2020-11-18T10:02:23.028464",
     "status": "completed"
    },
    "tags": []
   },
   "source": [
    "## Data preparing"
   ]
  },
  {
   "cell_type": "code",
   "execution_count": 35,
   "metadata": {
    "execution": {
     "iopub.execute_input": "2020-11-18T10:02:23.258999Z",
     "iopub.status.busy": "2020-11-18T10:02:23.257780Z",
     "iopub.status.idle": "2020-11-18T10:02:31.631958Z",
     "shell.execute_reply": "2020-11-18T10:02:31.631316Z"
    },
    "papermill": {
     "duration": 8.465065,
     "end_time": "2020-11-18T10:02:31.632109",
     "exception": false,
     "start_time": "2020-11-18T10:02:23.167044",
     "status": "completed"
    },
    "tags": []
   },
   "outputs": [
    {
     "name": "stdout",
     "output_type": "stream",
     "text": [
      " 35665 outliers are in column 'unixReviewTime'\n",
      " 14392 outliers are in column 'vote'\n",
      "985658 NaN have been replaced in column 'vote'\n"
     ]
    },
    {
     "data": {
      "text/html": [
       "<div>\n",
       "<style scoped>\n",
       "    .dataframe tbody tr th:only-of-type {\n",
       "        vertical-align: middle;\n",
       "    }\n",
       "\n",
       "    .dataframe tbody tr th {\n",
       "        vertical-align: top;\n",
       "    }\n",
       "\n",
       "    .dataframe thead th {\n",
       "        text-align: right;\n",
       "    }\n",
       "</style>\n",
       "<table border=\"1\" class=\"dataframe\">\n",
       "  <thead>\n",
       "    <tr style=\"text-align: right;\">\n",
       "      <th></th>\n",
       "      <th>unixReviewTime</th>\n",
       "      <th>vote</th>\n",
       "      <th>userid</th>\n",
       "      <th>itemid</th>\n",
       "      <th>TRAIN</th>\n",
       "      <th>overall</th>\n",
       "      <th>rating</th>\n",
       "      <th>RANDOM</th>\n",
       "      <th>verified_False</th>\n",
       "      <th>verified_True</th>\n",
       "    </tr>\n",
       "  </thead>\n",
       "  <tbody>\n",
       "    <tr>\n",
       "      <th>0</th>\n",
       "      <td>1475280000</td>\n",
       "      <td>1.0</td>\n",
       "      <td>68877</td>\n",
       "      <td>7506</td>\n",
       "      <td>0</td>\n",
       "      <td>NaN</td>\n",
       "      <td>NaN</td>\n",
       "      <td>89250</td>\n",
       "      <td>0</td>\n",
       "      <td>1</td>\n",
       "    </tr>\n",
       "    <tr>\n",
       "      <th>1</th>\n",
       "      <td>1404000000</td>\n",
       "      <td>2.0</td>\n",
       "      <td>50442</td>\n",
       "      <td>15530</td>\n",
       "      <td>0</td>\n",
       "      <td>NaN</td>\n",
       "      <td>NaN</td>\n",
       "      <td>773956</td>\n",
       "      <td>0</td>\n",
       "      <td>1</td>\n",
       "    </tr>\n",
       "    <tr>\n",
       "      <th>2</th>\n",
       "      <td>1431993600</td>\n",
       "      <td>1.0</td>\n",
       "      <td>64349</td>\n",
       "      <td>15049</td>\n",
       "      <td>0</td>\n",
       "      <td>NaN</td>\n",
       "      <td>NaN</td>\n",
       "      <td>654571</td>\n",
       "      <td>0</td>\n",
       "      <td>1</td>\n",
       "    </tr>\n",
       "    <tr>\n",
       "      <th>3</th>\n",
       "      <td>1412467200</td>\n",
       "      <td>1.0</td>\n",
       "      <td>26206</td>\n",
       "      <td>11957</td>\n",
       "      <td>0</td>\n",
       "      <td>NaN</td>\n",
       "      <td>NaN</td>\n",
       "      <td>438878</td>\n",
       "      <td>0</td>\n",
       "      <td>1</td>\n",
       "    </tr>\n",
       "    <tr>\n",
       "      <th>4</th>\n",
       "      <td>1384128000</td>\n",
       "      <td>3.0</td>\n",
       "      <td>59366</td>\n",
       "      <td>12173</td>\n",
       "      <td>0</td>\n",
       "      <td>NaN</td>\n",
       "      <td>NaN</td>\n",
       "      <td>433015</td>\n",
       "      <td>0</td>\n",
       "      <td>1</td>\n",
       "    </tr>\n",
       "    <tr>\n",
       "      <th>...</th>\n",
       "      <td>...</td>\n",
       "      <td>...</td>\n",
       "      <td>...</td>\n",
       "      <td>...</td>\n",
       "      <td>...</td>\n",
       "      <td>...</td>\n",
       "      <td>...</td>\n",
       "      <td>...</td>\n",
       "      <td>...</td>\n",
       "      <td>...</td>\n",
       "    </tr>\n",
       "    <tr>\n",
       "      <th>1143855</th>\n",
       "      <td>1364860800</td>\n",
       "      <td>1.0</td>\n",
       "      <td>59433</td>\n",
       "      <td>2566</td>\n",
       "      <td>1</td>\n",
       "      <td>5.0</td>\n",
       "      <td>1.0</td>\n",
       "      <td>199302</td>\n",
       "      <td>0</td>\n",
       "      <td>1</td>\n",
       "    </tr>\n",
       "    <tr>\n",
       "      <th>1143856</th>\n",
       "      <td>1449964800</td>\n",
       "      <td>1.0</td>\n",
       "      <td>86473</td>\n",
       "      <td>5828</td>\n",
       "      <td>1</td>\n",
       "      <td>2.0</td>\n",
       "      <td>0.0</td>\n",
       "      <td>212603</td>\n",
       "      <td>0</td>\n",
       "      <td>1</td>\n",
       "    </tr>\n",
       "    <tr>\n",
       "      <th>1143857</th>\n",
       "      <td>1474416000</td>\n",
       "      <td>1.0</td>\n",
       "      <td>88</td>\n",
       "      <td>3251</td>\n",
       "      <td>1</td>\n",
       "      <td>4.0</td>\n",
       "      <td>1.0</td>\n",
       "      <td>500410</td>\n",
       "      <td>1</td>\n",
       "      <td>0</td>\n",
       "    </tr>\n",
       "    <tr>\n",
       "      <th>1143858</th>\n",
       "      <td>1446336000</td>\n",
       "      <td>1.0</td>\n",
       "      <td>41540</td>\n",
       "      <td>22208</td>\n",
       "      <td>1</td>\n",
       "      <td>4.0</td>\n",
       "      <td>1.0</td>\n",
       "      <td>442702</td>\n",
       "      <td>0</td>\n",
       "      <td>1</td>\n",
       "    </tr>\n",
       "    <tr>\n",
       "      <th>1143859</th>\n",
       "      <td>1501718400</td>\n",
       "      <td>1.0</td>\n",
       "      <td>466</td>\n",
       "      <td>2931</td>\n",
       "      <td>1</td>\n",
       "      <td>5.0</td>\n",
       "      <td>1.0</td>\n",
       "      <td>285607</td>\n",
       "      <td>0</td>\n",
       "      <td>1</td>\n",
       "    </tr>\n",
       "  </tbody>\n",
       "</table>\n",
       "<p>1143860 rows × 10 columns</p>\n",
       "</div>"
      ],
      "text/plain": [
       "         unixReviewTime  vote  userid  itemid  TRAIN  overall  rating  RANDOM  \\\n",
       "0            1475280000   1.0   68877    7506      0      NaN     NaN   89250   \n",
       "1            1404000000   2.0   50442   15530      0      NaN     NaN  773956   \n",
       "2            1431993600   1.0   64349   15049      0      NaN     NaN  654571   \n",
       "3            1412467200   1.0   26206   11957      0      NaN     NaN  438878   \n",
       "4            1384128000   3.0   59366   12173      0      NaN     NaN  433015   \n",
       "...                 ...   ...     ...     ...    ...      ...     ...     ...   \n",
       "1143855      1364860800   1.0   59433    2566      1      5.0     1.0  199302   \n",
       "1143856      1449964800   1.0   86473    5828      1      2.0     0.0  212603   \n",
       "1143857      1474416000   1.0      88    3251      1      4.0     1.0  500410   \n",
       "1143858      1446336000   1.0   41540   22208      1      4.0     1.0  442702   \n",
       "1143859      1501718400   1.0     466    2931      1      5.0     1.0  285607   \n",
       "\n",
       "         verified_False  verified_True  \n",
       "0                     0              1  \n",
       "1                     0              1  \n",
       "2                     0              1  \n",
       "3                     0              1  \n",
       "4                     0              1  \n",
       "...                 ...            ...  \n",
       "1143855               0              1  \n",
       "1143856               0              1  \n",
       "1143857               1              0  \n",
       "1143858               0              1  \n",
       "1143859               0              1  \n",
       "\n",
       "[1143860 rows x 10 columns]"
      ]
     },
     "execution_count": 35,
     "metadata": {},
     "output_type": "execute_result"
    }
   ],
   "source": [
    "# Prepare data\n",
    "df, sample_submission = collect_data()\n",
    "format_features(df)\n",
    "create_new_features(df)\n",
    "delete_useless_features(df)\n",
    "declare_features_type()\n",
    "delete_outliers(df, inplace=DROP_AVAL)\n",
    "fill_missing_values(df)\n",
    "df = generate_dummies(df, collinear_sens=False)\n",
    "\n",
    "df_temp = df.copy()\n",
    "df_temp"
   ]
  },
  {
   "cell_type": "code",
   "execution_count": 36,
   "metadata": {
    "execution": {
     "iopub.execute_input": "2020-11-18T10:02:31.780170Z",
     "iopub.status.busy": "2020-11-18T10:02:31.779338Z",
     "iopub.status.idle": "2020-11-18T10:02:31.800233Z",
     "shell.execute_reply": "2020-11-18T10:02:31.799512Z"
    },
    "papermill": {
     "duration": 0.096872,
     "end_time": "2020-11-18T10:02:31.800370",
     "exception": false,
     "start_time": "2020-11-18T10:02:31.703498",
     "status": "completed"
    },
    "tags": []
   },
   "outputs": [],
   "source": [
    "df = df_temp.copy()"
   ]
  },
  {
   "cell_type": "markdown",
   "metadata": {
    "papermill": {
     "duration": 0.070283,
     "end_time": "2020-11-18T10:02:31.941026",
     "exception": false,
     "start_time": "2020-11-18T10:02:31.870743",
     "status": "completed"
    },
    "tags": []
   },
   "source": [
    "## Data splitting & Data scaling"
   ]
  },
  {
   "cell_type": "code",
   "execution_count": 37,
   "metadata": {
    "execution": {
     "iopub.execute_input": "2020-11-18T10:02:32.095069Z",
     "iopub.status.busy": "2020-11-18T10:02:32.092077Z",
     "iopub.status.idle": "2020-11-18T10:02:32.098940Z",
     "shell.execute_reply": "2020-11-18T10:02:32.098329Z"
    },
    "papermill": {
     "duration": 0.086932,
     "end_time": "2020-11-18T10:02:32.099074",
     "exception": false,
     "start_time": "2020-11-18T10:02:32.012142",
     "status": "completed"
    },
    "tags": []
   },
   "outputs": [],
   "source": [
    "def split_dataframe(data, test_size, stratify=True, normalize=True):\n",
    "    \"\"\"Split dataframe to: X_y, X_y_train, X_y_test\"\"\"\n",
    "    # Split data: Х - features, у - target variable\n",
    "    X_y = data.loc[data[TRAIN] == 1].drop([TRAIN], axis=1)\n",
    "    y = data.loc[data[TRAIN] == 1, TARGET].values\n",
    "\n",
    "    # Split data on train and test parts\n",
    "    strat = y if stratify else None\n",
    "    X_y_train, X_y_test = train_test_split(\n",
    "        X_y, test_size=test_size, stratify=strat, shuffle=True, random_state=RANDOM_SEED\n",
    "    )\n",
    "\n",
    "    if normalize:\n",
    "        scaler = StandardScaler()\n",
    "        X_y = pd.DataFrame(scaler.fit_transform(X_y), columns=X_y.columns)\n",
    "        X_y_train = pd.DataFrame(scaler.fit_transform(X_y_train), columns=X_y_train.columns)\n",
    "        X_y_test = pd.DataFrame(scaler.fit_transform(X_y_test), columns=X_y_test.columns)\n",
    "\n",
    "    return (X_y, X_y_train, X_y_test)"
   ]
  },
  {
   "cell_type": "code",
   "execution_count": 38,
   "metadata": {
    "execution": {
     "iopub.execute_input": "2020-11-18T10:02:32.247574Z",
     "iopub.status.busy": "2020-11-18T10:02:32.246753Z",
     "iopub.status.idle": "2020-11-18T10:02:33.081718Z",
     "shell.execute_reply": "2020-11-18T10:02:33.080997Z"
    },
    "papermill": {
     "duration": 0.912522,
     "end_time": "2020-11-18T10:02:33.081859",
     "exception": false,
     "start_time": "2020-11-18T10:02:32.169337",
     "status": "completed"
    },
    "tags": []
   },
   "outputs": [
    {
     "name": "stdout",
     "output_type": "stream",
     "text": [
      "Shapes: (857895, 9) (686316, 9) (171579, 9)\n"
     ]
    }
   ],
   "source": [
    "# Data splitting\n",
    "X_y, X_y_train, X_y_test = split_dataframe(df, test_size=0.2, normalize=False)\n",
    "print('Shapes:', X_y.shape, X_y_train.shape, X_y_test.shape)"
   ]
  },
  {
   "cell_type": "code",
   "execution_count": 39,
   "metadata": {
    "execution": {
     "iopub.execute_input": "2020-11-18T10:02:33.233886Z",
     "iopub.status.busy": "2020-11-18T10:02:33.232568Z",
     "iopub.status.idle": "2020-11-18T10:02:33.244143Z",
     "shell.execute_reply": "2020-11-18T10:02:33.243304Z"
    },
    "papermill": {
     "duration": 0.089709,
     "end_time": "2020-11-18T10:02:33.244306",
     "exception": false,
     "start_time": "2020-11-18T10:02:33.154597",
     "status": "completed"
    },
    "tags": []
   },
   "outputs": [],
   "source": [
    "X_y_train_sparse = sparse.coo_matrix((X_y_train['rating'],\n",
    "                                     (X_y_train['userid'],\n",
    "                                      X_y_train['itemid'])))"
   ]
  },
  {
   "cell_type": "code",
   "execution_count": 40,
   "metadata": {
    "execution": {
     "iopub.execute_input": "2020-11-18T10:02:33.419734Z",
     "iopub.status.busy": "2020-11-18T10:02:33.418910Z",
     "iopub.status.idle": "2020-11-18T10:02:43.339875Z",
     "shell.execute_reply": "2020-11-18T10:02:43.341045Z"
    },
    "papermill": {
     "duration": 10.023742,
     "end_time": "2020-11-18T10:02:43.341285",
     "exception": false,
     "start_time": "2020-11-18T10:02:33.317543",
     "status": "completed"
    },
    "tags": []
   },
   "outputs": [],
   "source": [
    "NUM_THREADS = 4 #число потоков\n",
    "NUM_COMPONENTS = 30 #число параметров вектора \n",
    "NUM_EPOCHS = 20 #число эпох обучения\n",
    "\n",
    "model = LightFM(learning_rate=0.1,\n",
    "                loss='logistic',\n",
    "                no_components=NUM_COMPONENTS)\n",
    "\n",
    "model = model.fit(X_y_train_sparse,\n",
    "                  epochs=NUM_EPOCHS, \n",
    "                  num_threads=NUM_THREADS)"
   ]
  },
  {
   "cell_type": "code",
   "execution_count": 41,
   "metadata": {
    "execution": {
     "iopub.execute_input": "2020-11-18T10:02:43.570766Z",
     "iopub.status.busy": "2020-11-18T10:02:43.569648Z",
     "iopub.status.idle": "2020-11-18T10:02:44.200856Z",
     "shell.execute_reply": "2020-11-18T10:02:44.200142Z"
    },
    "papermill": {
     "duration": 0.733323,
     "end_time": "2020-11-18T10:02:44.201039",
     "exception": false,
     "start_time": "2020-11-18T10:02:43.467716",
     "status": "completed"
    },
    "tags": []
   },
   "outputs": [
    {
     "data": {
      "image/png": "[encoded data removed]",
      "text/plain": [
       "<Figure size 432x288 with 1 Axes>"
      ]
     },
     "metadata": {
      "needs_background": "light"
     },
     "output_type": "display_data"
    }
   ],
   "source": [
    "preds = model.predict(X_y_test['userid'].values,\n",
    "                      X_y_test['itemid'].values)\n",
    "\n",
    "pd.DataFrame(preds).plot.hist(bins=100);"
   ]
  },
  {
   "cell_type": "code",
   "execution_count": 42,
   "metadata": {
    "execution": {
     "iopub.execute_input": "2020-11-18T10:02:44.360594Z",
     "iopub.status.busy": "2020-11-18T10:02:44.359808Z",
     "iopub.status.idle": "2020-11-18T10:02:44.432912Z",
     "shell.execute_reply": "2020-11-18T10:02:44.432103Z"
    },
    "papermill": {
     "duration": 0.156095,
     "end_time": "2020-11-18T10:02:44.433135",
     "exception": false,
     "start_time": "2020-11-18T10:02:44.277040",
     "status": "completed"
    },
    "tags": []
   },
   "outputs": [
    {
     "data": {
      "text/plain": [
       "0.7496764848843464"
      ]
     },
     "execution_count": 42,
     "metadata": {},
     "output_type": "execute_result"
    }
   ],
   "source": [
    "roc_auc_score(X_y_test['rating'], preds)"
   ]
  },
  {
   "cell_type": "markdown",
   "metadata": {
    "papermill": {
     "duration": 0.077472,
     "end_time": "2020-11-18T10:02:44.587525",
     "exception": false,
     "start_time": "2020-11-18T10:02:44.510053",
     "status": "completed"
    },
    "tags": []
   },
   "source": [
    "# Submission\n",
    "**Learn model on 100% of train data**"
   ]
  },
  {
   "cell_type": "code",
   "execution_count": 43,
   "metadata": {
    "execution": {
     "iopub.execute_input": "2020-11-18T10:02:44.761789Z",
     "iopub.status.busy": "2020-11-18T10:02:44.760585Z",
     "iopub.status.idle": "2020-11-18T10:02:58.167901Z",
     "shell.execute_reply": "2020-11-18T10:02:58.167076Z"
    },
    "papermill": {
     "duration": 13.495501,
     "end_time": "2020-11-18T10:02:58.168042",
     "exception": false,
     "start_time": "2020-11-18T10:02:44.672541",
     "status": "completed"
    },
    "tags": []
   },
   "outputs": [
    {
     "data": {
      "image/png": "[encoded data removed]",
      "text/plain": [
       "<Figure size 432x288 with 1 Axes>"
      ]
     },
     "metadata": {
      "needs_background": "light"
     },
     "output_type": "display_data"
    }
   ],
   "source": [
    "# Create and learn model\n",
    "model = LightFM(learning_rate=0.1,\n",
    "                loss='logistic',\n",
    "                no_components=30)\n",
    "model = model.fit(sparse.coo_matrix((X_y['rating'],\n",
    "                                    (X_y['userid'],\n",
    "                                     X_y['itemid']))),\n",
    "                  epochs=20, \n",
    "                  num_threads=4)\n",
    "\n",
    "# Splitting data to predict\n",
    "X_y_predict = df.loc[df[TRAIN] == 0]\n",
    "\n",
    "# Predict\n",
    "predict_submission = model.predict(X_y_predict['userid'].values,\n",
    "                                   X_y_predict['itemid'].values)\n",
    "pd.DataFrame(predict_submission).plot.hist(bins=100);"
   ]
  },
  {
   "cell_type": "markdown",
   "metadata": {
    "papermill": {
     "duration": 0.078608,
     "end_time": "2020-11-18T10:02:58.330107",
     "exception": false,
     "start_time": "2020-11-18T10:02:58.251499",
     "status": "completed"
    },
    "tags": []
   },
   "source": [
    "**Postprocess**"
   ]
  },
  {
   "cell_type": "code",
   "execution_count": 44,
   "metadata": {
    "execution": {
     "iopub.execute_input": "2020-11-18T10:02:58.499508Z",
     "iopub.status.busy": "2020-11-18T10:02:58.498075Z",
     "iopub.status.idle": "2020-11-18T10:02:59.217172Z",
     "shell.execute_reply": "2020-11-18T10:02:59.216299Z"
    },
    "papermill": {
     "duration": 0.804763,
     "end_time": "2020-11-18T10:02:59.217349",
     "exception": false,
     "start_time": "2020-11-18T10:02:58.412586",
     "status": "completed"
    },
    "tags": []
   },
   "outputs": [
    {
     "data": {
      "image/png": "[encoded data removed]",
      "text/plain": [
       "<Figure size 432x288 with 1 Axes>"
      ]
     },
     "metadata": {
      "needs_background": "light"
     },
     "output_type": "display_data"
    }
   ],
   "source": [
    "predict_submission_post = (predict_submission - predict_submission.min()) \\\n",
    "    / (predict_submission - predict_submission.min()).max()\n",
    "pd.DataFrame(predict_submission_post).plot.hist(bins=100);"
   ]
  },
  {
   "cell_type": "markdown",
   "metadata": {
    "papermill": {
     "duration": 0.082576,
     "end_time": "2020-11-18T10:02:59.384930",
     "exception": false,
     "start_time": "2020-11-18T10:02:59.302354",
     "status": "completed"
    },
    "tags": []
   },
   "source": [
    "**Write result to submission file**"
   ]
  },
  {
   "cell_type": "code",
   "execution_count": 45,
   "metadata": {
    "execution": {
     "iopub.execute_input": "2020-11-18T10:02:59.568129Z",
     "iopub.status.busy": "2020-11-18T10:02:59.567332Z",
     "iopub.status.idle": "2020-11-18T10:03:01.280041Z",
     "shell.execute_reply": "2020-11-18T10:03:01.279322Z"
    },
    "papermill": {
     "duration": 1.805548,
     "end_time": "2020-11-18T10:03:01.280177",
     "exception": false,
     "start_time": "2020-11-18T10:02:59.474629",
     "status": "completed"
    },
    "tags": []
   },
   "outputs": [
    {
     "data": {
      "text/html": [
       "<div>\n",
       "<style scoped>\n",
       "    .dataframe tbody tr th:only-of-type {\n",
       "        vertical-align: middle;\n",
       "    }\n",
       "\n",
       "    .dataframe tbody tr th {\n",
       "        vertical-align: top;\n",
       "    }\n",
       "\n",
       "    .dataframe thead th {\n",
       "        text-align: right;\n",
       "    }\n",
       "</style>\n",
       "<table border=\"1\" class=\"dataframe\">\n",
       "  <thead>\n",
       "    <tr style=\"text-align: right;\">\n",
       "      <th></th>\n",
       "      <th>Id</th>\n",
       "      <th>rating</th>\n",
       "    </tr>\n",
       "  </thead>\n",
       "  <tbody>\n",
       "    <tr>\n",
       "      <th>0</th>\n",
       "      <td>0</td>\n",
       "      <td>0.532565</td>\n",
       "    </tr>\n",
       "    <tr>\n",
       "      <th>1</th>\n",
       "      <td>1</td>\n",
       "      <td>0.520678</td>\n",
       "    </tr>\n",
       "    <tr>\n",
       "      <th>2</th>\n",
       "      <td>2</td>\n",
       "      <td>0.505739</td>\n",
       "    </tr>\n",
       "    <tr>\n",
       "      <th>3</th>\n",
       "      <td>3</td>\n",
       "      <td>0.508170</td>\n",
       "    </tr>\n",
       "    <tr>\n",
       "      <th>4</th>\n",
       "      <td>4</td>\n",
       "      <td>0.531655</td>\n",
       "    </tr>\n",
       "    <tr>\n",
       "      <th>...</th>\n",
       "      <td>...</td>\n",
       "      <td>...</td>\n",
       "    </tr>\n",
       "    <tr>\n",
       "      <th>285960</th>\n",
       "      <td>285960</td>\n",
       "      <td>0.539590</td>\n",
       "    </tr>\n",
       "    <tr>\n",
       "      <th>285961</th>\n",
       "      <td>285961</td>\n",
       "      <td>0.422989</td>\n",
       "    </tr>\n",
       "    <tr>\n",
       "      <th>285962</th>\n",
       "      <td>285962</td>\n",
       "      <td>0.494436</td>\n",
       "    </tr>\n",
       "    <tr>\n",
       "      <th>285963</th>\n",
       "      <td>285963</td>\n",
       "      <td>0.532642</td>\n",
       "    </tr>\n",
       "    <tr>\n",
       "      <th>285964</th>\n",
       "      <td>285964</td>\n",
       "      <td>0.548360</td>\n",
       "    </tr>\n",
       "  </tbody>\n",
       "</table>\n",
       "<p>285965 rows × 2 columns</p>\n",
       "</div>"
      ],
      "text/plain": [
       "            Id    rating\n",
       "0            0  0.532565\n",
       "1            1  0.520678\n",
       "2            2  0.505739\n",
       "3            3  0.508170\n",
       "4            4  0.531655\n",
       "...        ...       ...\n",
       "285960  285960  0.539590\n",
       "285961  285961  0.422989\n",
       "285962  285962  0.494436\n",
       "285963  285963  0.532642\n",
       "285964  285964  0.548360\n",
       "\n",
       "[285965 rows x 2 columns]"
      ]
     },
     "execution_count": 45,
     "metadata": {},
     "output_type": "execute_result"
    }
   ],
   "source": [
    "sample_submission['rating'] = predict_submission_post\n",
    "sample_submission.to_csv('submission.csv', index=False)\n",
    "sample_submission"
   ]
  }
 ],
 "metadata": {
  "kernelspec": {
   "display_name": "Python 3",
   "language": "python",
   "name": "python3"
  },
  "language_info": {
   "codemirror_mode": {
    "name": "ipython",
    "version": 3
   },
   "file_extension": ".py",
   "mimetype": "text/x-python",
   "name": "python",
   "nbconvert_exporter": "python",
   "pygments_lexer": "ipython3",
   "version": "3.7.6"
  },
  "papermill": {
   "duration": 82.965641,
   "end_time": "2020-11-18T10:03:01.465498",
   "environment_variables": {},
   "exception": null,
   "input_path": "__notebook__.ipynb",
   "output_path": "__notebook__.ipynb",
   "parameters": {},
   "start_time": "2020-11-18T10:01:38.499857",
   "version": "2.1.0"
  }
 },
 "nbformat": 4,
 "nbformat_minor": 4
}
