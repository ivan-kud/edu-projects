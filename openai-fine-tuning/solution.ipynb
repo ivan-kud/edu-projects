{
 "cells": [
  {
   "cell_type": "markdown",
   "metadata": {},
   "source": [
    "OpenAI предоставляет возможность кастомизации (fine-tuning) их базовых моделей с целью улучшения качества выдачи и адаптации к определенной задаче. Вам предлагается реализовать fine-tuning базовой модели *ada* для задачи бинарной классификации текста с использованием приложенных данных.\n",
    "1. Проведите исследовательский анализ данных.\n",
    "2. Проведите предобработку данных (очистите, удалите знаки препинания и стоп-слова, токенизируйте, нормализуйте, приведите к нижнему регистру). Выбор инструментов на Ваше усмотрение.\n",
    "3. Разделите данные на тренировочную, валидационную и тестовую выборки.\n",
    "4. Подготовьте данные для тренировки в соответствии с требованиями, описанными на сайте https://platform.openai.com.\n",
    "5. Сделайте fine-tuning базовой модели *ada* на 2 эпохах.\n",
    "6. Оцените качество Вашей новой модели на тестовой выборке (используйте API OpenAI). Выбор метрик на Ваше усмотрение.\n",
    "\n",
    "Язык программирования: Python"
   ]
  },
  {
   "cell_type": "code",
   "execution_count": 1,
   "metadata": {
    "tags": []
   },
   "outputs": [
    {
     "name": "stdout",
     "output_type": "stream",
     "text": [
      "python:          3.11.3 (main, Apr  7 2023, 20:13:31) [Clang 14.0.0 (clang-1400.0.29.202)]\n",
      "openai:          0.27.7\n"
     ]
    }
   ],
   "source": [
    "import sys\n",
    "\n",
    "import nltk\n",
    "import openai\n",
    "import pandas as pd\n",
    "from sklearn.metrics import accuracy_score, f1_score\n",
    "from sklearn.model_selection import train_test_split\n",
    "\n",
    "print('python:'.ljust(16), sys.version.split('\\n')[0])\n",
    "print('openai:'.ljust(16), openai.__version__)"
   ]
  },
  {
   "cell_type": "code",
   "execution_count": 2,
   "metadata": {},
   "outputs": [
    {
     "name": "stderr",
     "output_type": "stream",
     "text": [
      "[nltk_data] Downloading package stopwords to /Users/admin/nltk_data...\n",
      "[nltk_data]   Package stopwords is already up-to-date!\n"
     ]
    }
   ],
   "source": [
    "# Save requirements\n",
    "!pip freeze > requirements.txt\n",
    "\n",
    "# Set environment variable\n",
    "%load_ext dotenv\n",
    "%dotenv\n",
    "\n",
    "# Download stopwords\n",
    "nltk.download('stopwords')\n",
    "\n",
    "# Set global parameters\n",
    "RANDOM_STATE = 123456\n",
    "MAX_SEQUENCE_LEN = 1000"
   ]
  },
  {
   "cell_type": "markdown",
   "metadata": {},
   "source": [
    "# 1. EDA\n",
    "\n",
    "## Load dataset"
   ]
  },
  {
   "cell_type": "code",
   "execution_count": 3,
   "metadata": {
    "tags": []
   },
   "outputs": [
    {
     "data": {
      "text/html": [
       "<div>\n",
       "<style scoped>\n",
       "    .dataframe tbody tr th:only-of-type {\n",
       "        vertical-align: middle;\n",
       "    }\n",
       "\n",
       "    .dataframe tbody tr th {\n",
       "        vertical-align: top;\n",
       "    }\n",
       "\n",
       "    .dataframe thead th {\n",
       "        text-align: right;\n",
       "    }\n",
       "</style>\n",
       "<table border=\"1\" class=\"dataframe\">\n",
       "  <thead>\n",
       "    <tr style=\"text-align: right;\">\n",
       "      <th></th>\n",
       "      <th>prompt</th>\n",
       "      <th>completion</th>\n",
       "    </tr>\n",
       "  </thead>\n",
       "  <tbody>\n",
       "    <tr>\n",
       "      <th>0</th>\n",
       "      <td>Certificate of a Pharmaceutical Product1 This ...</td>\n",
       "      <td>med</td>\n",
       "    </tr>\n",
       "    <tr>\n",
       "      <th>1</th>\n",
       "      <td>Risankizumab 2.5 Clinical Overview R&amp;D/22/1116...</td>\n",
       "      <td>med</td>\n",
       "    </tr>\n",
       "    <tr>\n",
       "      <th>2</th>\n",
       "      <td>DocuSign Envelope ID: 29755819-FB58-441F-868E-...</td>\n",
       "      <td>med</td>\n",
       "    </tr>\n",
       "    <tr>\n",
       "      <th>3</th>\n",
       "      <td>Sandoz Business Use Only Page  of Regulatory A...</td>\n",
       "      <td>med</td>\n",
       "    </tr>\n",
       "    <tr>\n",
       "      <th>4</th>\n",
       "      <td>InfoCard: PQL-000030 Rev: 001 Effective: 15 Fe...</td>\n",
       "      <td>med</td>\n",
       "    </tr>\n",
       "    <tr>\n",
       "      <th>...</th>\n",
       "      <td>...</td>\n",
       "      <td>...</td>\n",
       "    </tr>\n",
       "    <tr>\n",
       "      <th>95</th>\n",
       "      <td>vmware- customer connect Welcome to Customer C...</td>\n",
       "      <td>tech</td>\n",
       "    </tr>\n",
       "    <tr>\n",
       "      <th>96</th>\n",
       "      <td>CONFIDENTIAL KT&amp;G RESEARCH &amp; DEVELOPMENT 1. De...</td>\n",
       "      <td>tech</td>\n",
       "    </tr>\n",
       "    <tr>\n",
       "      <th>97</th>\n",
       "      <td>REGISTRATION RECORD SERIESGOLD SHEETS Internat...</td>\n",
       "      <td>tech</td>\n",
       "    </tr>\n",
       "    <tr>\n",
       "      <th>98</th>\n",
       "      <td>Installation, use and maintenance manual A CLA...</td>\n",
       "      <td>tech</td>\n",
       "    </tr>\n",
       "    <tr>\n",
       "      <th>99</th>\n",
       "      <td>XIANHE CO., LTD. 40gsm Coating Packing Paper T...</td>\n",
       "      <td>tech</td>\n",
       "    </tr>\n",
       "  </tbody>\n",
       "</table>\n",
       "<p>100 rows × 2 columns</p>\n",
       "</div>"
      ],
      "text/plain": [
       "                                               prompt completion\n",
       "0   Certificate of a Pharmaceutical Product1 This ...        med\n",
       "1   Risankizumab 2.5 Clinical Overview R&D/22/1116...        med\n",
       "2   DocuSign Envelope ID: 29755819-FB58-441F-868E-...        med\n",
       "3   Sandoz Business Use Only Page  of Regulatory A...        med\n",
       "4   InfoCard: PQL-000030 Rev: 001 Effective: 15 Fe...        med\n",
       "..                                                ...        ...\n",
       "95  vmware- customer connect Welcome to Customer C...       tech\n",
       "96  CONFIDENTIAL KT&G RESEARCH & DEVELOPMENT 1. De...       tech\n",
       "97  REGISTRATION RECORD SERIESGOLD SHEETS Internat...       tech\n",
       "98  Installation, use and maintenance manual A CLA...       tech\n",
       "99  XIANHE CO., LTD. 40gsm Coating Packing Paper T...       tech\n",
       "\n",
       "[100 rows x 2 columns]"
      ]
     },
     "execution_count": 3,
     "metadata": {},
     "output_type": "execute_result"
    }
   ],
   "source": [
    "# Load dataframe\n",
    "df = pd.read_csv('dataset.csv', index_col=0)\n",
    "\n",
    "# Rename columns\n",
    "df.columns = ['prompt', 'completion']\n",
    "\n",
    "# Show dataframe\n",
    "df"
   ]
  },
  {
   "cell_type": "code",
   "execution_count": 4,
   "metadata": {},
   "outputs": [
    {
     "data": {
      "text/plain": [
       "'DocuSign Envelope ID: 29755819-FB58-441F-868E-CF4912E1359F Registration number: 1732811000, District Court of Ljubljana, share capital: 48.402.003,00 EUR a Sandoz company To whom it may concern Lek Pharmaceuticals d.d. Verovškova ulica 571526 Ljubljana, SloveniaPhone: +386 1/580 21 11Fax: +386 1/568 35 17www.lek.si Ljubljana, 25 November 2022 We, Lek Pharmaceuticals d.d. (short name Lek d.d.) a manufacturer of pharmaceutical products with business address at Trimlini 2D, 9220 Lendava, Slovenia, company established under the laws of Slovenia, successfully passed EAEU GMP inspection and obtained EAEU GMP certificate. In respect of compliance with Good Manufacturing Practice (GMP) requirements we consent to any further GMP inspection in accordance with Eurasian Economic Union (EAEU) requirements of the manufacturing process of the product(s) Olmesartan medoxomil, Tablet, film-coated, 10 mg, 20 mg and 40 mg performed at manufacturing site: Lek Pharmaceuticals d.d., Poslovna enota PROIZVODNJA LENDAVA, Trimlini 2D, 9220 Lendava, Slovenia. Yours sincerely, Prepared by: Approved by: Leon Lang Marjeta Zupanc QA Compliance Specialist I Site Quality Head DocuSigned by: DocuSigned by: /Подпись: Leon Lang/ /Подпись: Marjeta Zupanc / Signer Name: Leon Lang Signer Name: Marjeta Zupanc Signing Reason: I am the author of this document Signing Reason: I approve this document Signing Time: 25-Nov-2022 | 13:26:58 GMT Signing Time: 25-Nov-2022 | 13:42:44 GMT 7EF3F4C900C14970BFD1F7FBA64E397F AFB1298A0F6943489CFBAAA5662FA731'"
      ]
     },
     "execution_count": 4,
     "metadata": {},
     "output_type": "execute_result"
    }
   ],
   "source": [
    "# Show text example\n",
    "df.loc[2, 'prompt']"
   ]
  },
  {
   "cell_type": "markdown",
   "metadata": {},
   "source": [
    "## Dataframe base info"
   ]
  },
  {
   "cell_type": "code",
   "execution_count": 5,
   "metadata": {},
   "outputs": [
    {
     "name": "stdout",
     "output_type": "stream",
     "text": [
      "<class 'pandas.core.frame.DataFrame'>\n",
      "Index: 100 entries, 0 to 99\n",
      "Data columns (total 2 columns):\n",
      " #   Column      Non-Null Count  Dtype \n",
      "---  ------      --------------  ----- \n",
      " 0   prompt      100 non-null    object\n",
      " 1   completion  100 non-null    object\n",
      "dtypes: object(2)\n",
      "memory usage: 6.4+ KB\n"
     ]
    }
   ],
   "source": [
    "df.info()"
   ]
  },
  {
   "cell_type": "markdown",
   "metadata": {},
   "source": [
    "___\n",
    "#### Comments\n",
    "- **The dataset is in English**\n",
    "- **There are no missing values (NaN's)**\n",
    "- **There are only 100 examples**\n",
    "___"
   ]
  },
  {
   "cell_type": "markdown",
   "metadata": {},
   "source": [
    "## Unique values"
   ]
  },
  {
   "cell_type": "code",
   "execution_count": 6,
   "metadata": {},
   "outputs": [
    {
     "data": {
      "text/plain": [
       "completion\n",
       "med     50\n",
       "tech    50\n",
       "Name: count, dtype: int64"
      ]
     },
     "execution_count": 6,
     "metadata": {},
     "output_type": "execute_result"
    }
   ],
   "source": [
    "df['completion'].value_counts()"
   ]
  },
  {
   "cell_type": "code",
   "execution_count": 7,
   "metadata": {},
   "outputs": [
    {
     "data": {
      "text/plain": [
       "100"
      ]
     },
     "execution_count": 7,
     "metadata": {},
     "output_type": "execute_result"
    }
   ],
   "source": [
    "df['prompt'].nunique()"
   ]
  },
  {
   "cell_type": "markdown",
   "metadata": {},
   "source": [
    "___\n",
    "#### Comments\n",
    "- **The dataset is balansed**\n",
    "- **But I still have to use stratified splitting later bacause the dataset is very small**\n",
    "- **There are no duplicates in \"prompt\" column**\n",
    "___"
   ]
  },
  {
   "cell_type": "markdown",
   "metadata": {},
   "source": [
    "## Text length distribution"
   ]
  },
  {
   "cell_type": "code",
   "execution_count": 8,
   "metadata": {},
   "outputs": [
    {
     "data": {
      "image/png": "[encoded data removed]",
      "text/plain": [
       "<Figure size 1400x800 with 4 Axes>"
      ]
     },
     "metadata": {},
     "output_type": "display_data"
    }
   ],
   "source": [
    "# Compute length of the texts with truncation\n",
    "text_len = df['prompt'].str.len()\n",
    "text_len = pd.concat([\n",
    "    text_len,\n",
    "    text_len.mask(text_len.gt(100_000)),\n",
    "    text_len.mask(text_len.gt(30_000)),\n",
    "    text_len.mask(text_len.gt(10_000)),\n",
    "], axis=1)\n",
    "text_len.columns=[\n",
    "    'length distribution',\n",
    "    'length distribution with truncation to 100_000',\n",
    "    'length distribution with truncation to 30_000',\n",
    "    'length distribution with truncation to 10_000',\n",
    "]\n",
    "\n",
    "# Show histograms\n",
    "text_len.hist(figsize=(14,8));"
   ]
  },
  {
   "cell_type": "markdown",
   "metadata": {},
   "source": [
    "___\n",
    "#### Comments\n",
    "- **Length of the texts varies greatly, from about 1_000 to 600_000 characters**\n",
    "- **It makes sense to truncate the texts**\n",
    "___"
   ]
  },
  {
   "cell_type": "markdown",
   "metadata": {},
   "source": [
    "# 2. Tokenization\n",
    "\n",
    "## Define Tokenizer"
   ]
  },
  {
   "cell_type": "code",
   "execution_count": 9,
   "metadata": {},
   "outputs": [],
   "source": [
    "class Tokenizer:\n",
    "    def __init__(self):\n",
    "        self.stop_words = nltk.corpus.stopwords.words('english')\n",
    "        self.tokenizer = nltk.tokenize.RegexpTokenizer(r'\\b[a-z]{3,}\\b')\n",
    "        self.stemmer = nltk.stem.porter.PorterStemmer()\n",
    "\n",
    "    def __call__(self, text: str, return_str: bool = False) -> list[str] | str:\n",
    "        # Convert to lower case\n",
    "        lower_text = text.lower()\n",
    "\n",
    "        # Tokenize\n",
    "        tokens = self.tokenizer.tokenize(lower_text)\n",
    "\n",
    "        tokens_temp = []\n",
    "        for i, token in enumerate(tokens):\n",
    "            # Truncate token sequence\n",
    "            if i > MAX_SEQUENCE_LEN:\n",
    "                break\n",
    "\n",
    "            # Remove stop words\n",
    "            if token in self.stop_words:\n",
    "                continue\n",
    "\n",
    "            # Replace links by placeholders\n",
    "            token = 'http' if token.startswith(('http', 'www')) else token\n",
    "\n",
    "            # Stemming\n",
    "            token = self.stemmer.stem(token, to_lowercase=False)\n",
    "\n",
    "            tokens_temp.append(token)\n",
    "        tokens = tokens_temp\n",
    "\n",
    "        # Add a word if len is zero\n",
    "        if len(tokens) == 0:\n",
    "            tokens = ['word']\n",
    "\n",
    "        return ' '.join(tokens) if return_str else tokens"
   ]
  },
  {
   "cell_type": "markdown",
   "metadata": {},
   "source": [
    "## Try tokenizer"
   ]
  },
  {
   "cell_type": "code",
   "execution_count": 10,
   "metadata": {},
   "outputs": [
    {
     "data": {
      "text/plain": [
       "'hello world worri bro mad man'"
      ]
     },
     "execution_count": 10,
     "metadata": {},
     "output_type": "execute_result"
    }
   ],
   "source": [
    "# Initialize tokenizer\n",
    "tokenizer = Tokenizer()\n",
    "\n",
    "# Tokenize some crazy text\n",
    "text_example = \"Hello, world! 666Hallowing is _worldwide 666 Don't worry bro, I'm a mad man...\"\n",
    "tokenizer(text_example, return_str=True)"
   ]
  },
  {
   "cell_type": "code",
   "execution_count": 11,
   "metadata": {},
   "outputs": [
    {
     "name": "stdout",
     "output_type": "stream",
     "text": [
      "Original text:\n",
      "DocuSign Envelope ID: 29755819-FB58-441F-868E-CF4912E1359F Registration number: 1732811000, District Court of Ljubljana, share capital: 48.402.003,00 EUR a Sandoz company To whom it may concern Lek Pharmaceuticals d.d. Verovškova ulica 571526 Ljubljana, SloveniaPhone: +386 1/580 21 11Fax: +386 1/568 35 17www.lek.si Ljubljana, 25 November 2022 We, Lek Pharmaceuticals d.d. (short name Lek d.d.) a manufacturer of pharmaceutical products with business address at Trimlini 2D, 9220 Lendava, Slovenia, company established under the laws of Slovenia, successfully passed EAEU GMP inspection and obtained EAEU GMP certificate. In respect of compliance with Good Manufacturing Practice (GMP) requirements we consent to any further GMP inspection in accordance with Eurasian Economic Union (EAEU) requirements of the manufacturing process of the product(s) Olmesartan medoxomil, Tablet, film-coated, 10 mg, 20 mg and 40 mg performed at manufacturing site: Lek Pharmaceuticals d.d., Poslovna enota PROIZVODNJA LENDAVA, Trimlini 2D, 9220 Lendava, Slovenia. Yours sincerely, Prepared by: Approved by: Leon Lang Marjeta Zupanc QA Compliance Specialist I Site Quality Head DocuSigned by: DocuSigned by: /Подпись: Leon Lang/ /Подпись: Marjeta Zupanc / Signer Name: Leon Lang Signer Name: Marjeta Zupanc Signing Reason: I am the author of this document Signing Reason: I approve this document Signing Time: 25-Nov-2022 | 13:26:58 GMT Signing Time: 25-Nov-2022 | 13:42:44 GMT 7EF3F4C900C14970BFD1F7FBA64E397F AFB1298A0F6943489CFBAAA5662FA731\n",
      "\n",
      "Tokenized text:\n",
      "docusign envelop registr number district court ljubljana share capit eur sandoz compani may concern lek pharmaceut ulica ljubljana sloveniaphon lek ljubljana novemb lek pharmaceut short name lek manufactur pharmaceut product busi address trimlini lendava slovenia compani establish law slovenia success pass eaeu gmp inspect obtain eaeu gmp certif respect complianc good manufactur practic gmp requir consent gmp inspect accord eurasian econom union eaeu requir manufactur process product olmesartan medoxomil tablet film coat perform manufactur site lek pharmaceut poslovna enota proizvodnja lendava trimlini lendava slovenia sincer prepar approv leon lang marjeta zupanc complianc specialist site qualiti head docusign docusign leon lang marjeta zupanc signer name leon lang signer name marjeta zupanc sign reason author document sign reason approv document sign time nov gmt sign time nov gmt\n"
     ]
    }
   ],
   "source": [
    "# Tokenize text example from the dataset\n",
    "text_example = df.loc[2, 'prompt']\n",
    "print('Original text:')\n",
    "print(text_example)\n",
    "print()\n",
    "print('Tokenized text:')\n",
    "print(tokenizer(text_example, return_str=True))"
   ]
  },
  {
   "cell_type": "markdown",
   "metadata": {},
   "source": [
    "## Tokenize dataset"
   ]
  },
  {
   "cell_type": "code",
   "execution_count": 12,
   "metadata": {},
   "outputs": [
    {
     "name": "stdout",
     "output_type": "stream",
     "text": [
      "CPU times: user 684 ms, sys: 5.21 ms, total: 689 ms\n",
      "Wall time: 687 ms\n"
     ]
    }
   ],
   "source": [
    "%%time\n",
    "df['prompt'] = df['prompt'].apply(tokenizer.__call__, args=(True,))"
   ]
  },
  {
   "cell_type": "markdown",
   "metadata": {},
   "source": [
    "# 3. Dataset splitting"
   ]
  },
  {
   "cell_type": "markdown",
   "metadata": {},
   "source": [
    "___\n",
    "#### Comments\n",
    "**As I mentioned earlier, I am using stratification because the dataset is very small.**\n",
    "___"
   ]
  },
  {
   "cell_type": "code",
   "execution_count": 13,
   "metadata": {},
   "outputs": [
    {
     "name": "stdout",
     "output_type": "stream",
     "text": [
      "Shape of datasets:\n",
      "Training   (60, 2)\n",
      "Validation (20, 2)\n",
      "Test       (20, 2)\n"
     ]
    }
   ],
   "source": [
    "# Split dataset on training, validation and test parts\n",
    "df_train, df_test = train_test_split(\n",
    "    df,\n",
    "    test_size=0.4,\n",
    "    shuffle=True,\n",
    "    stratify=df['completion'],\n",
    "    random_state=RANDOM_STATE,\n",
    ")\n",
    "\n",
    "df_valid, df_test = train_test_split(\n",
    "    df_test,\n",
    "    test_size=0.5,\n",
    "    stratify=df_test['completion'],\n",
    "    random_state=RANDOM_STATE,\n",
    ")\n",
    "\n",
    "# Show shape of datasets\n",
    "print('Shape of datasets:')\n",
    "print('Training  ', df_train.shape)\n",
    "print('Validation', df_valid.shape)\n",
    "print('Test      ', df_test.shape)"
   ]
  },
  {
   "cell_type": "code",
   "execution_count": 14,
   "metadata": {},
   "outputs": [
    {
     "name": "stdout",
     "output_type": "stream",
     "text": [
      "Class balance of datasets:\n",
      "\n",
      "Training completion\n",
      "med     30\n",
      "tech    30\n",
      "Name: count, dtype: int64\n",
      "\n",
      "Validation completion\n",
      "med     10\n",
      "tech    10\n",
      "Name: count, dtype: int64\n",
      "\n",
      "Test completion\n",
      "tech    10\n",
      "med     10\n",
      "Name: count, dtype: int64\n"
     ]
    }
   ],
   "source": [
    "# Check stratification\n",
    "print('Class balance of datasets:')\n",
    "print()\n",
    "print('Training', df_train['completion'].value_counts())\n",
    "print()\n",
    "print('Validation', df_valid['completion'].value_counts())\n",
    "print()\n",
    "print('Test', df_test['completion'].value_counts())"
   ]
  },
  {
   "cell_type": "markdown",
   "metadata": {},
   "source": [
    "# 4. Data preparation"
   ]
  },
  {
   "cell_type": "code",
   "execution_count": 15,
   "metadata": {},
   "outputs": [],
   "source": [
    "# Add a suffix separator to all prompts\n",
    "prompt_suffix = '\\n\\n###\\n\\n'\n",
    "df_train['prompt'] += prompt_suffix\n",
    "df_valid['prompt'] += prompt_suffix\n",
    "df_test['prompt'] += prompt_suffix\n",
    "\n",
    "# Add a prefix and a suffix to all completions\n",
    "completion_prefix = ' '\n",
    "completion_suffix = '\\n'\n",
    "df_train['completion'] = completion_prefix + df_train['completion'] + completion_suffix\n",
    "df_valid['completion'] = completion_prefix + df_valid['completion'] + completion_suffix\n",
    "df_test['completion'] = completion_prefix + df_test['completion'] + completion_suffix\n",
    "\n",
    "# Save datasets to json files\n",
    "df_train.to_json('train_data.jsonl', orient='records', lines=True)"
   ]
  },
  {
   "cell_type": "markdown",
   "metadata": {},
   "source": [
    "# 5. Fine-tuning"
   ]
  },
  {
   "cell_type": "code",
   "execution_count": 16,
   "metadata": {},
   "outputs": [
    {
     "name": "stdout",
     "output_type": "stream",
     "text": [
      "Upload progress: 100%|███████████████████████| 265k/265k [00:00<00:00, 230Mit/s]\n",
      "Uploaded file from train_data.jsonl: file-G7jdHRldkZS6OBDzM7h0oJhf\n",
      "Created fine-tune: ft-YPgwOZQB9ZMevqP4v4EeZgZR\n",
      "Streaming events until fine-tuning is complete...\n",
      "\n",
      "(Ctrl-C will interrupt the stream, but not cancel the fine-tune)\n",
      "[2023-05-21 04:44:21] Created fine-tune: ft-YPgwOZQB9ZMevqP4v4EeZgZR\n",
      "\n",
      "Stream interrupted (client disconnected).\n",
      "To resume the stream, run:\n",
      "\n",
      "  openai api fine_tunes.follow -i ft-YPgwOZQB9ZMevqP4v4EeZgZR\n",
      "\n",
      "CPU times: user 1.02 s, sys: 396 ms, total: 1.42 s\n",
      "Wall time: 1min 4s\n"
     ]
    }
   ],
   "source": [
    "%%time\n",
    "!openai api fine_tunes.create -m ada --n_epochs 2 -t \"train_data.jsonl\""
   ]
  },
  {
   "cell_type": "markdown",
   "metadata": {},
   "source": [
    "# 6. Model evaluation\n",
    "## Show available models"
   ]
  },
  {
   "cell_type": "code",
   "execution_count": null,
   "metadata": {},
   "outputs": [],
   "source": [
    "!curl https://api.openai.com/v1/models \\\n",
    "  -H \"Authorization: Bearer $OPENAI_API_KEY\""
   ]
  },
  {
   "cell_type": "markdown",
   "metadata": {},
   "source": [
    "## Set API key"
   ]
  },
  {
   "cell_type": "code",
   "execution_count": 19,
   "metadata": {},
   "outputs": [],
   "source": [
    "with open('.env', 'r') as f:\n",
    "    api_key = f.read().split('=')[1]\n",
    "openai.api_key = api_key"
   ]
  },
  {
   "cell_type": "markdown",
   "metadata": {},
   "source": [
    "## Predict"
   ]
  },
  {
   "cell_type": "code",
   "execution_count": 20,
   "metadata": {},
   "outputs": [
    {
     "name": "stdout",
     "output_type": "stream",
     "text": [
      "CPU times: user 136 ms, sys: 20.2 ms, total: 156 ms\n",
      "Wall time: 8.4 s\n"
     ]
    }
   ],
   "source": [
    "%%time\n",
    "def predict(prompt):\n",
    "    model_name = 'ada:ft-awatera-2023-05-21-00-53-08'\n",
    "    model_response = openai.Completion.create(model=model_name, prompt=prompt, max_tokens=1, temperature=0)\n",
    "    return model_response['choices'][0]['text']\n",
    "\n",
    "y_pred = df_test['prompt'].apply(predict)\n",
    "y_true = df_test['completion'].str.slice(0, -1)"
   ]
  },
  {
   "cell_type": "markdown",
   "metadata": {},
   "source": [
    "## Evaluate"
   ]
  },
  {
   "cell_type": "code",
   "execution_count": 21,
   "metadata": {},
   "outputs": [
    {
     "name": "stdout",
     "output_type": "stream",
     "text": [
      "Model accuracy: 85.00 %\n",
      "Model F1 score: 85.71 %\n"
     ]
    }
   ],
   "source": [
    "print(f'Model accuracy: {100 * accuracy_score(y_true, y_pred):.2f} %')\n",
    "print(f'Model F1 score: {100 * f1_score(y_true, y_pred, pos_label=\" med\"):.2f} %')"
   ]
  }
 ],
 "metadata": {
  "kernelspec": {
   "display_name": "Python 3 (ipykernel)",
   "language": "python",
   "name": "python3"
  },
  "language_info": {
   "codemirror_mode": {
    "name": "ipython",
    "version": 3
   },
   "file_extension": ".py",
   "mimetype": "text/x-python",
   "name": "python",
   "nbconvert_exporter": "python",
   "pygments_lexer": "ipython3",
   "version": "3.11.3"
  },
  "vscode": {
   "interpreter": {
    "hash": "596323ea7aca3050b0d14c0a05576a1d90db4e3c06d52df965d632d5817faf48"
   }
  }
 },
 "nbformat": 4,
 "nbformat_minor": 4
}
