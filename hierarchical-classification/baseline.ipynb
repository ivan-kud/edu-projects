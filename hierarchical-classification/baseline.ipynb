{
 "cells": [
  {
   "cell_type": "code",
   "execution_count": 1,
   "id": "152b989e-51d9-4110-a5f5-628db4d00ade",
   "metadata": {},
   "outputs": [],
   "source": [
    "%load_ext autoreload\n",
    "%autoreload 1\n",
    "%aimport myutils"
   ]
  },
  {
   "cell_type": "code",
   "execution_count": 2,
   "id": "be5462ab-bebf-477c-85d5-c46802a750fa",
   "metadata": {},
   "outputs": [
    {
     "name": "stdout",
     "output_type": "stream",
     "text": [
      "python:          3.9.12 (main, Apr  5 2022, 01:53:17) \n",
      "hiclass:         3.0.3\n",
      "scikit-learn:    1.0.2\n"
     ]
    }
   ],
   "source": [
    "import sys\n",
    "\n",
    "import hiclass\n",
    "import matplotlib.pyplot as plt\n",
    "import networkx as nx\n",
    "import numpy as np\n",
    "import pandas as pd\n",
    "import scipy\n",
    "import sklearn\n",
    "\n",
    "print('python:'.ljust(16), sys.version.split('\\n')[0])\n",
    "print('hiclass:'.ljust(16), hiclass.__version__)\n",
    "print('scikit-learn:'.ljust(16), sklearn.__version__)"
   ]
  },
  {
   "cell_type": "markdown",
   "id": "ae0f1bf5-ed58-4f6c-be8c-2699784ca620",
   "metadata": {},
   "source": [
    "## Define constants"
   ]
  },
  {
   "cell_type": "code",
   "execution_count": 3,
   "id": "be726a07-84bc-4805-a763-32b20ce66367",
   "metadata": {},
   "outputs": [],
   "source": [
    "RANDOM_SEED = 2147483647\n",
    "GRAPH_ROOT = 1\n",
    "\n",
    "DATA_PATH = './data/'\n",
    "WORKING_PATH = './working/'\n",
    "\n",
    "IDENT = 'id'  # ID feature name\n",
    "TARGET = 'category_id'  # Target feature name\n",
    "TRAIN = 'TRAIN'  # Binary feature name to separate train and test data\n",
    "PATH_COLS = ['node_1', 'node_2', 'node_3', 'node_4', 'node_5']\n",
    "\n",
    "MODEL_TYPE = 'lcpn'  # {'lcpn', 'lcn'}\n",
    "N_ESTIMATORS = 20\n",
    "N_WORD_SYMBOLS = 3\n",
    "VALID_SIZE = 0.2"
   ]
  },
  {
   "cell_type": "markdown",
   "id": "b835ff5a-121a-4cb2-a1b3-9e44be846162",
   "metadata": {},
   "source": [
    "## Load data"
   ]
  },
  {
   "cell_type": "code",
   "execution_count": 4,
   "id": "d60b5d90-49a1-4dcc-b797-c7293cf8c7f6",
   "metadata": {},
   "outputs": [],
   "source": [
    "# Load datasets\n",
    "tree = pd.read_csv(DATA_PATH + 'categories_tree.csv')\n",
    "df_train = pd.read_parquet(DATA_PATH + 'train.parquet', 'pyarrow')\n",
    "df_test = pd.read_parquet(DATA_PATH + 'test.parquet', 'pyarrow')\n",
    "\n",
    "# Join train and test datasets\n",
    "df_test[TARGET] = pd.NA  # Fill target variable of the test dataset with zeros\n",
    "df_train[TRAIN] = True  # Train/test flag\n",
    "df_test[TRAIN] = False  # Train/test flag\n",
    "df = pd.concat([df_train, df_test], ignore_index=True)"
   ]
  },
  {
   "cell_type": "markdown",
   "id": "2c9d02e1-cd4b-4eb6-8d0e-98843dce88af",
   "metadata": {},
   "source": [
    "## Prepare graph"
   ]
  },
  {
   "cell_type": "code",
   "execution_count": 5,
   "id": "59522b8c-744c-41b3-aefe-19c301082bb3",
   "metadata": {},
   "outputs": [],
   "source": [
    "# Define graph\n",
    "edgelist = [tuple(r) for r in tree[['parent_id', 'id']].to_numpy()]\n",
    "G = nx.from_edgelist(edgelist, create_using=nx.DiGraph)\n",
    "\n",
    "# Remove nodes that not in df\n",
    "G.remove_node(0)\n",
    "df_leaf_nodes = set(df.loc[df[TRAIN], TARGET])\n",
    "while True:\n",
    "    graph_leaf_nodes = {x for x in G.nodes() if G.out_degree(x)==0}\n",
    "    useless_nodes = graph_leaf_nodes - df_leaf_nodes\n",
    "    if len(useless_nodes) == 0:\n",
    "        break\n",
    "    G.remove_nodes_from(useless_nodes)"
   ]
  },
  {
   "cell_type": "markdown",
   "id": "057dd5f8-9d07-4dae-ac17-766ef62a7b9e",
   "metadata": {},
   "source": [
    "## Prepare dataframe\n",
    "### Preprocess"
   ]
  },
  {
   "cell_type": "code",
   "execution_count": 6,
   "id": "af487a92-c439-4288-8021-5764574862a4",
   "metadata": {},
   "outputs": [],
   "source": [
    "# Add binary column to indicate rating absence (0.0 value)\n",
    "df['no_rating'] = 0\n",
    "df.loc[df['rating'] == 0.0, 'no_rating'] = 1\n",
    "\n",
    "# Replace 0.0 rating with mean value\n",
    "mean_rating = df.loc[df['rating'] == 0.0, 'rating'].mean()\n",
    "df.loc[df['rating'].isna(), 'rating'] = mean_rating\n",
    "\n",
    "# Replace -1 value of feedback quantity with 0\n",
    "df.loc[df['feedback_quantity'] == -1, 'feedback_quantity'] = 0\n",
    "\n",
    "# Drop features that will not be used\n",
    "df.drop(['short_description', 'name_value_characteristics'], axis=1, inplace=True)"
   ]
  },
  {
   "cell_type": "markdown",
   "id": "d6f21755-190b-4c36-85c7-c156add69896",
   "metadata": {},
   "source": [
    "### Add columns with path nodes"
   ]
  },
  {
   "cell_type": "code",
   "execution_count": 7,
   "id": "afbf1bed-7267-463e-b01d-613f323e0372",
   "metadata": {},
   "outputs": [],
   "source": [
    "path_maps = myutils.get_path_map_by_depth(G, GRAPH_ROOT)\n",
    "\n",
    "path_map_df = pd.DataFrame.from_dict(\n",
    "    path_maps[-1],\n",
    "    orient='index',\n",
    "    dtype=pd.Int64Dtype(),\n",
    "    columns=PATH_COLS,\n",
    ")\n",
    "\n",
    "df = df.join(path_map_df, on=TARGET)"
   ]
  },
  {
   "cell_type": "markdown",
   "id": "b6c69621-464e-434c-81bc-281d02584997",
   "metadata": {},
   "source": [
    "### View df"
   ]
  },
  {
   "cell_type": "code",
   "execution_count": 8,
   "id": "6f802f04-93ed-4dee-9e37-80c4b9389a66",
   "metadata": {},
   "outputs": [
    {
     "data": {
      "text/html": [
       "<div>\n",
       "<style scoped>\n",
       "    .dataframe tbody tr th:only-of-type {\n",
       "        vertical-align: middle;\n",
       "    }\n",
       "\n",
       "    .dataframe tbody tr th {\n",
       "        vertical-align: top;\n",
       "    }\n",
       "\n",
       "    .dataframe thead th {\n",
       "        text-align: right;\n",
       "    }\n",
       "</style>\n",
       "<table border=\"1\" class=\"dataframe\">\n",
       "  <thead>\n",
       "    <tr style=\"text-align: right;\">\n",
       "      <th></th>\n",
       "      <th>id</th>\n",
       "      <th>title</th>\n",
       "      <th>rating</th>\n",
       "      <th>feedback_quantity</th>\n",
       "      <th>category_id</th>\n",
       "      <th>TRAIN</th>\n",
       "      <th>no_rating</th>\n",
       "      <th>node_1</th>\n",
       "      <th>node_2</th>\n",
       "      <th>node_3</th>\n",
       "      <th>node_4</th>\n",
       "      <th>node_5</th>\n",
       "    </tr>\n",
       "  </thead>\n",
       "  <tbody>\n",
       "    <tr>\n",
       "      <th>0</th>\n",
       "      <td>1267423</td>\n",
       "      <td>Muhle Manikure Песочные колпачки для педикюра ...</td>\n",
       "      <td>0.000000</td>\n",
       "      <td>0</td>\n",
       "      <td>2693</td>\n",
       "      <td>True</td>\n",
       "      <td>1</td>\n",
       "      <td>10012</td>\n",
       "      <td>10113</td>\n",
       "      <td>10355</td>\n",
       "      <td>2693</td>\n",
       "      <td>-1</td>\n",
       "    </tr>\n",
       "    <tr>\n",
       "      <th>1</th>\n",
       "      <td>128833</td>\n",
       "      <td>Sony Xperia L1 Защитное стекло 2,5D</td>\n",
       "      <td>4.666667</td>\n",
       "      <td>9</td>\n",
       "      <td>13408</td>\n",
       "      <td>True</td>\n",
       "      <td>0</td>\n",
       "      <td>10020</td>\n",
       "      <td>10044</td>\n",
       "      <td>10398</td>\n",
       "      <td>13408</td>\n",
       "      <td>-1</td>\n",
       "    </tr>\n",
       "  </tbody>\n",
       "</table>\n",
       "</div>"
      ],
      "text/plain": [
       "        id                                              title    rating  \\\n",
       "0  1267423  Muhle Manikure Песочные колпачки для педикюра ...  0.000000   \n",
       "1   128833                Sony Xperia L1 Защитное стекло 2,5D  4.666667   \n",
       "\n",
       "   feedback_quantity category_id  TRAIN  no_rating  node_1  node_2  node_3  \\\n",
       "0                  0        2693   True          1   10012   10113   10355   \n",
       "1                  9       13408   True          0   10020   10044   10398   \n",
       "\n",
       "   node_4  node_5  \n",
       "0    2693      -1  \n",
       "1   13408      -1  "
      ]
     },
     "execution_count": 8,
     "metadata": {},
     "output_type": "execute_result"
    }
   ],
   "source": [
    "df.head(2)"
   ]
  },
  {
   "cell_type": "markdown",
   "id": "66329a92-becb-4535-9be9-0ddc04a9af6f",
   "metadata": {},
   "source": [
    "### Split df on train, valid, test"
   ]
  },
  {
   "cell_type": "code",
   "execution_count": 9,
   "id": "ecc38807-5adb-4554-80c4-ce1d0b64693f",
   "metadata": {},
   "outputs": [
    {
     "data": {
      "text/html": [
       "<div>\n",
       "<style scoped>\n",
       "    .dataframe tbody tr th:only-of-type {\n",
       "        vertical-align: middle;\n",
       "    }\n",
       "\n",
       "    .dataframe tbody tr th {\n",
       "        vertical-align: top;\n",
       "    }\n",
       "\n",
       "    .dataframe thead th {\n",
       "        text-align: right;\n",
       "    }\n",
       "</style>\n",
       "<table border=\"1\" class=\"dataframe\">\n",
       "  <thead>\n",
       "    <tr style=\"text-align: right;\">\n",
       "      <th></th>\n",
       "      <th>X</th>\n",
       "      <th>y</th>\n",
       "    </tr>\n",
       "  </thead>\n",
       "  <tbody>\n",
       "    <tr>\n",
       "      <th>not test</th>\n",
       "      <td>(283452, 5)</td>\n",
       "      <td>(283452, 5)</td>\n",
       "    </tr>\n",
       "    <tr>\n",
       "      <th>train</th>\n",
       "      <td>(226761, 5)</td>\n",
       "      <td>(226761, 5)</td>\n",
       "    </tr>\n",
       "    <tr>\n",
       "      <th>valid</th>\n",
       "      <td>(56691, 5)</td>\n",
       "      <td>(56691, 5)</td>\n",
       "    </tr>\n",
       "    <tr>\n",
       "      <th>test</th>\n",
       "      <td>(70864, 5)</td>\n",
       "      <td>None</td>\n",
       "    </tr>\n",
       "  </tbody>\n",
       "</table>\n",
       "</div>"
      ],
      "text/plain": [
       "                    X            y\n",
       "not test  (283452, 5)  (283452, 5)\n",
       "train     (226761, 5)  (226761, 5)\n",
       "valid      (56691, 5)   (56691, 5)\n",
       "test       (70864, 5)         None"
      ]
     },
     "execution_count": 9,
     "metadata": {},
     "output_type": "execute_result"
    }
   ],
   "source": [
    "# Split df\n",
    "X, X_train, X_valid, X_test, y, y_train, y_valid, _, _ = myutils.split_scale_df(\n",
    "    df, TRAIN, TARGET, PATH_COLS,\n",
    "    validation_size=VALID_SIZE, random_state=RANDOM_SEED, stratify=True\n",
    ")\n",
    "\n",
    "# Print shapes\n",
    "pd.DataFrame({'X': {'not test': X.shape, 'train': X_train.shape, 'valid': X_valid.shape, 'test': X_test.shape},\n",
    "              'y': {'not test': y.shape, 'train': y_train.shape, 'valid': y_valid.shape, 'test': None}})"
   ]
  },
  {
   "cell_type": "markdown",
   "id": "b64c62ba-3958-41b6-ae75-19d15da5d1fb",
   "metadata": {},
   "source": [
    "### Vectorize 'title' column"
   ]
  },
  {
   "cell_type": "code",
   "execution_count": 10,
   "id": "feb43bff-5378-496b-bf75-9b90e7388329",
   "metadata": {},
   "outputs": [
    {
     "name": "stderr",
     "output_type": "stream",
     "text": [
      "/Users/admin/opt/anaconda3/envs/kztest/lib/python3.9/site-packages/sklearn/feature_extraction/text.py:516: UserWarning: The parameter 'token_pattern' will not be used since 'tokenizer' is not None'\n",
      "  warnings.warn(\n"
     ]
    },
    {
     "name": "stdout",
     "output_type": "stream",
     "text": [
      "Number of vectorized features: 25030\n",
      "\n",
      "CPU times: user 1min 47s, sys: 160 ms, total: 1min 47s\n",
      "Wall time: 1min 47s\n"
     ]
    }
   ],
   "source": [
    "%%time\n",
    "# Get vectorizer\n",
    "vectorizer = myutils.get_vectorizer(\n",
    "    X_train['title'],\n",
    "    fname=WORKING_PATH + 'bl_vectorizer_w' + str(N_WORD_SYMBOLS) + '_train.joblib',\n",
    "    stopwords_fname = WORKING_PATH + 'stopwords-ru.txt',\n",
    "    regexp=r'(?u)\\b\\w{' + str(N_WORD_SYMBOLS) + r',}\\b',\n",
    "    saving=False,\n",
    ")\n",
    "\n",
    "print('Number of vectorized features:', len(vectorizer.vocabulary_))\n",
    "print()"
   ]
  },
  {
   "cell_type": "code",
   "execution_count": 11,
   "id": "63bf14a2-a4aa-401c-bf21-c154727f0b04",
   "metadata": {},
   "outputs": [
    {
     "name": "stdout",
     "output_type": "stream",
     "text": [
      "CPU times: user 2min 14s, sys: 175 ms, total: 2min 14s\n",
      "Wall time: 2min 14s\n"
     ]
    },
    {
     "data": {
      "text/html": [
       "<div>\n",
       "<style scoped>\n",
       "    .dataframe tbody tr th:only-of-type {\n",
       "        vertical-align: middle;\n",
       "    }\n",
       "\n",
       "    .dataframe tbody tr th {\n",
       "        vertical-align: top;\n",
       "    }\n",
       "\n",
       "    .dataframe thead th {\n",
       "        text-align: right;\n",
       "    }\n",
       "</style>\n",
       "<table border=\"1\" class=\"dataframe\">\n",
       "  <thead>\n",
       "    <tr style=\"text-align: right;\">\n",
       "      <th></th>\n",
       "      <th>X</th>\n",
       "      <th>y</th>\n",
       "    </tr>\n",
       "  </thead>\n",
       "  <tbody>\n",
       "    <tr>\n",
       "      <th>train</th>\n",
       "      <td>(226761, 25034)</td>\n",
       "      <td>(226761, 5)</td>\n",
       "    </tr>\n",
       "    <tr>\n",
       "      <th>valid</th>\n",
       "      <td>(56691, 25034)</td>\n",
       "      <td>(56691, 5)</td>\n",
       "    </tr>\n",
       "  </tbody>\n",
       "</table>\n",
       "</div>"
      ],
      "text/plain": [
       "                     X            y\n",
       "train  (226761, 25034)  (226761, 5)\n",
       "valid   (56691, 25034)   (56691, 5)"
      ]
     },
     "execution_count": 11,
     "metadata": {},
     "output_type": "execute_result"
    }
   ],
   "source": [
    "%%time\n",
    "# Get 'title' vectors\n",
    "title_train = myutils.get_title_vectors(\n",
    "    X_train['title'],\n",
    "    fname=WORKING_PATH + 'bl_titlevect_w' + str(N_WORD_SYMBOLS) + '_train.joblib',\n",
    "    vectorizer=vectorizer,\n",
    "    saving=False,\n",
    ")\n",
    "title_valid = myutils.get_title_vectors(\n",
    "    X_valid['title'],\n",
    "    fname=WORKING_PATH + 'bl_titlevect_w' + str(N_WORD_SYMBOLS) + '_valid.joblib',\n",
    "    vectorizer=vectorizer,\n",
    "    saving=False,\n",
    ")\n",
    "\n",
    "# Add other columns from df\n",
    "columns = [IDENT, 'rating', 'no_rating', 'feedback_quantity']\n",
    "X_train = scipy.sparse.hstack((title_train, X_train[columns].values))\n",
    "X_valid = scipy.sparse.hstack((title_valid, X_valid[columns].values))\n",
    "\n",
    "# Print shapes\n",
    "pd.DataFrame({'X': {'train': X_train.shape, 'valid': X_valid.shape},\n",
    "              'y': {'train': y_train.shape, 'valid': y_valid.shape}})"
   ]
  },
  {
   "cell_type": "markdown",
   "id": "6b37176f-9f97-4f73-b76b-d19a760e4052",
   "metadata": {},
   "source": [
    "## Define classifier and fit"
   ]
  },
  {
   "cell_type": "code",
   "execution_count": null,
   "id": "828974c6-6ea9-4ab0-bd7d-d416fc00ae13",
   "metadata": {
    "tags": []
   },
   "outputs": [],
   "source": [
    "%%time\n",
    "# Get classifier\n",
    "clf = myutils.get_classifier(\n",
    "    X_train,\n",
    "    y_train,\n",
    "    fname=(WORKING_PATH + 'bl_' + MODEL_TYPE + '_w' + str(N_WORD_SYMBOLS)\n",
    "           + '_est' + str(N_ESTIMATORS) + '_train.joblib'),\n",
    "    model_type=MODEL_TYPE,\n",
    "    n_estimators=N_ESTIMATORS,\n",
    "    random_state=RANDOM_SEED,\n",
    "    saving=False,\n",
    ")"
   ]
  },
  {
   "cell_type": "markdown",
   "id": "b69327fc-bd8c-4136-b392-c835022760c3",
   "metadata": {},
   "source": [
    "## Predict"
   ]
  },
  {
   "cell_type": "code",
   "execution_count": 13,
   "id": "46ae9674-d1b9-4ede-ad62-3524c5d3c23c",
   "metadata": {},
   "outputs": [
    {
     "name": "stdout",
     "output_type": "stream",
     "text": [
      "\n",
      "CPU times: user 1min 25s, sys: 1.75 s, total: 1min 26s\n",
      "Wall time: 1min 15s\n"
     ]
    },
    {
     "data": {
      "text/plain": [
       "array([[10014, 10116, 11379, 12768,    -1],\n",
       "       [10018, 10115, 10890, 12044,    -1],\n",
       "       [10014, 10116, 10533, 13143,    -1],\n",
       "       ...,\n",
       "       [10014, 10222, 10877, 11602,    -1],\n",
       "       [10012, 10070, 10918, 13155,    -1],\n",
       "       [10018, 10115, 10890, 11889,    -1]])"
      ]
     },
     "execution_count": 13,
     "metadata": {},
     "output_type": "execute_result"
    }
   ],
   "source": [
    "%%time\n",
    "pred_train = myutils.get_prediction(\n",
    "    X_train,\n",
    "    fname=(WORKING_PATH + 'bl_pred_' + MODEL_TYPE + '_w' + str(N_WORD_SYMBOLS)\n",
    "           + '_est' + str(N_ESTIMATORS) + '_train.joblib'),\n",
    "    classifier=clf,\n",
    "    saving=False,\n",
    ")\n",
    "pred_valid = myutils.get_prediction(\n",
    "    X_valid,\n",
    "    fname=(WORKING_PATH + 'bl_pred_' + MODEL_TYPE + '_w' + str(N_WORD_SYMBOLS)\n",
    "           + '_est' + str(N_ESTIMATORS) + '_valid.joblib'),\n",
    "    classifier=clf,\n",
    "    saving=False,\n",
    ")\n",
    "print()\n",
    "\n",
    "pred_valid"
   ]
  },
  {
   "cell_type": "markdown",
   "id": "414808b4-ae12-4d77-b3a1-ec6ee387a0ea",
   "metadata": {},
   "source": [
    "## Compute metric"
   ]
  },
  {
   "cell_type": "code",
   "execution_count": 14,
   "id": "50eb037a-d7c3-42f8-b500-e37da74c3b49",
   "metadata": {},
   "outputs": [
    {
     "name": "stderr",
     "output_type": "stream",
     "text": [
      "100%|██████████| 5/5 [00:00<00:00, 324.15it/s]\n",
      "100%|██████████| 50/50 [00:00<00:00, 113.14it/s]\n",
      "100%|██████████| 386/386 [00:03<00:00, 99.19it/s]\n",
      "100%|██████████| 1189/1189 [00:13<00:00, 88.56it/s]\n",
      "100%|██████████| 1231/1231 [00:07<00:00, 159.22it/s]\n",
      "100%|██████████| 5/5 [00:00<00:00, 746.26it/s]\n",
      "100%|██████████| 50/50 [00:00<00:00, 347.82it/s]\n",
      "100%|██████████| 386/386 [00:00<00:00, 393.09it/s]\n",
      "100%|██████████| 1189/1189 [00:03<00:00, 354.62it/s]\n",
      "100%|██████████| 1231/1231 [00:01<00:00, 641.10it/s]\n"
     ]
    },
    {
     "name": "stdout",
     "output_type": "stream",
     "text": [
      "\n"
     ]
    },
    {
     "data": {
      "image/png": "[encoded data removed]",
      "text/plain": [
       "<Figure size 432x288 with 1 Axes>"
      ]
     },
     "metadata": {
      "needs_background": "light"
     },
     "output_type": "display_data"
    },
    {
     "name": "stdout",
     "output_type": "stream",
     "text": [
      "\n",
      "Weighted hF on train: 0.9992859907878867\n",
      "Weighted hF on valid: 0.9595370094099842\n"
     ]
    }
   ],
   "source": [
    "# Compute metrics\n",
    "whF_train, _ = myutils.get_score_by_depth(path_maps, y_train, pred_train)\n",
    "whF_valid, _ = myutils.get_score_by_depth(path_maps, y_valid, pred_valid)\n",
    "print()\n",
    "\n",
    "# Show whF by graph depth\n",
    "fig, ax = plt.subplots()\n",
    "pd.Series(whF_train).plot(ax=ax, legend=True, label='Train')\n",
    "pd.Series(whF_valid).plot(ax=ax, legend=True, label='Valid')\n",
    "ax.set_title('Weighted hF by graph depth')\n",
    "plt.show()\n",
    "print()\n",
    "\n",
    "print('Weighted hF on train:', whF_train[-1])\n",
    "print('Weighted hF on valid:', whF_valid[-1])"
   ]
  },
  {
   "cell_type": "markdown",
   "id": "eecb79c3-c234-4e46-a5f7-604ea713fc46",
   "metadata": {},
   "source": [
    "## Train on whole data"
   ]
  },
  {
   "cell_type": "code",
   "execution_count": 15,
   "id": "3233cc94-36e9-44f9-b6e4-fc9fcb43ece0",
   "metadata": {},
   "outputs": [
    {
     "data": {
      "text/html": [
       "<div>\n",
       "<style scoped>\n",
       "    .dataframe tbody tr th:only-of-type {\n",
       "        vertical-align: middle;\n",
       "    }\n",
       "\n",
       "    .dataframe tbody tr th {\n",
       "        vertical-align: top;\n",
       "    }\n",
       "\n",
       "    .dataframe thead th {\n",
       "        text-align: right;\n",
       "    }\n",
       "</style>\n",
       "<table border=\"1\" class=\"dataframe\">\n",
       "  <thead>\n",
       "    <tr style=\"text-align: right;\">\n",
       "      <th></th>\n",
       "      <th>X</th>\n",
       "      <th>y</th>\n",
       "    </tr>\n",
       "  </thead>\n",
       "  <tbody>\n",
       "    <tr>\n",
       "      <th>train</th>\n",
       "      <td>(283452, 5)</td>\n",
       "      <td>(283452, 5)</td>\n",
       "    </tr>\n",
       "    <tr>\n",
       "      <th>test</th>\n",
       "      <td>(70864, 5)</td>\n",
       "      <td>None</td>\n",
       "    </tr>\n",
       "  </tbody>\n",
       "</table>\n",
       "</div>"
      ],
      "text/plain": [
       "                 X            y\n",
       "train  (283452, 5)  (283452, 5)\n",
       "test    (70864, 5)         None"
      ]
     },
     "execution_count": 15,
     "metadata": {},
     "output_type": "execute_result"
    }
   ],
   "source": [
    "# Split df\n",
    "X, _, _, X_test, y, _, _, _, _ = myutils.split_scale_df(\n",
    "    df, TRAIN, TARGET, PATH_COLS,\n",
    "    validation_size=VALID_SIZE, random_state=RANDOM_SEED\n",
    ")\n",
    "\n",
    "# Print shapes\n",
    "pd.DataFrame({'X': {'train': X.shape, 'test': X_test.shape},\n",
    "              'y': {'train': y.shape, 'test': None}})"
   ]
  },
  {
   "cell_type": "code",
   "execution_count": 16,
   "id": "c61663d9-083f-4e72-b9eb-b0a66edb6087",
   "metadata": {},
   "outputs": [
    {
     "name": "stderr",
     "output_type": "stream",
     "text": [
      "/Users/admin/opt/anaconda3/envs/kztest/lib/python3.9/site-packages/sklearn/feature_extraction/text.py:516: UserWarning: The parameter 'token_pattern' will not be used since 'tokenizer' is not None'\n",
      "  warnings.warn(\n"
     ]
    },
    {
     "name": "stdout",
     "output_type": "stream",
     "text": [
      "Number of vectorized features: 28204\n",
      "\n",
      "CPU times: user 2min 14s, sys: 252 ms, total: 2min 15s\n",
      "Wall time: 2min 15s\n"
     ]
    }
   ],
   "source": [
    "%%time\n",
    "# Get vectorizer\n",
    "vectorizer = myutils.get_vectorizer(\n",
    "    X['title'],\n",
    "    fname=WORKING_PATH + 'bl_vectorizer_w' + str(N_WORD_SYMBOLS) + '_whole.joblib',\n",
    "    stopwords_fname=WORKING_PATH + 'stopwords-ru.txt',\n",
    "    regexp=r'(?u)\\b\\w{' + str(N_WORD_SYMBOLS) + r',}\\b',\n",
    "    saving=False,\n",
    ")\n",
    "\n",
    "print('Number of vectorized features:', len(vectorizer.vocabulary_))\n",
    "print()"
   ]
  },
  {
   "cell_type": "code",
   "execution_count": 17,
   "id": "be56533f-15f4-4d6f-99cf-02969d121102",
   "metadata": {},
   "outputs": [],
   "source": [
    "# Get 'title' vectors\n",
    "title_whole = myutils.get_title_vectors(\n",
    "    X['title'],\n",
    "    fname=WORKING_PATH + 'bl_titlevect_w' + str(N_WORD_SYMBOLS) + '_whole.joblib',\n",
    "    vectorizer=vectorizer,\n",
    "    saving=False,\n",
    ")\n",
    "title_test = myutils.get_title_vectors(\n",
    "    X_test['title'],\n",
    "    fname=WORKING_PATH + 'bl_titlevect_w' + str(N_WORD_SYMBOLS) + '_test.joblib',\n",
    "    vectorizer=vectorizer,\n",
    "    saving=False,\n",
    ")\n",
    "\n",
    "# Add other columns from df\n",
    "columns = [IDENT, 'rating', 'no_rating', 'feedback_quantity']\n",
    "X = scipy.sparse.hstack((title_whole, X[columns].values))\n",
    "X_test = scipy.sparse.hstack((title_test, X_test[columns].values))"
   ]
  },
  {
   "cell_type": "code",
   "execution_count": null,
   "id": "04c73d4f-aa24-4351-b4a8-1079684682eb",
   "metadata": {
    "tags": []
   },
   "outputs": [],
   "source": [
    "%%time\n",
    "# Get classifier\n",
    "clf = myutils.get_classifier(\n",
    "    X,\n",
    "    y,\n",
    "    fname=(WORKING_PATH + 'bl_' + MODEL_TYPE + '_w' + str(N_WORD_SYMBOLS) \n",
    "           + '_est' + str(N_ESTIMATORS) + '_whole.joblib'),\n",
    "    model_type=MODEL_TYPE,\n",
    "    n_estimators=N_ESTIMATORS,\n",
    "    random_state=RANDOM_SEED,\n",
    "    saving=False,\n",
    ")"
   ]
  },
  {
   "cell_type": "code",
   "execution_count": 20,
   "id": "834cbbc6-31a6-438a-9526-4ccfe26a1c16",
   "metadata": {},
   "outputs": [
    {
     "name": "stdout",
     "output_type": "stream",
     "text": [
      "\n",
      "CPU times: user 1min 45s, sys: 1.9 s, total: 1min 47s\n",
      "Wall time: 1min 32s\n"
     ]
    },
    {
     "data": {
      "text/plain": [
       "array([[10003, 10023, 10104, 11574,    -1],\n",
       "       [10012, 10165, 10705, 11878,    -1],\n",
       "       [10020, 10144, 11157,  2803,    -1],\n",
       "       ...,\n",
       "       [10014, 10116, 11116, 13205,    -1],\n",
       "       [10014, 10116, 10500, 13069,    -1],\n",
       "       [10003, 10023, 10080, 14034,    -1]])"
      ]
     },
     "execution_count": 20,
     "metadata": {},
     "output_type": "execute_result"
    }
   ],
   "source": [
    "%%time\n",
    "# Predict\n",
    "pred_whole = myutils.get_prediction(\n",
    "    X,\n",
    "    fname=(WORKING_PATH + 'bl_pred_' + MODEL_TYPE + '_w' + str(N_WORD_SYMBOLS)\n",
    "           + '_est' + str(N_ESTIMATORS) + '_whole.joblib'),\n",
    "    classifier=clf,\n",
    "    saving=False,\n",
    ")\n",
    "pred_test = myutils.get_prediction(\n",
    "    X_test,\n",
    "    fname=(WORKING_PATH + 'bl_pred_' + MODEL_TYPE + '_w' + str(N_WORD_SYMBOLS)\n",
    "           + '_est' + str(N_ESTIMATORS) + '_test.joblib'),\n",
    "    classifier=clf,\n",
    "    saving=False,\n",
    ")\n",
    "print()\n",
    "\n",
    "pred_test"
   ]
  },
  {
   "cell_type": "code",
   "execution_count": 21,
   "id": "ad10096f-b385-4975-9ae8-02cf0ddef9fa",
   "metadata": {},
   "outputs": [
    {
     "name": "stderr",
     "output_type": "stream",
     "text": [
      "100%|██████████| 1231/1231 [00:11<00:00, 109.25it/s]\n"
     ]
    },
    {
     "name": "stdout",
     "output_type": "stream",
     "text": [
      "\n",
      "Weighted hF on train: 0.9993322035549376\n"
     ]
    }
   ],
   "source": [
    "# Compute metric\n",
    "whF_whole, _ = myutils.get_score(path_maps[-1], y, pred_whole)\n",
    "print()\n",
    "print('Weighted hF on train:', whF_whole)"
   ]
  },
  {
   "cell_type": "markdown",
   "id": "4e59e5c8-667c-4067-a381-bfa82614d03d",
   "metadata": {},
   "source": [
    "## Submit"
   ]
  },
  {
   "cell_type": "code",
   "execution_count": 22,
   "id": "05d7a512-840e-4770-8880-a3edbd973289",
   "metadata": {},
   "outputs": [
    {
     "data": {
      "text/html": [
       "<div>\n",
       "<style scoped>\n",
       "    .dataframe tbody tr th:only-of-type {\n",
       "        vertical-align: middle;\n",
       "    }\n",
       "\n",
       "    .dataframe tbody tr th {\n",
       "        vertical-align: top;\n",
       "    }\n",
       "\n",
       "    .dataframe thead th {\n",
       "        text-align: right;\n",
       "    }\n",
       "</style>\n",
       "<table border=\"1\" class=\"dataframe\">\n",
       "  <thead>\n",
       "    <tr style=\"text-align: right;\">\n",
       "      <th></th>\n",
       "      <th>id</th>\n",
       "      <th>predicted_category_id</th>\n",
       "    </tr>\n",
       "  </thead>\n",
       "  <tbody>\n",
       "    <tr>\n",
       "      <th>0</th>\n",
       "      <td>1070974</td>\n",
       "      <td>11574</td>\n",
       "    </tr>\n",
       "    <tr>\n",
       "      <th>1</th>\n",
       "      <td>450413</td>\n",
       "      <td>11878</td>\n",
       "    </tr>\n",
       "    <tr>\n",
       "      <th>2</th>\n",
       "      <td>126857</td>\n",
       "      <td>2803</td>\n",
       "    </tr>\n",
       "    <tr>\n",
       "      <th>3</th>\n",
       "      <td>1577569</td>\n",
       "      <td>11716</td>\n",
       "    </tr>\n",
       "    <tr>\n",
       "      <th>4</th>\n",
       "      <td>869328</td>\n",
       "      <td>12813</td>\n",
       "    </tr>\n",
       "    <tr>\n",
       "      <th>...</th>\n",
       "      <td>...</td>\n",
       "      <td>...</td>\n",
       "    </tr>\n",
       "    <tr>\n",
       "      <th>70859</th>\n",
       "      <td>967535</td>\n",
       "      <td>13143</td>\n",
       "    </tr>\n",
       "    <tr>\n",
       "      <th>70860</th>\n",
       "      <td>1488636</td>\n",
       "      <td>12718</td>\n",
       "    </tr>\n",
       "    <tr>\n",
       "      <th>70861</th>\n",
       "      <td>827510</td>\n",
       "      <td>13205</td>\n",
       "    </tr>\n",
       "    <tr>\n",
       "      <th>70862</th>\n",
       "      <td>529244</td>\n",
       "      <td>13069</td>\n",
       "    </tr>\n",
       "    <tr>\n",
       "      <th>70863</th>\n",
       "      <td>1400885</td>\n",
       "      <td>14034</td>\n",
       "    </tr>\n",
       "  </tbody>\n",
       "</table>\n",
       "<p>70864 rows × 2 columns</p>\n",
       "</div>"
      ],
      "text/plain": [
       "            id  predicted_category_id\n",
       "0      1070974                  11574\n",
       "1       450413                  11878\n",
       "2       126857                   2803\n",
       "3      1577569                  11716\n",
       "4       869328                  12813\n",
       "...        ...                    ...\n",
       "70859   967535                  13143\n",
       "70860  1488636                  12718\n",
       "70861   827510                  13205\n",
       "70862   529244                  13069\n",
       "70863  1400885                  14034\n",
       "\n",
       "[70864 rows x 2 columns]"
      ]
     },
     "execution_count": 22,
     "metadata": {},
     "output_type": "execute_result"
    }
   ],
   "source": [
    "submission = pd.DataFrame(\n",
    "    {'id': df.loc[~df[TRAIN], IDENT],\n",
    "     'predicted_category_id': myutils.get_leaves(pred_test)}\n",
    ").reset_index(drop=True)\n",
    "\n",
    "submission"
   ]
  },
  {
   "cell_type": "code",
   "execution_count": 23,
   "id": "367968aa-73c0-4f40-a1be-b89b72e812e1",
   "metadata": {},
   "outputs": [],
   "source": [
    "submission.to_parquet('result.parquet', 'pyarrow')"
   ]
  }
 ],
 "metadata": {
  "kernelspec": {
   "display_name": "Python 3 (ipykernel)",
   "language": "python",
   "name": "python3"
  },
  "language_info": {
   "codemirror_mode": {
    "name": "ipython",
    "version": 3
   },
   "file_extension": ".py",
   "mimetype": "text/x-python",
   "name": "python",
   "nbconvert_exporter": "python",
   "pygments_lexer": "ipython3",
   "version": "3.9.12"
  }
 },
 "nbformat": 4,
 "nbformat_minor": 5
}
