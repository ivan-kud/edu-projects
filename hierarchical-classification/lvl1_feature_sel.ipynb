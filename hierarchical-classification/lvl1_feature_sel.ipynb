{
 "cells": [
  {
   "cell_type": "code",
   "execution_count": 1,
   "id": "53a2f0a7-a140-45b6-abe5-a0858a96af46",
   "metadata": {},
   "outputs": [],
   "source": [
    "%load_ext autoreload\n",
    "%autoreload 1\n",
    "%aimport myutils"
   ]
  },
  {
   "cell_type": "code",
   "execution_count": 2,
   "id": "628e78ff-4012-409c-871d-5b0e4edea5dc",
   "metadata": {},
   "outputs": [
    {
     "name": "stdout",
     "output_type": "stream",
     "text": [
      "python:          3.9.12 (main, Apr  5 2022, 01:53:17) \n",
      "hiclass:         3.0.3\n",
      "scikit-learn:    1.0.2\n"
     ]
    }
   ],
   "source": [
    "import joblib\n",
    "import sys\n",
    "\n",
    "import hiclass\n",
    "import matplotlib.pyplot as plt\n",
    "import networkx as nx\n",
    "import numpy as np\n",
    "import pandas as pd\n",
    "import scipy\n",
    "import sklearn\n",
    "from sklearn.ensemble import GradientBoostingClassifier\n",
    "\n",
    "print('python:'.ljust(16), sys.version.split('\\n')[0])\n",
    "print('hiclass:'.ljust(16), hiclass.__version__)\n",
    "print('scikit-learn:'.ljust(16), sklearn.__version__)"
   ]
  },
  {
   "cell_type": "markdown",
   "id": "31acdd3e-35fc-4966-83e5-4a5ebffacfbe",
   "metadata": {},
   "source": [
    "## Define constants"
   ]
  },
  {
   "cell_type": "code",
   "execution_count": 3,
   "id": "e7b0a234-82ec-40ed-9989-96a5952a0bcb",
   "metadata": {},
   "outputs": [],
   "source": [
    "RANDOM_SEED = 2147483647\n",
    "GRAPH_ROOT = 1\n",
    "\n",
    "DATA_PATH = './data/'\n",
    "WORKING_PATH = myutils.WORKING_PATH\n",
    "\n",
    "IDENT = 'id'  # ID feature name\n",
    "TARGET = myutils.TARGET  # Target feature name\n",
    "TRAIN = myutils.TRAIN  # Binary feature name to separate train and test data\n",
    "PATH_COLS = myutils.PATH_COLS\n",
    "RANDOM = 'RANDOM'  # Feature of random numbers\n",
    "\n",
    "MODEL_TYPE = 'lcpn'  # {'lcpn', 'lcn'}\n",
    "N_ESTIMATORS = 20\n",
    "N_WORD_SYMBOLS = 2\n",
    "VALID_SIZE = 0.2"
   ]
  },
  {
   "cell_type": "markdown",
   "id": "0d11bdb8-cbcf-4283-8fbe-1ba84b39d64b",
   "metadata": {},
   "source": [
    "## Load data"
   ]
  },
  {
   "cell_type": "code",
   "execution_count": 4,
   "id": "8d5128b5-10d2-4e86-8888-3103a4868670",
   "metadata": {},
   "outputs": [],
   "source": [
    "# Load datasets\n",
    "tree = pd.read_csv(DATA_PATH + 'categories_tree.csv')\n",
    "df_train = pd.read_parquet(DATA_PATH + 'train.parquet', 'pyarrow')\n",
    "df_test = pd.read_parquet(DATA_PATH + 'test.parquet', 'pyarrow')\n",
    "\n",
    "# Join train and test datasets\n",
    "df_test[TARGET] = pd.NA  # Fill target variable of the test dataset with zeros\n",
    "df_train[TRAIN] = True  # Train/test flag\n",
    "df_test[TRAIN] = False  # Train/test flag\n",
    "df = pd.concat([df_train, df_test], ignore_index=True)"
   ]
  },
  {
   "cell_type": "markdown",
   "id": "397a4761-acac-4a7d-8da4-54a1bad00969",
   "metadata": {},
   "source": [
    "## Prepare graph"
   ]
  },
  {
   "cell_type": "code",
   "execution_count": 5,
   "id": "afdf1687-bc87-46d8-8ee0-6c13aa63b1e9",
   "metadata": {
    "collapsed": true,
    "jupyter": {
     "outputs_hidden": true
    },
    "tags": []
   },
   "outputs": [
    {
     "name": "stdout",
     "output_type": "stream",
     "text": [
      "Number of deleted nodes:\n",
      "1615\n",
      "228\n",
      "42\n",
      "10\n",
      "1\n",
      "0\n"
     ]
    }
   ],
   "source": [
    "# Define graph\n",
    "edgelist = [tuple(r) for r in tree[['parent_id', 'id']].to_numpy()]\n",
    "G = nx.from_edgelist(edgelist, create_using=nx.DiGraph)\n",
    "\n",
    "# Remove nodes that not in df\n",
    "G.remove_node(0)\n",
    "print('Number of deleted nodes:')\n",
    "df_leaf_nodes = set(df.loc[df[TRAIN], TARGET])\n",
    "while True:\n",
    "    graph_leaf_nodes = {x for x in G.nodes() if G.out_degree(x)==0}\n",
    "    useless_nodes = graph_leaf_nodes - df_leaf_nodes\n",
    "    print(len(useless_nodes))\n",
    "    if len(useless_nodes) == 0:\n",
    "        break\n",
    "    G.remove_nodes_from(useless_nodes)"
   ]
  },
  {
   "cell_type": "markdown",
   "id": "0373986c-3aef-4226-9c55-e23f0d102fff",
   "metadata": {},
   "source": [
    "## Prepare dataframe\n",
    "### Preprocess"
   ]
  },
  {
   "cell_type": "code",
   "execution_count": 6,
   "id": "3364c1dc-72b3-476c-bcfe-00cdc307c4dc",
   "metadata": {},
   "outputs": [],
   "source": [
    "# Add binary column to indicate rating absence (0.0 value)\n",
    "df['no_rating'] = 0\n",
    "df.loc[df['rating'] == 0.0, 'no_rating'] = 1\n",
    "\n",
    "# Replace 0.0 rating with mean value\n",
    "mean_rating = df.loc[df['rating'] == 0.0, 'rating'].mean()\n",
    "df.loc[df['rating'].isna(), 'rating'] = mean_rating\n",
    "\n",
    "# Replace -1 value of feedback quantity with 0\n",
    "df.loc[df['feedback_quantity'] == -1, 'feedback_quantity'] = 0\n",
    "\n",
    "# Add feature with random numbers\n",
    "rng = np.random.default_rng(RANDOM_SEED)\n",
    "df[RANDOM] = rng.integers(1000000, size=len(df))\n",
    "\n",
    "# Drop features that will not be used\n",
    "df.drop(['short_description', 'name_value_characteristics'], axis=1, inplace=True)"
   ]
  },
  {
   "cell_type": "markdown",
   "id": "50620a41-34da-4fae-95b2-5a0933e2bb59",
   "metadata": {},
   "source": [
    "### Add columns with path nodes"
   ]
  },
  {
   "cell_type": "code",
   "execution_count": 7,
   "id": "d9bd8e03-11b2-4272-ba9a-058963083d4f",
   "metadata": {},
   "outputs": [],
   "source": [
    "path_maps = myutils.get_path_map_by_depth(G, GRAPH_ROOT)\n",
    "\n",
    "path_map_df = pd.DataFrame.from_dict(\n",
    "    path_maps[-1],\n",
    "    orient='index',\n",
    "    dtype=pd.Int64Dtype(),\n",
    "    columns=PATH_COLS,\n",
    ")\n",
    "\n",
    "df = df.join(path_map_df, on=TARGET)"
   ]
  },
  {
   "cell_type": "markdown",
   "id": "a0ffef0a-ac1f-44ce-8297-759a35193ca6",
   "metadata": {},
   "source": [
    "### View df"
   ]
  },
  {
   "cell_type": "code",
   "execution_count": 8,
   "id": "cf7c9ecb-c230-4591-8d93-7a22741d211e",
   "metadata": {},
   "outputs": [
    {
     "data": {
      "text/html": [
       "<div>\n",
       "<style scoped>\n",
       "    .dataframe tbody tr th:only-of-type {\n",
       "        vertical-align: middle;\n",
       "    }\n",
       "\n",
       "    .dataframe tbody tr th {\n",
       "        vertical-align: top;\n",
       "    }\n",
       "\n",
       "    .dataframe thead th {\n",
       "        text-align: right;\n",
       "    }\n",
       "</style>\n",
       "<table border=\"1\" class=\"dataframe\">\n",
       "  <thead>\n",
       "    <tr style=\"text-align: right;\">\n",
       "      <th></th>\n",
       "      <th>id</th>\n",
       "      <th>title</th>\n",
       "      <th>rating</th>\n",
       "      <th>feedback_quantity</th>\n",
       "      <th>category_id</th>\n",
       "      <th>TRAIN</th>\n",
       "      <th>no_rating</th>\n",
       "      <th>RANDOM</th>\n",
       "      <th>node_1</th>\n",
       "      <th>node_2</th>\n",
       "      <th>node_3</th>\n",
       "      <th>node_4</th>\n",
       "      <th>node_5</th>\n",
       "    </tr>\n",
       "  </thead>\n",
       "  <tbody>\n",
       "    <tr>\n",
       "      <th>0</th>\n",
       "      <td>1267423</td>\n",
       "      <td>Muhle Manikure Песочные колпачки для педикюра ...</td>\n",
       "      <td>0.000000</td>\n",
       "      <td>0</td>\n",
       "      <td>2693</td>\n",
       "      <td>True</td>\n",
       "      <td>1</td>\n",
       "      <td>815807</td>\n",
       "      <td>10012</td>\n",
       "      <td>10113</td>\n",
       "      <td>10355</td>\n",
       "      <td>2693</td>\n",
       "      <td>-1</td>\n",
       "    </tr>\n",
       "    <tr>\n",
       "      <th>1</th>\n",
       "      <td>128833</td>\n",
       "      <td>Sony Xperia L1 Защитное стекло 2,5D</td>\n",
       "      <td>4.666667</td>\n",
       "      <td>9</td>\n",
       "      <td>13408</td>\n",
       "      <td>True</td>\n",
       "      <td>0</td>\n",
       "      <td>270854</td>\n",
       "      <td>10020</td>\n",
       "      <td>10044</td>\n",
       "      <td>10398</td>\n",
       "      <td>13408</td>\n",
       "      <td>-1</td>\n",
       "    </tr>\n",
       "  </tbody>\n",
       "</table>\n",
       "</div>"
      ],
      "text/plain": [
       "        id                                              title    rating  \\\n",
       "0  1267423  Muhle Manikure Песочные колпачки для педикюра ...  0.000000   \n",
       "1   128833                Sony Xperia L1 Защитное стекло 2,5D  4.666667   \n",
       "\n",
       "   feedback_quantity category_id  TRAIN  no_rating  RANDOM  node_1  node_2  \\\n",
       "0                  0        2693   True          1  815807   10012   10113   \n",
       "1                  9       13408   True          0  270854   10020   10044   \n",
       "\n",
       "   node_3  node_4  node_5  \n",
       "0   10355    2693      -1  \n",
       "1   10398   13408      -1  "
      ]
     },
     "execution_count": 8,
     "metadata": {},
     "output_type": "execute_result"
    }
   ],
   "source": [
    "df.head(2)"
   ]
  },
  {
   "cell_type": "markdown",
   "id": "409b8d53-783a-4d45-895e-3dd1393c7991",
   "metadata": {},
   "source": [
    "### Split df on train, valid, test"
   ]
  },
  {
   "cell_type": "code",
   "execution_count": 9,
   "id": "90f989c7-f161-4cb1-8d6f-2e562e8065af",
   "metadata": {},
   "outputs": [
    {
     "data": {
      "text/html": [
       "<div>\n",
       "<style scoped>\n",
       "    .dataframe tbody tr th:only-of-type {\n",
       "        vertical-align: middle;\n",
       "    }\n",
       "\n",
       "    .dataframe tbody tr th {\n",
       "        vertical-align: top;\n",
       "    }\n",
       "\n",
       "    .dataframe thead th {\n",
       "        text-align: right;\n",
       "    }\n",
       "</style>\n",
       "<table border=\"1\" class=\"dataframe\">\n",
       "  <thead>\n",
       "    <tr style=\"text-align: right;\">\n",
       "      <th></th>\n",
       "      <th>X</th>\n",
       "      <th>y</th>\n",
       "    </tr>\n",
       "  </thead>\n",
       "  <tbody>\n",
       "    <tr>\n",
       "      <th>not test</th>\n",
       "      <td>(283452, 6)</td>\n",
       "      <td>(283452, 5)</td>\n",
       "    </tr>\n",
       "    <tr>\n",
       "      <th>train</th>\n",
       "      <td>(226761, 6)</td>\n",
       "      <td>(226761, 5)</td>\n",
       "    </tr>\n",
       "    <tr>\n",
       "      <th>valid</th>\n",
       "      <td>(56691, 6)</td>\n",
       "      <td>(56691, 5)</td>\n",
       "    </tr>\n",
       "    <tr>\n",
       "      <th>test</th>\n",
       "      <td>(70864, 6)</td>\n",
       "      <td>None</td>\n",
       "    </tr>\n",
       "  </tbody>\n",
       "</table>\n",
       "</div>"
      ],
      "text/plain": [
       "                    X            y\n",
       "not test  (283452, 6)  (283452, 5)\n",
       "train     (226761, 6)  (226761, 5)\n",
       "valid      (56691, 6)   (56691, 5)\n",
       "test       (70864, 6)         None"
      ]
     },
     "execution_count": 9,
     "metadata": {},
     "output_type": "execute_result"
    }
   ],
   "source": [
    "# Split df\n",
    "X, X_train, X_valid, X_test, y, y_train, y_valid, _, _ = myutils.split_scale_df(\n",
    "    df, validation_size=VALID_SIZE, random_state=RANDOM_SEED\n",
    ")\n",
    "\n",
    "# Print shapes\n",
    "pd.DataFrame({'X': {'not test': X.shape, 'train': X_train.shape, 'valid': X_valid.shape, 'test': X_test.shape},\n",
    "              'y': {'not test': y.shape, 'train': y_train.shape, 'valid': y_valid.shape, 'test': None}})"
   ]
  },
  {
   "cell_type": "markdown",
   "id": "99c6650d-55dc-46e8-a984-5789aab147e8",
   "metadata": {},
   "source": [
    "### Vectorize 'title' column"
   ]
  },
  {
   "cell_type": "code",
   "execution_count": 10,
   "id": "ca2e5fdc-9da7-415b-aefd-6963555d2396",
   "metadata": {},
   "outputs": [
    {
     "name": "stdout",
     "output_type": "stream",
     "text": [
      "Number of vectorized features: 26155\n",
      "\n",
      "CPU times: user 139 ms, sys: 10.8 ms, total: 150 ms\n",
      "Wall time: 149 ms\n"
     ]
    }
   ],
   "source": [
    "%%time\n",
    "# Get vectorizer\n",
    "vectorizer = myutils.get_vectorizer(\n",
    "    X_train['title'],\n",
    "    'bl_vectorizer_w' + str(N_WORD_SYMBOLS) + '_train.joblib',\n",
    "    r'(?u)\\b\\w{' + str(N_WORD_SYMBOLS) + r',}\\b',\n",
    ")\n",
    "\n",
    "print('Number of vectorized features:', len(vectorizer.vocabulary_))\n",
    "print()"
   ]
  },
  {
   "cell_type": "code",
   "execution_count": 11,
   "id": "6e7ba44f-5236-44b3-9740-9eceebc8fc24",
   "metadata": {},
   "outputs": [
    {
     "name": "stdout",
     "output_type": "stream",
     "text": [
      "CPU times: user 115 ms, sys: 38.9 ms, total: 154 ms\n",
      "Wall time: 154 ms\n"
     ]
    },
    {
     "data": {
      "text/html": [
       "<div>\n",
       "<style scoped>\n",
       "    .dataframe tbody tr th:only-of-type {\n",
       "        vertical-align: middle;\n",
       "    }\n",
       "\n",
       "    .dataframe tbody tr th {\n",
       "        vertical-align: top;\n",
       "    }\n",
       "\n",
       "    .dataframe thead th {\n",
       "        text-align: right;\n",
       "    }\n",
       "</style>\n",
       "<table border=\"1\" class=\"dataframe\">\n",
       "  <thead>\n",
       "    <tr style=\"text-align: right;\">\n",
       "      <th></th>\n",
       "      <th>X</th>\n",
       "      <th>y</th>\n",
       "    </tr>\n",
       "  </thead>\n",
       "  <tbody>\n",
       "    <tr>\n",
       "      <th>train</th>\n",
       "      <td>(226761, 26160)</td>\n",
       "      <td>(226761, 5)</td>\n",
       "    </tr>\n",
       "    <tr>\n",
       "      <th>valid</th>\n",
       "      <td>(56691, 26160)</td>\n",
       "      <td>(56691, 5)</td>\n",
       "    </tr>\n",
       "    <tr>\n",
       "      <th>whole</th>\n",
       "      <td>(283452, 29421)</td>\n",
       "      <td>(283452, 5)</td>\n",
       "    </tr>\n",
       "    <tr>\n",
       "      <th>test</th>\n",
       "      <td>(70864, 29421)</td>\n",
       "      <td>None</td>\n",
       "    </tr>\n",
       "  </tbody>\n",
       "</table>\n",
       "</div>"
      ],
      "text/plain": [
       "                     X            y\n",
       "train  (226761, 26160)  (226761, 5)\n",
       "valid   (56691, 26160)   (56691, 5)\n",
       "whole  (283452, 29421)  (283452, 5)\n",
       "test    (70864, 29421)         None"
      ]
     },
     "execution_count": 11,
     "metadata": {},
     "output_type": "execute_result"
    }
   ],
   "source": [
    "%%time\n",
    "# Get 'title' vectors\n",
    "title_train = myutils.get_title_vectors(\n",
    "    X_train['title'],\n",
    "    'bl_titlevect_w' + str(N_WORD_SYMBOLS) + '_train.joblib',\n",
    "    vectorizer,\n",
    ")\n",
    "title_valid = myutils.get_title_vectors(\n",
    "    X_valid['title'],\n",
    "    'bl_titlevect_w' + str(N_WORD_SYMBOLS) + '_valid.joblib',\n",
    "    vectorizer,\n",
    ")\n",
    "title_whole = myutils.get_title_vectors(\n",
    "    X['title'],\n",
    "    'bl_titlevect_w' + str(N_WORD_SYMBOLS) + '_whole.joblib',\n",
    "    vectorizer,\n",
    ")\n",
    "title_test = myutils.get_title_vectors(\n",
    "    X_test['title'],\n",
    "    'bl_titlevect_w' + str(N_WORD_SYMBOLS) + '_test.joblib',\n",
    "    vectorizer,\n",
    ")\n",
    "\n",
    "# Add other columns from df\n",
    "columns = [RANDOM, IDENT, 'rating', 'no_rating', 'feedback_quantity']\n",
    "X_train = scipy.sparse.hstack((title_train, X_train[columns].values))\n",
    "X_valid = scipy.sparse.hstack((title_valid, X_valid[columns].values))\n",
    "X = scipy.sparse.hstack((title_whole, X[columns].values))\n",
    "X_test = scipy.sparse.hstack((title_test, X_test[columns].values))\n",
    "\n",
    "\n",
    "# Print shapes\n",
    "pd.DataFrame({'X': {'train': X_train.shape, 'valid': X_valid.shape, 'whole': X.shape, 'test': X_test.shape},\n",
    "              'y': {'train': y_train.shape, 'valid': y_valid.shape, 'whole': y.shape, 'test': None}})"
   ]
  },
  {
   "cell_type": "markdown",
   "id": "4504b90d-f0fa-4b09-a6f7-910b5a755684",
   "metadata": {},
   "source": [
    "## Define classifier and fit"
   ]
  },
  {
   "cell_type": "code",
   "execution_count": 27,
   "id": "3564622d-60b4-4386-bf84-9649b696f68c",
   "metadata": {
    "tags": []
   },
   "outputs": [
    {
     "name": "stdout",
     "output_type": "stream",
     "text": [
      "CPU times: user 4min 13s, sys: 454 ms, total: 4min 13s\n",
      "Wall time: 4min 13s\n"
     ]
    },
    {
     "data": {
      "text/plain": [
       "GradientBoostingClassifier(max_features='sqrt', n_estimators=1000,\n",
       "                           random_state=2147483647)"
      ]
     },
     "execution_count": 27,
     "metadata": {},
     "output_type": "execute_result"
    }
   ],
   "source": [
    "%%time\n",
    "clf = GradientBoostingClassifier(\n",
    "    n_estimators=1000,\n",
    "    max_features='sqrt',\n",
    "    random_state=RANDOM_SEED,\n",
    ")\n",
    "\n",
    "clf.fit(X_train, y_train[:, 0])"
   ]
  },
  {
   "cell_type": "markdown",
   "id": "ac7e9bbf-b245-4138-9f13-d68fcb8979cd",
   "metadata": {},
   "source": [
    "## Predict"
   ]
  },
  {
   "cell_type": "code",
   "execution_count": 28,
   "id": "69226c32-b31d-424d-95a4-e47ca3ef0095",
   "metadata": {},
   "outputs": [
    {
     "name": "stdout",
     "output_type": "stream",
     "text": [
      "\n",
      "CPU times: user 10.6 s, sys: 19.1 ms, total: 10.6 s\n",
      "Wall time: 10.6 s\n"
     ]
    },
    {
     "data": {
      "text/plain": [
       "array([10014, 10020, 10012, ..., 10012, 10020, 10018])"
      ]
     },
     "execution_count": 28,
     "metadata": {},
     "output_type": "execute_result"
    }
   ],
   "source": [
    "%%time\n",
    "pred_train = clf.predict(X_train)\n",
    "pred_valid = clf.predict(X_valid)\n",
    "print()\n",
    "\n",
    "pred_valid"
   ]
  },
  {
   "cell_type": "markdown",
   "id": "c13f5e8b-e2d8-4c0e-bdc8-7e2c6bf328fd",
   "metadata": {},
   "source": [
    "## Compute metric"
   ]
  },
  {
   "cell_type": "code",
   "execution_count": 29,
   "id": "86ab97ac-c26b-4dc0-bdcc-24ff96b87411",
   "metadata": {},
   "outputs": [
    {
     "name": "stderr",
     "output_type": "stream",
     "text": [
      "100%|████████████████████████████████████████████| 5/5 [00:00<00:00, 492.90it/s]\n",
      "100%|████████████████████████████████████████████| 5/5 [00:00<00:00, 887.61it/s]\n"
     ]
    },
    {
     "name": "stdout",
     "output_type": "stream",
     "text": [
      "\n",
      "Weighted hF on train: 0.972589413699061\n",
      "Weighted hF on valid: 0.9673111551946982\n"
     ]
    }
   ],
   "source": [
    "whF_train, _ = myutils.get_score(path_maps[0], y_train[:, :1], pred_train[:, None])\n",
    "whF_valid, _ = myutils.get_score(path_maps[0], y_valid[:, :1], pred_valid[:, None])\n",
    "print()\n",
    "print('Weighted hF on train:', whF_train)\n",
    "print('Weighted hF on valid:', whF_valid)"
   ]
  },
  {
   "cell_type": "markdown",
   "id": "50fb7f0f-fe13-473b-97c9-dbffd02f00a7",
   "metadata": {},
   "source": [
    "## Feature selection"
   ]
  },
  {
   "cell_type": "code",
   "execution_count": 30,
   "id": "35031a63-686f-49e8-88fb-8b8c88b3c29b",
   "metadata": {},
   "outputs": [
    {
     "data": {
      "image/png": "[encoded data removed]",
      "text/plain": [
       "<Figure size 432x288 with 1 Axes>"
      ]
     },
     "metadata": {
      "needs_background": "light"
     },
     "output_type": "display_data"
    }
   ],
   "source": [
    "f_imp = pd.Series(clf.feature_importances_)\n",
    "f_imp.plot();"
   ]
  },
  {
   "cell_type": "code",
   "execution_count": 62,
   "id": "353715e3-9be7-4f3c-a50e-0d2a8cf296c2",
   "metadata": {},
   "outputs": [
    {
     "name": "stdout",
     "output_type": "stream",
     "text": [
      "Number of important features: 1736\n"
     ]
    }
   ],
   "source": [
    "random_feature_index = -5\n",
    "importance_devider = 2\n",
    "\n",
    "random_feature_importance = f_imp.iat[random_feature_index]\n",
    "feature_mask = (f_imp > random_feature_importance / importance_devider)\n",
    "\n",
    "print('Number of important features:', feature_mask.sum())"
   ]
  },
  {
   "cell_type": "code",
   "execution_count": 55,
   "id": "63a4189b-dc50-4fcb-9f73-d4b0af524e11",
   "metadata": {},
   "outputs": [
    {
     "data": {
      "text/plain": [
       "208      0.000329\n",
       "209      0.000887\n",
       "211      0.000039\n",
       "222      0.000029\n",
       "249      0.000020\n",
       "           ...   \n",
       "26155    0.000040\n",
       "26156    0.002660\n",
       "26157    0.000182\n",
       "26158    0.000037\n",
       "26159    0.000392\n",
       "Length: 1736, dtype: float64"
      ]
     },
     "execution_count": 55,
     "metadata": {},
     "output_type": "execute_result"
    }
   ],
   "source": [
    "f_imp.loc[feature_mask]"
   ]
  },
  {
   "cell_type": "code",
   "execution_count": 63,
   "id": "71890a66-40a1-4f1e-bf20-5b442a6b96da",
   "metadata": {},
   "outputs": [
    {
     "data": {
      "text/plain": [
       "['./working/lvl1_feature_mask.joblib']"
      ]
     },
     "execution_count": 63,
     "metadata": {},
     "output_type": "execute_result"
    }
   ],
   "source": [
    "joblib.dump(feature_mask, WORKING_PATH + 'lvl1_feature_mask.joblib')"
   ]
  }
 ],
 "metadata": {
  "kernelspec": {
   "display_name": "Python 3 (ipykernel)",
   "language": "python",
   "name": "python3"
  },
  "language_info": {
   "codemirror_mode": {
    "name": "ipython",
    "version": 3
   },
   "file_extension": ".py",
   "mimetype": "text/x-python",
   "name": "python",
   "nbconvert_exporter": "python",
   "pygments_lexer": "ipython3",
   "version": "3.9.12"
  }
 },
 "nbformat": 4,
 "nbformat_minor": 5
}
