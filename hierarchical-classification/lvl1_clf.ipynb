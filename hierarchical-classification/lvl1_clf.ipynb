{
 "cells": [
  {
   "cell_type": "code",
   "execution_count": 1,
   "id": "b90a22b9-0a64-431f-90d6-f24a13456e2e",
   "metadata": {},
   "outputs": [],
   "source": [
    "%load_ext autoreload\n",
    "%autoreload 1\n",
    "%aimport myutils"
   ]
  },
  {
   "cell_type": "code",
   "execution_count": 2,
   "id": "7673803b-02c7-4c9e-8569-bb56001adf11",
   "metadata": {},
   "outputs": [
    {
     "name": "stdout",
     "output_type": "stream",
     "text": [
      "python:          3.9.12 (main, Apr  5 2022, 01:53:17) \n",
      "hiclass:         3.0.3\n",
      "scikit-learn:    1.0.2\n"
     ]
    }
   ],
   "source": [
    "import joblib\n",
    "import sys\n",
    "\n",
    "import hiclass\n",
    "import matplotlib.pyplot as plt\n",
    "import networkx as nx\n",
    "import numpy as np\n",
    "import pandas as pd\n",
    "import scipy\n",
    "import sklearn\n",
    "from sklearn.ensemble import HistGradientBoostingClassifier\n",
    "\n",
    "print('python:'.ljust(16), sys.version.split('\\n')[0])\n",
    "print('hiclass:'.ljust(16), hiclass.__version__)\n",
    "print('scikit-learn:'.ljust(16), sklearn.__version__)"
   ]
  },
  {
   "cell_type": "markdown",
   "id": "a7a84c8e-ee56-4f92-89ab-6114336ceb84",
   "metadata": {},
   "source": [
    "## Define constants"
   ]
  },
  {
   "cell_type": "code",
   "execution_count": 3,
   "id": "f2da4f6c-7d69-49f1-a680-59690a58091d",
   "metadata": {},
   "outputs": [],
   "source": [
    "RANDOM_SEED = 2147483647\n",
    "GRAPH_ROOT = 1\n",
    "\n",
    "DATA_PATH = './data/'\n",
    "WORKING_PATH = myutils.WORKING_PATH\n",
    "\n",
    "IDENT = 'id'  # ID feature name\n",
    "TARGET = myutils.TARGET  # Target feature name\n",
    "TRAIN = myutils.TRAIN  # Binary feature name to separate train and test data\n",
    "PATH_COLS = myutils.PATH_COLS\n",
    "RANDOM = 'RANDOM'  # Feature of random numbers\n",
    "\n",
    "MODEL_TYPE = 'lcpn'  # {'lcpn', 'lcn'}\n",
    "N_ESTIMATORS = 20\n",
    "N_WORD_SYMBOLS = 2\n",
    "VALID_SIZE = 0.2"
   ]
  },
  {
   "cell_type": "markdown",
   "id": "a1e2d118-3da6-4d67-b314-6930394270de",
   "metadata": {},
   "source": [
    "## Load data"
   ]
  },
  {
   "cell_type": "code",
   "execution_count": 4,
   "id": "97cacde0-6edd-48f5-a052-0e1822c99764",
   "metadata": {},
   "outputs": [],
   "source": [
    "# Load datasets\n",
    "tree = pd.read_csv(DATA_PATH + 'categories_tree.csv')\n",
    "df_train = pd.read_parquet(DATA_PATH + 'train.parquet', 'pyarrow')\n",
    "df_test = pd.read_parquet(DATA_PATH + 'test.parquet', 'pyarrow')\n",
    "\n",
    "# Join train and test datasets\n",
    "df_test[TARGET] = pd.NA  # Fill target variable of the test dataset with zeros\n",
    "df_train[TRAIN] = True  # Train/test flag\n",
    "df_test[TRAIN] = False  # Train/test flag\n",
    "df = pd.concat([df_train, df_test], ignore_index=True)"
   ]
  },
  {
   "cell_type": "markdown",
   "id": "87ba83da-8d82-4e7c-afeb-dad721139795",
   "metadata": {},
   "source": [
    "## Prepare graph"
   ]
  },
  {
   "cell_type": "code",
   "execution_count": 5,
   "id": "180c5758-90c0-4462-bb7b-b5cb257428e1",
   "metadata": {},
   "outputs": [],
   "source": [
    "# Define graph\n",
    "edgelist = [tuple(r) for r in tree[['parent_id', 'id']].to_numpy()]\n",
    "G = nx.from_edgelist(edgelist, create_using=nx.DiGraph)\n",
    "\n",
    "# Remove nodes that not in df\n",
    "G.remove_node(0)\n",
    "df_leaf_nodes = set(df.loc[df[TRAIN], TARGET])\n",
    "while True:\n",
    "    graph_leaf_nodes = {x for x in G.nodes() if G.out_degree(x)==0}\n",
    "    useless_nodes = graph_leaf_nodes - df_leaf_nodes\n",
    "    if len(useless_nodes) == 0:\n",
    "        break\n",
    "    G.remove_nodes_from(useless_nodes)"
   ]
  },
  {
   "cell_type": "markdown",
   "id": "56bd70c4-1443-45c4-8613-d7c572962320",
   "metadata": {},
   "source": [
    "## Prepare dataframe\n",
    "### Preprocess"
   ]
  },
  {
   "cell_type": "code",
   "execution_count": 6,
   "id": "a8eaf6d5-4dae-4d98-984c-9871068e0fff",
   "metadata": {},
   "outputs": [],
   "source": [
    "# Add binary column to indicate rating absence (0.0 value)\n",
    "df['no_rating'] = 0\n",
    "df.loc[df['rating'] == 0.0, 'no_rating'] = 1\n",
    "\n",
    "# Replace 0.0 rating with mean value\n",
    "mean_rating = df.loc[df['rating'] == 0.0, 'rating'].mean()\n",
    "df.loc[df['rating'].isna(), 'rating'] = mean_rating\n",
    "\n",
    "# Replace -1 value of feedback quantity with 0\n",
    "df.loc[df['feedback_quantity'] == -1, 'feedback_quantity'] = 0\n",
    "\n",
    "# Add feature with random numbers\n",
    "rng = np.random.default_rng(RANDOM_SEED)\n",
    "df[RANDOM] = rng.integers(1000000, size=len(df))\n",
    "\n",
    "# Drop features that will not be used\n",
    "df.drop(['short_description', 'name_value_characteristics'], axis=1, inplace=True)"
   ]
  },
  {
   "cell_type": "markdown",
   "id": "17d40e06-80d7-4a76-95de-904cb58eeac8",
   "metadata": {},
   "source": [
    "### Add columns with path nodes"
   ]
  },
  {
   "cell_type": "code",
   "execution_count": 7,
   "id": "e7bf5ea5-08e1-4284-ad25-e8e723c0ea4c",
   "metadata": {},
   "outputs": [],
   "source": [
    "path_maps = myutils.get_path_map_by_depth(G, GRAPH_ROOT)\n",
    "\n",
    "path_map_df = pd.DataFrame.from_dict(\n",
    "    path_maps[-1],\n",
    "    orient='index',\n",
    "    dtype=pd.Int64Dtype(),\n",
    "    columns=PATH_COLS,\n",
    ")\n",
    "\n",
    "df = df.join(path_map_df, on=TARGET)"
   ]
  },
  {
   "cell_type": "markdown",
   "id": "279bf51c-9537-4974-af72-d37e95f6595f",
   "metadata": {},
   "source": [
    "### View df"
   ]
  },
  {
   "cell_type": "code",
   "execution_count": 8,
   "id": "dcd1c395-ceec-45ea-bcc7-276b39a4a21e",
   "metadata": {},
   "outputs": [
    {
     "data": {
      "text/html": [
       "<div>\n",
       "<style scoped>\n",
       "    .dataframe tbody tr th:only-of-type {\n",
       "        vertical-align: middle;\n",
       "    }\n",
       "\n",
       "    .dataframe tbody tr th {\n",
       "        vertical-align: top;\n",
       "    }\n",
       "\n",
       "    .dataframe thead th {\n",
       "        text-align: right;\n",
       "    }\n",
       "</style>\n",
       "<table border=\"1\" class=\"dataframe\">\n",
       "  <thead>\n",
       "    <tr style=\"text-align: right;\">\n",
       "      <th></th>\n",
       "      <th>id</th>\n",
       "      <th>title</th>\n",
       "      <th>rating</th>\n",
       "      <th>feedback_quantity</th>\n",
       "      <th>category_id</th>\n",
       "      <th>TRAIN</th>\n",
       "      <th>no_rating</th>\n",
       "      <th>RANDOM</th>\n",
       "      <th>node_1</th>\n",
       "      <th>node_2</th>\n",
       "      <th>node_3</th>\n",
       "      <th>node_4</th>\n",
       "      <th>node_5</th>\n",
       "    </tr>\n",
       "  </thead>\n",
       "  <tbody>\n",
       "    <tr>\n",
       "      <th>0</th>\n",
       "      <td>1267423</td>\n",
       "      <td>Muhle Manikure Песочные колпачки для педикюра ...</td>\n",
       "      <td>0.000000</td>\n",
       "      <td>0</td>\n",
       "      <td>2693</td>\n",
       "      <td>True</td>\n",
       "      <td>1</td>\n",
       "      <td>815807</td>\n",
       "      <td>10012</td>\n",
       "      <td>10113</td>\n",
       "      <td>10355</td>\n",
       "      <td>2693</td>\n",
       "      <td>-1</td>\n",
       "    </tr>\n",
       "    <tr>\n",
       "      <th>1</th>\n",
       "      <td>128833</td>\n",
       "      <td>Sony Xperia L1 Защитное стекло 2,5D</td>\n",
       "      <td>4.666667</td>\n",
       "      <td>9</td>\n",
       "      <td>13408</td>\n",
       "      <td>True</td>\n",
       "      <td>0</td>\n",
       "      <td>270854</td>\n",
       "      <td>10020</td>\n",
       "      <td>10044</td>\n",
       "      <td>10398</td>\n",
       "      <td>13408</td>\n",
       "      <td>-1</td>\n",
       "    </tr>\n",
       "  </tbody>\n",
       "</table>\n",
       "</div>"
      ],
      "text/plain": [
       "        id                                              title    rating  \\\n",
       "0  1267423  Muhle Manikure Песочные колпачки для педикюра ...  0.000000   \n",
       "1   128833                Sony Xperia L1 Защитное стекло 2,5D  4.666667   \n",
       "\n",
       "   feedback_quantity category_id  TRAIN  no_rating  RANDOM  node_1  node_2  \\\n",
       "0                  0        2693   True          1  815807   10012   10113   \n",
       "1                  9       13408   True          0  270854   10020   10044   \n",
       "\n",
       "   node_3  node_4  node_5  \n",
       "0   10355    2693      -1  \n",
       "1   10398   13408      -1  "
      ]
     },
     "execution_count": 8,
     "metadata": {},
     "output_type": "execute_result"
    }
   ],
   "source": [
    "df.head(2)"
   ]
  },
  {
   "cell_type": "markdown",
   "id": "44b3cccd-cc36-4ece-87aa-12a8e632b298",
   "metadata": {},
   "source": [
    "### Split df on train, valid, test"
   ]
  },
  {
   "cell_type": "code",
   "execution_count": 9,
   "id": "d2ae2f2e-e908-48bd-9d7e-b49b3129134d",
   "metadata": {},
   "outputs": [
    {
     "data": {
      "text/html": [
       "<div>\n",
       "<style scoped>\n",
       "    .dataframe tbody tr th:only-of-type {\n",
       "        vertical-align: middle;\n",
       "    }\n",
       "\n",
       "    .dataframe tbody tr th {\n",
       "        vertical-align: top;\n",
       "    }\n",
       "\n",
       "    .dataframe thead th {\n",
       "        text-align: right;\n",
       "    }\n",
       "</style>\n",
       "<table border=\"1\" class=\"dataframe\">\n",
       "  <thead>\n",
       "    <tr style=\"text-align: right;\">\n",
       "      <th></th>\n",
       "      <th>X</th>\n",
       "      <th>y</th>\n",
       "    </tr>\n",
       "  </thead>\n",
       "  <tbody>\n",
       "    <tr>\n",
       "      <th>not test</th>\n",
       "      <td>(283452, 6)</td>\n",
       "      <td>(283452, 5)</td>\n",
       "    </tr>\n",
       "    <tr>\n",
       "      <th>train</th>\n",
       "      <td>(226761, 6)</td>\n",
       "      <td>(226761, 5)</td>\n",
       "    </tr>\n",
       "    <tr>\n",
       "      <th>valid</th>\n",
       "      <td>(56691, 6)</td>\n",
       "      <td>(56691, 5)</td>\n",
       "    </tr>\n",
       "    <tr>\n",
       "      <th>test</th>\n",
       "      <td>(70864, 6)</td>\n",
       "      <td>None</td>\n",
       "    </tr>\n",
       "  </tbody>\n",
       "</table>\n",
       "</div>"
      ],
      "text/plain": [
       "                    X            y\n",
       "not test  (283452, 6)  (283452, 5)\n",
       "train     (226761, 6)  (226761, 5)\n",
       "valid      (56691, 6)   (56691, 5)\n",
       "test       (70864, 6)         None"
      ]
     },
     "execution_count": 9,
     "metadata": {},
     "output_type": "execute_result"
    }
   ],
   "source": [
    "# Split df\n",
    "X, X_train, X_valid, X_test, y, y_train, y_valid, _, _ = myutils.split_scale_df(\n",
    "    df, validation_size=VALID_SIZE, random_state=RANDOM_SEED\n",
    ")\n",
    "\n",
    "# Print shapes\n",
    "pd.DataFrame({'X': {'not test': X.shape, 'train': X_train.shape, 'valid': X_valid.shape, 'test': X_test.shape},\n",
    "              'y': {'not test': y.shape, 'train': y_train.shape, 'valid': y_valid.shape, 'test': None}})"
   ]
  },
  {
   "cell_type": "code",
   "execution_count": 10,
   "id": "18934bcf-c70e-4238-88a2-c5ac31714f56",
   "metadata": {},
   "outputs": [],
   "source": [
    "# title_train = myutils.get_title_vectors(\n",
    "#     X_train['title'],\n",
    "#     'bl_titlevect_w2_train.joblib',\n",
    "#     None,\n",
    "#     saving=False,\n",
    "# )\n",
    "# title_valid = myutils.get_title_vectors(\n",
    "#     X_valid['title'],\n",
    "#     'bl_titlevect_w2_valid.joblib',\n",
    "#     None,\n",
    "#     saving=False,\n",
    "# )\n",
    "# title_whole = myutils.get_title_vectors(\n",
    "#     X['title'],\n",
    "#     'bl_titlevect_w2_whole.joblib',\n",
    "#     None,\n",
    "#     saving=False,\n",
    "# )\n",
    "# title_test = myutils.get_title_vectors(\n",
    "#     X_test['title'],\n",
    "#     'bl_titlevect_w2_test.joblib',\n",
    "#     None,\n",
    "#     saving=False,\n",
    "# )\n",
    "\n",
    "\n",
    "# feature_mask = joblib.load(WORKING_PATH + 'lvl1_feature_mask.joblib')\n",
    "# joblib.dump(X_train.toarray()[:, feature_mask], WORKING_PATH + 'lvl_data_train.joblib')\n",
    "# joblib.dump(X_valid.toarray()[:, feature_mask], WORKING_PATH + 'lvl_data_valid.joblib')\n",
    "# joblib.dump(X.toarray()[:, feature_mask], WORKING_PATH + 'lvl_data_whole.joblib')\n",
    "# joblib.dump(X_test.toarray()[:, feature_mask], WORKING_PATH + 'lvl_data_test.joblib')"
   ]
  },
  {
   "cell_type": "code",
   "execution_count": 21,
   "id": "d136a33c-8285-4454-b657-cab380e2a731",
   "metadata": {},
   "outputs": [
    {
     "name": "stdout",
     "output_type": "stream",
     "text": [
      "CPU times: user 447 ms, sys: 1.02 s, total: 1.47 s\n",
      "Wall time: 1.62 s\n"
     ]
    },
    {
     "data": {
      "text/html": [
       "<div>\n",
       "<style scoped>\n",
       "    .dataframe tbody tr th:only-of-type {\n",
       "        vertical-align: middle;\n",
       "    }\n",
       "\n",
       "    .dataframe tbody tr th {\n",
       "        vertical-align: top;\n",
       "    }\n",
       "\n",
       "    .dataframe thead th {\n",
       "        text-align: right;\n",
       "    }\n",
       "</style>\n",
       "<table border=\"1\" class=\"dataframe\">\n",
       "  <thead>\n",
       "    <tr style=\"text-align: right;\">\n",
       "      <th></th>\n",
       "      <th>X</th>\n",
       "      <th>y</th>\n",
       "    </tr>\n",
       "  </thead>\n",
       "  <tbody>\n",
       "    <tr>\n",
       "      <th>train</th>\n",
       "      <td>(226761, 1736)</td>\n",
       "      <td>(226761, 5)</td>\n",
       "    </tr>\n",
       "    <tr>\n",
       "      <th>valid</th>\n",
       "      <td>(56691, 1736)</td>\n",
       "      <td>(56691, 5)</td>\n",
       "    </tr>\n",
       "  </tbody>\n",
       "</table>\n",
       "</div>"
      ],
      "text/plain": [
       "                    X            y\n",
       "train  (226761, 1736)  (226761, 5)\n",
       "valid   (56691, 1736)   (56691, 5)"
      ]
     },
     "execution_count": 21,
     "metadata": {},
     "output_type": "execute_result"
    }
   ],
   "source": [
    "%%time\n",
    "# Get data\n",
    "X_train = joblib.load(WORKING_PATH + 'lvl_data_train.joblib')\n",
    "X_valid = joblib.load(WORKING_PATH + 'lvl_data_valid.joblib')\n",
    "\n",
    "\n",
    "# Print shapes\n",
    "pd.DataFrame({'X': {'train': X_train.shape, 'valid': X_valid.shape},\n",
    "              'y': {'train': y_train.shape, 'valid': y_valid.shape}})"
   ]
  },
  {
   "cell_type": "markdown",
   "id": "580a776b-8bda-40a6-b11a-9ab0f95b6f1c",
   "metadata": {},
   "source": [
    "## Define classifier and fit"
   ]
  },
  {
   "cell_type": "code",
   "execution_count": 22,
   "id": "036f831d-9802-4516-b808-6c77f5cac761",
   "metadata": {
    "tags": []
   },
   "outputs": [
    {
     "name": "stdout",
     "output_type": "stream",
     "text": [
      "CPU times: user 23min 54s, sys: 2min 7s, total: 26min 1s\n",
      "Wall time: 3min 48s\n"
     ]
    },
    {
     "data": {
      "text/plain": [
       "HistGradientBoostingClassifier(random_state=2147483647)"
      ]
     },
     "execution_count": 22,
     "metadata": {},
     "output_type": "execute_result"
    }
   ],
   "source": [
    "%%time\n",
    "clf = HistGradientBoostingClassifier(\n",
    "    max_iter=100,\n",
    "    random_state=RANDOM_SEED,\n",
    ")\n",
    "\n",
    "clf.fit(X_train, y_train[:, 0])"
   ]
  },
  {
   "cell_type": "markdown",
   "id": "945bfab8-78f7-4baf-8eb1-c4ae6abfd409",
   "metadata": {},
   "source": [
    "## Predict"
   ]
  },
  {
   "cell_type": "code",
   "execution_count": 23,
   "id": "40412356-c55e-4e31-8ecc-c17816d8ed4b",
   "metadata": {},
   "outputs": [
    {
     "name": "stdout",
     "output_type": "stream",
     "text": [
      "\n",
      "CPU times: user 39.6 s, sys: 3.28 s, total: 42.9 s\n",
      "Wall time: 5.74 s\n"
     ]
    },
    {
     "data": {
      "text/plain": [
       "array([10014, 10020, 10012, ..., 10012, 10020, 10018])"
      ]
     },
     "execution_count": 23,
     "metadata": {},
     "output_type": "execute_result"
    }
   ],
   "source": [
    "%%time\n",
    "pred_train = clf.predict(X_train)\n",
    "pred_valid = clf.predict(X_valid)\n",
    "print()\n",
    "\n",
    "pred_valid"
   ]
  },
  {
   "cell_type": "markdown",
   "id": "846a64aa-c33b-41d8-9d9b-43ed117e66d4",
   "metadata": {},
   "source": [
    "## Compute metric"
   ]
  },
  {
   "cell_type": "code",
   "execution_count": 24,
   "id": "26d70271-c362-4bd1-8026-86fb1c7b9375",
   "metadata": {},
   "outputs": [
    {
     "name": "stderr",
     "output_type": "stream",
     "text": [
      "100%|████████████████████████████████████████████| 5/5 [00:00<00:00, 249.41it/s]\n",
      "100%|███████████████████████████████████████████| 5/5 [00:00<00:00, 1253.38it/s]\n"
     ]
    },
    {
     "name": "stdout",
     "output_type": "stream",
     "text": [
      "\n",
      "Weighted hF on train: 0.9730850259862007\n",
      "Weighted hF on valid: 0.9693385884299881\n"
     ]
    }
   ],
   "source": [
    "whF_train, _ = myutils.get_score(path_maps[0], y_train[:, :1], pred_train[:, None])\n",
    "whF_valid, _ = myutils.get_score(path_maps[0], y_valid[:, :1], pred_valid[:, None])\n",
    "print()\n",
    "print('Weighted hF on train:', whF_train)\n",
    "print('Weighted hF on valid:', whF_valid)"
   ]
  }
 ],
 "metadata": {
  "kernelspec": {
   "display_name": "Python 3 (ipykernel)",
   "language": "python",
   "name": "python3"
  },
  "language_info": {
   "codemirror_mode": {
    "name": "ipython",
    "version": 3
   },
   "file_extension": ".py",
   "mimetype": "text/x-python",
   "name": "python",
   "nbconvert_exporter": "python",
   "pygments_lexer": "ipython3",
   "version": "3.9.12"
  }
 },
 "nbformat": 4,
 "nbformat_minor": 5
}
